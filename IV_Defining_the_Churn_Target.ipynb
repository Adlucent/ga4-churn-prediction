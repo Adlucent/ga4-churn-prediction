{
  "cells": [
    {
      "cell_type": "markdown",
      "metadata": {
        "id": "view-in-github",
        "colab_type": "text"
      },
      "source": [
        "<a href=\"https://colab.research.google.com/github/Adlucent/ga4-churn-prediction/blob/main/IV_Defining_the_Churn_Target.ipynb\" target=\"_parent\"><img src=\"https://colab.research.google.com/assets/colab-badge.svg\" alt=\"Open In Colab\"/></a>"
      ]
    },
    {
      "cell_type": "markdown",
      "id": "5b635972-15cb-4126-a9df-adcd2afb4328",
      "metadata": {
        "id": "5b635972-15cb-4126-a9df-adcd2afb4328"
      },
      "source": [
        "# IV. Defining the Churn Target\n",
        "\n",
        "In this notebook, we'll define the churn target for use in our model. \n",
        "\n",
        "1. Aggregate customer revenue by day\n",
        "2. Calculate the moving average for each customer over the last 28 days\n",
        "3. Calculate the 56 day standard deviation of the moving average (this and the following step are only needed if you're distinguishing between soft and hard churn - see below for explanations)\n",
        "4. Define a minimum threshold ((28 day Moving Average - (56 day standard deviation * 2))\n",
        "5. Split the data by event date into two tables: one containing only activity from prior to the cutoff date defined in a previous notebook, and the other containing only data from after that cutoff date.\n",
        "6. We'll assign the churn label based on which customers who are still active (not churned yet) as of the cutoff date have a moving average that falls to zero in the post-cutoff df.\n",
        "*Note that the values in the above steps will vary depending on the typical purchase cycle for your customers. You may want to experiment with a few different time lengths, as long as you ensure the ratios between the values stay the same.*\n",
        "\n",
        "How we know a customer has churned:\n",
        "* When the moving average falls under the threshold, the customer is churned. \n",
        "* Soft churn is when the moving average goes below the minimum threshold defined by us.\n",
        "* Hard churn is when the moving avg reaches zero. \n",
        "* For our purposes, we are adding segments for churn types, but not differentiating between them in the Churn Target column."
      ]
    },
    {
      "cell_type": "markdown",
      "id": "d9b44aeb-0784-48c9-b131-77ce2e63c269",
      "metadata": {
        "id": "d9b44aeb-0784-48c9-b131-77ce2e63c269"
      },
      "source": [
        "## Import libraries"
      ]
    },
    {
      "cell_type": "code",
      "source": [
        "################################################################################\n",
        "######################### CHANGE BQ PROJECT NAME BELOW #########################\n",
        "################################################################################\n",
        "\n",
        "project_name = 'adl-analytics' #add proj name\n",
        "region = \"US\"  # GCP project region"
      ],
      "metadata": {
        "id": "sf__LpcTNN5g"
      },
      "id": "sf__LpcTNN5g",
      "execution_count": null,
      "outputs": []
    },
    {
      "cell_type": "code",
      "execution_count": null,
      "id": "e7fffe22-0f53-44cb-a758-074639121fd5",
      "metadata": {
        "id": "e7fffe22-0f53-44cb-a758-074639121fd5"
      },
      "outputs": [],
      "source": [
        "# Google credentials \n",
        "from google.colab import auth\n",
        "auth.authenticate_user()\n",
        "\n",
        "# BigQuery Magics \n",
        "'''BigQuery magics are used to run BigQuery SQL queries in a python environment.\n",
        "These queries can also be run in the BigQuery UI '''\n",
        "\n",
        "from google.cloud import bigquery\n",
        "from google.cloud.bigquery import magics, Client, QueryJobConfig\n",
        "\n",
        "magics.context.project = project_name\n",
        "client = bigquery.Client(project=magics.context.project)\n",
        "\n",
        "# data processing\n",
        "import pandas as pd\n",
        "import numpy as np\n",
        "from datetime import timedelta\n",
        "\n",
        "# statistical calculations\n",
        "from scipy import stats\n",
        "\n",
        "# visualization\n",
        "import matplotlib.pyplot as plt\n",
        "import seaborn as sns\n",
        "\n",
        "# suppress notebook warnings\n",
        "import warnings\n",
        "warnings.filterwarnings('ignore')\n",
        "\n",
        "# dataframe formatting\n",
        "pd.set_option(\"display.max_columns\", None)\n",
        "pd.set_option(\"display.max_rows\", None)\n",
        "pd.set_option(\"display.float_format\", lambda x: \"%.3f\" % x)"
      ]
    },
    {
      "cell_type": "markdown",
      "id": "3c3475ba-b128-4b14-a957-3486cdbf1753",
      "metadata": {
        "id": "3c3475ba-b128-4b14-a957-3486cdbf1753"
      },
      "source": [
        "## Load Data from BigQuery\n",
        "\n",
        "From the original dataset, load data for purchases only. In defining churn, we only care about customers' actual purchase events."
      ]
    },
    {
      "cell_type": "code",
      "execution_count": null,
      "id": "b30530e9-326e-41cb-a5ec-ff95b457a240",
      "metadata": {
        "colab": {
          "base_uri": "https://localhost:8080/",
          "height": 81,
          "referenced_widgets": [
            "df73ba8ba43b4ba487b05f447f706127",
            "05c45e7d2b49499aaede829d55973563",
            "36c9f937da34410ab417017b8a7ebf67",
            "f5eb80d1ec5b4d4a9b9fd9ee6446b958",
            "2795584be43f4c5e9cceb3a4745e18a0",
            "446e8570c86a4204ab49c4eb62c80403",
            "9f76f28f104645db822616bb5bdc5482",
            "e7bdc7190552430f971702b42c8c9b68",
            "e81d0f2f1e8a4b21b99ace687f7501fb",
            "8e80b92a7bbe4d8185ea102994fd21a8",
            "8e5504ba3a694e948a563e50ef110093",
            "dfca5dbf48334255a2492c86df0599ad",
            "a94231f4b5684e16b9b6866af243b2e9",
            "851b13f4b0d84bfead2248c7f4754344",
            "3c08793f676c491d99c341aa1c2f7f50",
            "ad9d84baec0d40f3a17097b426ae2607",
            "9fb737eb4a204c54842edb87ba89355d",
            "e736e28e662d49a5adb55cb76e653841",
            "91fd7882047c4b049b36f440e6f7acc8",
            "3c2933d9a8cd4a8cbc128aab6254191e",
            "911c887ac99f464aa473540f53a3b4f9",
            "8b00b89b49104f6eb9ddc599dbdb2e50"
          ]
        },
        "id": "b30530e9-326e-41cb-a5ec-ff95b457a240",
        "outputId": "b7659d96-89f0-4776-90a0-5289ee8ae051"
      },
      "outputs": [
        {
          "output_type": "display_data",
          "data": {
            "text/plain": [
              "Query is running:   0%|          |"
            ],
            "application/vnd.jupyter.widget-view+json": {
              "version_major": 2,
              "version_minor": 0,
              "model_id": "df73ba8ba43b4ba487b05f447f706127"
            }
          },
          "metadata": {}
        },
        {
          "output_type": "display_data",
          "data": {
            "text/plain": [
              "Downloading:   0%|          |"
            ],
            "application/vnd.jupyter.widget-view+json": {
              "version_major": 2,
              "version_minor": 0,
              "model_id": "dfca5dbf48334255a2492c86df0599ad"
            }
          },
          "metadata": {}
        }
      ],
      "source": [
        "%%bigquery data --project $project_name\n",
        "SELECT user_pseudo_id,event_date,ecommerce\n",
        "FROM `bigquery-public-data.ga4_obfuscated_sample_ecommerce.events_*`\n",
        "WHERE event_name = \"purchase\""
      ]
    },
    {
      "cell_type": "code",
      "execution_count": null,
      "id": "780225ea-9432-46fa-aae0-917624bf4d5a",
      "metadata": {
        "id": "780225ea-9432-46fa-aae0-917624bf4d5a"
      },
      "outputs": [],
      "source": [
        "# make a copy in case we need to revert back to original table at any point\n",
        "df = data.copy()"
      ]
    },
    {
      "cell_type": "code",
      "execution_count": null,
      "id": "68e463d0-acb3-4b4b-a224-50f3d53155de",
      "metadata": {
        "colab": {
          "base_uri": "https://localhost:8080/",
          "height": 206
        },
        "id": "68e463d0-acb3-4b4b-a224-50f3d53155de",
        "outputId": "d5b9598e-4b90-4112-c2be-48892b3acc8e"
      },
      "outputs": [
        {
          "output_type": "execute_result",
          "data": {
            "text/plain": [
              "       user_pseudo_id event_date  \\\n",
              "0  1765514.3967459271   20201229   \n",
              "1  2251343.9552099455   20201229   \n",
              "2  3018471.2187154322   20201229   \n",
              "3  4228397.9560479355   20201229   \n",
              "4  7321267.6633082138   20201229   \n",
              "\n",
              "                                           ecommerce  \n",
              "0  {'total_item_quantity': 1, 'purchase_revenue_i...  \n",
              "1  {'total_item_quantity': 10, 'purchase_revenue_...  \n",
              "2  {'total_item_quantity': 1, 'purchase_revenue_i...  \n",
              "3  {'total_item_quantity': 1, 'purchase_revenue_i...  \n",
              "4  {'total_item_quantity': 1, 'purchase_revenue_i...  "
            ],
            "text/html": [
              "\n",
              "  <div id=\"df-83bd77c2-32ba-46ae-969e-c35f3c88f026\">\n",
              "    <div class=\"colab-df-container\">\n",
              "      <div>\n",
              "<style scoped>\n",
              "    .dataframe tbody tr th:only-of-type {\n",
              "        vertical-align: middle;\n",
              "    }\n",
              "\n",
              "    .dataframe tbody tr th {\n",
              "        vertical-align: top;\n",
              "    }\n",
              "\n",
              "    .dataframe thead th {\n",
              "        text-align: right;\n",
              "    }\n",
              "</style>\n",
              "<table border=\"1\" class=\"dataframe\">\n",
              "  <thead>\n",
              "    <tr style=\"text-align: right;\">\n",
              "      <th></th>\n",
              "      <th>user_pseudo_id</th>\n",
              "      <th>event_date</th>\n",
              "      <th>ecommerce</th>\n",
              "    </tr>\n",
              "  </thead>\n",
              "  <tbody>\n",
              "    <tr>\n",
              "      <th>0</th>\n",
              "      <td>1765514.3967459271</td>\n",
              "      <td>20201229</td>\n",
              "      <td>{'total_item_quantity': 1, 'purchase_revenue_i...</td>\n",
              "    </tr>\n",
              "    <tr>\n",
              "      <th>1</th>\n",
              "      <td>2251343.9552099455</td>\n",
              "      <td>20201229</td>\n",
              "      <td>{'total_item_quantity': 10, 'purchase_revenue_...</td>\n",
              "    </tr>\n",
              "    <tr>\n",
              "      <th>2</th>\n",
              "      <td>3018471.2187154322</td>\n",
              "      <td>20201229</td>\n",
              "      <td>{'total_item_quantity': 1, 'purchase_revenue_i...</td>\n",
              "    </tr>\n",
              "    <tr>\n",
              "      <th>3</th>\n",
              "      <td>4228397.9560479355</td>\n",
              "      <td>20201229</td>\n",
              "      <td>{'total_item_quantity': 1, 'purchase_revenue_i...</td>\n",
              "    </tr>\n",
              "    <tr>\n",
              "      <th>4</th>\n",
              "      <td>7321267.6633082138</td>\n",
              "      <td>20201229</td>\n",
              "      <td>{'total_item_quantity': 1, 'purchase_revenue_i...</td>\n",
              "    </tr>\n",
              "  </tbody>\n",
              "</table>\n",
              "</div>\n",
              "      <button class=\"colab-df-convert\" onclick=\"convertToInteractive('df-83bd77c2-32ba-46ae-969e-c35f3c88f026')\"\n",
              "              title=\"Convert this dataframe to an interactive table.\"\n",
              "              style=\"display:none;\">\n",
              "        \n",
              "  <svg xmlns=\"http://www.w3.org/2000/svg\" height=\"24px\"viewBox=\"0 0 24 24\"\n",
              "       width=\"24px\">\n",
              "    <path d=\"M0 0h24v24H0V0z\" fill=\"none\"/>\n",
              "    <path d=\"M18.56 5.44l.94 2.06.94-2.06 2.06-.94-2.06-.94-.94-2.06-.94 2.06-2.06.94zm-11 1L8.5 8.5l.94-2.06 2.06-.94-2.06-.94L8.5 2.5l-.94 2.06-2.06.94zm10 10l.94 2.06.94-2.06 2.06-.94-2.06-.94-.94-2.06-.94 2.06-2.06.94z\"/><path d=\"M17.41 7.96l-1.37-1.37c-.4-.4-.92-.59-1.43-.59-.52 0-1.04.2-1.43.59L10.3 9.45l-7.72 7.72c-.78.78-.78 2.05 0 2.83L4 21.41c.39.39.9.59 1.41.59.51 0 1.02-.2 1.41-.59l7.78-7.78 2.81-2.81c.8-.78.8-2.07 0-2.86zM5.41 20L4 18.59l7.72-7.72 1.47 1.35L5.41 20z\"/>\n",
              "  </svg>\n",
              "      </button>\n",
              "      \n",
              "  <style>\n",
              "    .colab-df-container {\n",
              "      display:flex;\n",
              "      flex-wrap:wrap;\n",
              "      gap: 12px;\n",
              "    }\n",
              "\n",
              "    .colab-df-convert {\n",
              "      background-color: #E8F0FE;\n",
              "      border: none;\n",
              "      border-radius: 50%;\n",
              "      cursor: pointer;\n",
              "      display: none;\n",
              "      fill: #1967D2;\n",
              "      height: 32px;\n",
              "      padding: 0 0 0 0;\n",
              "      width: 32px;\n",
              "    }\n",
              "\n",
              "    .colab-df-convert:hover {\n",
              "      background-color: #E2EBFA;\n",
              "      box-shadow: 0px 1px 2px rgba(60, 64, 67, 0.3), 0px 1px 3px 1px rgba(60, 64, 67, 0.15);\n",
              "      fill: #174EA6;\n",
              "    }\n",
              "\n",
              "    [theme=dark] .colab-df-convert {\n",
              "      background-color: #3B4455;\n",
              "      fill: #D2E3FC;\n",
              "    }\n",
              "\n",
              "    [theme=dark] .colab-df-convert:hover {\n",
              "      background-color: #434B5C;\n",
              "      box-shadow: 0px 1px 3px 1px rgba(0, 0, 0, 0.15);\n",
              "      filter: drop-shadow(0px 1px 2px rgba(0, 0, 0, 0.3));\n",
              "      fill: #FFFFFF;\n",
              "    }\n",
              "  </style>\n",
              "\n",
              "      <script>\n",
              "        const buttonEl =\n",
              "          document.querySelector('#df-83bd77c2-32ba-46ae-969e-c35f3c88f026 button.colab-df-convert');\n",
              "        buttonEl.style.display =\n",
              "          google.colab.kernel.accessAllowed ? 'block' : 'none';\n",
              "\n",
              "        async function convertToInteractive(key) {\n",
              "          const element = document.querySelector('#df-83bd77c2-32ba-46ae-969e-c35f3c88f026');\n",
              "          const dataTable =\n",
              "            await google.colab.kernel.invokeFunction('convertToInteractive',\n",
              "                                                     [key], {});\n",
              "          if (!dataTable) return;\n",
              "\n",
              "          const docLinkHtml = 'Like what you see? Visit the ' +\n",
              "            '<a target=\"_blank\" href=https://colab.research.google.com/notebooks/data_table.ipynb>data table notebook</a>'\n",
              "            + ' to learn more about interactive tables.';\n",
              "          element.innerHTML = '';\n",
              "          dataTable['output_type'] = 'display_data';\n",
              "          await google.colab.output.renderOutput(dataTable, element);\n",
              "          const docLink = document.createElement('div');\n",
              "          docLink.innerHTML = docLinkHtml;\n",
              "          element.appendChild(docLink);\n",
              "        }\n",
              "      </script>\n",
              "    </div>\n",
              "  </div>\n",
              "  "
            ]
          },
          "metadata": {},
          "execution_count": 5
        }
      ],
      "source": [
        "df.head()"
      ]
    },
    {
      "cell_type": "markdown",
      "id": "ac812021-3d7b-4711-971f-8ee2aba0b616",
      "metadata": {
        "id": "ac812021-3d7b-4711-971f-8ee2aba0b616"
      },
      "source": [
        "## Set cutoff date and filter out post-cutoff data"
      ]
    },
    {
      "cell_type": "code",
      "execution_count": null,
      "id": "af97a13a-5209-4665-8106-0a069027d8af",
      "metadata": {
        "id": "af97a13a-5209-4665-8106-0a069027d8af"
      },
      "outputs": [],
      "source": [
        "# convert even_date feature to datetime dtype\n",
        "df[\"event_date\"] = pd.to_datetime(df[\"event_date\"])"
      ]
    },
    {
      "cell_type": "code",
      "execution_count": null,
      "id": "31291e8e-1903-4748-bc5b-b24d3fe81fb3",
      "metadata": {
        "colab": {
          "base_uri": "https://localhost:8080/"
        },
        "id": "31291e8e-1903-4748-bc5b-b24d3fe81fb3",
        "outputId": "639318dd-3895-4727-fcf9-1ff3c75aa991"
      },
      "outputs": [
        {
          "output_type": "stream",
          "name": "stdout",
          "text": [
            "2021-01-03 00:00:00\n"
          ]
        }
      ],
      "source": [
        "# set Cutoff Date at 28 days prior to the end of the data set range; update this value if you're using different time lengths\n",
        "cutoff_date = df[\"event_date\"].max() - timedelta(days=28)\n",
        "print(cutoff_date)"
      ]
    },
    {
      "cell_type": "markdown",
      "id": "6d3b42fe-983a-4a5f-8aa9-b49fe944557a",
      "metadata": {
        "id": "6d3b42fe-983a-4a5f-8aa9-b49fe944557a"
      },
      "source": [
        "## Unnest `ecommerce` column to get purchase revenue"
      ]
    },
    {
      "cell_type": "code",
      "execution_count": null,
      "id": "c8b1bc88-1a7e-48a5-9a0c-b8f3d1356ef5",
      "metadata": {
        "id": "c8b1bc88-1a7e-48a5-9a0c-b8f3d1356ef5"
      },
      "outputs": [],
      "source": [
        "df = pd.concat([df, df[\"ecommerce\"].apply(pd.Series)], axis=1)\n",
        "df.drop(columns=\"ecommerce\", axis=1, inplace=True)"
      ]
    },
    {
      "cell_type": "code",
      "execution_count": null,
      "id": "ded25f55-7bcb-4e88-a66f-ceeb3ce20fab",
      "metadata": {
        "colab": {
          "base_uri": "https://localhost:8080/",
          "height": 206
        },
        "id": "ded25f55-7bcb-4e88-a66f-ceeb3ce20fab",
        "outputId": "af629671-e386-4c48-e6d5-3e57b2891bd8"
      },
      "outputs": [
        {
          "output_type": "execute_result",
          "data": {
            "text/plain": [
              "       user_pseudo_id event_date  total_item_quantity  \\\n",
              "0  1765514.3967459271 2020-12-29                1.000   \n",
              "1  2251343.9552099455 2020-12-29               10.000   \n",
              "2  3018471.2187154322 2020-12-29                1.000   \n",
              "3  4228397.9560479355 2020-12-29                1.000   \n",
              "4  7321267.6633082138 2020-12-29                1.000   \n",
              "\n",
              "   purchase_revenue_in_usd  purchase_revenue  refund_value_in_usd  \\\n",
              "0                   30.000            30.000                  NaN   \n",
              "1                  240.000           240.000                  NaN   \n",
              "2                   92.000            92.000                  NaN   \n",
              "3                   48.000            48.000                  NaN   \n",
              "4                   13.000            13.000                  NaN   \n",
              "\n",
              "   refund_value  shipping_value_in_usd  shipping_value  tax_value_in_usd  \\\n",
              "0           NaN                    NaN             NaN             2.000   \n",
              "1           NaN                    NaN             NaN            21.000   \n",
              "2           NaN                    NaN             NaN             8.000   \n",
              "3           NaN                    NaN             NaN             6.000   \n",
              "4           NaN                    NaN             NaN             2.000   \n",
              "\n",
              "   tax_value  unique_items transaction_id  \n",
              "0      2.000         1.000         703598  \n",
              "1     21.000         1.000         437111  \n",
              "2      8.000         1.000          66551  \n",
              "3      6.000         1.000         195508  \n",
              "4      2.000         1.000         167053  "
            ],
            "text/html": [
              "\n",
              "  <div id=\"df-8004a139-7dd4-41d0-98db-5819d11d16e8\">\n",
              "    <div class=\"colab-df-container\">\n",
              "      <div>\n",
              "<style scoped>\n",
              "    .dataframe tbody tr th:only-of-type {\n",
              "        vertical-align: middle;\n",
              "    }\n",
              "\n",
              "    .dataframe tbody tr th {\n",
              "        vertical-align: top;\n",
              "    }\n",
              "\n",
              "    .dataframe thead th {\n",
              "        text-align: right;\n",
              "    }\n",
              "</style>\n",
              "<table border=\"1\" class=\"dataframe\">\n",
              "  <thead>\n",
              "    <tr style=\"text-align: right;\">\n",
              "      <th></th>\n",
              "      <th>user_pseudo_id</th>\n",
              "      <th>event_date</th>\n",
              "      <th>total_item_quantity</th>\n",
              "      <th>purchase_revenue_in_usd</th>\n",
              "      <th>purchase_revenue</th>\n",
              "      <th>refund_value_in_usd</th>\n",
              "      <th>refund_value</th>\n",
              "      <th>shipping_value_in_usd</th>\n",
              "      <th>shipping_value</th>\n",
              "      <th>tax_value_in_usd</th>\n",
              "      <th>tax_value</th>\n",
              "      <th>unique_items</th>\n",
              "      <th>transaction_id</th>\n",
              "    </tr>\n",
              "  </thead>\n",
              "  <tbody>\n",
              "    <tr>\n",
              "      <th>0</th>\n",
              "      <td>1765514.3967459271</td>\n",
              "      <td>2020-12-29</td>\n",
              "      <td>1.000</td>\n",
              "      <td>30.000</td>\n",
              "      <td>30.000</td>\n",
              "      <td>NaN</td>\n",
              "      <td>NaN</td>\n",
              "      <td>NaN</td>\n",
              "      <td>NaN</td>\n",
              "      <td>2.000</td>\n",
              "      <td>2.000</td>\n",
              "      <td>1.000</td>\n",
              "      <td>703598</td>\n",
              "    </tr>\n",
              "    <tr>\n",
              "      <th>1</th>\n",
              "      <td>2251343.9552099455</td>\n",
              "      <td>2020-12-29</td>\n",
              "      <td>10.000</td>\n",
              "      <td>240.000</td>\n",
              "      <td>240.000</td>\n",
              "      <td>NaN</td>\n",
              "      <td>NaN</td>\n",
              "      <td>NaN</td>\n",
              "      <td>NaN</td>\n",
              "      <td>21.000</td>\n",
              "      <td>21.000</td>\n",
              "      <td>1.000</td>\n",
              "      <td>437111</td>\n",
              "    </tr>\n",
              "    <tr>\n",
              "      <th>2</th>\n",
              "      <td>3018471.2187154322</td>\n",
              "      <td>2020-12-29</td>\n",
              "      <td>1.000</td>\n",
              "      <td>92.000</td>\n",
              "      <td>92.000</td>\n",
              "      <td>NaN</td>\n",
              "      <td>NaN</td>\n",
              "      <td>NaN</td>\n",
              "      <td>NaN</td>\n",
              "      <td>8.000</td>\n",
              "      <td>8.000</td>\n",
              "      <td>1.000</td>\n",
              "      <td>66551</td>\n",
              "    </tr>\n",
              "    <tr>\n",
              "      <th>3</th>\n",
              "      <td>4228397.9560479355</td>\n",
              "      <td>2020-12-29</td>\n",
              "      <td>1.000</td>\n",
              "      <td>48.000</td>\n",
              "      <td>48.000</td>\n",
              "      <td>NaN</td>\n",
              "      <td>NaN</td>\n",
              "      <td>NaN</td>\n",
              "      <td>NaN</td>\n",
              "      <td>6.000</td>\n",
              "      <td>6.000</td>\n",
              "      <td>1.000</td>\n",
              "      <td>195508</td>\n",
              "    </tr>\n",
              "    <tr>\n",
              "      <th>4</th>\n",
              "      <td>7321267.6633082138</td>\n",
              "      <td>2020-12-29</td>\n",
              "      <td>1.000</td>\n",
              "      <td>13.000</td>\n",
              "      <td>13.000</td>\n",
              "      <td>NaN</td>\n",
              "      <td>NaN</td>\n",
              "      <td>NaN</td>\n",
              "      <td>NaN</td>\n",
              "      <td>2.000</td>\n",
              "      <td>2.000</td>\n",
              "      <td>1.000</td>\n",
              "      <td>167053</td>\n",
              "    </tr>\n",
              "  </tbody>\n",
              "</table>\n",
              "</div>\n",
              "      <button class=\"colab-df-convert\" onclick=\"convertToInteractive('df-8004a139-7dd4-41d0-98db-5819d11d16e8')\"\n",
              "              title=\"Convert this dataframe to an interactive table.\"\n",
              "              style=\"display:none;\">\n",
              "        \n",
              "  <svg xmlns=\"http://www.w3.org/2000/svg\" height=\"24px\"viewBox=\"0 0 24 24\"\n",
              "       width=\"24px\">\n",
              "    <path d=\"M0 0h24v24H0V0z\" fill=\"none\"/>\n",
              "    <path d=\"M18.56 5.44l.94 2.06.94-2.06 2.06-.94-2.06-.94-.94-2.06-.94 2.06-2.06.94zm-11 1L8.5 8.5l.94-2.06 2.06-.94-2.06-.94L8.5 2.5l-.94 2.06-2.06.94zm10 10l.94 2.06.94-2.06 2.06-.94-2.06-.94-.94-2.06-.94 2.06-2.06.94z\"/><path d=\"M17.41 7.96l-1.37-1.37c-.4-.4-.92-.59-1.43-.59-.52 0-1.04.2-1.43.59L10.3 9.45l-7.72 7.72c-.78.78-.78 2.05 0 2.83L4 21.41c.39.39.9.59 1.41.59.51 0 1.02-.2 1.41-.59l7.78-7.78 2.81-2.81c.8-.78.8-2.07 0-2.86zM5.41 20L4 18.59l7.72-7.72 1.47 1.35L5.41 20z\"/>\n",
              "  </svg>\n",
              "      </button>\n",
              "      \n",
              "  <style>\n",
              "    .colab-df-container {\n",
              "      display:flex;\n",
              "      flex-wrap:wrap;\n",
              "      gap: 12px;\n",
              "    }\n",
              "\n",
              "    .colab-df-convert {\n",
              "      background-color: #E8F0FE;\n",
              "      border: none;\n",
              "      border-radius: 50%;\n",
              "      cursor: pointer;\n",
              "      display: none;\n",
              "      fill: #1967D2;\n",
              "      height: 32px;\n",
              "      padding: 0 0 0 0;\n",
              "      width: 32px;\n",
              "    }\n",
              "\n",
              "    .colab-df-convert:hover {\n",
              "      background-color: #E2EBFA;\n",
              "      box-shadow: 0px 1px 2px rgba(60, 64, 67, 0.3), 0px 1px 3px 1px rgba(60, 64, 67, 0.15);\n",
              "      fill: #174EA6;\n",
              "    }\n",
              "\n",
              "    [theme=dark] .colab-df-convert {\n",
              "      background-color: #3B4455;\n",
              "      fill: #D2E3FC;\n",
              "    }\n",
              "\n",
              "    [theme=dark] .colab-df-convert:hover {\n",
              "      background-color: #434B5C;\n",
              "      box-shadow: 0px 1px 3px 1px rgba(0, 0, 0, 0.15);\n",
              "      filter: drop-shadow(0px 1px 2px rgba(0, 0, 0, 0.3));\n",
              "      fill: #FFFFFF;\n",
              "    }\n",
              "  </style>\n",
              "\n",
              "      <script>\n",
              "        const buttonEl =\n",
              "          document.querySelector('#df-8004a139-7dd4-41d0-98db-5819d11d16e8 button.colab-df-convert');\n",
              "        buttonEl.style.display =\n",
              "          google.colab.kernel.accessAllowed ? 'block' : 'none';\n",
              "\n",
              "        async function convertToInteractive(key) {\n",
              "          const element = document.querySelector('#df-8004a139-7dd4-41d0-98db-5819d11d16e8');\n",
              "          const dataTable =\n",
              "            await google.colab.kernel.invokeFunction('convertToInteractive',\n",
              "                                                     [key], {});\n",
              "          if (!dataTable) return;\n",
              "\n",
              "          const docLinkHtml = 'Like what you see? Visit the ' +\n",
              "            '<a target=\"_blank\" href=https://colab.research.google.com/notebooks/data_table.ipynb>data table notebook</a>'\n",
              "            + ' to learn more about interactive tables.';\n",
              "          element.innerHTML = '';\n",
              "          dataTable['output_type'] = 'display_data';\n",
              "          await google.colab.output.renderOutput(dataTable, element);\n",
              "          const docLink = document.createElement('div');\n",
              "          docLink.innerHTML = docLinkHtml;\n",
              "          element.appendChild(docLink);\n",
              "        }\n",
              "      </script>\n",
              "    </div>\n",
              "  </div>\n",
              "  "
            ]
          },
          "metadata": {},
          "execution_count": 9
        }
      ],
      "source": [
        "# inpect top 5 rows of df\n",
        "df.head()"
      ]
    },
    {
      "cell_type": "markdown",
      "source": [
        "## Create our table for defining the target"
      ],
      "metadata": {
        "id": "8RdmSUNyjM1u"
      },
      "id": "8RdmSUNyjM1u"
    },
    {
      "cell_type": "markdown",
      "id": "047dbe20-0c8e-43d4-9a9a-27befd386576",
      "metadata": {
        "id": "047dbe20-0c8e-43d4-9a9a-27befd386576"
      },
      "source": [
        "Isolate columns required for defining churn and drop duplicate rows. Columns to keep:\n",
        "- `user_pseudo_id`\n",
        "- `transaction_id`\n",
        "- `event_date`\n",
        "- `purchase_revenue_in_usd`"
      ]
    },
    {
      "cell_type": "code",
      "source": [
        "df = df[\n",
        "    [\"user_pseudo_id\", \"transaction_id\",\"event_date\", \"purchase_revenue_in_usd\"]\n",
        "].drop_duplicates(subset=None, keep=\"first\")"
      ],
      "metadata": {
        "id": "bvFnJzZ_ipcj"
      },
      "id": "bvFnJzZ_ipcj",
      "execution_count": null,
      "outputs": []
    },
    {
      "cell_type": "markdown",
      "id": "6d0757d4-c66b-48d8-9a26-a5d07d5267cd",
      "metadata": {
        "id": "6d0757d4-c66b-48d8-9a26-a5d07d5267cd"
      },
      "source": [
        "Group by `user_pseudo_id` and `event_date`, and sum `purchase_revenue_in_usd`"
      ]
    },
    {
      "cell_type": "code",
      "execution_count": null,
      "id": "7e74e699-a80f-446c-be3f-38f52ae83dbd",
      "metadata": {
        "id": "7e74e699-a80f-446c-be3f-38f52ae83dbd"
      },
      "outputs": [],
      "source": [
        "df = df.groupby([\"user_pseudo_id\", \"event_date\"]).agg(\n",
        "    {\n",
        "        \"purchase_revenue_in_usd\": \"sum\",\n",
        "    }\n",
        ")\n",
        "df.reset_index(inplace=True)"
      ]
    },
    {
      "cell_type": "code",
      "execution_count": null,
      "id": "5b264077-94ed-4273-ac18-dc5e2a21ba04",
      "metadata": {
        "colab": {
          "base_uri": "https://localhost:8080/",
          "height": 206
        },
        "id": "5b264077-94ed-4273-ac18-dc5e2a21ba04",
        "outputId": "9deba7f2-9478-4961-e47b-833bdf64043e"
      },
      "outputs": [
        {
          "output_type": "execute_result",
          "data": {
            "text/plain": [
              "        user_pseudo_id event_date  purchase_revenue_in_usd\n",
              "0  10092926.3786306416 2021-01-22                   90.000\n",
              "1  10111055.8768683862 2020-12-10                   94.000\n",
              "2   1014825.0200289249 2020-11-03                  183.000\n",
              "3   1016446.8237887674 2020-12-21                   86.000\n",
              "4  10172849.5375293351 2020-12-09                  156.000"
            ],
            "text/html": [
              "\n",
              "  <div id=\"df-d7e32962-0dd7-4c58-b8ac-0b02d3ab0ae4\">\n",
              "    <div class=\"colab-df-container\">\n",
              "      <div>\n",
              "<style scoped>\n",
              "    .dataframe tbody tr th:only-of-type {\n",
              "        vertical-align: middle;\n",
              "    }\n",
              "\n",
              "    .dataframe tbody tr th {\n",
              "        vertical-align: top;\n",
              "    }\n",
              "\n",
              "    .dataframe thead th {\n",
              "        text-align: right;\n",
              "    }\n",
              "</style>\n",
              "<table border=\"1\" class=\"dataframe\">\n",
              "  <thead>\n",
              "    <tr style=\"text-align: right;\">\n",
              "      <th></th>\n",
              "      <th>user_pseudo_id</th>\n",
              "      <th>event_date</th>\n",
              "      <th>purchase_revenue_in_usd</th>\n",
              "    </tr>\n",
              "  </thead>\n",
              "  <tbody>\n",
              "    <tr>\n",
              "      <th>0</th>\n",
              "      <td>10092926.3786306416</td>\n",
              "      <td>2021-01-22</td>\n",
              "      <td>90.000</td>\n",
              "    </tr>\n",
              "    <tr>\n",
              "      <th>1</th>\n",
              "      <td>10111055.8768683862</td>\n",
              "      <td>2020-12-10</td>\n",
              "      <td>94.000</td>\n",
              "    </tr>\n",
              "    <tr>\n",
              "      <th>2</th>\n",
              "      <td>1014825.0200289249</td>\n",
              "      <td>2020-11-03</td>\n",
              "      <td>183.000</td>\n",
              "    </tr>\n",
              "    <tr>\n",
              "      <th>3</th>\n",
              "      <td>1016446.8237887674</td>\n",
              "      <td>2020-12-21</td>\n",
              "      <td>86.000</td>\n",
              "    </tr>\n",
              "    <tr>\n",
              "      <th>4</th>\n",
              "      <td>10172849.5375293351</td>\n",
              "      <td>2020-12-09</td>\n",
              "      <td>156.000</td>\n",
              "    </tr>\n",
              "  </tbody>\n",
              "</table>\n",
              "</div>\n",
              "      <button class=\"colab-df-convert\" onclick=\"convertToInteractive('df-d7e32962-0dd7-4c58-b8ac-0b02d3ab0ae4')\"\n",
              "              title=\"Convert this dataframe to an interactive table.\"\n",
              "              style=\"display:none;\">\n",
              "        \n",
              "  <svg xmlns=\"http://www.w3.org/2000/svg\" height=\"24px\"viewBox=\"0 0 24 24\"\n",
              "       width=\"24px\">\n",
              "    <path d=\"M0 0h24v24H0V0z\" fill=\"none\"/>\n",
              "    <path d=\"M18.56 5.44l.94 2.06.94-2.06 2.06-.94-2.06-.94-.94-2.06-.94 2.06-2.06.94zm-11 1L8.5 8.5l.94-2.06 2.06-.94-2.06-.94L8.5 2.5l-.94 2.06-2.06.94zm10 10l.94 2.06.94-2.06 2.06-.94-2.06-.94-.94-2.06-.94 2.06-2.06.94z\"/><path d=\"M17.41 7.96l-1.37-1.37c-.4-.4-.92-.59-1.43-.59-.52 0-1.04.2-1.43.59L10.3 9.45l-7.72 7.72c-.78.78-.78 2.05 0 2.83L4 21.41c.39.39.9.59 1.41.59.51 0 1.02-.2 1.41-.59l7.78-7.78 2.81-2.81c.8-.78.8-2.07 0-2.86zM5.41 20L4 18.59l7.72-7.72 1.47 1.35L5.41 20z\"/>\n",
              "  </svg>\n",
              "      </button>\n",
              "      \n",
              "  <style>\n",
              "    .colab-df-container {\n",
              "      display:flex;\n",
              "      flex-wrap:wrap;\n",
              "      gap: 12px;\n",
              "    }\n",
              "\n",
              "    .colab-df-convert {\n",
              "      background-color: #E8F0FE;\n",
              "      border: none;\n",
              "      border-radius: 50%;\n",
              "      cursor: pointer;\n",
              "      display: none;\n",
              "      fill: #1967D2;\n",
              "      height: 32px;\n",
              "      padding: 0 0 0 0;\n",
              "      width: 32px;\n",
              "    }\n",
              "\n",
              "    .colab-df-convert:hover {\n",
              "      background-color: #E2EBFA;\n",
              "      box-shadow: 0px 1px 2px rgba(60, 64, 67, 0.3), 0px 1px 3px 1px rgba(60, 64, 67, 0.15);\n",
              "      fill: #174EA6;\n",
              "    }\n",
              "\n",
              "    [theme=dark] .colab-df-convert {\n",
              "      background-color: #3B4455;\n",
              "      fill: #D2E3FC;\n",
              "    }\n",
              "\n",
              "    [theme=dark] .colab-df-convert:hover {\n",
              "      background-color: #434B5C;\n",
              "      box-shadow: 0px 1px 3px 1px rgba(0, 0, 0, 0.15);\n",
              "      filter: drop-shadow(0px 1px 2px rgba(0, 0, 0, 0.3));\n",
              "      fill: #FFFFFF;\n",
              "    }\n",
              "  </style>\n",
              "\n",
              "      <script>\n",
              "        const buttonEl =\n",
              "          document.querySelector('#df-d7e32962-0dd7-4c58-b8ac-0b02d3ab0ae4 button.colab-df-convert');\n",
              "        buttonEl.style.display =\n",
              "          google.colab.kernel.accessAllowed ? 'block' : 'none';\n",
              "\n",
              "        async function convertToInteractive(key) {\n",
              "          const element = document.querySelector('#df-d7e32962-0dd7-4c58-b8ac-0b02d3ab0ae4');\n",
              "          const dataTable =\n",
              "            await google.colab.kernel.invokeFunction('convertToInteractive',\n",
              "                                                     [key], {});\n",
              "          if (!dataTable) return;\n",
              "\n",
              "          const docLinkHtml = 'Like what you see? Visit the ' +\n",
              "            '<a target=\"_blank\" href=https://colab.research.google.com/notebooks/data_table.ipynb>data table notebook</a>'\n",
              "            + ' to learn more about interactive tables.';\n",
              "          element.innerHTML = '';\n",
              "          dataTable['output_type'] = 'display_data';\n",
              "          await google.colab.output.renderOutput(dataTable, element);\n",
              "          const docLink = document.createElement('div');\n",
              "          docLink.innerHTML = docLinkHtml;\n",
              "          element.appendChild(docLink);\n",
              "        }\n",
              "      </script>\n",
              "    </div>\n",
              "  </div>\n",
              "  "
            ]
          },
          "metadata": {},
          "execution_count": 12
        }
      ],
      "source": [
        "df.head()"
      ]
    },
    {
      "cell_type": "markdown",
      "id": "c7550e91-b45b-4901-b87a-241377bc13ec",
      "metadata": {
        "id": "c7550e91-b45b-4901-b87a-241377bc13ec"
      },
      "source": [
        "Check the distribution of `purchase_revenue_in_usd`"
      ]
    },
    {
      "cell_type": "code",
      "execution_count": null,
      "id": "0b4e2a1f-dc14-422b-87fb-f6b57d00a831",
      "metadata": {
        "colab": {
          "base_uri": "https://localhost:8080/",
          "height": 226
        },
        "id": "0b4e2a1f-dc14-422b-87fb-f6b57d00a831",
        "outputId": "c65063b0-0530-485e-94b1-3add096434e7"
      },
      "outputs": [
        {
          "output_type": "display_data",
          "data": {
            "text/plain": [
              "<Figure size 1080x216 with 1 Axes>"
            ],
            "image/png": "[encoded data removed]"
          },
          "metadata": {
            "needs_background": "light"
          }
        }
      ],
      "source": [
        "plt.figure(figsize=(15,3))\n",
        "sns.histplot(data = df,x = \"purchase_revenue_in_usd\");"
      ]
    },
    {
      "cell_type": "markdown",
      "id": "1449d542-45e2-408d-b357-2ea67283b9a1",
      "metadata": {
        "id": "1449d542-45e2-408d-b357-2ea67283b9a1"
      },
      "source": [
        "### Sort records in ascending order by user in preparation for building a true time series"
      ]
    },
    {
      "cell_type": "code",
      "execution_count": null,
      "id": "addf015a-960c-453d-b7e9-2fd540744c51",
      "metadata": {
        "id": "addf015a-960c-453d-b7e9-2fd540744c51"
      },
      "outputs": [],
      "source": [
        "idx = pd.MultiIndex.from_product(\n",
        "    (df[\"event_date\"], df[\"user_pseudo_id\"].unique()),\n",
        "    names=[\"event_date\", \"user_pseudo_id\"],\n",
        ")"
      ]
    },
    {
      "cell_type": "markdown",
      "id": "d9e322d0-c22a-47a9-adb8-9f8219b28eff",
      "metadata": {
        "id": "d9e322d0-c22a-47a9-adb8-9f8219b28eff"
      },
      "source": [
        "### Fill in missing dates and assign values of 0\n",
        "\n",
        "To calculate moving averages, we need to have every day accounted for in the table for each user, not just rows with purchase activity."
      ]
    },
    {
      "cell_type": "code",
      "execution_count": null,
      "id": "d0de3d17-da8e-47ea-b777-4625a635e8c7",
      "metadata": {
        "id": "d0de3d17-da8e-47ea-b777-4625a635e8c7"
      },
      "outputs": [],
      "source": [
        "df = (\n",
        "    df.set_index([\"event_date\", \"user_pseudo_id\"])\n",
        "    .reindex(idx, fill_value=0)\n",
        "    .reset_index()\n",
        "    .sort_values(by=[\"user_pseudo_id\", \"event_date\"], ascending=[True, True])\n",
        "    .reset_index(drop=True)\n",
        ")"
      ]
    },
    {
      "cell_type": "code",
      "execution_count": null,
      "id": "afe1659a-1e76-4072-b578-db789f0ff5a6",
      "metadata": {
        "id": "afe1659a-1e76-4072-b578-db789f0ff5a6"
      },
      "outputs": [],
      "source": [
        "# drop potential duplicates; it's good practice to do this to be sure the data is clean\n",
        "df = df[\n",
        "    [\"user_pseudo_id\", \"event_date\", \"purchase_revenue_in_usd\"]\n",
        "].drop_duplicates(subset=None, keep=\"first\")"
      ]
    },
    {
      "cell_type": "code",
      "execution_count": null,
      "id": "9bdaf199-d0cf-4f15-b510-4c8749dae698",
      "metadata": {
        "colab": {
          "base_uri": "https://localhost:8080/",
          "height": 206
        },
        "id": "9bdaf199-d0cf-4f15-b510-4c8749dae698",
        "outputId": "1b927cc9-267a-4200-fbeb-bccff4623926"
      },
      "outputs": [
        {
          "output_type": "execute_result",
          "data": {
            "text/plain": [
              "          user_pseudo_id event_date  purchase_revenue_in_usd\n",
              "0    10092926.3786306416 2020-11-01                    0.000\n",
              "13   10092926.3786306416 2020-11-02                    0.000\n",
              "52   10092926.3786306416 2020-11-03                    0.000\n",
              "98   10092926.3786306416 2020-11-04                    0.000\n",
              "128  10092926.3786306416 2020-11-05                    0.000"
            ],
            "text/html": [
              "\n",
              "  <div id=\"df-198bc84b-c443-4a5b-bfe1-e455e2379b20\">\n",
              "    <div class=\"colab-df-container\">\n",
              "      <div>\n",
              "<style scoped>\n",
              "    .dataframe tbody tr th:only-of-type {\n",
              "        vertical-align: middle;\n",
              "    }\n",
              "\n",
              "    .dataframe tbody tr th {\n",
              "        vertical-align: top;\n",
              "    }\n",
              "\n",
              "    .dataframe thead th {\n",
              "        text-align: right;\n",
              "    }\n",
              "</style>\n",
              "<table border=\"1\" class=\"dataframe\">\n",
              "  <thead>\n",
              "    <tr style=\"text-align: right;\">\n",
              "      <th></th>\n",
              "      <th>user_pseudo_id</th>\n",
              "      <th>event_date</th>\n",
              "      <th>purchase_revenue_in_usd</th>\n",
              "    </tr>\n",
              "  </thead>\n",
              "  <tbody>\n",
              "    <tr>\n",
              "      <th>0</th>\n",
              "      <td>10092926.3786306416</td>\n",
              "      <td>2020-11-01</td>\n",
              "      <td>0.000</td>\n",
              "    </tr>\n",
              "    <tr>\n",
              "      <th>13</th>\n",
              "      <td>10092926.3786306416</td>\n",
              "      <td>2020-11-02</td>\n",
              "      <td>0.000</td>\n",
              "    </tr>\n",
              "    <tr>\n",
              "      <th>52</th>\n",
              "      <td>10092926.3786306416</td>\n",
              "      <td>2020-11-03</td>\n",
              "      <td>0.000</td>\n",
              "    </tr>\n",
              "    <tr>\n",
              "      <th>98</th>\n",
              "      <td>10092926.3786306416</td>\n",
              "      <td>2020-11-04</td>\n",
              "      <td>0.000</td>\n",
              "    </tr>\n",
              "    <tr>\n",
              "      <th>128</th>\n",
              "      <td>10092926.3786306416</td>\n",
              "      <td>2020-11-05</td>\n",
              "      <td>0.000</td>\n",
              "    </tr>\n",
              "  </tbody>\n",
              "</table>\n",
              "</div>\n",
              "      <button class=\"colab-df-convert\" onclick=\"convertToInteractive('df-198bc84b-c443-4a5b-bfe1-e455e2379b20')\"\n",
              "              title=\"Convert this dataframe to an interactive table.\"\n",
              "              style=\"display:none;\">\n",
              "        \n",
              "  <svg xmlns=\"http://www.w3.org/2000/svg\" height=\"24px\"viewBox=\"0 0 24 24\"\n",
              "       width=\"24px\">\n",
              "    <path d=\"M0 0h24v24H0V0z\" fill=\"none\"/>\n",
              "    <path d=\"M18.56 5.44l.94 2.06.94-2.06 2.06-.94-2.06-.94-.94-2.06-.94 2.06-2.06.94zm-11 1L8.5 8.5l.94-2.06 2.06-.94-2.06-.94L8.5 2.5l-.94 2.06-2.06.94zm10 10l.94 2.06.94-2.06 2.06-.94-2.06-.94-.94-2.06-.94 2.06-2.06.94z\"/><path d=\"M17.41 7.96l-1.37-1.37c-.4-.4-.92-.59-1.43-.59-.52 0-1.04.2-1.43.59L10.3 9.45l-7.72 7.72c-.78.78-.78 2.05 0 2.83L4 21.41c.39.39.9.59 1.41.59.51 0 1.02-.2 1.41-.59l7.78-7.78 2.81-2.81c.8-.78.8-2.07 0-2.86zM5.41 20L4 18.59l7.72-7.72 1.47 1.35L5.41 20z\"/>\n",
              "  </svg>\n",
              "      </button>\n",
              "      \n",
              "  <style>\n",
              "    .colab-df-container {\n",
              "      display:flex;\n",
              "      flex-wrap:wrap;\n",
              "      gap: 12px;\n",
              "    }\n",
              "\n",
              "    .colab-df-convert {\n",
              "      background-color: #E8F0FE;\n",
              "      border: none;\n",
              "      border-radius: 50%;\n",
              "      cursor: pointer;\n",
              "      display: none;\n",
              "      fill: #1967D2;\n",
              "      height: 32px;\n",
              "      padding: 0 0 0 0;\n",
              "      width: 32px;\n",
              "    }\n",
              "\n",
              "    .colab-df-convert:hover {\n",
              "      background-color: #E2EBFA;\n",
              "      box-shadow: 0px 1px 2px rgba(60, 64, 67, 0.3), 0px 1px 3px 1px rgba(60, 64, 67, 0.15);\n",
              "      fill: #174EA6;\n",
              "    }\n",
              "\n",
              "    [theme=dark] .colab-df-convert {\n",
              "      background-color: #3B4455;\n",
              "      fill: #D2E3FC;\n",
              "    }\n",
              "\n",
              "    [theme=dark] .colab-df-convert:hover {\n",
              "      background-color: #434B5C;\n",
              "      box-shadow: 0px 1px 3px 1px rgba(0, 0, 0, 0.15);\n",
              "      filter: drop-shadow(0px 1px 2px rgba(0, 0, 0, 0.3));\n",
              "      fill: #FFFFFF;\n",
              "    }\n",
              "  </style>\n",
              "\n",
              "      <script>\n",
              "        const buttonEl =\n",
              "          document.querySelector('#df-198bc84b-c443-4a5b-bfe1-e455e2379b20 button.colab-df-convert');\n",
              "        buttonEl.style.display =\n",
              "          google.colab.kernel.accessAllowed ? 'block' : 'none';\n",
              "\n",
              "        async function convertToInteractive(key) {\n",
              "          const element = document.querySelector('#df-198bc84b-c443-4a5b-bfe1-e455e2379b20');\n",
              "          const dataTable =\n",
              "            await google.colab.kernel.invokeFunction('convertToInteractive',\n",
              "                                                     [key], {});\n",
              "          if (!dataTable) return;\n",
              "\n",
              "          const docLinkHtml = 'Like what you see? Visit the ' +\n",
              "            '<a target=\"_blank\" href=https://colab.research.google.com/notebooks/data_table.ipynb>data table notebook</a>'\n",
              "            + ' to learn more about interactive tables.';\n",
              "          element.innerHTML = '';\n",
              "          dataTable['output_type'] = 'display_data';\n",
              "          await google.colab.output.renderOutput(dataTable, element);\n",
              "          const docLink = document.createElement('div');\n",
              "          docLink.innerHTML = docLinkHtml;\n",
              "          element.appendChild(docLink);\n",
              "        }\n",
              "      </script>\n",
              "    </div>\n",
              "  </div>\n",
              "  "
            ]
          },
          "metadata": {},
          "execution_count": 17
        }
      ],
      "source": [
        "# spot check the df\n",
        "df.head()"
      ]
    },
    {
      "cell_type": "markdown",
      "id": "0c90bc67-ea86-47a0-887b-f23064fb5067",
      "metadata": {
        "id": "0c90bc67-ea86-47a0-887b-f23064fb5067"
      },
      "source": [
        "### Calculate 28-day moving average for each customer and add as a column"
      ]
    },
    {
      "cell_type": "code",
      "execution_count": null,
      "id": "5e888569-2e91-41b8-9267-3be99dcbf0b4",
      "metadata": {
        "id": "5e888569-2e91-41b8-9267-3be99dcbf0b4"
      },
      "outputs": [],
      "source": [
        "# calculate 28-day moving average for each customer\n",
        "df[\"28ma\"] = df.groupby(\"user_pseudo_id\")[\n",
        "    \"purchase_revenue_in_usd\"\n",
        "].transform(lambda x: x.rolling(28, 1).mean())"
      ]
    },
    {
      "cell_type": "markdown",
      "id": "6ebb2b6c-42e1-48b3-9e7e-85fdcde718f8",
      "metadata": {
        "id": "6ebb2b6c-42e1-48b3-9e7e-85fdcde718f8"
      },
      "source": [
        "### Calculate 56-day standard deviation of the 28-day MA and add as a column"
      ]
    },
    {
      "cell_type": "code",
      "execution_count": null,
      "id": "55cdf8a6-edaa-4ce9-954a-0d72c4bf778a",
      "metadata": {
        "id": "55cdf8a6-edaa-4ce9-954a-0d72c4bf778a"
      },
      "outputs": [],
      "source": [
        "# calculate 56-day standard deviation of the 28-day moving average for each customer\n",
        "df[\"56sd\"] = df.groupby(\"user_pseudo_id\")[\"28ma\"].transform(\n",
        "    lambda x: x.rolling(56, 1).std()\n",
        ")"
      ]
    },
    {
      "cell_type": "markdown",
      "id": "0f8ed3bf-e5ce-4de1-9cb0-44c54360b723",
      "metadata": {
        "id": "0f8ed3bf-e5ce-4de1-9cb0-44c54360b723"
      },
      "source": [
        "### Define lower thresholds"
      ]
    },
    {
      "cell_type": "code",
      "execution_count": null,
      "id": "f49d262d-049f-43f8-bb46-2f864e9f7665",
      "metadata": {
        "id": "f49d262d-049f-43f8-bb46-2f864e9f7665"
      },
      "outputs": [],
      "source": [
        "df[\"threshold\"] = df[\"28ma\"] - (df[\"56sd\"] * 2)"
      ]
    },
    {
      "cell_type": "code",
      "execution_count": null,
      "id": "c9b9ada2-c068-45dd-b807-850f64e120c9",
      "metadata": {
        "colab": {
          "base_uri": "https://localhost:8080/",
          "height": 280
        },
        "id": "c9b9ada2-c068-45dd-b807-850f64e120c9",
        "outputId": "acebb34c-861b-4c48-f29c-4062ba36410a"
      },
      "outputs": [
        {
          "output_type": "display_data",
          "data": {
            "text/plain": [
              "<Figure size 432x288 with 1 Axes>"
            ],
            "image/png": "[encoded data removed]"
          },
          "metadata": {
            "needs_background": "light"
          }
        }
      ],
      "source": [
        "sns.lineplot(x=\"event_date\", y=\"threshold\", data=df);"
      ]
    },
    {
      "cell_type": "markdown",
      "id": "9517581c-07ac-4388-a3b1-d18f905337cf",
      "metadata": {
        "id": "9517581c-07ac-4388-a3b1-d18f905337cf"
      },
      "source": [
        "## Split data into pre and post cutoff dates"
      ]
    },
    {
      "cell_type": "code",
      "execution_count": null,
      "id": "e8fae1fc-7f8c-41b4-8e70-8a68052a4ff5",
      "metadata": {
        "id": "e8fae1fc-7f8c-41b4-8e70-8a68052a4ff5"
      },
      "outputs": [],
      "source": [
        "df_pre_cutoff = pd.DataFrame(df.loc[df[\"event_date\"] < cutoff_date])\n",
        "df_post_cutoff = pd.DataFrame(df.loc[df[\"event_date\"] >= cutoff_date])"
      ]
    },
    {
      "cell_type": "markdown",
      "id": "31fd9293-7ed2-4d38-9060-5da1bfbd7d4d",
      "metadata": {
        "id": "31fd9293-7ed2-4d38-9060-5da1bfbd7d4d"
      },
      "source": [
        "### Define Churn conditions"
      ]
    },
    {
      "cell_type": "code",
      "execution_count": null,
      "id": "413facbd-3b4d-4f2d-9a00-0db1c6463176",
      "metadata": {
        "id": "413facbd-3b4d-4f2d-9a00-0db1c6463176"
      },
      "outputs": [],
      "source": [
        "soft_churn = np.where(df_pre_cutoff[\"28ma\"] < df_pre_cutoff[\"threshold\"])\n",
        "churn = df_pre_cutoff[\"28ma\"] == 0"
      ]
    },
    {
      "cell_type": "markdown",
      "id": "cf5d6832-cb9d-4770-85e3-5c9c7edf2229",
      "metadata": {
        "id": "cf5d6832-cb9d-4770-85e3-5c9c7edf2229"
      },
      "source": [
        "### Set Churn Column\n",
        "\n",
        "We're adding a column that labels each row as either True or False (for Churned), meaning the moving average is either at or above 0."
      ]
    },
    {
      "cell_type": "code",
      "execution_count": null,
      "id": "0b748d12-a1b5-46ab-8ac0-53a56d971182",
      "metadata": {
        "id": "0b748d12-a1b5-46ab-8ac0-53a56d971182"
      },
      "outputs": [],
      "source": [
        "df_pre_cutoff[\"Churned\"] = np.where(\n",
        "    df_pre_cutoff[\"28ma\"] < df_pre_cutoff[\"threshold\"], True, False\n",
        ")\n",
        "df_pre_cutoff[\"Churned\"] = np.where(df_pre_cutoff[\"28ma\"] == 0, True, False)"
      ]
    },
    {
      "cell_type": "markdown",
      "id": "47159a8f-e2d9-4089-81a4-8372e21a755a",
      "metadata": {
        "id": "47159a8f-e2d9-4089-81a4-8372e21a755a"
      },
      "source": [
        "### Label Churn Type\n",
        "\n",
        "Next we'll add a column to indicate whether each row represents a soft or hard churn."
      ]
    },
    {
      "cell_type": "code",
      "execution_count": null,
      "id": "6504e3d6-3e7b-4258-9201-8e3c66aae10a",
      "metadata": {
        "id": "6504e3d6-3e7b-4258-9201-8e3c66aae10a"
      },
      "outputs": [],
      "source": [
        "df_pre_cutoff[\"Churn_Type\"] = np.where(\n",
        "    df_pre_cutoff[\"28ma\"] < df_pre_cutoff[\"threshold\"], \"Soft\", \"None\"\n",
        ")\n",
        "df_pre_cutoff[\"Churn_Type\"] = np.where(df_pre_cutoff[\"28ma\"] == 0, \"Hard\", \"None\")"
      ]
    },
    {
      "cell_type": "code",
      "execution_count": null,
      "id": "696b9999-8d54-42f6-bf78-1a49263cb17e",
      "metadata": {
        "colab": {
          "base_uri": "https://localhost:8080/"
        },
        "id": "696b9999-8d54-42f6-bf78-1a49263cb17e",
        "outputId": "3a166115-b8c4-49e8-cc78-9cd1d70bb563"
      },
      "outputs": [
        {
          "output_type": "stream",
          "name": "stdout",
          "text": [
            "True     197129\n",
            "False     81268\n",
            "Name: Churned, dtype: int64\n",
            "**************************************************\n",
            "Hard    197129\n",
            "None     81268\n",
            "Name: Churn_Type, dtype: int64\n"
          ]
        }
      ],
      "source": [
        "print(df_pre_cutoff[\"Churned\"].value_counts())\n",
        "print(\"*\" * 50)\n",
        "print(df_pre_cutoff[\"Churn_Type\"].value_counts())"
      ]
    },
    {
      "cell_type": "markdown",
      "source": [
        "As shown above, there are no soft churn values in this dataset. This is likely because there are few customers in the table who have placed more than one purchase. In a real dataset containing more data, there will likely be values for both hard and soft churn due to more fluctuations in the moving averages per user.\n",
        "\n",
        "For purposes of our model, we'll only use Hard churn, and label churn as a True/False value. If you'd like to distinguish between Soft Churn, Hard Churn, and No Churn, you can create a multi-class classification model instead of the binary classification steps outlined in this notebook."
      ],
      "metadata": {
        "id": "6QlN9B1_lW7z"
      },
      "id": "6QlN9B1_lW7z"
    },
    {
      "cell_type": "markdown",
      "id": "4ded658e-8b7d-49c7-bf58-c5d481981058",
      "metadata": {
        "id": "4ded658e-8b7d-49c7-bf58-c5d481981058"
      },
      "source": [
        "## Next, revisit the post-event table"
      ]
    },
    {
      "cell_type": "code",
      "source": [
        "df_post_cutoff.head()"
      ],
      "metadata": {
        "colab": {
          "base_uri": "https://localhost:8080/",
          "height": 206
        },
        "id": "WNDGHZzwnEni",
        "outputId": "f3469bd0-89b5-4455-befc-db745845c02b"
      },
      "id": "WNDGHZzwnEni",
      "execution_count": null,
      "outputs": [
        {
          "output_type": "execute_result",
          "data": {
            "text/plain": [
              "           user_pseudo_id event_date  purchase_revenue_in_usd  28ma  56sd  \\\n",
              "3712  10092926.3786306416 2021-01-03                    0.000 0.000 0.000   \n",
              "3726  10092926.3786306416 2021-01-04                    0.000 0.000 0.000   \n",
              "3742  10092926.3786306416 2021-01-05                    0.000 0.000 0.000   \n",
              "3769  10092926.3786306416 2021-01-06                    0.000 0.000 0.000   \n",
              "3797  10092926.3786306416 2021-01-07                    0.000 0.000 0.000   \n",
              "\n",
              "      threshold  \n",
              "3712      0.000  \n",
              "3726      0.000  \n",
              "3742      0.000  \n",
              "3769      0.000  \n",
              "3797      0.000  "
            ],
            "text/html": [
              "\n",
              "  <div id=\"df-44eeaefc-e79f-4cc6-8101-b9e3928d6978\">\n",
              "    <div class=\"colab-df-container\">\n",
              "      <div>\n",
              "<style scoped>\n",
              "    .dataframe tbody tr th:only-of-type {\n",
              "        vertical-align: middle;\n",
              "    }\n",
              "\n",
              "    .dataframe tbody tr th {\n",
              "        vertical-align: top;\n",
              "    }\n",
              "\n",
              "    .dataframe thead th {\n",
              "        text-align: right;\n",
              "    }\n",
              "</style>\n",
              "<table border=\"1\" class=\"dataframe\">\n",
              "  <thead>\n",
              "    <tr style=\"text-align: right;\">\n",
              "      <th></th>\n",
              "      <th>user_pseudo_id</th>\n",
              "      <th>event_date</th>\n",
              "      <th>purchase_revenue_in_usd</th>\n",
              "      <th>28ma</th>\n",
              "      <th>56sd</th>\n",
              "      <th>threshold</th>\n",
              "    </tr>\n",
              "  </thead>\n",
              "  <tbody>\n",
              "    <tr>\n",
              "      <th>3712</th>\n",
              "      <td>10092926.3786306416</td>\n",
              "      <td>2021-01-03</td>\n",
              "      <td>0.000</td>\n",
              "      <td>0.000</td>\n",
              "      <td>0.000</td>\n",
              "      <td>0.000</td>\n",
              "    </tr>\n",
              "    <tr>\n",
              "      <th>3726</th>\n",
              "      <td>10092926.3786306416</td>\n",
              "      <td>2021-01-04</td>\n",
              "      <td>0.000</td>\n",
              "      <td>0.000</td>\n",
              "      <td>0.000</td>\n",
              "      <td>0.000</td>\n",
              "    </tr>\n",
              "    <tr>\n",
              "      <th>3742</th>\n",
              "      <td>10092926.3786306416</td>\n",
              "      <td>2021-01-05</td>\n",
              "      <td>0.000</td>\n",
              "      <td>0.000</td>\n",
              "      <td>0.000</td>\n",
              "      <td>0.000</td>\n",
              "    </tr>\n",
              "    <tr>\n",
              "      <th>3769</th>\n",
              "      <td>10092926.3786306416</td>\n",
              "      <td>2021-01-06</td>\n",
              "      <td>0.000</td>\n",
              "      <td>0.000</td>\n",
              "      <td>0.000</td>\n",
              "      <td>0.000</td>\n",
              "    </tr>\n",
              "    <tr>\n",
              "      <th>3797</th>\n",
              "      <td>10092926.3786306416</td>\n",
              "      <td>2021-01-07</td>\n",
              "      <td>0.000</td>\n",
              "      <td>0.000</td>\n",
              "      <td>0.000</td>\n",
              "      <td>0.000</td>\n",
              "    </tr>\n",
              "  </tbody>\n",
              "</table>\n",
              "</div>\n",
              "      <button class=\"colab-df-convert\" onclick=\"convertToInteractive('df-44eeaefc-e79f-4cc6-8101-b9e3928d6978')\"\n",
              "              title=\"Convert this dataframe to an interactive table.\"\n",
              "              style=\"display:none;\">\n",
              "        \n",
              "  <svg xmlns=\"http://www.w3.org/2000/svg\" height=\"24px\"viewBox=\"0 0 24 24\"\n",
              "       width=\"24px\">\n",
              "    <path d=\"M0 0h24v24H0V0z\" fill=\"none\"/>\n",
              "    <path d=\"M18.56 5.44l.94 2.06.94-2.06 2.06-.94-2.06-.94-.94-2.06-.94 2.06-2.06.94zm-11 1L8.5 8.5l.94-2.06 2.06-.94-2.06-.94L8.5 2.5l-.94 2.06-2.06.94zm10 10l.94 2.06.94-2.06 2.06-.94-2.06-.94-.94-2.06-.94 2.06-2.06.94z\"/><path d=\"M17.41 7.96l-1.37-1.37c-.4-.4-.92-.59-1.43-.59-.52 0-1.04.2-1.43.59L10.3 9.45l-7.72 7.72c-.78.78-.78 2.05 0 2.83L4 21.41c.39.39.9.59 1.41.59.51 0 1.02-.2 1.41-.59l7.78-7.78 2.81-2.81c.8-.78.8-2.07 0-2.86zM5.41 20L4 18.59l7.72-7.72 1.47 1.35L5.41 20z\"/>\n",
              "  </svg>\n",
              "      </button>\n",
              "      \n",
              "  <style>\n",
              "    .colab-df-container {\n",
              "      display:flex;\n",
              "      flex-wrap:wrap;\n",
              "      gap: 12px;\n",
              "    }\n",
              "\n",
              "    .colab-df-convert {\n",
              "      background-color: #E8F0FE;\n",
              "      border: none;\n",
              "      border-radius: 50%;\n",
              "      cursor: pointer;\n",
              "      display: none;\n",
              "      fill: #1967D2;\n",
              "      height: 32px;\n",
              "      padding: 0 0 0 0;\n",
              "      width: 32px;\n",
              "    }\n",
              "\n",
              "    .colab-df-convert:hover {\n",
              "      background-color: #E2EBFA;\n",
              "      box-shadow: 0px 1px 2px rgba(60, 64, 67, 0.3), 0px 1px 3px 1px rgba(60, 64, 67, 0.15);\n",
              "      fill: #174EA6;\n",
              "    }\n",
              "\n",
              "    [theme=dark] .colab-df-convert {\n",
              "      background-color: #3B4455;\n",
              "      fill: #D2E3FC;\n",
              "    }\n",
              "\n",
              "    [theme=dark] .colab-df-convert:hover {\n",
              "      background-color: #434B5C;\n",
              "      box-shadow: 0px 1px 3px 1px rgba(0, 0, 0, 0.15);\n",
              "      filter: drop-shadow(0px 1px 2px rgba(0, 0, 0, 0.3));\n",
              "      fill: #FFFFFF;\n",
              "    }\n",
              "  </style>\n",
              "\n",
              "      <script>\n",
              "        const buttonEl =\n",
              "          document.querySelector('#df-44eeaefc-e79f-4cc6-8101-b9e3928d6978 button.colab-df-convert');\n",
              "        buttonEl.style.display =\n",
              "          google.colab.kernel.accessAllowed ? 'block' : 'none';\n",
              "\n",
              "        async function convertToInteractive(key) {\n",
              "          const element = document.querySelector('#df-44eeaefc-e79f-4cc6-8101-b9e3928d6978');\n",
              "          const dataTable =\n",
              "            await google.colab.kernel.invokeFunction('convertToInteractive',\n",
              "                                                     [key], {});\n",
              "          if (!dataTable) return;\n",
              "\n",
              "          const docLinkHtml = 'Like what you see? Visit the ' +\n",
              "            '<a target=\"_blank\" href=https://colab.research.google.com/notebooks/data_table.ipynb>data table notebook</a>'\n",
              "            + ' to learn more about interactive tables.';\n",
              "          element.innerHTML = '';\n",
              "          dataTable['output_type'] = 'display_data';\n",
              "          await google.colab.output.renderOutput(dataTable, element);\n",
              "          const docLink = document.createElement('div');\n",
              "          docLink.innerHTML = docLinkHtml;\n",
              "          element.appendChild(docLink);\n",
              "        }\n",
              "      </script>\n",
              "    </div>\n",
              "  </div>\n",
              "  "
            ]
          },
          "metadata": {},
          "execution_count": 27
        }
      ]
    },
    {
      "cell_type": "markdown",
      "source": [
        "Add a Churned column to the post-cutoff table."
      ],
      "metadata": {
        "id": "Qe1TYxtbmxzk"
      },
      "id": "Qe1TYxtbmxzk"
    },
    {
      "cell_type": "code",
      "source": [
        "df_post_cutoff[\"Churned\"] = np.where(df_post_cutoff[\"28ma\"] == 0, True, False)"
      ],
      "metadata": {
        "id": "pymLTAvMm153"
      },
      "id": "pymLTAvMm153",
      "execution_count": null,
      "outputs": []
    },
    {
      "cell_type": "code",
      "source": [
        "# filter for the most recent row in the post cutoff table to get each customer's churned status at the end of the post cutoff period\n",
        "df_post_last_record = df_post_cutoff.loc[df_post_cutoff.groupby('user_pseudo_id')['event_date'].idxmax()]"
      ],
      "metadata": {
        "id": "JPYR2g6UnSzf"
      },
      "id": "JPYR2g6UnSzf",
      "execution_count": null,
      "outputs": []
    },
    {
      "cell_type": "code",
      "source": [
        "# reset index\n",
        "df_post_last_record.reset_index(drop=True,inplace=True)"
      ],
      "metadata": {
        "id": "ex0cp0xoniDb"
      },
      "id": "ex0cp0xoniDb",
      "execution_count": null,
      "outputs": []
    },
    {
      "cell_type": "code",
      "source": [
        "# isolate only the user id, 28ma, and Churned columns for use in the next step\n",
        "df_post_churned = df_post_last_record[[\"user_pseudo_id\",\"28ma\",\"Churned\"]].copy()"
      ],
      "metadata": {
        "id": "4-BFu3qcoGM6"
      },
      "id": "4-BFu3qcoGM6",
      "execution_count": null,
      "outputs": []
    },
    {
      "cell_type": "code",
      "source": [
        "df_post_churned.head()"
      ],
      "metadata": {
        "colab": {
          "base_uri": "https://localhost:8080/",
          "height": 206
        },
        "id": "da6lXygAobco",
        "outputId": "23475d36-0584-4c62-e01e-73bc1d43d647"
      },
      "id": "da6lXygAobco",
      "execution_count": null,
      "outputs": [
        {
          "output_type": "execute_result",
          "data": {
            "text/plain": [
              "        user_pseudo_id  28ma  Churned\n",
              "0  10092926.3786306416 3.214    False\n",
              "1  10111055.8768683862 0.000     True\n",
              "2   1014825.0200289249 0.000     True\n",
              "3   1016446.8237887674 0.000     True\n",
              "4  10172849.5375293351 0.000     True"
            ],
            "text/html": [
              "\n",
              "  <div id=\"df-7509cf79-fc26-4d53-ada1-9644184b69ed\">\n",
              "    <div class=\"colab-df-container\">\n",
              "      <div>\n",
              "<style scoped>\n",
              "    .dataframe tbody tr th:only-of-type {\n",
              "        vertical-align: middle;\n",
              "    }\n",
              "\n",
              "    .dataframe tbody tr th {\n",
              "        vertical-align: top;\n",
              "    }\n",
              "\n",
              "    .dataframe thead th {\n",
              "        text-align: right;\n",
              "    }\n",
              "</style>\n",
              "<table border=\"1\" class=\"dataframe\">\n",
              "  <thead>\n",
              "    <tr style=\"text-align: right;\">\n",
              "      <th></th>\n",
              "      <th>user_pseudo_id</th>\n",
              "      <th>28ma</th>\n",
              "      <th>Churned</th>\n",
              "    </tr>\n",
              "  </thead>\n",
              "  <tbody>\n",
              "    <tr>\n",
              "      <th>0</th>\n",
              "      <td>10092926.3786306416</td>\n",
              "      <td>3.214</td>\n",
              "      <td>False</td>\n",
              "    </tr>\n",
              "    <tr>\n",
              "      <th>1</th>\n",
              "      <td>10111055.8768683862</td>\n",
              "      <td>0.000</td>\n",
              "      <td>True</td>\n",
              "    </tr>\n",
              "    <tr>\n",
              "      <th>2</th>\n",
              "      <td>1014825.0200289249</td>\n",
              "      <td>0.000</td>\n",
              "      <td>True</td>\n",
              "    </tr>\n",
              "    <tr>\n",
              "      <th>3</th>\n",
              "      <td>1016446.8237887674</td>\n",
              "      <td>0.000</td>\n",
              "      <td>True</td>\n",
              "    </tr>\n",
              "    <tr>\n",
              "      <th>4</th>\n",
              "      <td>10172849.5375293351</td>\n",
              "      <td>0.000</td>\n",
              "      <td>True</td>\n",
              "    </tr>\n",
              "  </tbody>\n",
              "</table>\n",
              "</div>\n",
              "      <button class=\"colab-df-convert\" onclick=\"convertToInteractive('df-7509cf79-fc26-4d53-ada1-9644184b69ed')\"\n",
              "              title=\"Convert this dataframe to an interactive table.\"\n",
              "              style=\"display:none;\">\n",
              "        \n",
              "  <svg xmlns=\"http://www.w3.org/2000/svg\" height=\"24px\"viewBox=\"0 0 24 24\"\n",
              "       width=\"24px\">\n",
              "    <path d=\"M0 0h24v24H0V0z\" fill=\"none\"/>\n",
              "    <path d=\"M18.56 5.44l.94 2.06.94-2.06 2.06-.94-2.06-.94-.94-2.06-.94 2.06-2.06.94zm-11 1L8.5 8.5l.94-2.06 2.06-.94-2.06-.94L8.5 2.5l-.94 2.06-2.06.94zm10 10l.94 2.06.94-2.06 2.06-.94-2.06-.94-.94-2.06-.94 2.06-2.06.94z\"/><path d=\"M17.41 7.96l-1.37-1.37c-.4-.4-.92-.59-1.43-.59-.52 0-1.04.2-1.43.59L10.3 9.45l-7.72 7.72c-.78.78-.78 2.05 0 2.83L4 21.41c.39.39.9.59 1.41.59.51 0 1.02-.2 1.41-.59l7.78-7.78 2.81-2.81c.8-.78.8-2.07 0-2.86zM5.41 20L4 18.59l7.72-7.72 1.47 1.35L5.41 20z\"/>\n",
              "  </svg>\n",
              "      </button>\n",
              "      \n",
              "  <style>\n",
              "    .colab-df-container {\n",
              "      display:flex;\n",
              "      flex-wrap:wrap;\n",
              "      gap: 12px;\n",
              "    }\n",
              "\n",
              "    .colab-df-convert {\n",
              "      background-color: #E8F0FE;\n",
              "      border: none;\n",
              "      border-radius: 50%;\n",
              "      cursor: pointer;\n",
              "      display: none;\n",
              "      fill: #1967D2;\n",
              "      height: 32px;\n",
              "      padding: 0 0 0 0;\n",
              "      width: 32px;\n",
              "    }\n",
              "\n",
              "    .colab-df-convert:hover {\n",
              "      background-color: #E2EBFA;\n",
              "      box-shadow: 0px 1px 2px rgba(60, 64, 67, 0.3), 0px 1px 3px 1px rgba(60, 64, 67, 0.15);\n",
              "      fill: #174EA6;\n",
              "    }\n",
              "\n",
              "    [theme=dark] .colab-df-convert {\n",
              "      background-color: #3B4455;\n",
              "      fill: #D2E3FC;\n",
              "    }\n",
              "\n",
              "    [theme=dark] .colab-df-convert:hover {\n",
              "      background-color: #434B5C;\n",
              "      box-shadow: 0px 1px 3px 1px rgba(0, 0, 0, 0.15);\n",
              "      filter: drop-shadow(0px 1px 2px rgba(0, 0, 0, 0.3));\n",
              "      fill: #FFFFFF;\n",
              "    }\n",
              "  </style>\n",
              "\n",
              "      <script>\n",
              "        const buttonEl =\n",
              "          document.querySelector('#df-7509cf79-fc26-4d53-ada1-9644184b69ed button.colab-df-convert');\n",
              "        buttonEl.style.display =\n",
              "          google.colab.kernel.accessAllowed ? 'block' : 'none';\n",
              "\n",
              "        async function convertToInteractive(key) {\n",
              "          const element = document.querySelector('#df-7509cf79-fc26-4d53-ada1-9644184b69ed');\n",
              "          const dataTable =\n",
              "            await google.colab.kernel.invokeFunction('convertToInteractive',\n",
              "                                                     [key], {});\n",
              "          if (!dataTable) return;\n",
              "\n",
              "          const docLinkHtml = 'Like what you see? Visit the ' +\n",
              "            '<a target=\"_blank\" href=https://colab.research.google.com/notebooks/data_table.ipynb>data table notebook</a>'\n",
              "            + ' to learn more about interactive tables.';\n",
              "          element.innerHTML = '';\n",
              "          dataTable['output_type'] = 'display_data';\n",
              "          await google.colab.output.renderOutput(dataTable, element);\n",
              "          const docLink = document.createElement('div');\n",
              "          docLink.innerHTML = docLinkHtml;\n",
              "          element.appendChild(docLink);\n",
              "        }\n",
              "      </script>\n",
              "    </div>\n",
              "  </div>\n",
              "  "
            ]
          },
          "metadata": {},
          "execution_count": 32
        }
      ]
    },
    {
      "cell_type": "markdown",
      "id": "7e4ed6b5-c345-4e9c-be4a-3fc93b96ffe2",
      "metadata": {
        "id": "7e4ed6b5-c345-4e9c-be4a-3fc93b96ffe2"
      },
      "source": [
        "### Filter pre-event df for most recent row per customer to see if they're active or already churned"
      ]
    },
    {
      "cell_type": "code",
      "execution_count": null,
      "id": "2917fa65-f98e-4b7d-992e-099d98c5026b",
      "metadata": {
        "id": "2917fa65-f98e-4b7d-992e-099d98c5026b"
      },
      "outputs": [],
      "source": [
        "df_pre_last_record = df_pre_cutoff.loc[df_pre_cutoff.groupby('user_pseudo_id')['event_date'].idxmax()]"
      ]
    },
    {
      "cell_type": "code",
      "execution_count": null,
      "id": "b5aec375-6981-44c1-80c3-21f116d6e2c9",
      "metadata": {
        "id": "b5aec375-6981-44c1-80c3-21f116d6e2c9"
      },
      "outputs": [],
      "source": [
        "# reset index\n",
        "df_pre_last_record.reset_index(drop=True,inplace=True)"
      ]
    },
    {
      "cell_type": "markdown",
      "id": "2cbcd866-bb24-4fbd-873e-7dd74503075b",
      "metadata": {
        "id": "2cbcd866-bb24-4fbd-873e-7dd74503075b"
      },
      "source": [
        "### Merge churn labels from post-cutoff table onto the pre-cutoff last record table"
      ]
    },
    {
      "cell_type": "code",
      "execution_count": null,
      "id": "f6379c86-c07d-47a7-baf8-e25a8aa3eddb",
      "metadata": {
        "id": "f6379c86-c07d-47a7-baf8-e25a8aa3eddb"
      },
      "outputs": [],
      "source": [
        "df_churn = pd.merge(df_pre_last_record, df_post_churned, how='left', on = 'user_pseudo_id')"
      ]
    },
    {
      "cell_type": "code",
      "execution_count": null,
      "id": "a16c9918-f5cb-4bfa-98f3-cb98ec44d530",
      "metadata": {
        "colab": {
          "base_uri": "https://localhost:8080/",
          "height": 206
        },
        "id": "a16c9918-f5cb-4bfa-98f3-cb98ec44d530",
        "outputId": "5a86078b-d740-4ca6-c601-9c4aecd4e988"
      },
      "outputs": [
        {
          "output_type": "execute_result",
          "data": {
            "text/plain": [
              "        user_pseudo_id event_date  purchase_revenue_in_usd  28ma_x  56sd  \\\n",
              "0  10092926.3786306416 2021-01-02                    0.000   0.000 0.000   \n",
              "1  10111055.8768683862 2021-01-02                    0.000   3.357 1.676   \n",
              "2   1014825.0200289249 2021-01-02                    0.000   0.000 6.306   \n",
              "3   1016446.8237887674 2021-01-02                    0.000   3.071 1.308   \n",
              "4  10172849.5375293351 2021-01-02                    0.000   5.571 2.795   \n",
              "\n",
              "   threshold  Churned_x Churn_Type  28ma_y  Churned_y  \n",
              "0      0.000       True       Hard   3.214      False  \n",
              "1      0.004      False       None   0.000       True  \n",
              "2    -12.613       True       Hard   0.000       True  \n",
              "3      0.454      False       None   0.000       True  \n",
              "4     -0.018      False       None   0.000       True  "
            ],
            "text/html": [
              "\n",
              "  <div id=\"df-b86547eb-93d9-4e63-87b8-16d76df53ca3\">\n",
              "    <div class=\"colab-df-container\">\n",
              "      <div>\n",
              "<style scoped>\n",
              "    .dataframe tbody tr th:only-of-type {\n",
              "        vertical-align: middle;\n",
              "    }\n",
              "\n",
              "    .dataframe tbody tr th {\n",
              "        vertical-align: top;\n",
              "    }\n",
              "\n",
              "    .dataframe thead th {\n",
              "        text-align: right;\n",
              "    }\n",
              "</style>\n",
              "<table border=\"1\" class=\"dataframe\">\n",
              "  <thead>\n",
              "    <tr style=\"text-align: right;\">\n",
              "      <th></th>\n",
              "      <th>user_pseudo_id</th>\n",
              "      <th>event_date</th>\n",
              "      <th>purchase_revenue_in_usd</th>\n",
              "      <th>28ma_x</th>\n",
              "      <th>56sd</th>\n",
              "      <th>threshold</th>\n",
              "      <th>Churned_x</th>\n",
              "      <th>Churn_Type</th>\n",
              "      <th>28ma_y</th>\n",
              "      <th>Churned_y</th>\n",
              "    </tr>\n",
              "  </thead>\n",
              "  <tbody>\n",
              "    <tr>\n",
              "      <th>0</th>\n",
              "      <td>10092926.3786306416</td>\n",
              "      <td>2021-01-02</td>\n",
              "      <td>0.000</td>\n",
              "      <td>0.000</td>\n",
              "      <td>0.000</td>\n",
              "      <td>0.000</td>\n",
              "      <td>True</td>\n",
              "      <td>Hard</td>\n",
              "      <td>3.214</td>\n",
              "      <td>False</td>\n",
              "    </tr>\n",
              "    <tr>\n",
              "      <th>1</th>\n",
              "      <td>10111055.8768683862</td>\n",
              "      <td>2021-01-02</td>\n",
              "      <td>0.000</td>\n",
              "      <td>3.357</td>\n",
              "      <td>1.676</td>\n",
              "      <td>0.004</td>\n",
              "      <td>False</td>\n",
              "      <td>None</td>\n",
              "      <td>0.000</td>\n",
              "      <td>True</td>\n",
              "    </tr>\n",
              "    <tr>\n",
              "      <th>2</th>\n",
              "      <td>1014825.0200289249</td>\n",
              "      <td>2021-01-02</td>\n",
              "      <td>0.000</td>\n",
              "      <td>0.000</td>\n",
              "      <td>6.306</td>\n",
              "      <td>-12.613</td>\n",
              "      <td>True</td>\n",
              "      <td>Hard</td>\n",
              "      <td>0.000</td>\n",
              "      <td>True</td>\n",
              "    </tr>\n",
              "    <tr>\n",
              "      <th>3</th>\n",
              "      <td>1016446.8237887674</td>\n",
              "      <td>2021-01-02</td>\n",
              "      <td>0.000</td>\n",
              "      <td>3.071</td>\n",
              "      <td>1.308</td>\n",
              "      <td>0.454</td>\n",
              "      <td>False</td>\n",
              "      <td>None</td>\n",
              "      <td>0.000</td>\n",
              "      <td>True</td>\n",
              "    </tr>\n",
              "    <tr>\n",
              "      <th>4</th>\n",
              "      <td>10172849.5375293351</td>\n",
              "      <td>2021-01-02</td>\n",
              "      <td>0.000</td>\n",
              "      <td>5.571</td>\n",
              "      <td>2.795</td>\n",
              "      <td>-0.018</td>\n",
              "      <td>False</td>\n",
              "      <td>None</td>\n",
              "      <td>0.000</td>\n",
              "      <td>True</td>\n",
              "    </tr>\n",
              "  </tbody>\n",
              "</table>\n",
              "</div>\n",
              "      <button class=\"colab-df-convert\" onclick=\"convertToInteractive('df-b86547eb-93d9-4e63-87b8-16d76df53ca3')\"\n",
              "              title=\"Convert this dataframe to an interactive table.\"\n",
              "              style=\"display:none;\">\n",
              "        \n",
              "  <svg xmlns=\"http://www.w3.org/2000/svg\" height=\"24px\"viewBox=\"0 0 24 24\"\n",
              "       width=\"24px\">\n",
              "    <path d=\"M0 0h24v24H0V0z\" fill=\"none\"/>\n",
              "    <path d=\"M18.56 5.44l.94 2.06.94-2.06 2.06-.94-2.06-.94-.94-2.06-.94 2.06-2.06.94zm-11 1L8.5 8.5l.94-2.06 2.06-.94-2.06-.94L8.5 2.5l-.94 2.06-2.06.94zm10 10l.94 2.06.94-2.06 2.06-.94-2.06-.94-.94-2.06-.94 2.06-2.06.94z\"/><path d=\"M17.41 7.96l-1.37-1.37c-.4-.4-.92-.59-1.43-.59-.52 0-1.04.2-1.43.59L10.3 9.45l-7.72 7.72c-.78.78-.78 2.05 0 2.83L4 21.41c.39.39.9.59 1.41.59.51 0 1.02-.2 1.41-.59l7.78-7.78 2.81-2.81c.8-.78.8-2.07 0-2.86zM5.41 20L4 18.59l7.72-7.72 1.47 1.35L5.41 20z\"/>\n",
              "  </svg>\n",
              "      </button>\n",
              "      \n",
              "  <style>\n",
              "    .colab-df-container {\n",
              "      display:flex;\n",
              "      flex-wrap:wrap;\n",
              "      gap: 12px;\n",
              "    }\n",
              "\n",
              "    .colab-df-convert {\n",
              "      background-color: #E8F0FE;\n",
              "      border: none;\n",
              "      border-radius: 50%;\n",
              "      cursor: pointer;\n",
              "      display: none;\n",
              "      fill: #1967D2;\n",
              "      height: 32px;\n",
              "      padding: 0 0 0 0;\n",
              "      width: 32px;\n",
              "    }\n",
              "\n",
              "    .colab-df-convert:hover {\n",
              "      background-color: #E2EBFA;\n",
              "      box-shadow: 0px 1px 2px rgba(60, 64, 67, 0.3), 0px 1px 3px 1px rgba(60, 64, 67, 0.15);\n",
              "      fill: #174EA6;\n",
              "    }\n",
              "\n",
              "    [theme=dark] .colab-df-convert {\n",
              "      background-color: #3B4455;\n",
              "      fill: #D2E3FC;\n",
              "    }\n",
              "\n",
              "    [theme=dark] .colab-df-convert:hover {\n",
              "      background-color: #434B5C;\n",
              "      box-shadow: 0px 1px 3px 1px rgba(0, 0, 0, 0.15);\n",
              "      filter: drop-shadow(0px 1px 2px rgba(0, 0, 0, 0.3));\n",
              "      fill: #FFFFFF;\n",
              "    }\n",
              "  </style>\n",
              "\n",
              "      <script>\n",
              "        const buttonEl =\n",
              "          document.querySelector('#df-b86547eb-93d9-4e63-87b8-16d76df53ca3 button.colab-df-convert');\n",
              "        buttonEl.style.display =\n",
              "          google.colab.kernel.accessAllowed ? 'block' : 'none';\n",
              "\n",
              "        async function convertToInteractive(key) {\n",
              "          const element = document.querySelector('#df-b86547eb-93d9-4e63-87b8-16d76df53ca3');\n",
              "          const dataTable =\n",
              "            await google.colab.kernel.invokeFunction('convertToInteractive',\n",
              "                                                     [key], {});\n",
              "          if (!dataTable) return;\n",
              "\n",
              "          const docLinkHtml = 'Like what you see? Visit the ' +\n",
              "            '<a target=\"_blank\" href=https://colab.research.google.com/notebooks/data_table.ipynb>data table notebook</a>'\n",
              "            + ' to learn more about interactive tables.';\n",
              "          element.innerHTML = '';\n",
              "          dataTable['output_type'] = 'display_data';\n",
              "          await google.colab.output.renderOutput(dataTable, element);\n",
              "          const docLink = document.createElement('div');\n",
              "          docLink.innerHTML = docLinkHtml;\n",
              "          element.appendChild(docLink);\n",
              "        }\n",
              "      </script>\n",
              "    </div>\n",
              "  </div>\n",
              "  "
            ]
          },
          "metadata": {},
          "execution_count": 36
        }
      ],
      "source": [
        "df_churn.head()"
      ]
    },
    {
      "cell_type": "markdown",
      "id": "d3923802-37c3-4bfc-8726-de0623a4ad34",
      "metadata": {
        "id": "d3923802-37c3-4bfc-8726-de0623a4ad34"
      },
      "source": [
        "### Set customer labels"
      ]
    },
    {
      "cell_type": "code",
      "execution_count": null,
      "id": "0e3182da-c67e-4c02-8f73-ce6bff924122",
      "metadata": {
        "id": "0e3182da-c67e-4c02-8f73-ce6bff924122"
      },
      "outputs": [],
      "source": [
        "# customer pre-event status labels\n",
        "def custLabelsPre(row):\n",
        "    if row['Churned_x'] == True:   \n",
        "        val = 'Inactive'\n",
        "    \n",
        "    else:\n",
        "        val = 'Active'\n",
        "        \n",
        "    return val"
      ]
    },
    {
      "cell_type": "code",
      "execution_count": null,
      "id": "ef9a6cac-5648-4dd8-8e16-a1ea6f8346c9",
      "metadata": {
        "id": "ef9a6cac-5648-4dd8-8e16-a1ea6f8346c9"
      },
      "outputs": [],
      "source": [
        "df_churn[\"pre_cutoff_status\"] = df_churn.apply(custLabelsPre,axis=1)"
      ]
    },
    {
      "cell_type": "code",
      "execution_count": null,
      "id": "90257c12-a7d1-40ee-a064-e2b4215bb3c8",
      "metadata": {
        "id": "90257c12-a7d1-40ee-a064-e2b4215bb3c8"
      },
      "outputs": [],
      "source": [
        "# customer post-event status labels\n",
        "def custLabelsPost(row):\n",
        "    if row['Churned_y'] == False:   \n",
        "        val = 'Active'\n",
        "    \n",
        "    else:\n",
        "        val = 'Inactive'\n",
        "        \n",
        "    return val"
      ]
    },
    {
      "cell_type": "code",
      "execution_count": null,
      "id": "6bc20a91-0168-41ef-b9c9-37d91d31506c",
      "metadata": {
        "id": "6bc20a91-0168-41ef-b9c9-37d91d31506c"
      },
      "outputs": [],
      "source": [
        "df_churn[\"post_cutoff_status\"] = df_churn.apply(custLabelsPost,axis=1)"
      ]
    },
    {
      "cell_type": "markdown",
      "id": "f255d1b3-54be-4018-a1e7-40ee18781884",
      "metadata": {
        "id": "f255d1b3-54be-4018-a1e7-40ee18781884"
      },
      "source": [
        "## Adding Churn Target Column"
      ]
    },
    {
      "cell_type": "code",
      "execution_count": null,
      "id": "26043ae6-e186-482f-a5b3-39bac8cf520d",
      "metadata": {
        "id": "26043ae6-e186-482f-a5b3-39bac8cf520d"
      },
      "outputs": [],
      "source": [
        "# adding churn target label\n",
        "def ChurnTarget(row):\n",
        "    if row['pre_cutoff_status'] == \"Active\" and row['post_cutoff_status'] == \"Inactive\":   \n",
        "        val = \"True\"\n",
        "        \n",
        "    elif row['pre_cutoff_status'] == \"Active\" and row['pre_cutoff_status'] == \"Active\":   \n",
        "        val = \"False\"\n",
        "    \n",
        "    else:\n",
        "        val = 'Inactive'\n",
        "        \n",
        "    return val"
      ]
    },
    {
      "cell_type": "code",
      "execution_count": null,
      "id": "90633ff3-9b5e-45c8-9316-2942cc4bf7d4",
      "metadata": {
        "id": "90633ff3-9b5e-45c8-9316-2942cc4bf7d4"
      },
      "outputs": [],
      "source": [
        "df_churn[\"Churn_Target\"] = df_churn.apply(ChurnTarget,axis=1)"
      ]
    },
    {
      "cell_type": "code",
      "execution_count": null,
      "id": "083a9626-38a9-4151-b0bc-e24183bcb819",
      "metadata": {
        "colab": {
          "base_uri": "https://localhost:8080/"
        },
        "id": "083a9626-38a9-4151-b0bc-e24183bcb819",
        "outputId": "b1b44dc7-00a9-4be4-a4b1-12d4707121a9"
      },
      "outputs": [
        {
          "output_type": "execute_result",
          "data": {
            "text/plain": [
              "Inactive    2849\n",
              "True        1540\n",
              "False         30\n",
              "Name: Churn_Target, dtype: int64"
            ]
          },
          "metadata": {},
          "execution_count": 43
        }
      ],
      "source": [
        "df_churn[\"Churn_Target\"].value_counts()"
      ]
    },
    {
      "cell_type": "markdown",
      "source": [
        "As shown above, the majority of customers in the dataset are churners during the post-event period. This makes our dataset imbalanced, meaning we'll need to do some additional pre-work in later steps before building the model."
      ],
      "metadata": {
        "id": "Ijy93VAUqm_S"
      },
      "id": "Ijy93VAUqm_S"
    },
    {
      "cell_type": "markdown",
      "source": [
        "## Check the table one more time and then savie to BigQuery for use later in reporting"
      ],
      "metadata": {
        "id": "6k1D7BRiq4BT"
      },
      "id": "6k1D7BRiq4BT"
    },
    {
      "cell_type": "code",
      "execution_count": null,
      "id": "e2bffc44-9106-468c-8389-31d52f017b83",
      "metadata": {
        "colab": {
          "base_uri": "https://localhost:8080/",
          "height": 206
        },
        "id": "e2bffc44-9106-468c-8389-31d52f017b83",
        "outputId": "119cc1c5-8550-4059-8a78-19d7b61ac637"
      },
      "outputs": [
        {
          "output_type": "execute_result",
          "data": {
            "text/plain": [
              "        user_pseudo_id event_date  purchase_revenue_in_usd  28ma_x  56sd  \\\n",
              "0  10092926.3786306416 2021-01-02                    0.000   0.000 0.000   \n",
              "1  10111055.8768683862 2021-01-02                    0.000   3.357 1.676   \n",
              "2   1014825.0200289249 2021-01-02                    0.000   0.000 6.306   \n",
              "3   1016446.8237887674 2021-01-02                    0.000   3.071 1.308   \n",
              "4  10172849.5375293351 2021-01-02                    0.000   5.571 2.795   \n",
              "\n",
              "   threshold  Churned_x Churn_Type  28ma_y  Churned_y pre_cutoff_status  \\\n",
              "0      0.000       True       Hard   3.214      False          Inactive   \n",
              "1      0.004      False       None   0.000       True            Active   \n",
              "2    -12.613       True       Hard   0.000       True          Inactive   \n",
              "3      0.454      False       None   0.000       True            Active   \n",
              "4     -0.018      False       None   0.000       True            Active   \n",
              "\n",
              "  post_cutoff_status Churn_Target  \n",
              "0             Active     Inactive  \n",
              "1           Inactive         True  \n",
              "2           Inactive     Inactive  \n",
              "3           Inactive         True  \n",
              "4           Inactive         True  "
            ],
            "text/html": [
              "\n",
              "  <div id=\"df-113fe1ee-95ae-4d6f-85b8-21292bd1076f\">\n",
              "    <div class=\"colab-df-container\">\n",
              "      <div>\n",
              "<style scoped>\n",
              "    .dataframe tbody tr th:only-of-type {\n",
              "        vertical-align: middle;\n",
              "    }\n",
              "\n",
              "    .dataframe tbody tr th {\n",
              "        vertical-align: top;\n",
              "    }\n",
              "\n",
              "    .dataframe thead th {\n",
              "        text-align: right;\n",
              "    }\n",
              "</style>\n",
              "<table border=\"1\" class=\"dataframe\">\n",
              "  <thead>\n",
              "    <tr style=\"text-align: right;\">\n",
              "      <th></th>\n",
              "      <th>user_pseudo_id</th>\n",
              "      <th>event_date</th>\n",
              "      <th>purchase_revenue_in_usd</th>\n",
              "      <th>28ma_x</th>\n",
              "      <th>56sd</th>\n",
              "      <th>threshold</th>\n",
              "      <th>Churned_x</th>\n",
              "      <th>Churn_Type</th>\n",
              "      <th>28ma_y</th>\n",
              "      <th>Churned_y</th>\n",
              "      <th>pre_cutoff_status</th>\n",
              "      <th>post_cutoff_status</th>\n",
              "      <th>Churn_Target</th>\n",
              "    </tr>\n",
              "  </thead>\n",
              "  <tbody>\n",
              "    <tr>\n",
              "      <th>0</th>\n",
              "      <td>10092926.3786306416</td>\n",
              "      <td>2021-01-02</td>\n",
              "      <td>0.000</td>\n",
              "      <td>0.000</td>\n",
              "      <td>0.000</td>\n",
              "      <td>0.000</td>\n",
              "      <td>True</td>\n",
              "      <td>Hard</td>\n",
              "      <td>3.214</td>\n",
              "      <td>False</td>\n",
              "      <td>Inactive</td>\n",
              "      <td>Active</td>\n",
              "      <td>Inactive</td>\n",
              "    </tr>\n",
              "    <tr>\n",
              "      <th>1</th>\n",
              "      <td>10111055.8768683862</td>\n",
              "      <td>2021-01-02</td>\n",
              "      <td>0.000</td>\n",
              "      <td>3.357</td>\n",
              "      <td>1.676</td>\n",
              "      <td>0.004</td>\n",
              "      <td>False</td>\n",
              "      <td>None</td>\n",
              "      <td>0.000</td>\n",
              "      <td>True</td>\n",
              "      <td>Active</td>\n",
              "      <td>Inactive</td>\n",
              "      <td>True</td>\n",
              "    </tr>\n",
              "    <tr>\n",
              "      <th>2</th>\n",
              "      <td>1014825.0200289249</td>\n",
              "      <td>2021-01-02</td>\n",
              "      <td>0.000</td>\n",
              "      <td>0.000</td>\n",
              "      <td>6.306</td>\n",
              "      <td>-12.613</td>\n",
              "      <td>True</td>\n",
              "      <td>Hard</td>\n",
              "      <td>0.000</td>\n",
              "      <td>True</td>\n",
              "      <td>Inactive</td>\n",
              "      <td>Inactive</td>\n",
              "      <td>Inactive</td>\n",
              "    </tr>\n",
              "    <tr>\n",
              "      <th>3</th>\n",
              "      <td>1016446.8237887674</td>\n",
              "      <td>2021-01-02</td>\n",
              "      <td>0.000</td>\n",
              "      <td>3.071</td>\n",
              "      <td>1.308</td>\n",
              "      <td>0.454</td>\n",
              "      <td>False</td>\n",
              "      <td>None</td>\n",
              "      <td>0.000</td>\n",
              "      <td>True</td>\n",
              "      <td>Active</td>\n",
              "      <td>Inactive</td>\n",
              "      <td>True</td>\n",
              "    </tr>\n",
              "    <tr>\n",
              "      <th>4</th>\n",
              "      <td>10172849.5375293351</td>\n",
              "      <td>2021-01-02</td>\n",
              "      <td>0.000</td>\n",
              "      <td>5.571</td>\n",
              "      <td>2.795</td>\n",
              "      <td>-0.018</td>\n",
              "      <td>False</td>\n",
              "      <td>None</td>\n",
              "      <td>0.000</td>\n",
              "      <td>True</td>\n",
              "      <td>Active</td>\n",
              "      <td>Inactive</td>\n",
              "      <td>True</td>\n",
              "    </tr>\n",
              "  </tbody>\n",
              "</table>\n",
              "</div>\n",
              "      <button class=\"colab-df-convert\" onclick=\"convertToInteractive('df-113fe1ee-95ae-4d6f-85b8-21292bd1076f')\"\n",
              "              title=\"Convert this dataframe to an interactive table.\"\n",
              "              style=\"display:none;\">\n",
              "        \n",
              "  <svg xmlns=\"http://www.w3.org/2000/svg\" height=\"24px\"viewBox=\"0 0 24 24\"\n",
              "       width=\"24px\">\n",
              "    <path d=\"M0 0h24v24H0V0z\" fill=\"none\"/>\n",
              "    <path d=\"M18.56 5.44l.94 2.06.94-2.06 2.06-.94-2.06-.94-.94-2.06-.94 2.06-2.06.94zm-11 1L8.5 8.5l.94-2.06 2.06-.94-2.06-.94L8.5 2.5l-.94 2.06-2.06.94zm10 10l.94 2.06.94-2.06 2.06-.94-2.06-.94-.94-2.06-.94 2.06-2.06.94z\"/><path d=\"M17.41 7.96l-1.37-1.37c-.4-.4-.92-.59-1.43-.59-.52 0-1.04.2-1.43.59L10.3 9.45l-7.72 7.72c-.78.78-.78 2.05 0 2.83L4 21.41c.39.39.9.59 1.41.59.51 0 1.02-.2 1.41-.59l7.78-7.78 2.81-2.81c.8-.78.8-2.07 0-2.86zM5.41 20L4 18.59l7.72-7.72 1.47 1.35L5.41 20z\"/>\n",
              "  </svg>\n",
              "      </button>\n",
              "      \n",
              "  <style>\n",
              "    .colab-df-container {\n",
              "      display:flex;\n",
              "      flex-wrap:wrap;\n",
              "      gap: 12px;\n",
              "    }\n",
              "\n",
              "    .colab-df-convert {\n",
              "      background-color: #E8F0FE;\n",
              "      border: none;\n",
              "      border-radius: 50%;\n",
              "      cursor: pointer;\n",
              "      display: none;\n",
              "      fill: #1967D2;\n",
              "      height: 32px;\n",
              "      padding: 0 0 0 0;\n",
              "      width: 32px;\n",
              "    }\n",
              "\n",
              "    .colab-df-convert:hover {\n",
              "      background-color: #E2EBFA;\n",
              "      box-shadow: 0px 1px 2px rgba(60, 64, 67, 0.3), 0px 1px 3px 1px rgba(60, 64, 67, 0.15);\n",
              "      fill: #174EA6;\n",
              "    }\n",
              "\n",
              "    [theme=dark] .colab-df-convert {\n",
              "      background-color: #3B4455;\n",
              "      fill: #D2E3FC;\n",
              "    }\n",
              "\n",
              "    [theme=dark] .colab-df-convert:hover {\n",
              "      background-color: #434B5C;\n",
              "      box-shadow: 0px 1px 3px 1px rgba(0, 0, 0, 0.15);\n",
              "      filter: drop-shadow(0px 1px 2px rgba(0, 0, 0, 0.3));\n",
              "      fill: #FFFFFF;\n",
              "    }\n",
              "  </style>\n",
              "\n",
              "      <script>\n",
              "        const buttonEl =\n",
              "          document.querySelector('#df-113fe1ee-95ae-4d6f-85b8-21292bd1076f button.colab-df-convert');\n",
              "        buttonEl.style.display =\n",
              "          google.colab.kernel.accessAllowed ? 'block' : 'none';\n",
              "\n",
              "        async function convertToInteractive(key) {\n",
              "          const element = document.querySelector('#df-113fe1ee-95ae-4d6f-85b8-21292bd1076f');\n",
              "          const dataTable =\n",
              "            await google.colab.kernel.invokeFunction('convertToInteractive',\n",
              "                                                     [key], {});\n",
              "          if (!dataTable) return;\n",
              "\n",
              "          const docLinkHtml = 'Like what you see? Visit the ' +\n",
              "            '<a target=\"_blank\" href=https://colab.research.google.com/notebooks/data_table.ipynb>data table notebook</a>'\n",
              "            + ' to learn more about interactive tables.';\n",
              "          element.innerHTML = '';\n",
              "          dataTable['output_type'] = 'display_data';\n",
              "          await google.colab.output.renderOutput(dataTable, element);\n",
              "          const docLink = document.createElement('div');\n",
              "          docLink.innerHTML = docLinkHtml;\n",
              "          element.appendChild(docLink);\n",
              "        }\n",
              "      </script>\n",
              "    </div>\n",
              "  </div>\n",
              "  "
            ]
          },
          "metadata": {},
          "execution_count": 44
        }
      ],
      "source": [
        "df_churn.head()"
      ]
    },
    {
      "cell_type": "code",
      "execution_count": null,
      "id": "2badfe3b-1113-4ba8-82c7-0ec2af24bc7a",
      "metadata": {
        "id": "2badfe3b-1113-4ba8-82c7-0ec2af24bc7a"
      },
      "outputs": [],
      "source": [
        "# rename column headers to make compatible with BigQuery table schema requirements \n",
        "df_churn.rename(columns={\"28ma_x\": \"pre_MA\", \"56sd\": \"pre_SD\", \"28ma_y\": \"post_MA\"}, inplace=True)"
      ]
    },
    {
      "cell_type": "code",
      "execution_count": null,
      "id": "a6dea6ae-e6fe-4b43-ad46-74eaafc56c45",
      "metadata": {
        "colab": {
          "base_uri": "https://localhost:8080/"
        },
        "id": "a6dea6ae-e6fe-4b43-ad46-74eaafc56c45",
        "outputId": "5e8cf906-adf4-4591-f899-226bcf7d5019"
      },
      "outputs": [
        {
          "output_type": "execute_result",
          "data": {
            "text/plain": [
              "LoadJob<project=adl-analytics, location=US, id=c4e3936d-40a0-4aac-99f7-ae5eb99d8f0f>"
            ]
          },
          "metadata": {},
          "execution_count": 46
        }
      ],
      "source": [
        "client = bigquery.Client(project = project_name)\n",
        "table_id = 'public_sample_data.churn_ga4_target_details' # update with your dataset and table name\n",
        "\n",
        "job_config = bigquery.LoadJobConfig(\n",
        "    write_disposition = bigquery.job.WriteDisposition.WRITE_TRUNCATE\n",
        ")\n",
        "\n",
        "job = client.load_table_from_dataframe(\n",
        "    df_churn, table_id, job_config = job_config\n",
        ")\n",
        "\n",
        "# Wait for the load job to complete.\n",
        "job.result()"
      ]
    },
    {
      "cell_type": "markdown",
      "id": "2398ae81-76d8-4a4d-823a-f6becad8ee55",
      "metadata": {
        "id": "2398ae81-76d8-4a4d-823a-f6becad8ee55"
      },
      "source": [
        "### Create a separate table containing only the `pseudo_user_id` and `Churn_Target` for customers who are still active\n",
        "\n",
        "This creates an index for our Churn Target column that we'll add later to our full training dataset. "
      ]
    },
    {
      "cell_type": "code",
      "execution_count": null,
      "id": "09886021-06fa-4920-b90d-3d2c6baa43e1",
      "metadata": {
        "id": "09886021-06fa-4920-b90d-3d2c6baa43e1"
      },
      "outputs": [],
      "source": [
        "## select only user_pseudo_id and Churn_Target columns\n",
        "df_churn_target = df_churn.loc[df_churn[\"Churn_Target\"] != \"Inactive\"]\n",
        "df_churn_target = df_churn_target[\n",
        "    [\n",
        "        \"user_pseudo_id\",\n",
        "        \"Churn_Target\"\n",
        "    ]\n",
        "].copy()"
      ]
    },
    {
      "cell_type": "code",
      "execution_count": null,
      "id": "586df279-be51-4554-8fa0-4b62bb5dcd8c",
      "metadata": {
        "id": "586df279-be51-4554-8fa0-4b62bb5dcd8c"
      },
      "outputs": [],
      "source": [
        "# convert target values to 1 and 0 \n",
        "replaceStruct = {\n",
        "    \"Churn_Target\": {\n",
        "        \"True\": 1,\n",
        "        \"False\": 0,    \n",
        "    },\n",
        "}\n",
        "df_churn_target = df_churn_target.replace(replaceStruct)"
      ]
    },
    {
      "cell_type": "code",
      "execution_count": null,
      "id": "90db17fd-f3fc-422c-adff-3988cffc6a97",
      "metadata": {
        "colab": {
          "base_uri": "https://localhost:8080/"
        },
        "id": "90db17fd-f3fc-422c-adff-3988cffc6a97",
        "outputId": "e40710e3-8b88-4874-8094-43c2cc443d5e"
      },
      "outputs": [
        {
          "output_type": "execute_result",
          "data": {
            "text/plain": [
              "1    1540\n",
              "0      30\n",
              "Name: Churn_Target, dtype: int64"
            ]
          },
          "metadata": {},
          "execution_count": 49
        }
      ],
      "source": [
        "df_churn_target[\"Churn_Target\"].value_counts()"
      ]
    },
    {
      "cell_type": "code",
      "execution_count": null,
      "id": "3e3221f9-367c-4e06-9ba2-b9c30b0c7a0e",
      "metadata": {
        "colab": {
          "base_uri": "https://localhost:8080/"
        },
        "id": "3e3221f9-367c-4e06-9ba2-b9c30b0c7a0e",
        "outputId": "cbd312df-83ca-4ced-9845-c4f174f5a053"
      },
      "outputs": [
        {
          "output_type": "execute_result",
          "data": {
            "text/plain": [
              "1570"
            ]
          },
          "metadata": {},
          "execution_count": 50
        }
      ],
      "source": [
        "df_churn_target[\"user_pseudo_id\"].nunique()"
      ]
    },
    {
      "cell_type": "markdown",
      "id": "20aa3efc-0ff9-40ad-9c38-4d373e3962eb",
      "metadata": {
        "id": "20aa3efc-0ff9-40ad-9c38-4d373e3962eb"
      },
      "source": [
        "## Store table in BigQuery"
      ]
    },
    {
      "cell_type": "code",
      "execution_count": null,
      "id": "fcf92cfd-f364-4666-93af-1ab75188d3cc",
      "metadata": {
        "colab": {
          "base_uri": "https://localhost:8080/"
        },
        "id": "fcf92cfd-f364-4666-93af-1ab75188d3cc",
        "outputId": "d0b4436a-0322-433e-e801-e146fbe59eca"
      },
      "outputs": [
        {
          "output_type": "execute_result",
          "data": {
            "text/plain": [
              "LoadJob<project=adl-analytics, location=US, id=7a1a2335-55f6-4bb3-af2e-6e16618c42ac>"
            ]
          },
          "metadata": {},
          "execution_count": 51
        }
      ],
      "source": [
        "client = bigquery.Client(project = project_name)\n",
        "table_id = 'public_sample_data.churn_ga4_4' # update with your dataset and table name\n",
        "\n",
        "job_config = bigquery.LoadJobConfig(\n",
        "    write_disposition = bigquery.job.WriteDisposition.WRITE_TRUNCATE\n",
        ")\n",
        "\n",
        "job = client.load_table_from_dataframe(\n",
        "    df_churn_target, table_id, job_config = job_config\n",
        ")\n",
        "\n",
        "# Wait for the load job to complete.\n",
        "job.result()"
      ]
    }
  ],
  "metadata": {
    "environment": {
      "kernel": "python3",
      "name": "common-cpu.m100",
      "type": "gcloud",
      "uri": "gcr.io/deeplearning-platform-release/base-cpu:m100"
    },
    "kernelspec": {
      "display_name": "Python 3",
      "language": "python",
      "name": "python3"
    },
    "language_info": {
      "codemirror_mode": {
        "name": "ipython",
        "version": 3
      },
      "file_extension": ".py",
      "mimetype": "text/x-python",
      "name": "python",
      "nbconvert_exporter": "python",
      "pygments_lexer": "ipython3",
      "version": "3.7.12"
    },
    "colab": {
      "provenance": [],
      "include_colab_link": true
    },
    "widgets": {
      "application/vnd.jupyter.widget-state+json": {
        "df73ba8ba43b4ba487b05f447f706127": {
          "model_module": "@jupyter-widgets/controls",
          "model_name": "HBoxModel",
          "model_module_version": "1.5.0",
          "state": {
            "_dom_classes": [],
            "_model_module": "@jupyter-widgets/controls",
            "_model_module_version": "1.5.0",
            "_model_name": "HBoxModel",
            "_view_count": null,
            "_view_module": "@jupyter-widgets/controls",
            "_view_module_version": "1.5.0",
            "_view_name": "HBoxView",
            "box_style": "",
            "children": [
              "IPY_MODEL_05c45e7d2b49499aaede829d55973563",
              "IPY_MODEL_36c9f937da34410ab417017b8a7ebf67",
              "IPY_MODEL_f5eb80d1ec5b4d4a9b9fd9ee6446b958"
            ],
            "layout": "IPY_MODEL_2795584be43f4c5e9cceb3a4745e18a0"
          }
        },
        "05c45e7d2b49499aaede829d55973563": {
          "model_module": "@jupyter-widgets/controls",
          "model_name": "HTMLModel",
          "model_module_version": "1.5.0",
          "state": {
            "_dom_classes": [],
            "_model_module": "@jupyter-widgets/controls",
            "_model_module_version": "1.5.0",
            "_model_name": "HTMLModel",
            "_view_count": null,
            "_view_module": "@jupyter-widgets/controls",
            "_view_module_version": "1.5.0",
            "_view_name": "HTMLView",
            "description": "",
            "description_tooltip": null,
            "layout": "IPY_MODEL_446e8570c86a4204ab49c4eb62c80403",
            "placeholder": "​",
            "style": "IPY_MODEL_9f76f28f104645db822616bb5bdc5482",
            "value": "Job ID 26cc91ed-9ecc-410b-b173-6594582b395e successfully executed: 100%"
          }
        },
        "36c9f937da34410ab417017b8a7ebf67": {
          "model_module": "@jupyter-widgets/controls",
          "model_name": "FloatProgressModel",
          "model_module_version": "1.5.0",
          "state": {
            "_dom_classes": [],
            "_model_module": "@jupyter-widgets/controls",
            "_model_module_version": "1.5.0",
            "_model_name": "FloatProgressModel",
            "_view_count": null,
            "_view_module": "@jupyter-widgets/controls",
            "_view_module_version": "1.5.0",
            "_view_name": "ProgressView",
            "bar_style": "success",
            "description": "",
            "description_tooltip": null,
            "layout": "IPY_MODEL_e7bdc7190552430f971702b42c8c9b68",
            "max": 1,
            "min": 0,
            "orientation": "horizontal",
            "style": "IPY_MODEL_e81d0f2f1e8a4b21b99ace687f7501fb",
            "value": 1
          }
        },
        "f5eb80d1ec5b4d4a9b9fd9ee6446b958": {
          "model_module": "@jupyter-widgets/controls",
          "model_name": "HTMLModel",
          "model_module_version": "1.5.0",
          "state": {
            "_dom_classes": [],
            "_model_module": "@jupyter-widgets/controls",
            "_model_module_version": "1.5.0",
            "_model_name": "HTMLModel",
            "_view_count": null,
            "_view_module": "@jupyter-widgets/controls",
            "_view_module_version": "1.5.0",
            "_view_name": "HTMLView",
            "description": "",
            "description_tooltip": null,
            "layout": "IPY_MODEL_8e80b92a7bbe4d8185ea102994fd21a8",
            "placeholder": "​",
            "style": "IPY_MODEL_8e5504ba3a694e948a563e50ef110093",
            "value": ""
          }
        },
        "2795584be43f4c5e9cceb3a4745e18a0": {
          "model_module": "@jupyter-widgets/base",
          "model_name": "LayoutModel",
          "model_module_version": "1.2.0",
          "state": {
            "_model_module": "@jupyter-widgets/base",
            "_model_module_version": "1.2.0",
            "_model_name": "LayoutModel",
            "_view_count": null,
            "_view_module": "@jupyter-widgets/base",
            "_view_module_version": "1.2.0",
            "_view_name": "LayoutView",
            "align_content": null,
            "align_items": null,
            "align_self": null,
            "border": null,
            "bottom": null,
            "display": null,
            "flex": null,
            "flex_flow": null,
            "grid_area": null,
            "grid_auto_columns": null,
            "grid_auto_flow": null,
            "grid_auto_rows": null,
            "grid_column": null,
            "grid_gap": null,
            "grid_row": null,
            "grid_template_areas": null,
            "grid_template_columns": null,
            "grid_template_rows": null,
            "height": null,
            "justify_content": null,
            "justify_items": null,
            "left": null,
            "margin": null,
            "max_height": null,
            "max_width": null,
            "min_height": null,
            "min_width": null,
            "object_fit": null,
            "object_position": null,
            "order": null,
            "overflow": null,
            "overflow_x": null,
            "overflow_y": null,
            "padding": null,
            "right": null,
            "top": null,
            "visibility": null,
            "width": null
          }
        },
        "446e8570c86a4204ab49c4eb62c80403": {
          "model_module": "@jupyter-widgets/base",
          "model_name": "LayoutModel",
          "model_module_version": "1.2.0",
          "state": {
            "_model_module": "@jupyter-widgets/base",
            "_model_module_version": "1.2.0",
            "_model_name": "LayoutModel",
            "_view_count": null,
            "_view_module": "@jupyter-widgets/base",
            "_view_module_version": "1.2.0",
            "_view_name": "LayoutView",
            "align_content": null,
            "align_items": null,
            "align_self": null,
            "border": null,
            "bottom": null,
            "display": null,
            "flex": null,
            "flex_flow": null,
            "grid_area": null,
            "grid_auto_columns": null,
            "grid_auto_flow": null,
            "grid_auto_rows": null,
            "grid_column": null,
            "grid_gap": null,
            "grid_row": null,
            "grid_template_areas": null,
            "grid_template_columns": null,
            "grid_template_rows": null,
            "height": null,
            "justify_content": null,
            "justify_items": null,
            "left": null,
            "margin": null,
            "max_height": null,
            "max_width": null,
            "min_height": null,
            "min_width": null,
            "object_fit": null,
            "object_position": null,
            "order": null,
            "overflow": null,
            "overflow_x": null,
            "overflow_y": null,
            "padding": null,
            "right": null,
            "top": null,
            "visibility": null,
            "width": null
          }
        },
        "9f76f28f104645db822616bb5bdc5482": {
          "model_module": "@jupyter-widgets/controls",
          "model_name": "DescriptionStyleModel",
          "model_module_version": "1.5.0",
          "state": {
            "_model_module": "@jupyter-widgets/controls",
            "_model_module_version": "1.5.0",
            "_model_name": "DescriptionStyleModel",
            "_view_count": null,
            "_view_module": "@jupyter-widgets/base",
            "_view_module_version": "1.2.0",
            "_view_name": "StyleView",
            "description_width": ""
          }
        },
        "e7bdc7190552430f971702b42c8c9b68": {
          "model_module": "@jupyter-widgets/base",
          "model_name": "LayoutModel",
          "model_module_version": "1.2.0",
          "state": {
            "_model_module": "@jupyter-widgets/base",
            "_model_module_version": "1.2.0",
            "_model_name": "LayoutModel",
            "_view_count": null,
            "_view_module": "@jupyter-widgets/base",
            "_view_module_version": "1.2.0",
            "_view_name": "LayoutView",
            "align_content": null,
            "align_items": null,
            "align_self": null,
            "border": null,
            "bottom": null,
            "display": null,
            "flex": null,
            "flex_flow": null,
            "grid_area": null,
            "grid_auto_columns": null,
            "grid_auto_flow": null,
            "grid_auto_rows": null,
            "grid_column": null,
            "grid_gap": null,
            "grid_row": null,
            "grid_template_areas": null,
            "grid_template_columns": null,
            "grid_template_rows": null,
            "height": null,
            "justify_content": null,
            "justify_items": null,
            "left": null,
            "margin": null,
            "max_height": null,
            "max_width": null,
            "min_height": null,
            "min_width": null,
            "object_fit": null,
            "object_position": null,
            "order": null,
            "overflow": null,
            "overflow_x": null,
            "overflow_y": null,
            "padding": null,
            "right": null,
            "top": null,
            "visibility": null,
            "width": null
          }
        },
        "e81d0f2f1e8a4b21b99ace687f7501fb": {
          "model_module": "@jupyter-widgets/controls",
          "model_name": "ProgressStyleModel",
          "model_module_version": "1.5.0",
          "state": {
            "_model_module": "@jupyter-widgets/controls",
            "_model_module_version": "1.5.0",
            "_model_name": "ProgressStyleModel",
            "_view_count": null,
            "_view_module": "@jupyter-widgets/base",
            "_view_module_version": "1.2.0",
            "_view_name": "StyleView",
            "bar_color": null,
            "description_width": ""
          }
        },
        "8e80b92a7bbe4d8185ea102994fd21a8": {
          "model_module": "@jupyter-widgets/base",
          "model_name": "LayoutModel",
          "model_module_version": "1.2.0",
          "state": {
            "_model_module": "@jupyter-widgets/base",
            "_model_module_version": "1.2.0",
            "_model_name": "LayoutModel",
            "_view_count": null,
            "_view_module": "@jupyter-widgets/base",
            "_view_module_version": "1.2.0",
            "_view_name": "LayoutView",
            "align_content": null,
            "align_items": null,
            "align_self": null,
            "border": null,
            "bottom": null,
            "display": null,
            "flex": null,
            "flex_flow": null,
            "grid_area": null,
            "grid_auto_columns": null,
            "grid_auto_flow": null,
            "grid_auto_rows": null,
            "grid_column": null,
            "grid_gap": null,
            "grid_row": null,
            "grid_template_areas": null,
            "grid_template_columns": null,
            "grid_template_rows": null,
            "height": null,
            "justify_content": null,
            "justify_items": null,
            "left": null,
            "margin": null,
            "max_height": null,
            "max_width": null,
            "min_height": null,
            "min_width": null,
            "object_fit": null,
            "object_position": null,
            "order": null,
            "overflow": null,
            "overflow_x": null,
            "overflow_y": null,
            "padding": null,
            "right": null,
            "top": null,
            "visibility": null,
            "width": null
          }
        },
        "8e5504ba3a694e948a563e50ef110093": {
          "model_module": "@jupyter-widgets/controls",
          "model_name": "DescriptionStyleModel",
          "model_module_version": "1.5.0",
          "state": {
            "_model_module": "@jupyter-widgets/controls",
            "_model_module_version": "1.5.0",
            "_model_name": "DescriptionStyleModel",
            "_view_count": null,
            "_view_module": "@jupyter-widgets/base",
            "_view_module_version": "1.2.0",
            "_view_name": "StyleView",
            "description_width": ""
          }
        },
        "dfca5dbf48334255a2492c86df0599ad": {
          "model_module": "@jupyter-widgets/controls",
          "model_name": "HBoxModel",
          "model_module_version": "1.5.0",
          "state": {
            "_dom_classes": [],
            "_model_module": "@jupyter-widgets/controls",
            "_model_module_version": "1.5.0",
            "_model_name": "HBoxModel",
            "_view_count": null,
            "_view_module": "@jupyter-widgets/controls",
            "_view_module_version": "1.5.0",
            "_view_name": "HBoxView",
            "box_style": "",
            "children": [
              "IPY_MODEL_a94231f4b5684e16b9b6866af243b2e9",
              "IPY_MODEL_851b13f4b0d84bfead2248c7f4754344",
              "IPY_MODEL_3c08793f676c491d99c341aa1c2f7f50"
            ],
            "layout": "IPY_MODEL_ad9d84baec0d40f3a17097b426ae2607"
          }
        },
        "a94231f4b5684e16b9b6866af243b2e9": {
          "model_module": "@jupyter-widgets/controls",
          "model_name": "HTMLModel",
          "model_module_version": "1.5.0",
          "state": {
            "_dom_classes": [],
            "_model_module": "@jupyter-widgets/controls",
            "_model_module_version": "1.5.0",
            "_model_name": "HTMLModel",
            "_view_count": null,
            "_view_module": "@jupyter-widgets/controls",
            "_view_module_version": "1.5.0",
            "_view_name": "HTMLView",
            "description": "",
            "description_tooltip": null,
            "layout": "IPY_MODEL_9fb737eb4a204c54842edb87ba89355d",
            "placeholder": "​",
            "style": "IPY_MODEL_e736e28e662d49a5adb55cb76e653841",
            "value": "Downloading: 100%"
          }
        },
        "851b13f4b0d84bfead2248c7f4754344": {
          "model_module": "@jupyter-widgets/controls",
          "model_name": "FloatProgressModel",
          "model_module_version": "1.5.0",
          "state": {
            "_dom_classes": [],
            "_model_module": "@jupyter-widgets/controls",
            "_model_module_version": "1.5.0",
            "_model_name": "FloatProgressModel",
            "_view_count": null,
            "_view_module": "@jupyter-widgets/controls",
            "_view_module_version": "1.5.0",
            "_view_name": "ProgressView",
            "bar_style": "success",
            "description": "",
            "description_tooltip": null,
            "layout": "IPY_MODEL_91fd7882047c4b049b36f440e6f7acc8",
            "max": 5692,
            "min": 0,
            "orientation": "horizontal",
            "style": "IPY_MODEL_3c2933d9a8cd4a8cbc128aab6254191e",
            "value": 5692
          }
        },
        "3c08793f676c491d99c341aa1c2f7f50": {
          "model_module": "@jupyter-widgets/controls",
          "model_name": "HTMLModel",
          "model_module_version": "1.5.0",
          "state": {
            "_dom_classes": [],
            "_model_module": "@jupyter-widgets/controls",
            "_model_module_version": "1.5.0",
            "_model_name": "HTMLModel",
            "_view_count": null,
            "_view_module": "@jupyter-widgets/controls",
            "_view_module_version": "1.5.0",
            "_view_name": "HTMLView",
            "description": "",
            "description_tooltip": null,
            "layout": "IPY_MODEL_911c887ac99f464aa473540f53a3b4f9",
            "placeholder": "​",
            "style": "IPY_MODEL_8b00b89b49104f6eb9ddc599dbdb2e50",
            "value": ""
          }
        },
        "ad9d84baec0d40f3a17097b426ae2607": {
          "model_module": "@jupyter-widgets/base",
          "model_name": "LayoutModel",
          "model_module_version": "1.2.0",
          "state": {
            "_model_module": "@jupyter-widgets/base",
            "_model_module_version": "1.2.0",
            "_model_name": "LayoutModel",
            "_view_count": null,
            "_view_module": "@jupyter-widgets/base",
            "_view_module_version": "1.2.0",
            "_view_name": "LayoutView",
            "align_content": null,
            "align_items": null,
            "align_self": null,
            "border": null,
            "bottom": null,
            "display": null,
            "flex": null,
            "flex_flow": null,
            "grid_area": null,
            "grid_auto_columns": null,
            "grid_auto_flow": null,
            "grid_auto_rows": null,
            "grid_column": null,
            "grid_gap": null,
            "grid_row": null,
            "grid_template_areas": null,
            "grid_template_columns": null,
            "grid_template_rows": null,
            "height": null,
            "justify_content": null,
            "justify_items": null,
            "left": null,
            "margin": null,
            "max_height": null,
            "max_width": null,
            "min_height": null,
            "min_width": null,
            "object_fit": null,
            "object_position": null,
            "order": null,
            "overflow": null,
            "overflow_x": null,
            "overflow_y": null,
            "padding": null,
            "right": null,
            "top": null,
            "visibility": null,
            "width": null
          }
        },
        "9fb737eb4a204c54842edb87ba89355d": {
          "model_module": "@jupyter-widgets/base",
          "model_name": "LayoutModel",
          "model_module_version": "1.2.0",
          "state": {
            "_model_module": "@jupyter-widgets/base",
            "_model_module_version": "1.2.0",
            "_model_name": "LayoutModel",
            "_view_count": null,
            "_view_module": "@jupyter-widgets/base",
            "_view_module_version": "1.2.0",
            "_view_name": "LayoutView",
            "align_content": null,
            "align_items": null,
            "align_self": null,
            "border": null,
            "bottom": null,
            "display": null,
            "flex": null,
            "flex_flow": null,
            "grid_area": null,
            "grid_auto_columns": null,
            "grid_auto_flow": null,
            "grid_auto_rows": null,
            "grid_column": null,
            "grid_gap": null,
            "grid_row": null,
            "grid_template_areas": null,
            "grid_template_columns": null,
            "grid_template_rows": null,
            "height": null,
            "justify_content": null,
            "justify_items": null,
            "left": null,
            "margin": null,
            "max_height": null,
            "max_width": null,
            "min_height": null,
            "min_width": null,
            "object_fit": null,
            "object_position": null,
            "order": null,
            "overflow": null,
            "overflow_x": null,
            "overflow_y": null,
            "padding": null,
            "right": null,
            "top": null,
            "visibility": null,
            "width": null
          }
        },
        "e736e28e662d49a5adb55cb76e653841": {
          "model_module": "@jupyter-widgets/controls",
          "model_name": "DescriptionStyleModel",
          "model_module_version": "1.5.0",
          "state": {
            "_model_module": "@jupyter-widgets/controls",
            "_model_module_version": "1.5.0",
            "_model_name": "DescriptionStyleModel",
            "_view_count": null,
            "_view_module": "@jupyter-widgets/base",
            "_view_module_version": "1.2.0",
            "_view_name": "StyleView",
            "description_width": ""
          }
        },
        "91fd7882047c4b049b36f440e6f7acc8": {
          "model_module": "@jupyter-widgets/base",
          "model_name": "LayoutModel",
          "model_module_version": "1.2.0",
          "state": {
            "_model_module": "@jupyter-widgets/base",
            "_model_module_version": "1.2.0",
            "_model_name": "LayoutModel",
            "_view_count": null,
            "_view_module": "@jupyter-widgets/base",
            "_view_module_version": "1.2.0",
            "_view_name": "LayoutView",
            "align_content": null,
            "align_items": null,
            "align_self": null,
            "border": null,
            "bottom": null,
            "display": null,
            "flex": null,
            "flex_flow": null,
            "grid_area": null,
            "grid_auto_columns": null,
            "grid_auto_flow": null,
            "grid_auto_rows": null,
            "grid_column": null,
            "grid_gap": null,
            "grid_row": null,
            "grid_template_areas": null,
            "grid_template_columns": null,
            "grid_template_rows": null,
            "height": null,
            "justify_content": null,
            "justify_items": null,
            "left": null,
            "margin": null,
            "max_height": null,
            "max_width": null,
            "min_height": null,
            "min_width": null,
            "object_fit": null,
            "object_position": null,
            "order": null,
            "overflow": null,
            "overflow_x": null,
            "overflow_y": null,
            "padding": null,
            "right": null,
            "top": null,
            "visibility": null,
            "width": null
          }
        },
        "3c2933d9a8cd4a8cbc128aab6254191e": {
          "model_module": "@jupyter-widgets/controls",
          "model_name": "ProgressStyleModel",
          "model_module_version": "1.5.0",
          "state": {
            "_model_module": "@jupyter-widgets/controls",
            "_model_module_version": "1.5.0",
            "_model_name": "ProgressStyleModel",
            "_view_count": null,
            "_view_module": "@jupyter-widgets/base",
            "_view_module_version": "1.2.0",
            "_view_name": "StyleView",
            "bar_color": null,
            "description_width": ""
          }
        },
        "911c887ac99f464aa473540f53a3b4f9": {
          "model_module": "@jupyter-widgets/base",
          "model_name": "LayoutModel",
          "model_module_version": "1.2.0",
          "state": {
            "_model_module": "@jupyter-widgets/base",
            "_model_module_version": "1.2.0",
            "_model_name": "LayoutModel",
            "_view_count": null,
            "_view_module": "@jupyter-widgets/base",
            "_view_module_version": "1.2.0",
            "_view_name": "LayoutView",
            "align_content": null,
            "align_items": null,
            "align_self": null,
            "border": null,
            "bottom": null,
            "display": null,
            "flex": null,
            "flex_flow": null,
            "grid_area": null,
            "grid_auto_columns": null,
            "grid_auto_flow": null,
            "grid_auto_rows": null,
            "grid_column": null,
            "grid_gap": null,
            "grid_row": null,
            "grid_template_areas": null,
            "grid_template_columns": null,
            "grid_template_rows": null,
            "height": null,
            "justify_content": null,
            "justify_items": null,
            "left": null,
            "margin": null,
            "max_height": null,
            "max_width": null,
            "min_height": null,
            "min_width": null,
            "object_fit": null,
            "object_position": null,
            "order": null,
            "overflow": null,
            "overflow_x": null,
            "overflow_y": null,
            "padding": null,
            "right": null,
            "top": null,
            "visibility": null,
            "width": null
          }
        },
        "8b00b89b49104f6eb9ddc599dbdb2e50": {
          "model_module": "@jupyter-widgets/controls",
          "model_name": "DescriptionStyleModel",
          "model_module_version": "1.5.0",
          "state": {
            "_model_module": "@jupyter-widgets/controls",
            "_model_module_version": "1.5.0",
            "_model_name": "DescriptionStyleModel",
            "_view_count": null,
            "_view_module": "@jupyter-widgets/base",
            "_view_module_version": "1.2.0",
            "_view_name": "StyleView",
            "description_width": ""
          }
        }
      }
    }
  },
  "nbformat": 4,
  "nbformat_minor": 5
}