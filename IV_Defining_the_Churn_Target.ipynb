{
  "cells": [
    {
      "cell_type": "markdown",
      "metadata": {
        "id": "view-in-github",
        "colab_type": "text"
      },
      "source": [
        "<a href=\"https://colab.research.google.com/github/Adlucent/ga4-churn-prediction/blob/dev/IV_Defining_the_Churn_Target.ipynb\" target=\"_parent\"><img src=\"https://colab.research.google.com/assets/colab-badge.svg\" alt=\"Open In Colab\"/></a>"
      ]
    },
    {
      "cell_type": "markdown",
      "id": "5b635972-15cb-4126-a9df-adcd2afb4328",
      "metadata": {
        "id": "5b635972-15cb-4126-a9df-adcd2afb4328"
      },
      "source": [
        "# IV. Defining the Churn Target\n",
        "\n",
        "In this notebook, we'll define the churn target for use in our model. \n",
        "\n",
        "1. Aggregate customer revenue by day\n",
        "2. Calculate the moving average for each customer over the last 28 days\n",
        "3. Calculate the 56 day standard deviation of the moving average (this and the following step are only needed if you're distinguishing between soft and hard churn - see below for explanations)\n",
        "4. Define a minimum threshold ((28 day Moving Average - (56 day standard deviation * 2))\n",
        "5. Split the data by event date into two tables: one containing only activity from prior to the cutoff date defined in a previous notebook, and the other containing only data from after that cutoff date.\n",
        "6. We'll assign the churn label based on which customers who are still active (not churned yet) as of the cutoff date have a moving average that falls to zero in the post-cutoff df.\n",
        "*Note that the values in the above steps will vary depending on the typical purchase cycle for your customers. You may want to experiment with a few different time lengths, as long as you ensure the ratios between the values stay the same.*\n",
        "\n",
        "How we know a customer has churned:\n",
        "* When the moving average falls under the threshold, the customer is churned. \n",
        "* Soft churn is when the moving average goes below the minimum threshold defined by us.\n",
        "* Hard churn is when the moving avg reaches zero. \n",
        "* For our purposes, we are adding segments for churn types, but not differentiating between them in the Churn Target column."
      ]
    },
    {
      "cell_type": "markdown",
      "id": "d9b44aeb-0784-48c9-b131-77ce2e63c269",
      "metadata": {
        "id": "d9b44aeb-0784-48c9-b131-77ce2e63c269"
      },
      "source": [
        "## Import libraries"
      ]
    },
    {
      "cell_type": "code",
      "source": [
        "################################################################################\n",
        "######################### CHANGE BQ PROJECT NAME BELOW #########################\n",
        "################################################################################\n",
        "\n",
        "project_name = 'adl-analytics' #add proj name\n",
        "region = \"US\"  # GCP project region"
      ],
      "metadata": {
        "id": "sf__LpcTNN5g"
      },
      "id": "sf__LpcTNN5g",
      "execution_count": 1,
      "outputs": []
    },
    {
      "cell_type": "code",
      "execution_count": 2,
      "id": "e7fffe22-0f53-44cb-a758-074639121fd5",
      "metadata": {
        "id": "e7fffe22-0f53-44cb-a758-074639121fd5"
      },
      "outputs": [],
      "source": [
        "# Google credentials \n",
        "from google.colab import auth\n",
        "auth.authenticate_user()\n",
        "\n",
        "# BigQuery Magics \n",
        "'''BigQuery magics are used to run BigQuery SQL queries in a python environment.\n",
        "These queries can also be run in the BigQuery UI '''\n",
        "\n",
        "from google.cloud import bigquery\n",
        "from google.cloud.bigquery import magics, Client, QueryJobConfig\n",
        "\n",
        "magics.context.project = project_name\n",
        "client = bigquery.Client(project=magics.context.project)\n",
        "\n",
        "# data processing\n",
        "import pandas as pd\n",
        "import numpy as np\n",
        "from datetime import timedelta\n",
        "\n",
        "# statistical calculations\n",
        "from scipy import stats\n",
        "\n",
        "# visualization\n",
        "import matplotlib.pyplot as plt\n",
        "import seaborn as sns\n",
        "\n",
        "# suppress notebook warnings\n",
        "import warnings\n",
        "warnings.filterwarnings('ignore')\n",
        "\n",
        "# dataframe formatting\n",
        "pd.set_option(\"display.max_columns\", None)\n",
        "pd.set_option(\"display.max_rows\", None)\n",
        "pd.set_option(\"display.float_format\", lambda x: \"%.3f\" % x)"
      ]
    },
    {
      "cell_type": "markdown",
      "id": "3c3475ba-b128-4b14-a957-3486cdbf1753",
      "metadata": {
        "id": "3c3475ba-b128-4b14-a957-3486cdbf1753"
      },
      "source": [
        "## Load Data from BigQuery\n",
        "\n",
        "From the original dataset, load data for purchases only. In defining churn, we only care about customers' actual purchase events."
      ]
    },
    {
      "cell_type": "code",
      "execution_count": 3,
      "id": "b30530e9-326e-41cb-a5ec-ff95b457a240",
      "metadata": {
        "colab": {
          "base_uri": "https://localhost:8080/",
          "height": 81,
          "referenced_widgets": [
            "2647f519f000484ab058c8eb9c11d260",
            "40e9221cfd05417495e02727b510ea23",
            "0c9935e2589e40aea490e81584991b55",
            "e526251e7ca14e6788f0d1bf8b013656",
            "f45b88a8c95b47bbb480d200ee51cd1d",
            "87b635e164d448288ea72168e549d09a",
            "06502c6b57f94b8d8fa318c8ffc861d6",
            "a6dc0d6454994e58908e2b1e88911d76",
            "94d79698774146138f37b54b88f74b6f",
            "2a18ee2952704d0392bbf2741e7d7cef",
            "a48defe2bca3455aac28be3bc3765c4a",
            "193f76c1a75947c49f5d10958d274d99",
            "e19b9e518d444c5eaf2eafa9d788d45d",
            "d327b2a73ca1479bbe3999cb7821dd55",
            "e3793a3f4b084af49aee49378b286d5b",
            "ae4a36d469e448b5b0a043a418f131fb",
            "301ca9d9066c4835b688d13391cafeeb",
            "eb26b29a1966467c9040c292c765a5ea",
            "369c524a05304c58aedf36b10047b78e",
            "929778f40c434860ad696f9d194f439d",
            "7439ecca2fb34c378232f41f3958a3ac",
            "119ddaaa1d98445497cbff3fb2160a26"
          ]
        },
        "id": "b30530e9-326e-41cb-a5ec-ff95b457a240",
        "outputId": "04d278db-a2e5-43b6-adda-8c7cb886203a"
      },
      "outputs": [
        {
          "output_type": "display_data",
          "data": {
            "text/plain": [
              "Query is running:   0%|          |"
            ],
            "application/vnd.jupyter.widget-view+json": {
              "version_major": 2,
              "version_minor": 0,
              "model_id": "2647f519f000484ab058c8eb9c11d260"
            }
          },
          "metadata": {}
        },
        {
          "output_type": "display_data",
          "data": {
            "text/plain": [
              "Downloading:   0%|          |"
            ],
            "application/vnd.jupyter.widget-view+json": {
              "version_major": 2,
              "version_minor": 0,
              "model_id": "193f76c1a75947c49f5d10958d274d99"
            }
          },
          "metadata": {}
        }
      ],
      "source": [
        "%%bigquery data --project $project_name\n",
        "SELECT user_pseudo_id,event_date,ecommerce\n",
        "FROM `bigquery-public-data.ga4_obfuscated_sample_ecommerce.events_*`\n",
        "WHERE event_name = \"purchase\""
      ]
    },
    {
      "cell_type": "code",
      "execution_count": 4,
      "id": "780225ea-9432-46fa-aae0-917624bf4d5a",
      "metadata": {
        "id": "780225ea-9432-46fa-aae0-917624bf4d5a"
      },
      "outputs": [],
      "source": [
        "# make a copy in case we need to revert back to original table at any point\n",
        "df = data.copy()"
      ]
    },
    {
      "cell_type": "code",
      "execution_count": 5,
      "id": "68e463d0-acb3-4b4b-a224-50f3d53155de",
      "metadata": {
        "colab": {
          "base_uri": "https://localhost:8080/",
          "height": 206
        },
        "id": "68e463d0-acb3-4b4b-a224-50f3d53155de",
        "outputId": "bc491030-bdad-488c-ff21-96a6a03a105a"
      },
      "outputs": [
        {
          "output_type": "execute_result",
          "data": {
            "text/plain": [
              "       user_pseudo_id event_date  \\\n",
              "0  3314192.6404289351   20201126   \n",
              "1  4579730.2657947414   20201126   \n",
              "2  6030522.6567948401   20201126   \n",
              "3  6044179.9713391423   20201126   \n",
              "4  7987433.0547250841   20201126   \n",
              "\n",
              "                                           ecommerce  \n",
              "0  {'total_item_quantity': 1, 'purchase_revenue_i...  \n",
              "1  {'total_item_quantity': 1, 'purchase_revenue_i...  \n",
              "2  {'total_item_quantity': 1, 'purchase_revenue_i...  \n",
              "3  {'total_item_quantity': 1, 'purchase_revenue_i...  \n",
              "4  {'total_item_quantity': 1, 'purchase_revenue_i...  "
            ],
            "text/html": [
              "\n",
              "  <div id=\"df-66275b33-e337-45ae-9640-700d18d0f03a\">\n",
              "    <div class=\"colab-df-container\">\n",
              "      <div>\n",
              "<style scoped>\n",
              "    .dataframe tbody tr th:only-of-type {\n",
              "        vertical-align: middle;\n",
              "    }\n",
              "\n",
              "    .dataframe tbody tr th {\n",
              "        vertical-align: top;\n",
              "    }\n",
              "\n",
              "    .dataframe thead th {\n",
              "        text-align: right;\n",
              "    }\n",
              "</style>\n",
              "<table border=\"1\" class=\"dataframe\">\n",
              "  <thead>\n",
              "    <tr style=\"text-align: right;\">\n",
              "      <th></th>\n",
              "      <th>user_pseudo_id</th>\n",
              "      <th>event_date</th>\n",
              "      <th>ecommerce</th>\n",
              "    </tr>\n",
              "  </thead>\n",
              "  <tbody>\n",
              "    <tr>\n",
              "      <th>0</th>\n",
              "      <td>3314192.6404289351</td>\n",
              "      <td>20201126</td>\n",
              "      <td>{'total_item_quantity': 1, 'purchase_revenue_i...</td>\n",
              "    </tr>\n",
              "    <tr>\n",
              "      <th>1</th>\n",
              "      <td>4579730.2657947414</td>\n",
              "      <td>20201126</td>\n",
              "      <td>{'total_item_quantity': 1, 'purchase_revenue_i...</td>\n",
              "    </tr>\n",
              "    <tr>\n",
              "      <th>2</th>\n",
              "      <td>6030522.6567948401</td>\n",
              "      <td>20201126</td>\n",
              "      <td>{'total_item_quantity': 1, 'purchase_revenue_i...</td>\n",
              "    </tr>\n",
              "    <tr>\n",
              "      <th>3</th>\n",
              "      <td>6044179.9713391423</td>\n",
              "      <td>20201126</td>\n",
              "      <td>{'total_item_quantity': 1, 'purchase_revenue_i...</td>\n",
              "    </tr>\n",
              "    <tr>\n",
              "      <th>4</th>\n",
              "      <td>7987433.0547250841</td>\n",
              "      <td>20201126</td>\n",
              "      <td>{'total_item_quantity': 1, 'purchase_revenue_i...</td>\n",
              "    </tr>\n",
              "  </tbody>\n",
              "</table>\n",
              "</div>\n",
              "      <button class=\"colab-df-convert\" onclick=\"convertToInteractive('df-66275b33-e337-45ae-9640-700d18d0f03a')\"\n",
              "              title=\"Convert this dataframe to an interactive table.\"\n",
              "              style=\"display:none;\">\n",
              "        \n",
              "  <svg xmlns=\"http://www.w3.org/2000/svg\" height=\"24px\"viewBox=\"0 0 24 24\"\n",
              "       width=\"24px\">\n",
              "    <path d=\"M0 0h24v24H0V0z\" fill=\"none\"/>\n",
              "    <path d=\"M18.56 5.44l.94 2.06.94-2.06 2.06-.94-2.06-.94-.94-2.06-.94 2.06-2.06.94zm-11 1L8.5 8.5l.94-2.06 2.06-.94-2.06-.94L8.5 2.5l-.94 2.06-2.06.94zm10 10l.94 2.06.94-2.06 2.06-.94-2.06-.94-.94-2.06-.94 2.06-2.06.94z\"/><path d=\"M17.41 7.96l-1.37-1.37c-.4-.4-.92-.59-1.43-.59-.52 0-1.04.2-1.43.59L10.3 9.45l-7.72 7.72c-.78.78-.78 2.05 0 2.83L4 21.41c.39.39.9.59 1.41.59.51 0 1.02-.2 1.41-.59l7.78-7.78 2.81-2.81c.8-.78.8-2.07 0-2.86zM5.41 20L4 18.59l7.72-7.72 1.47 1.35L5.41 20z\"/>\n",
              "  </svg>\n",
              "      </button>\n",
              "      \n",
              "  <style>\n",
              "    .colab-df-container {\n",
              "      display:flex;\n",
              "      flex-wrap:wrap;\n",
              "      gap: 12px;\n",
              "    }\n",
              "\n",
              "    .colab-df-convert {\n",
              "      background-color: #E8F0FE;\n",
              "      border: none;\n",
              "      border-radius: 50%;\n",
              "      cursor: pointer;\n",
              "      display: none;\n",
              "      fill: #1967D2;\n",
              "      height: 32px;\n",
              "      padding: 0 0 0 0;\n",
              "      width: 32px;\n",
              "    }\n",
              "\n",
              "    .colab-df-convert:hover {\n",
              "      background-color: #E2EBFA;\n",
              "      box-shadow: 0px 1px 2px rgba(60, 64, 67, 0.3), 0px 1px 3px 1px rgba(60, 64, 67, 0.15);\n",
              "      fill: #174EA6;\n",
              "    }\n",
              "\n",
              "    [theme=dark] .colab-df-convert {\n",
              "      background-color: #3B4455;\n",
              "      fill: #D2E3FC;\n",
              "    }\n",
              "\n",
              "    [theme=dark] .colab-df-convert:hover {\n",
              "      background-color: #434B5C;\n",
              "      box-shadow: 0px 1px 3px 1px rgba(0, 0, 0, 0.15);\n",
              "      filter: drop-shadow(0px 1px 2px rgba(0, 0, 0, 0.3));\n",
              "      fill: #FFFFFF;\n",
              "    }\n",
              "  </style>\n",
              "\n",
              "      <script>\n",
              "        const buttonEl =\n",
              "          document.querySelector('#df-66275b33-e337-45ae-9640-700d18d0f03a button.colab-df-convert');\n",
              "        buttonEl.style.display =\n",
              "          google.colab.kernel.accessAllowed ? 'block' : 'none';\n",
              "\n",
              "        async function convertToInteractive(key) {\n",
              "          const element = document.querySelector('#df-66275b33-e337-45ae-9640-700d18d0f03a');\n",
              "          const dataTable =\n",
              "            await google.colab.kernel.invokeFunction('convertToInteractive',\n",
              "                                                     [key], {});\n",
              "          if (!dataTable) return;\n",
              "\n",
              "          const docLinkHtml = 'Like what you see? Visit the ' +\n",
              "            '<a target=\"_blank\" href=https://colab.research.google.com/notebooks/data_table.ipynb>data table notebook</a>'\n",
              "            + ' to learn more about interactive tables.';\n",
              "          element.innerHTML = '';\n",
              "          dataTable['output_type'] = 'display_data';\n",
              "          await google.colab.output.renderOutput(dataTable, element);\n",
              "          const docLink = document.createElement('div');\n",
              "          docLink.innerHTML = docLinkHtml;\n",
              "          element.appendChild(docLink);\n",
              "        }\n",
              "      </script>\n",
              "    </div>\n",
              "  </div>\n",
              "  "
            ]
          },
          "metadata": {},
          "execution_count": 5
        }
      ],
      "source": [
        "df.head()"
      ]
    },
    {
      "cell_type": "markdown",
      "id": "ac812021-3d7b-4711-971f-8ee2aba0b616",
      "metadata": {
        "id": "ac812021-3d7b-4711-971f-8ee2aba0b616"
      },
      "source": [
        "## Set cutoff date and filter out post-cutoff data"
      ]
    },
    {
      "cell_type": "code",
      "execution_count": 6,
      "id": "af97a13a-5209-4665-8106-0a069027d8af",
      "metadata": {
        "id": "af97a13a-5209-4665-8106-0a069027d8af"
      },
      "outputs": [],
      "source": [
        "# convert even_date feature to datetime dtype\n",
        "df[\"event_date\"] = pd.to_datetime(df[\"event_date\"])"
      ]
    },
    {
      "cell_type": "code",
      "execution_count": 7,
      "id": "31291e8e-1903-4748-bc5b-b24d3fe81fb3",
      "metadata": {
        "colab": {
          "base_uri": "https://localhost:8080/"
        },
        "id": "31291e8e-1903-4748-bc5b-b24d3fe81fb3",
        "outputId": "b6b639d0-e81e-424e-9b1c-671b7550b1a4"
      },
      "outputs": [
        {
          "output_type": "stream",
          "name": "stdout",
          "text": [
            "2021-01-03 00:00:00\n"
          ]
        }
      ],
      "source": [
        "# set Cutoff Date at 28 days prior to the end of the data set range; update this value if you're using different time lengths\n",
        "cutoff_date = df[\"event_date\"].max() - timedelta(days=28)\n",
        "print(cutoff_date)"
      ]
    },
    {
      "cell_type": "markdown",
      "id": "6d3b42fe-983a-4a5f-8aa9-b49fe944557a",
      "metadata": {
        "id": "6d3b42fe-983a-4a5f-8aa9-b49fe944557a"
      },
      "source": [
        "## Unnest `ecommerce` column to get purchase revenue"
      ]
    },
    {
      "cell_type": "code",
      "execution_count": 8,
      "id": "c8b1bc88-1a7e-48a5-9a0c-b8f3d1356ef5",
      "metadata": {
        "id": "c8b1bc88-1a7e-48a5-9a0c-b8f3d1356ef5"
      },
      "outputs": [],
      "source": [
        "df = pd.concat([df, df[\"ecommerce\"].apply(pd.Series)], axis=1)\n",
        "df.drop(columns=\"ecommerce\", axis=1, inplace=True)"
      ]
    },
    {
      "cell_type": "code",
      "execution_count": 9,
      "id": "ded25f55-7bcb-4e88-a66f-ceeb3ce20fab",
      "metadata": {
        "colab": {
          "base_uri": "https://localhost:8080/",
          "height": 270
        },
        "id": "ded25f55-7bcb-4e88-a66f-ceeb3ce20fab",
        "outputId": "a0e26976-18e0-426c-902a-fe11507c77bf"
      },
      "outputs": [
        {
          "output_type": "execute_result",
          "data": {
            "text/plain": [
              "       user_pseudo_id event_date  total_item_quantity  \\\n",
              "0  3314192.6404289351 2020-11-26                1.000   \n",
              "1  4579730.2657947414 2020-11-26                1.000   \n",
              "2  6030522.6567948401 2020-11-26                1.000   \n",
              "3  6044179.9713391423 2020-11-26                1.000   \n",
              "4  7987433.0547250841 2020-11-26                1.000   \n",
              "\n",
              "   purchase_revenue_in_usd  purchase_revenue  refund_value_in_usd  \\\n",
              "0                   55.000            55.000                  NaN   \n",
              "1                   44.000            44.000                  NaN   \n",
              "2                   30.000            30.000                  NaN   \n",
              "3                   30.000            30.000                  NaN   \n",
              "4                   16.000            16.000                  NaN   \n",
              "\n",
              "   refund_value  shipping_value_in_usd  shipping_value  tax_value_in_usd  \\\n",
              "0           NaN                    NaN             NaN             4.000   \n",
              "1           NaN                    NaN             NaN             4.000   \n",
              "2           NaN                    NaN             NaN             3.000   \n",
              "3           NaN                    NaN             NaN             2.000   \n",
              "4           NaN                    NaN             NaN             1.000   \n",
              "\n",
              "   tax_value  unique_items transaction_id  \n",
              "0      4.000         1.000         330805  \n",
              "1      4.000         1.000         719046  \n",
              "2      3.000         1.000         506867  \n",
              "3      2.000         1.000         960833  \n",
              "4      1.000         1.000         680880  "
            ],
            "text/html": [
              "\n",
              "  <div id=\"df-0e61ce0c-3dce-4e30-b354-0e75b068802e\">\n",
              "    <div class=\"colab-df-container\">\n",
              "      <div>\n",
              "<style scoped>\n",
              "    .dataframe tbody tr th:only-of-type {\n",
              "        vertical-align: middle;\n",
              "    }\n",
              "\n",
              "    .dataframe tbody tr th {\n",
              "        vertical-align: top;\n",
              "    }\n",
              "\n",
              "    .dataframe thead th {\n",
              "        text-align: right;\n",
              "    }\n",
              "</style>\n",
              "<table border=\"1\" class=\"dataframe\">\n",
              "  <thead>\n",
              "    <tr style=\"text-align: right;\">\n",
              "      <th></th>\n",
              "      <th>user_pseudo_id</th>\n",
              "      <th>event_date</th>\n",
              "      <th>total_item_quantity</th>\n",
              "      <th>purchase_revenue_in_usd</th>\n",
              "      <th>purchase_revenue</th>\n",
              "      <th>refund_value_in_usd</th>\n",
              "      <th>refund_value</th>\n",
              "      <th>shipping_value_in_usd</th>\n",
              "      <th>shipping_value</th>\n",
              "      <th>tax_value_in_usd</th>\n",
              "      <th>tax_value</th>\n",
              "      <th>unique_items</th>\n",
              "      <th>transaction_id</th>\n",
              "    </tr>\n",
              "  </thead>\n",
              "  <tbody>\n",
              "    <tr>\n",
              "      <th>0</th>\n",
              "      <td>3314192.6404289351</td>\n",
              "      <td>2020-11-26</td>\n",
              "      <td>1.000</td>\n",
              "      <td>55.000</td>\n",
              "      <td>55.000</td>\n",
              "      <td>NaN</td>\n",
              "      <td>NaN</td>\n",
              "      <td>NaN</td>\n",
              "      <td>NaN</td>\n",
              "      <td>4.000</td>\n",
              "      <td>4.000</td>\n",
              "      <td>1.000</td>\n",
              "      <td>330805</td>\n",
              "    </tr>\n",
              "    <tr>\n",
              "      <th>1</th>\n",
              "      <td>4579730.2657947414</td>\n",
              "      <td>2020-11-26</td>\n",
              "      <td>1.000</td>\n",
              "      <td>44.000</td>\n",
              "      <td>44.000</td>\n",
              "      <td>NaN</td>\n",
              "      <td>NaN</td>\n",
              "      <td>NaN</td>\n",
              "      <td>NaN</td>\n",
              "      <td>4.000</td>\n",
              "      <td>4.000</td>\n",
              "      <td>1.000</td>\n",
              "      <td>719046</td>\n",
              "    </tr>\n",
              "    <tr>\n",
              "      <th>2</th>\n",
              "      <td>6030522.6567948401</td>\n",
              "      <td>2020-11-26</td>\n",
              "      <td>1.000</td>\n",
              "      <td>30.000</td>\n",
              "      <td>30.000</td>\n",
              "      <td>NaN</td>\n",
              "      <td>NaN</td>\n",
              "      <td>NaN</td>\n",
              "      <td>NaN</td>\n",
              "      <td>3.000</td>\n",
              "      <td>3.000</td>\n",
              "      <td>1.000</td>\n",
              "      <td>506867</td>\n",
              "    </tr>\n",
              "    <tr>\n",
              "      <th>3</th>\n",
              "      <td>6044179.9713391423</td>\n",
              "      <td>2020-11-26</td>\n",
              "      <td>1.000</td>\n",
              "      <td>30.000</td>\n",
              "      <td>30.000</td>\n",
              "      <td>NaN</td>\n",
              "      <td>NaN</td>\n",
              "      <td>NaN</td>\n",
              "      <td>NaN</td>\n",
              "      <td>2.000</td>\n",
              "      <td>2.000</td>\n",
              "      <td>1.000</td>\n",
              "      <td>960833</td>\n",
              "    </tr>\n",
              "    <tr>\n",
              "      <th>4</th>\n",
              "      <td>7987433.0547250841</td>\n",
              "      <td>2020-11-26</td>\n",
              "      <td>1.000</td>\n",
              "      <td>16.000</td>\n",
              "      <td>16.000</td>\n",
              "      <td>NaN</td>\n",
              "      <td>NaN</td>\n",
              "      <td>NaN</td>\n",
              "      <td>NaN</td>\n",
              "      <td>1.000</td>\n",
              "      <td>1.000</td>\n",
              "      <td>1.000</td>\n",
              "      <td>680880</td>\n",
              "    </tr>\n",
              "  </tbody>\n",
              "</table>\n",
              "</div>\n",
              "      <button class=\"colab-df-convert\" onclick=\"convertToInteractive('df-0e61ce0c-3dce-4e30-b354-0e75b068802e')\"\n",
              "              title=\"Convert this dataframe to an interactive table.\"\n",
              "              style=\"display:none;\">\n",
              "        \n",
              "  <svg xmlns=\"http://www.w3.org/2000/svg\" height=\"24px\"viewBox=\"0 0 24 24\"\n",
              "       width=\"24px\">\n",
              "    <path d=\"M0 0h24v24H0V0z\" fill=\"none\"/>\n",
              "    <path d=\"M18.56 5.44l.94 2.06.94-2.06 2.06-.94-2.06-.94-.94-2.06-.94 2.06-2.06.94zm-11 1L8.5 8.5l.94-2.06 2.06-.94-2.06-.94L8.5 2.5l-.94 2.06-2.06.94zm10 10l.94 2.06.94-2.06 2.06-.94-2.06-.94-.94-2.06-.94 2.06-2.06.94z\"/><path d=\"M17.41 7.96l-1.37-1.37c-.4-.4-.92-.59-1.43-.59-.52 0-1.04.2-1.43.59L10.3 9.45l-7.72 7.72c-.78.78-.78 2.05 0 2.83L4 21.41c.39.39.9.59 1.41.59.51 0 1.02-.2 1.41-.59l7.78-7.78 2.81-2.81c.8-.78.8-2.07 0-2.86zM5.41 20L4 18.59l7.72-7.72 1.47 1.35L5.41 20z\"/>\n",
              "  </svg>\n",
              "      </button>\n",
              "      \n",
              "  <style>\n",
              "    .colab-df-container {\n",
              "      display:flex;\n",
              "      flex-wrap:wrap;\n",
              "      gap: 12px;\n",
              "    }\n",
              "\n",
              "    .colab-df-convert {\n",
              "      background-color: #E8F0FE;\n",
              "      border: none;\n",
              "      border-radius: 50%;\n",
              "      cursor: pointer;\n",
              "      display: none;\n",
              "      fill: #1967D2;\n",
              "      height: 32px;\n",
              "      padding: 0 0 0 0;\n",
              "      width: 32px;\n",
              "    }\n",
              "\n",
              "    .colab-df-convert:hover {\n",
              "      background-color: #E2EBFA;\n",
              "      box-shadow: 0px 1px 2px rgba(60, 64, 67, 0.3), 0px 1px 3px 1px rgba(60, 64, 67, 0.15);\n",
              "      fill: #174EA6;\n",
              "    }\n",
              "\n",
              "    [theme=dark] .colab-df-convert {\n",
              "      background-color: #3B4455;\n",
              "      fill: #D2E3FC;\n",
              "    }\n",
              "\n",
              "    [theme=dark] .colab-df-convert:hover {\n",
              "      background-color: #434B5C;\n",
              "      box-shadow: 0px 1px 3px 1px rgba(0, 0, 0, 0.15);\n",
              "      filter: drop-shadow(0px 1px 2px rgba(0, 0, 0, 0.3));\n",
              "      fill: #FFFFFF;\n",
              "    }\n",
              "  </style>\n",
              "\n",
              "      <script>\n",
              "        const buttonEl =\n",
              "          document.querySelector('#df-0e61ce0c-3dce-4e30-b354-0e75b068802e button.colab-df-convert');\n",
              "        buttonEl.style.display =\n",
              "          google.colab.kernel.accessAllowed ? 'block' : 'none';\n",
              "\n",
              "        async function convertToInteractive(key) {\n",
              "          const element = document.querySelector('#df-0e61ce0c-3dce-4e30-b354-0e75b068802e');\n",
              "          const dataTable =\n",
              "            await google.colab.kernel.invokeFunction('convertToInteractive',\n",
              "                                                     [key], {});\n",
              "          if (!dataTable) return;\n",
              "\n",
              "          const docLinkHtml = 'Like what you see? Visit the ' +\n",
              "            '<a target=\"_blank\" href=https://colab.research.google.com/notebooks/data_table.ipynb>data table notebook</a>'\n",
              "            + ' to learn more about interactive tables.';\n",
              "          element.innerHTML = '';\n",
              "          dataTable['output_type'] = 'display_data';\n",
              "          await google.colab.output.renderOutput(dataTable, element);\n",
              "          const docLink = document.createElement('div');\n",
              "          docLink.innerHTML = docLinkHtml;\n",
              "          element.appendChild(docLink);\n",
              "        }\n",
              "      </script>\n",
              "    </div>\n",
              "  </div>\n",
              "  "
            ]
          },
          "metadata": {},
          "execution_count": 9
        }
      ],
      "source": [
        "# inpect top 5 rows of df\n",
        "df.head()"
      ]
    },
    {
      "cell_type": "markdown",
      "source": [
        "## Create our table for defining the target"
      ],
      "metadata": {
        "id": "8RdmSUNyjM1u"
      },
      "id": "8RdmSUNyjM1u"
    },
    {
      "cell_type": "markdown",
      "id": "047dbe20-0c8e-43d4-9a9a-27befd386576",
      "metadata": {
        "id": "047dbe20-0c8e-43d4-9a9a-27befd386576"
      },
      "source": [
        "Isolate columns required for defining churn and drop duplicate rows. Columns to keep:\n",
        "- `user_pseudo_id`\n",
        "- `transaction_id`\n",
        "- `event_date`\n",
        "- `purchase_revenue_in_usd`"
      ]
    },
    {
      "cell_type": "code",
      "source": [
        "df = df[\n",
        "    [\"user_pseudo_id\", \"transaction_id\",\"event_date\", \"purchase_revenue_in_usd\"]\n",
        "].drop_duplicates(subset=None, keep=\"first\")"
      ],
      "metadata": {
        "id": "bvFnJzZ_ipcj"
      },
      "id": "bvFnJzZ_ipcj",
      "execution_count": 10,
      "outputs": []
    },
    {
      "cell_type": "markdown",
      "id": "6d0757d4-c66b-48d8-9a26-a5d07d5267cd",
      "metadata": {
        "id": "6d0757d4-c66b-48d8-9a26-a5d07d5267cd"
      },
      "source": [
        "Group by `user_pseudo_id` and `event_date`, and sum `purchase_revenue_in_usd`"
      ]
    },
    {
      "cell_type": "code",
      "execution_count": 11,
      "id": "7e74e699-a80f-446c-be3f-38f52ae83dbd",
      "metadata": {
        "id": "7e74e699-a80f-446c-be3f-38f52ae83dbd"
      },
      "outputs": [],
      "source": [
        "df = df.groupby([\"user_pseudo_id\", \"event_date\"]).agg(\n",
        "    {\n",
        "        \"purchase_revenue_in_usd\": \"sum\",\n",
        "    }\n",
        ")\n",
        "df.reset_index(inplace=True)"
      ]
    },
    {
      "cell_type": "code",
      "execution_count": 12,
      "id": "5b264077-94ed-4273-ac18-dc5e2a21ba04",
      "metadata": {
        "colab": {
          "base_uri": "https://localhost:8080/",
          "height": 206
        },
        "id": "5b264077-94ed-4273-ac18-dc5e2a21ba04",
        "outputId": "dede5f7f-d1e0-458e-b760-923e1f04ea63"
      },
      "outputs": [
        {
          "output_type": "execute_result",
          "data": {
            "text/plain": [
              "        user_pseudo_id event_date  purchase_revenue_in_usd\n",
              "0  10092926.3786306416 2021-01-22                   90.000\n",
              "1  10111055.8768683862 2020-12-10                   94.000\n",
              "2   1014825.0200289249 2020-11-03                  183.000\n",
              "3   1016446.8237887674 2020-12-21                   86.000\n",
              "4  10172849.5375293351 2020-12-09                  156.000"
            ],
            "text/html": [
              "\n",
              "  <div id=\"df-a3063b5c-6a71-4232-8c5b-13fca5bd8283\">\n",
              "    <div class=\"colab-df-container\">\n",
              "      <div>\n",
              "<style scoped>\n",
              "    .dataframe tbody tr th:only-of-type {\n",
              "        vertical-align: middle;\n",
              "    }\n",
              "\n",
              "    .dataframe tbody tr th {\n",
              "        vertical-align: top;\n",
              "    }\n",
              "\n",
              "    .dataframe thead th {\n",
              "        text-align: right;\n",
              "    }\n",
              "</style>\n",
              "<table border=\"1\" class=\"dataframe\">\n",
              "  <thead>\n",
              "    <tr style=\"text-align: right;\">\n",
              "      <th></th>\n",
              "      <th>user_pseudo_id</th>\n",
              "      <th>event_date</th>\n",
              "      <th>purchase_revenue_in_usd</th>\n",
              "    </tr>\n",
              "  </thead>\n",
              "  <tbody>\n",
              "    <tr>\n",
              "      <th>0</th>\n",
              "      <td>10092926.3786306416</td>\n",
              "      <td>2021-01-22</td>\n",
              "      <td>90.000</td>\n",
              "    </tr>\n",
              "    <tr>\n",
              "      <th>1</th>\n",
              "      <td>10111055.8768683862</td>\n",
              "      <td>2020-12-10</td>\n",
              "      <td>94.000</td>\n",
              "    </tr>\n",
              "    <tr>\n",
              "      <th>2</th>\n",
              "      <td>1014825.0200289249</td>\n",
              "      <td>2020-11-03</td>\n",
              "      <td>183.000</td>\n",
              "    </tr>\n",
              "    <tr>\n",
              "      <th>3</th>\n",
              "      <td>1016446.8237887674</td>\n",
              "      <td>2020-12-21</td>\n",
              "      <td>86.000</td>\n",
              "    </tr>\n",
              "    <tr>\n",
              "      <th>4</th>\n",
              "      <td>10172849.5375293351</td>\n",
              "      <td>2020-12-09</td>\n",
              "      <td>156.000</td>\n",
              "    </tr>\n",
              "  </tbody>\n",
              "</table>\n",
              "</div>\n",
              "      <button class=\"colab-df-convert\" onclick=\"convertToInteractive('df-a3063b5c-6a71-4232-8c5b-13fca5bd8283')\"\n",
              "              title=\"Convert this dataframe to an interactive table.\"\n",
              "              style=\"display:none;\">\n",
              "        \n",
              "  <svg xmlns=\"http://www.w3.org/2000/svg\" height=\"24px\"viewBox=\"0 0 24 24\"\n",
              "       width=\"24px\">\n",
              "    <path d=\"M0 0h24v24H0V0z\" fill=\"none\"/>\n",
              "    <path d=\"M18.56 5.44l.94 2.06.94-2.06 2.06-.94-2.06-.94-.94-2.06-.94 2.06-2.06.94zm-11 1L8.5 8.5l.94-2.06 2.06-.94-2.06-.94L8.5 2.5l-.94 2.06-2.06.94zm10 10l.94 2.06.94-2.06 2.06-.94-2.06-.94-.94-2.06-.94 2.06-2.06.94z\"/><path d=\"M17.41 7.96l-1.37-1.37c-.4-.4-.92-.59-1.43-.59-.52 0-1.04.2-1.43.59L10.3 9.45l-7.72 7.72c-.78.78-.78 2.05 0 2.83L4 21.41c.39.39.9.59 1.41.59.51 0 1.02-.2 1.41-.59l7.78-7.78 2.81-2.81c.8-.78.8-2.07 0-2.86zM5.41 20L4 18.59l7.72-7.72 1.47 1.35L5.41 20z\"/>\n",
              "  </svg>\n",
              "      </button>\n",
              "      \n",
              "  <style>\n",
              "    .colab-df-container {\n",
              "      display:flex;\n",
              "      flex-wrap:wrap;\n",
              "      gap: 12px;\n",
              "    }\n",
              "\n",
              "    .colab-df-convert {\n",
              "      background-color: #E8F0FE;\n",
              "      border: none;\n",
              "      border-radius: 50%;\n",
              "      cursor: pointer;\n",
              "      display: none;\n",
              "      fill: #1967D2;\n",
              "      height: 32px;\n",
              "      padding: 0 0 0 0;\n",
              "      width: 32px;\n",
              "    }\n",
              "\n",
              "    .colab-df-convert:hover {\n",
              "      background-color: #E2EBFA;\n",
              "      box-shadow: 0px 1px 2px rgba(60, 64, 67, 0.3), 0px 1px 3px 1px rgba(60, 64, 67, 0.15);\n",
              "      fill: #174EA6;\n",
              "    }\n",
              "\n",
              "    [theme=dark] .colab-df-convert {\n",
              "      background-color: #3B4455;\n",
              "      fill: #D2E3FC;\n",
              "    }\n",
              "\n",
              "    [theme=dark] .colab-df-convert:hover {\n",
              "      background-color: #434B5C;\n",
              "      box-shadow: 0px 1px 3px 1px rgba(0, 0, 0, 0.15);\n",
              "      filter: drop-shadow(0px 1px 2px rgba(0, 0, 0, 0.3));\n",
              "      fill: #FFFFFF;\n",
              "    }\n",
              "  </style>\n",
              "\n",
              "      <script>\n",
              "        const buttonEl =\n",
              "          document.querySelector('#df-a3063b5c-6a71-4232-8c5b-13fca5bd8283 button.colab-df-convert');\n",
              "        buttonEl.style.display =\n",
              "          google.colab.kernel.accessAllowed ? 'block' : 'none';\n",
              "\n",
              "        async function convertToInteractive(key) {\n",
              "          const element = document.querySelector('#df-a3063b5c-6a71-4232-8c5b-13fca5bd8283');\n",
              "          const dataTable =\n",
              "            await google.colab.kernel.invokeFunction('convertToInteractive',\n",
              "                                                     [key], {});\n",
              "          if (!dataTable) return;\n",
              "\n",
              "          const docLinkHtml = 'Like what you see? Visit the ' +\n",
              "            '<a target=\"_blank\" href=https://colab.research.google.com/notebooks/data_table.ipynb>data table notebook</a>'\n",
              "            + ' to learn more about interactive tables.';\n",
              "          element.innerHTML = '';\n",
              "          dataTable['output_type'] = 'display_data';\n",
              "          await google.colab.output.renderOutput(dataTable, element);\n",
              "          const docLink = document.createElement('div');\n",
              "          docLink.innerHTML = docLinkHtml;\n",
              "          element.appendChild(docLink);\n",
              "        }\n",
              "      </script>\n",
              "    </div>\n",
              "  </div>\n",
              "  "
            ]
          },
          "metadata": {},
          "execution_count": 12
        }
      ],
      "source": [
        "df.head()"
      ]
    },
    {
      "cell_type": "markdown",
      "id": "c7550e91-b45b-4901-b87a-241377bc13ec",
      "metadata": {
        "id": "c7550e91-b45b-4901-b87a-241377bc13ec"
      },
      "source": [
        "Check the distribution of `purchase_revenue_in_usd`"
      ]
    },
    {
      "cell_type": "code",
      "execution_count": 13,
      "id": "0b4e2a1f-dc14-422b-87fb-f6b57d00a831",
      "metadata": {
        "colab": {
          "base_uri": "https://localhost:8080/",
          "height": 226
        },
        "id": "0b4e2a1f-dc14-422b-87fb-f6b57d00a831",
        "outputId": "16055cc5-6c7a-40c5-914e-4e9143f0a092"
      },
      "outputs": [
        {
          "output_type": "display_data",
          "data": {
            "text/plain": [
              "<Figure size 1080x216 with 1 Axes>"
            ],
            "image/png": "[encoded data removed]"
          },
          "metadata": {
            "needs_background": "light"
          }
        }
      ],
      "source": [
        "plt.figure(figsize=(15,3))\n",
        "sns.histplot(data = df,x = \"purchase_revenue_in_usd\");"
      ]
    },
    {
      "cell_type": "markdown",
      "id": "1449d542-45e2-408d-b357-2ea67283b9a1",
      "metadata": {
        "id": "1449d542-45e2-408d-b357-2ea67283b9a1"
      },
      "source": [
        "### Sort records in ascending order by user in preparation for building a true time series"
      ]
    },
    {
      "cell_type": "code",
      "execution_count": 14,
      "id": "addf015a-960c-453d-b7e9-2fd540744c51",
      "metadata": {
        "id": "addf015a-960c-453d-b7e9-2fd540744c51"
      },
      "outputs": [],
      "source": [
        "idx = pd.MultiIndex.from_product(\n",
        "    (df[\"event_date\"], df[\"user_pseudo_id\"].unique()),\n",
        "    names=[\"event_date\", \"user_pseudo_id\"],\n",
        ")"
      ]
    },
    {
      "cell_type": "markdown",
      "id": "d9e322d0-c22a-47a9-adb8-9f8219b28eff",
      "metadata": {
        "id": "d9e322d0-c22a-47a9-adb8-9f8219b28eff"
      },
      "source": [
        "### Fill in missing dates and assign values of 0\n",
        "\n",
        "To calculate moving averages, we need to have every day accounted for in the table for each user, not just rows with purchase activity."
      ]
    },
    {
      "cell_type": "code",
      "execution_count": 15,
      "id": "d0de3d17-da8e-47ea-b777-4625a635e8c7",
      "metadata": {
        "id": "d0de3d17-da8e-47ea-b777-4625a635e8c7"
      },
      "outputs": [],
      "source": [
        "df = (\n",
        "    df.set_index([\"event_date\", \"user_pseudo_id\"])\n",
        "    .reindex(idx, fill_value=0)\n",
        "    .reset_index()\n",
        "    .sort_values(by=[\"user_pseudo_id\", \"event_date\"], ascending=[True, True])\n",
        "    .reset_index(drop=True)\n",
        ")"
      ]
    },
    {
      "cell_type": "code",
      "execution_count": 16,
      "id": "afe1659a-1e76-4072-b578-db789f0ff5a6",
      "metadata": {
        "id": "afe1659a-1e76-4072-b578-db789f0ff5a6"
      },
      "outputs": [],
      "source": [
        "# drop potential duplicates; it's good practice to do this to be sure the data is clean\n",
        "df = df[\n",
        "    [\"user_pseudo_id\", \"event_date\", \"purchase_revenue_in_usd\"]\n",
        "].drop_duplicates(subset=None, keep=\"first\")"
      ]
    },
    {
      "cell_type": "code",
      "execution_count": 17,
      "id": "9bdaf199-d0cf-4f15-b510-4c8749dae698",
      "metadata": {
        "colab": {
          "base_uri": "https://localhost:8080/",
          "height": 206
        },
        "id": "9bdaf199-d0cf-4f15-b510-4c8749dae698",
        "outputId": "2e0dcf5c-0359-404e-e144-580551b8522e"
      },
      "outputs": [
        {
          "output_type": "execute_result",
          "data": {
            "text/plain": [
              "          user_pseudo_id event_date  purchase_revenue_in_usd\n",
              "0    10092926.3786306416 2020-11-01                    0.000\n",
              "13   10092926.3786306416 2020-11-02                    0.000\n",
              "52   10092926.3786306416 2020-11-03                    0.000\n",
              "98   10092926.3786306416 2020-11-04                    0.000\n",
              "128  10092926.3786306416 2020-11-05                    0.000"
            ],
            "text/html": [
              "\n",
              "  <div id=\"df-96d0496f-0a73-44a9-a6d6-3f173962d77b\">\n",
              "    <div class=\"colab-df-container\">\n",
              "      <div>\n",
              "<style scoped>\n",
              "    .dataframe tbody tr th:only-of-type {\n",
              "        vertical-align: middle;\n",
              "    }\n",
              "\n",
              "    .dataframe tbody tr th {\n",
              "        vertical-align: top;\n",
              "    }\n",
              "\n",
              "    .dataframe thead th {\n",
              "        text-align: right;\n",
              "    }\n",
              "</style>\n",
              "<table border=\"1\" class=\"dataframe\">\n",
              "  <thead>\n",
              "    <tr style=\"text-align: right;\">\n",
              "      <th></th>\n",
              "      <th>user_pseudo_id</th>\n",
              "      <th>event_date</th>\n",
              "      <th>purchase_revenue_in_usd</th>\n",
              "    </tr>\n",
              "  </thead>\n",
              "  <tbody>\n",
              "    <tr>\n",
              "      <th>0</th>\n",
              "      <td>10092926.3786306416</td>\n",
              "      <td>2020-11-01</td>\n",
              "      <td>0.000</td>\n",
              "    </tr>\n",
              "    <tr>\n",
              "      <th>13</th>\n",
              "      <td>10092926.3786306416</td>\n",
              "      <td>2020-11-02</td>\n",
              "      <td>0.000</td>\n",
              "    </tr>\n",
              "    <tr>\n",
              "      <th>52</th>\n",
              "      <td>10092926.3786306416</td>\n",
              "      <td>2020-11-03</td>\n",
              "      <td>0.000</td>\n",
              "    </tr>\n",
              "    <tr>\n",
              "      <th>98</th>\n",
              "      <td>10092926.3786306416</td>\n",
              "      <td>2020-11-04</td>\n",
              "      <td>0.000</td>\n",
              "    </tr>\n",
              "    <tr>\n",
              "      <th>128</th>\n",
              "      <td>10092926.3786306416</td>\n",
              "      <td>2020-11-05</td>\n",
              "      <td>0.000</td>\n",
              "    </tr>\n",
              "  </tbody>\n",
              "</table>\n",
              "</div>\n",
              "      <button class=\"colab-df-convert\" onclick=\"convertToInteractive('df-96d0496f-0a73-44a9-a6d6-3f173962d77b')\"\n",
              "              title=\"Convert this dataframe to an interactive table.\"\n",
              "              style=\"display:none;\">\n",
              "        \n",
              "  <svg xmlns=\"http://www.w3.org/2000/svg\" height=\"24px\"viewBox=\"0 0 24 24\"\n",
              "       width=\"24px\">\n",
              "    <path d=\"M0 0h24v24H0V0z\" fill=\"none\"/>\n",
              "    <path d=\"M18.56 5.44l.94 2.06.94-2.06 2.06-.94-2.06-.94-.94-2.06-.94 2.06-2.06.94zm-11 1L8.5 8.5l.94-2.06 2.06-.94-2.06-.94L8.5 2.5l-.94 2.06-2.06.94zm10 10l.94 2.06.94-2.06 2.06-.94-2.06-.94-.94-2.06-.94 2.06-2.06.94z\"/><path d=\"M17.41 7.96l-1.37-1.37c-.4-.4-.92-.59-1.43-.59-.52 0-1.04.2-1.43.59L10.3 9.45l-7.72 7.72c-.78.78-.78 2.05 0 2.83L4 21.41c.39.39.9.59 1.41.59.51 0 1.02-.2 1.41-.59l7.78-7.78 2.81-2.81c.8-.78.8-2.07 0-2.86zM5.41 20L4 18.59l7.72-7.72 1.47 1.35L5.41 20z\"/>\n",
              "  </svg>\n",
              "      </button>\n",
              "      \n",
              "  <style>\n",
              "    .colab-df-container {\n",
              "      display:flex;\n",
              "      flex-wrap:wrap;\n",
              "      gap: 12px;\n",
              "    }\n",
              "\n",
              "    .colab-df-convert {\n",
              "      background-color: #E8F0FE;\n",
              "      border: none;\n",
              "      border-radius: 50%;\n",
              "      cursor: pointer;\n",
              "      display: none;\n",
              "      fill: #1967D2;\n",
              "      height: 32px;\n",
              "      padding: 0 0 0 0;\n",
              "      width: 32px;\n",
              "    }\n",
              "\n",
              "    .colab-df-convert:hover {\n",
              "      background-color: #E2EBFA;\n",
              "      box-shadow: 0px 1px 2px rgba(60, 64, 67, 0.3), 0px 1px 3px 1px rgba(60, 64, 67, 0.15);\n",
              "      fill: #174EA6;\n",
              "    }\n",
              "\n",
              "    [theme=dark] .colab-df-convert {\n",
              "      background-color: #3B4455;\n",
              "      fill: #D2E3FC;\n",
              "    }\n",
              "\n",
              "    [theme=dark] .colab-df-convert:hover {\n",
              "      background-color: #434B5C;\n",
              "      box-shadow: 0px 1px 3px 1px rgba(0, 0, 0, 0.15);\n",
              "      filter: drop-shadow(0px 1px 2px rgba(0, 0, 0, 0.3));\n",
              "      fill: #FFFFFF;\n",
              "    }\n",
              "  </style>\n",
              "\n",
              "      <script>\n",
              "        const buttonEl =\n",
              "          document.querySelector('#df-96d0496f-0a73-44a9-a6d6-3f173962d77b button.colab-df-convert');\n",
              "        buttonEl.style.display =\n",
              "          google.colab.kernel.accessAllowed ? 'block' : 'none';\n",
              "\n",
              "        async function convertToInteractive(key) {\n",
              "          const element = document.querySelector('#df-96d0496f-0a73-44a9-a6d6-3f173962d77b');\n",
              "          const dataTable =\n",
              "            await google.colab.kernel.invokeFunction('convertToInteractive',\n",
              "                                                     [key], {});\n",
              "          if (!dataTable) return;\n",
              "\n",
              "          const docLinkHtml = 'Like what you see? Visit the ' +\n",
              "            '<a target=\"_blank\" href=https://colab.research.google.com/notebooks/data_table.ipynb>data table notebook</a>'\n",
              "            + ' to learn more about interactive tables.';\n",
              "          element.innerHTML = '';\n",
              "          dataTable['output_type'] = 'display_data';\n",
              "          await google.colab.output.renderOutput(dataTable, element);\n",
              "          const docLink = document.createElement('div');\n",
              "          docLink.innerHTML = docLinkHtml;\n",
              "          element.appendChild(docLink);\n",
              "        }\n",
              "      </script>\n",
              "    </div>\n",
              "  </div>\n",
              "  "
            ]
          },
          "metadata": {},
          "execution_count": 17
        }
      ],
      "source": [
        "# spot check the df\n",
        "df.head()"
      ]
    },
    {
      "cell_type": "markdown",
      "id": "0c90bc67-ea86-47a0-887b-f23064fb5067",
      "metadata": {
        "id": "0c90bc67-ea86-47a0-887b-f23064fb5067"
      },
      "source": [
        "### Calculate 28-day moving average for each customer and add as a column"
      ]
    },
    {
      "cell_type": "code",
      "execution_count": 18,
      "id": "5e888569-2e91-41b8-9267-3be99dcbf0b4",
      "metadata": {
        "id": "5e888569-2e91-41b8-9267-3be99dcbf0b4"
      },
      "outputs": [],
      "source": [
        "# calculate 28-day moving average for each customer\n",
        "df[\"28ma\"] = df.groupby(\"user_pseudo_id\")[\n",
        "    \"purchase_revenue_in_usd\"\n",
        "].transform(lambda x: x.rolling(28, 1).mean())"
      ]
    },
    {
      "cell_type": "markdown",
      "id": "6ebb2b6c-42e1-48b3-9e7e-85fdcde718f8",
      "metadata": {
        "id": "6ebb2b6c-42e1-48b3-9e7e-85fdcde718f8"
      },
      "source": [
        "### Calculate 56-day standard deviation of the 28-day MA and add as a column"
      ]
    },
    {
      "cell_type": "code",
      "execution_count": 19,
      "id": "55cdf8a6-edaa-4ce9-954a-0d72c4bf778a",
      "metadata": {
        "id": "55cdf8a6-edaa-4ce9-954a-0d72c4bf778a"
      },
      "outputs": [],
      "source": [
        "# calculate 56-day standard deviation of the 28-day moving average for each customer\n",
        "df[\"56sd\"] = df.groupby(\"user_pseudo_id\")[\"28ma\"].transform(\n",
        "    lambda x: x.rolling(56, 1).std()\n",
        ")"
      ]
    },
    {
      "cell_type": "markdown",
      "id": "0f8ed3bf-e5ce-4de1-9cb0-44c54360b723",
      "metadata": {
        "id": "0f8ed3bf-e5ce-4de1-9cb0-44c54360b723"
      },
      "source": [
        "### Define lower thresholds"
      ]
    },
    {
      "cell_type": "code",
      "execution_count": 20,
      "id": "f49d262d-049f-43f8-bb46-2f864e9f7665",
      "metadata": {
        "id": "f49d262d-049f-43f8-bb46-2f864e9f7665"
      },
      "outputs": [],
      "source": [
        "df[\"threshold\"] = df[\"28ma\"] - (df[\"56sd\"] * 2)"
      ]
    },
    {
      "cell_type": "code",
      "execution_count": 21,
      "id": "c9b9ada2-c068-45dd-b807-850f64e120c9",
      "metadata": {
        "colab": {
          "base_uri": "https://localhost:8080/",
          "height": 280
        },
        "id": "c9b9ada2-c068-45dd-b807-850f64e120c9",
        "outputId": "f52fda69-c3d6-4788-dd23-8cfb968093b8"
      },
      "outputs": [
        {
          "output_type": "display_data",
          "data": {
            "text/plain": [
              "<Figure size 432x288 with 1 Axes>"
            ],
            "image/png": "[encoded data removed]"
          },
          "metadata": {
            "needs_background": "light"
          }
        }
      ],
      "source": [
        "sns.lineplot(x=\"event_date\", y=\"threshold\", data=df);"
      ]
    },
    {
      "cell_type": "markdown",
      "id": "9517581c-07ac-4388-a3b1-d18f905337cf",
      "metadata": {
        "id": "9517581c-07ac-4388-a3b1-d18f905337cf"
      },
      "source": [
        "## Split data into pre and post cutoff dates"
      ]
    },
    {
      "cell_type": "code",
      "execution_count": 22,
      "id": "e8fae1fc-7f8c-41b4-8e70-8a68052a4ff5",
      "metadata": {
        "id": "e8fae1fc-7f8c-41b4-8e70-8a68052a4ff5"
      },
      "outputs": [],
      "source": [
        "df_pre_cutoff = pd.DataFrame(df.loc[df[\"event_date\"] < cutoff_date])\n",
        "df_post_cutoff = pd.DataFrame(df.loc[df[\"event_date\"] >= cutoff_date])"
      ]
    },
    {
      "cell_type": "markdown",
      "id": "31fd9293-7ed2-4d38-9060-5da1bfbd7d4d",
      "metadata": {
        "id": "31fd9293-7ed2-4d38-9060-5da1bfbd7d4d"
      },
      "source": [
        "### Define Churn conditions"
      ]
    },
    {
      "cell_type": "code",
      "execution_count": 23,
      "id": "413facbd-3b4d-4f2d-9a00-0db1c6463176",
      "metadata": {
        "id": "413facbd-3b4d-4f2d-9a00-0db1c6463176"
      },
      "outputs": [],
      "source": [
        "soft_churn = np.where(df_pre_cutoff[\"28ma\"] < df_pre_cutoff[\"threshold\"])\n",
        "churn = df_pre_cutoff[\"28ma\"] == 0"
      ]
    },
    {
      "cell_type": "markdown",
      "id": "cf5d6832-cb9d-4770-85e3-5c9c7edf2229",
      "metadata": {
        "id": "cf5d6832-cb9d-4770-85e3-5c9c7edf2229"
      },
      "source": [
        "### Set Churn Column\n",
        "\n",
        "We're adding a column that labels each row as either True or False (for Churned), meaning the moving average is either at or above 0."
      ]
    },
    {
      "cell_type": "code",
      "execution_count": 24,
      "id": "0b748d12-a1b5-46ab-8ac0-53a56d971182",
      "metadata": {
        "id": "0b748d12-a1b5-46ab-8ac0-53a56d971182"
      },
      "outputs": [],
      "source": [
        "df_pre_cutoff[\"Churned\"] = np.where(\n",
        "    df_pre_cutoff[\"28ma\"] < df_pre_cutoff[\"threshold\"], True, False\n",
        ")\n",
        "df_pre_cutoff[\"Churned\"] = np.where(df_pre_cutoff[\"28ma\"] == 0, True, False)"
      ]
    },
    {
      "cell_type": "markdown",
      "id": "47159a8f-e2d9-4089-81a4-8372e21a755a",
      "metadata": {
        "id": "47159a8f-e2d9-4089-81a4-8372e21a755a"
      },
      "source": [
        "### Label Churn Type\n",
        "\n",
        "Next we'll add a column to indicate whether each row represents a soft or hard churn."
      ]
    },
    {
      "cell_type": "code",
      "execution_count": 25,
      "id": "6504e3d6-3e7b-4258-9201-8e3c66aae10a",
      "metadata": {
        "id": "6504e3d6-3e7b-4258-9201-8e3c66aae10a"
      },
      "outputs": [],
      "source": [
        "df_pre_cutoff[\"Churn_Type\"] = np.where(\n",
        "    df_pre_cutoff[\"28ma\"] < df_pre_cutoff[\"threshold\"], \"Soft\", \"None\"\n",
        ")\n",
        "df_pre_cutoff[\"Churn_Type\"] = np.where(df_pre_cutoff[\"28ma\"] == 0, \"Hard\", \"None\")"
      ]
    },
    {
      "cell_type": "code",
      "execution_count": 26,
      "id": "696b9999-8d54-42f6-bf78-1a49263cb17e",
      "metadata": {
        "colab": {
          "base_uri": "https://localhost:8080/"
        },
        "id": "696b9999-8d54-42f6-bf78-1a49263cb17e",
        "outputId": "9b6ba708-137e-4739-aee9-7adcc04c1cd6"
      },
      "outputs": [
        {
          "output_type": "stream",
          "name": "stdout",
          "text": [
            "True     197129\n",
            "False     81268\n",
            "Name: Churned, dtype: int64\n",
            "**************************************************\n",
            "Hard    197129\n",
            "None     81268\n",
            "Name: Churn_Type, dtype: int64\n"
          ]
        }
      ],
      "source": [
        "print(df_pre_cutoff[\"Churned\"].value_counts())\n",
        "print(\"*\" * 50)\n",
        "print(df_pre_cutoff[\"Churn_Type\"].value_counts())"
      ]
    },
    {
      "cell_type": "markdown",
      "source": [
        "As shown above, there are no soft churn values in this dataset. This is likely because there are few customers in the table who have placed more than one purchase. In a real dataset containing more data, there will likely be values for both hard and soft churn due to more fluctuations in the moving averages per user.\n",
        "\n",
        "For purposes of our model, we'll only use Hard churn, and label churn as a True/False value. If you'd like to distinguish between Soft Churn, Hard Churn, and No Churn, you can create a multi-class classification model instead of the binary classification steps outlined in this notebook."
      ],
      "metadata": {
        "id": "6QlN9B1_lW7z"
      },
      "id": "6QlN9B1_lW7z"
    },
    {
      "cell_type": "markdown",
      "id": "4ded658e-8b7d-49c7-bf58-c5d481981058",
      "metadata": {
        "id": "4ded658e-8b7d-49c7-bf58-c5d481981058"
      },
      "source": [
        "## Next, revisit the post-event table"
      ]
    },
    {
      "cell_type": "code",
      "source": [
        "df_post_cutoff.head()"
      ],
      "metadata": {
        "colab": {
          "base_uri": "https://localhost:8080/",
          "height": 206
        },
        "id": "WNDGHZzwnEni",
        "outputId": "3384c97d-4f0c-4d54-89f3-368664f2c14a"
      },
      "id": "WNDGHZzwnEni",
      "execution_count": 27,
      "outputs": [
        {
          "output_type": "execute_result",
          "data": {
            "text/plain": [
              "           user_pseudo_id event_date  purchase_revenue_in_usd  28ma  56sd  \\\n",
              "3712  10092926.3786306416 2021-01-03                    0.000 0.000 0.000   \n",
              "3726  10092926.3786306416 2021-01-04                    0.000 0.000 0.000   \n",
              "3742  10092926.3786306416 2021-01-05                    0.000 0.000 0.000   \n",
              "3769  10092926.3786306416 2021-01-06                    0.000 0.000 0.000   \n",
              "3797  10092926.3786306416 2021-01-07                    0.000 0.000 0.000   \n",
              "\n",
              "      threshold  \n",
              "3712      0.000  \n",
              "3726      0.000  \n",
              "3742      0.000  \n",
              "3769      0.000  \n",
              "3797      0.000  "
            ],
            "text/html": [
              "\n",
              "  <div id=\"df-e8a08a62-af57-4649-b5bf-591b9b75c187\">\n",
              "    <div class=\"colab-df-container\">\n",
              "      <div>\n",
              "<style scoped>\n",
              "    .dataframe tbody tr th:only-of-type {\n",
              "        vertical-align: middle;\n",
              "    }\n",
              "\n",
              "    .dataframe tbody tr th {\n",
              "        vertical-align: top;\n",
              "    }\n",
              "\n",
              "    .dataframe thead th {\n",
              "        text-align: right;\n",
              "    }\n",
              "</style>\n",
              "<table border=\"1\" class=\"dataframe\">\n",
              "  <thead>\n",
              "    <tr style=\"text-align: right;\">\n",
              "      <th></th>\n",
              "      <th>user_pseudo_id</th>\n",
              "      <th>event_date</th>\n",
              "      <th>purchase_revenue_in_usd</th>\n",
              "      <th>28ma</th>\n",
              "      <th>56sd</th>\n",
              "      <th>threshold</th>\n",
              "    </tr>\n",
              "  </thead>\n",
              "  <tbody>\n",
              "    <tr>\n",
              "      <th>3712</th>\n",
              "      <td>10092926.3786306416</td>\n",
              "      <td>2021-01-03</td>\n",
              "      <td>0.000</td>\n",
              "      <td>0.000</td>\n",
              "      <td>0.000</td>\n",
              "      <td>0.000</td>\n",
              "    </tr>\n",
              "    <tr>\n",
              "      <th>3726</th>\n",
              "      <td>10092926.3786306416</td>\n",
              "      <td>2021-01-04</td>\n",
              "      <td>0.000</td>\n",
              "      <td>0.000</td>\n",
              "      <td>0.000</td>\n",
              "      <td>0.000</td>\n",
              "    </tr>\n",
              "    <tr>\n",
              "      <th>3742</th>\n",
              "      <td>10092926.3786306416</td>\n",
              "      <td>2021-01-05</td>\n",
              "      <td>0.000</td>\n",
              "      <td>0.000</td>\n",
              "      <td>0.000</td>\n",
              "      <td>0.000</td>\n",
              "    </tr>\n",
              "    <tr>\n",
              "      <th>3769</th>\n",
              "      <td>10092926.3786306416</td>\n",
              "      <td>2021-01-06</td>\n",
              "      <td>0.000</td>\n",
              "      <td>0.000</td>\n",
              "      <td>0.000</td>\n",
              "      <td>0.000</td>\n",
              "    </tr>\n",
              "    <tr>\n",
              "      <th>3797</th>\n",
              "      <td>10092926.3786306416</td>\n",
              "      <td>2021-01-07</td>\n",
              "      <td>0.000</td>\n",
              "      <td>0.000</td>\n",
              "      <td>0.000</td>\n",
              "      <td>0.000</td>\n",
              "    </tr>\n",
              "  </tbody>\n",
              "</table>\n",
              "</div>\n",
              "      <button class=\"colab-df-convert\" onclick=\"convertToInteractive('df-e8a08a62-af57-4649-b5bf-591b9b75c187')\"\n",
              "              title=\"Convert this dataframe to an interactive table.\"\n",
              "              style=\"display:none;\">\n",
              "        \n",
              "  <svg xmlns=\"http://www.w3.org/2000/svg\" height=\"24px\"viewBox=\"0 0 24 24\"\n",
              "       width=\"24px\">\n",
              "    <path d=\"M0 0h24v24H0V0z\" fill=\"none\"/>\n",
              "    <path d=\"M18.56 5.44l.94 2.06.94-2.06 2.06-.94-2.06-.94-.94-2.06-.94 2.06-2.06.94zm-11 1L8.5 8.5l.94-2.06 2.06-.94-2.06-.94L8.5 2.5l-.94 2.06-2.06.94zm10 10l.94 2.06.94-2.06 2.06-.94-2.06-.94-.94-2.06-.94 2.06-2.06.94z\"/><path d=\"M17.41 7.96l-1.37-1.37c-.4-.4-.92-.59-1.43-.59-.52 0-1.04.2-1.43.59L10.3 9.45l-7.72 7.72c-.78.78-.78 2.05 0 2.83L4 21.41c.39.39.9.59 1.41.59.51 0 1.02-.2 1.41-.59l7.78-7.78 2.81-2.81c.8-.78.8-2.07 0-2.86zM5.41 20L4 18.59l7.72-7.72 1.47 1.35L5.41 20z\"/>\n",
              "  </svg>\n",
              "      </button>\n",
              "      \n",
              "  <style>\n",
              "    .colab-df-container {\n",
              "      display:flex;\n",
              "      flex-wrap:wrap;\n",
              "      gap: 12px;\n",
              "    }\n",
              "\n",
              "    .colab-df-convert {\n",
              "      background-color: #E8F0FE;\n",
              "      border: none;\n",
              "      border-radius: 50%;\n",
              "      cursor: pointer;\n",
              "      display: none;\n",
              "      fill: #1967D2;\n",
              "      height: 32px;\n",
              "      padding: 0 0 0 0;\n",
              "      width: 32px;\n",
              "    }\n",
              "\n",
              "    .colab-df-convert:hover {\n",
              "      background-color: #E2EBFA;\n",
              "      box-shadow: 0px 1px 2px rgba(60, 64, 67, 0.3), 0px 1px 3px 1px rgba(60, 64, 67, 0.15);\n",
              "      fill: #174EA6;\n",
              "    }\n",
              "\n",
              "    [theme=dark] .colab-df-convert {\n",
              "      background-color: #3B4455;\n",
              "      fill: #D2E3FC;\n",
              "    }\n",
              "\n",
              "    [theme=dark] .colab-df-convert:hover {\n",
              "      background-color: #434B5C;\n",
              "      box-shadow: 0px 1px 3px 1px rgba(0, 0, 0, 0.15);\n",
              "      filter: drop-shadow(0px 1px 2px rgba(0, 0, 0, 0.3));\n",
              "      fill: #FFFFFF;\n",
              "    }\n",
              "  </style>\n",
              "\n",
              "      <script>\n",
              "        const buttonEl =\n",
              "          document.querySelector('#df-e8a08a62-af57-4649-b5bf-591b9b75c187 button.colab-df-convert');\n",
              "        buttonEl.style.display =\n",
              "          google.colab.kernel.accessAllowed ? 'block' : 'none';\n",
              "\n",
              "        async function convertToInteractive(key) {\n",
              "          const element = document.querySelector('#df-e8a08a62-af57-4649-b5bf-591b9b75c187');\n",
              "          const dataTable =\n",
              "            await google.colab.kernel.invokeFunction('convertToInteractive',\n",
              "                                                     [key], {});\n",
              "          if (!dataTable) return;\n",
              "\n",
              "          const docLinkHtml = 'Like what you see? Visit the ' +\n",
              "            '<a target=\"_blank\" href=https://colab.research.google.com/notebooks/data_table.ipynb>data table notebook</a>'\n",
              "            + ' to learn more about interactive tables.';\n",
              "          element.innerHTML = '';\n",
              "          dataTable['output_type'] = 'display_data';\n",
              "          await google.colab.output.renderOutput(dataTable, element);\n",
              "          const docLink = document.createElement('div');\n",
              "          docLink.innerHTML = docLinkHtml;\n",
              "          element.appendChild(docLink);\n",
              "        }\n",
              "      </script>\n",
              "    </div>\n",
              "  </div>\n",
              "  "
            ]
          },
          "metadata": {},
          "execution_count": 27
        }
      ]
    },
    {
      "cell_type": "markdown",
      "source": [
        "Add a Churned column to the post-cutoff table."
      ],
      "metadata": {
        "id": "Qe1TYxtbmxzk"
      },
      "id": "Qe1TYxtbmxzk"
    },
    {
      "cell_type": "code",
      "source": [
        "df_post_cutoff[\"Churned\"] = np.where(df_post_cutoff[\"28ma\"] == 0, True, False)"
      ],
      "metadata": {
        "id": "pymLTAvMm153"
      },
      "id": "pymLTAvMm153",
      "execution_count": 28,
      "outputs": []
    },
    {
      "cell_type": "code",
      "source": [
        "# filter for the most recent row in the post cutoff table to get each customer's churned status at the end of the post cutoff period\n",
        "df_post_last_record = df_post_cutoff.loc[df_post_cutoff.groupby('user_pseudo_id')['event_date'].idxmax()]"
      ],
      "metadata": {
        "id": "JPYR2g6UnSzf"
      },
      "id": "JPYR2g6UnSzf",
      "execution_count": 29,
      "outputs": []
    },
    {
      "cell_type": "code",
      "source": [
        "# reset index\n",
        "df_post_last_record.reset_index(drop=True,inplace=True)"
      ],
      "metadata": {
        "id": "ex0cp0xoniDb"
      },
      "id": "ex0cp0xoniDb",
      "execution_count": 30,
      "outputs": []
    },
    {
      "cell_type": "code",
      "source": [
        "# isolate only the user id, 28ma, and Churned columns for use in the next step\n",
        "df_post_churned = df_post_last_record[[\"user_pseudo_id\",\"28ma\",\"Churned\"]].copy()"
      ],
      "metadata": {
        "id": "4-BFu3qcoGM6"
      },
      "id": "4-BFu3qcoGM6",
      "execution_count": 31,
      "outputs": []
    },
    {
      "cell_type": "code",
      "source": [
        "df_post_churned.head()"
      ],
      "metadata": {
        "colab": {
          "base_uri": "https://localhost:8080/",
          "height": 206
        },
        "id": "da6lXygAobco",
        "outputId": "c092e1cd-9174-46f0-fe69-1c0ac88b4fcd"
      },
      "id": "da6lXygAobco",
      "execution_count": 32,
      "outputs": [
        {
          "output_type": "execute_result",
          "data": {
            "text/plain": [
              "        user_pseudo_id  28ma  Churned\n",
              "0  10092926.3786306416 3.214    False\n",
              "1  10111055.8768683862 0.000     True\n",
              "2   1014825.0200289249 0.000     True\n",
              "3   1016446.8237887674 0.000     True\n",
              "4  10172849.5375293351 0.000     True"
            ],
            "text/html": [
              "\n",
              "  <div id=\"df-e42dc542-9192-48ff-80e4-4cdf22f254df\">\n",
              "    <div class=\"colab-df-container\">\n",
              "      <div>\n",
              "<style scoped>\n",
              "    .dataframe tbody tr th:only-of-type {\n",
              "        vertical-align: middle;\n",
              "    }\n",
              "\n",
              "    .dataframe tbody tr th {\n",
              "        vertical-align: top;\n",
              "    }\n",
              "\n",
              "    .dataframe thead th {\n",
              "        text-align: right;\n",
              "    }\n",
              "</style>\n",
              "<table border=\"1\" class=\"dataframe\">\n",
              "  <thead>\n",
              "    <tr style=\"text-align: right;\">\n",
              "      <th></th>\n",
              "      <th>user_pseudo_id</th>\n",
              "      <th>28ma</th>\n",
              "      <th>Churned</th>\n",
              "    </tr>\n",
              "  </thead>\n",
              "  <tbody>\n",
              "    <tr>\n",
              "      <th>0</th>\n",
              "      <td>10092926.3786306416</td>\n",
              "      <td>3.214</td>\n",
              "      <td>False</td>\n",
              "    </tr>\n",
              "    <tr>\n",
              "      <th>1</th>\n",
              "      <td>10111055.8768683862</td>\n",
              "      <td>0.000</td>\n",
              "      <td>True</td>\n",
              "    </tr>\n",
              "    <tr>\n",
              "      <th>2</th>\n",
              "      <td>1014825.0200289249</td>\n",
              "      <td>0.000</td>\n",
              "      <td>True</td>\n",
              "    </tr>\n",
              "    <tr>\n",
              "      <th>3</th>\n",
              "      <td>1016446.8237887674</td>\n",
              "      <td>0.000</td>\n",
              "      <td>True</td>\n",
              "    </tr>\n",
              "    <tr>\n",
              "      <th>4</th>\n",
              "      <td>10172849.5375293351</td>\n",
              "      <td>0.000</td>\n",
              "      <td>True</td>\n",
              "    </tr>\n",
              "  </tbody>\n",
              "</table>\n",
              "</div>\n",
              "      <button class=\"colab-df-convert\" onclick=\"convertToInteractive('df-e42dc542-9192-48ff-80e4-4cdf22f254df')\"\n",
              "              title=\"Convert this dataframe to an interactive table.\"\n",
              "              style=\"display:none;\">\n",
              "        \n",
              "  <svg xmlns=\"http://www.w3.org/2000/svg\" height=\"24px\"viewBox=\"0 0 24 24\"\n",
              "       width=\"24px\">\n",
              "    <path d=\"M0 0h24v24H0V0z\" fill=\"none\"/>\n",
              "    <path d=\"M18.56 5.44l.94 2.06.94-2.06 2.06-.94-2.06-.94-.94-2.06-.94 2.06-2.06.94zm-11 1L8.5 8.5l.94-2.06 2.06-.94-2.06-.94L8.5 2.5l-.94 2.06-2.06.94zm10 10l.94 2.06.94-2.06 2.06-.94-2.06-.94-.94-2.06-.94 2.06-2.06.94z\"/><path d=\"M17.41 7.96l-1.37-1.37c-.4-.4-.92-.59-1.43-.59-.52 0-1.04.2-1.43.59L10.3 9.45l-7.72 7.72c-.78.78-.78 2.05 0 2.83L4 21.41c.39.39.9.59 1.41.59.51 0 1.02-.2 1.41-.59l7.78-7.78 2.81-2.81c.8-.78.8-2.07 0-2.86zM5.41 20L4 18.59l7.72-7.72 1.47 1.35L5.41 20z\"/>\n",
              "  </svg>\n",
              "      </button>\n",
              "      \n",
              "  <style>\n",
              "    .colab-df-container {\n",
              "      display:flex;\n",
              "      flex-wrap:wrap;\n",
              "      gap: 12px;\n",
              "    }\n",
              "\n",
              "    .colab-df-convert {\n",
              "      background-color: #E8F0FE;\n",
              "      border: none;\n",
              "      border-radius: 50%;\n",
              "      cursor: pointer;\n",
              "      display: none;\n",
              "      fill: #1967D2;\n",
              "      height: 32px;\n",
              "      padding: 0 0 0 0;\n",
              "      width: 32px;\n",
              "    }\n",
              "\n",
              "    .colab-df-convert:hover {\n",
              "      background-color: #E2EBFA;\n",
              "      box-shadow: 0px 1px 2px rgba(60, 64, 67, 0.3), 0px 1px 3px 1px rgba(60, 64, 67, 0.15);\n",
              "      fill: #174EA6;\n",
              "    }\n",
              "\n",
              "    [theme=dark] .colab-df-convert {\n",
              "      background-color: #3B4455;\n",
              "      fill: #D2E3FC;\n",
              "    }\n",
              "\n",
              "    [theme=dark] .colab-df-convert:hover {\n",
              "      background-color: #434B5C;\n",
              "      box-shadow: 0px 1px 3px 1px rgba(0, 0, 0, 0.15);\n",
              "      filter: drop-shadow(0px 1px 2px rgba(0, 0, 0, 0.3));\n",
              "      fill: #FFFFFF;\n",
              "    }\n",
              "  </style>\n",
              "\n",
              "      <script>\n",
              "        const buttonEl =\n",
              "          document.querySelector('#df-e42dc542-9192-48ff-80e4-4cdf22f254df button.colab-df-convert');\n",
              "        buttonEl.style.display =\n",
              "          google.colab.kernel.accessAllowed ? 'block' : 'none';\n",
              "\n",
              "        async function convertToInteractive(key) {\n",
              "          const element = document.querySelector('#df-e42dc542-9192-48ff-80e4-4cdf22f254df');\n",
              "          const dataTable =\n",
              "            await google.colab.kernel.invokeFunction('convertToInteractive',\n",
              "                                                     [key], {});\n",
              "          if (!dataTable) return;\n",
              "\n",
              "          const docLinkHtml = 'Like what you see? Visit the ' +\n",
              "            '<a target=\"_blank\" href=https://colab.research.google.com/notebooks/data_table.ipynb>data table notebook</a>'\n",
              "            + ' to learn more about interactive tables.';\n",
              "          element.innerHTML = '';\n",
              "          dataTable['output_type'] = 'display_data';\n",
              "          await google.colab.output.renderOutput(dataTable, element);\n",
              "          const docLink = document.createElement('div');\n",
              "          docLink.innerHTML = docLinkHtml;\n",
              "          element.appendChild(docLink);\n",
              "        }\n",
              "      </script>\n",
              "    </div>\n",
              "  </div>\n",
              "  "
            ]
          },
          "metadata": {},
          "execution_count": 32
        }
      ]
    },
    {
      "cell_type": "markdown",
      "id": "7e4ed6b5-c345-4e9c-be4a-3fc93b96ffe2",
      "metadata": {
        "id": "7e4ed6b5-c345-4e9c-be4a-3fc93b96ffe2"
      },
      "source": [
        "### Filter pre-event df for most recent row per customer to see if they're active or already churned"
      ]
    },
    {
      "cell_type": "code",
      "execution_count": 33,
      "id": "2917fa65-f98e-4b7d-992e-099d98c5026b",
      "metadata": {
        "id": "2917fa65-f98e-4b7d-992e-099d98c5026b"
      },
      "outputs": [],
      "source": [
        "df_pre_last_record = df_pre_cutoff.loc[df_pre_cutoff.groupby('user_pseudo_id')['event_date'].idxmax()]"
      ]
    },
    {
      "cell_type": "code",
      "execution_count": 34,
      "id": "b5aec375-6981-44c1-80c3-21f116d6e2c9",
      "metadata": {
        "id": "b5aec375-6981-44c1-80c3-21f116d6e2c9"
      },
      "outputs": [],
      "source": [
        "# reset index\n",
        "df_pre_last_record.reset_index(drop=True,inplace=True)"
      ]
    },
    {
      "cell_type": "markdown",
      "id": "2cbcd866-bb24-4fbd-873e-7dd74503075b",
      "metadata": {
        "id": "2cbcd866-bb24-4fbd-873e-7dd74503075b"
      },
      "source": [
        "### Merge churn labels from post-cutoff table onto the pre-cutoff last record table"
      ]
    },
    {
      "cell_type": "code",
      "execution_count": 35,
      "id": "f6379c86-c07d-47a7-baf8-e25a8aa3eddb",
      "metadata": {
        "id": "f6379c86-c07d-47a7-baf8-e25a8aa3eddb"
      },
      "outputs": [],
      "source": [
        "df_churn = pd.merge(df_pre_last_record, df_post_churned, how='left', on = 'user_pseudo_id')"
      ]
    },
    {
      "cell_type": "code",
      "execution_count": 36,
      "id": "a16c9918-f5cb-4bfa-98f3-cb98ec44d530",
      "metadata": {
        "colab": {
          "base_uri": "https://localhost:8080/",
          "height": 206
        },
        "id": "a16c9918-f5cb-4bfa-98f3-cb98ec44d530",
        "outputId": "465c0f3c-f519-4396-ced7-bd3dd543b729"
      },
      "outputs": [
        {
          "output_type": "execute_result",
          "data": {
            "text/plain": [
              "        user_pseudo_id event_date  purchase_revenue_in_usd  28ma_x  56sd  \\\n",
              "0  10092926.3786306416 2021-01-02                    0.000   0.000 0.000   \n",
              "1  10111055.8768683862 2021-01-02                    0.000   3.357 1.676   \n",
              "2   1014825.0200289249 2021-01-02                    0.000   0.000 6.306   \n",
              "3   1016446.8237887674 2021-01-02                    0.000   3.071 1.308   \n",
              "4  10172849.5375293351 2021-01-02                    0.000   5.571 2.795   \n",
              "\n",
              "   threshold  Churned_x Churn_Type  28ma_y  Churned_y  \n",
              "0      0.000       True       Hard   3.214      False  \n",
              "1      0.004      False       None   0.000       True  \n",
              "2    -12.613       True       Hard   0.000       True  \n",
              "3      0.454      False       None   0.000       True  \n",
              "4     -0.018      False       None   0.000       True  "
            ],
            "text/html": [
              "\n",
              "  <div id=\"df-00f8923c-e027-403f-9137-4bce2ac1c166\">\n",
              "    <div class=\"colab-df-container\">\n",
              "      <div>\n",
              "<style scoped>\n",
              "    .dataframe tbody tr th:only-of-type {\n",
              "        vertical-align: middle;\n",
              "    }\n",
              "\n",
              "    .dataframe tbody tr th {\n",
              "        vertical-align: top;\n",
              "    }\n",
              "\n",
              "    .dataframe thead th {\n",
              "        text-align: right;\n",
              "    }\n",
              "</style>\n",
              "<table border=\"1\" class=\"dataframe\">\n",
              "  <thead>\n",
              "    <tr style=\"text-align: right;\">\n",
              "      <th></th>\n",
              "      <th>user_pseudo_id</th>\n",
              "      <th>event_date</th>\n",
              "      <th>purchase_revenue_in_usd</th>\n",
              "      <th>28ma_x</th>\n",
              "      <th>56sd</th>\n",
              "      <th>threshold</th>\n",
              "      <th>Churned_x</th>\n",
              "      <th>Churn_Type</th>\n",
              "      <th>28ma_y</th>\n",
              "      <th>Churned_y</th>\n",
              "    </tr>\n",
              "  </thead>\n",
              "  <tbody>\n",
              "    <tr>\n",
              "      <th>0</th>\n",
              "      <td>10092926.3786306416</td>\n",
              "      <td>2021-01-02</td>\n",
              "      <td>0.000</td>\n",
              "      <td>0.000</td>\n",
              "      <td>0.000</td>\n",
              "      <td>0.000</td>\n",
              "      <td>True</td>\n",
              "      <td>Hard</td>\n",
              "      <td>3.214</td>\n",
              "      <td>False</td>\n",
              "    </tr>\n",
              "    <tr>\n",
              "      <th>1</th>\n",
              "      <td>10111055.8768683862</td>\n",
              "      <td>2021-01-02</td>\n",
              "      <td>0.000</td>\n",
              "      <td>3.357</td>\n",
              "      <td>1.676</td>\n",
              "      <td>0.004</td>\n",
              "      <td>False</td>\n",
              "      <td>None</td>\n",
              "      <td>0.000</td>\n",
              "      <td>True</td>\n",
              "    </tr>\n",
              "    <tr>\n",
              "      <th>2</th>\n",
              "      <td>1014825.0200289249</td>\n",
              "      <td>2021-01-02</td>\n",
              "      <td>0.000</td>\n",
              "      <td>0.000</td>\n",
              "      <td>6.306</td>\n",
              "      <td>-12.613</td>\n",
              "      <td>True</td>\n",
              "      <td>Hard</td>\n",
              "      <td>0.000</td>\n",
              "      <td>True</td>\n",
              "    </tr>\n",
              "    <tr>\n",
              "      <th>3</th>\n",
              "      <td>1016446.8237887674</td>\n",
              "      <td>2021-01-02</td>\n",
              "      <td>0.000</td>\n",
              "      <td>3.071</td>\n",
              "      <td>1.308</td>\n",
              "      <td>0.454</td>\n",
              "      <td>False</td>\n",
              "      <td>None</td>\n",
              "      <td>0.000</td>\n",
              "      <td>True</td>\n",
              "    </tr>\n",
              "    <tr>\n",
              "      <th>4</th>\n",
              "      <td>10172849.5375293351</td>\n",
              "      <td>2021-01-02</td>\n",
              "      <td>0.000</td>\n",
              "      <td>5.571</td>\n",
              "      <td>2.795</td>\n",
              "      <td>-0.018</td>\n",
              "      <td>False</td>\n",
              "      <td>None</td>\n",
              "      <td>0.000</td>\n",
              "      <td>True</td>\n",
              "    </tr>\n",
              "  </tbody>\n",
              "</table>\n",
              "</div>\n",
              "      <button class=\"colab-df-convert\" onclick=\"convertToInteractive('df-00f8923c-e027-403f-9137-4bce2ac1c166')\"\n",
              "              title=\"Convert this dataframe to an interactive table.\"\n",
              "              style=\"display:none;\">\n",
              "        \n",
              "  <svg xmlns=\"http://www.w3.org/2000/svg\" height=\"24px\"viewBox=\"0 0 24 24\"\n",
              "       width=\"24px\">\n",
              "    <path d=\"M0 0h24v24H0V0z\" fill=\"none\"/>\n",
              "    <path d=\"M18.56 5.44l.94 2.06.94-2.06 2.06-.94-2.06-.94-.94-2.06-.94 2.06-2.06.94zm-11 1L8.5 8.5l.94-2.06 2.06-.94-2.06-.94L8.5 2.5l-.94 2.06-2.06.94zm10 10l.94 2.06.94-2.06 2.06-.94-2.06-.94-.94-2.06-.94 2.06-2.06.94z\"/><path d=\"M17.41 7.96l-1.37-1.37c-.4-.4-.92-.59-1.43-.59-.52 0-1.04.2-1.43.59L10.3 9.45l-7.72 7.72c-.78.78-.78 2.05 0 2.83L4 21.41c.39.39.9.59 1.41.59.51 0 1.02-.2 1.41-.59l7.78-7.78 2.81-2.81c.8-.78.8-2.07 0-2.86zM5.41 20L4 18.59l7.72-7.72 1.47 1.35L5.41 20z\"/>\n",
              "  </svg>\n",
              "      </button>\n",
              "      \n",
              "  <style>\n",
              "    .colab-df-container {\n",
              "      display:flex;\n",
              "      flex-wrap:wrap;\n",
              "      gap: 12px;\n",
              "    }\n",
              "\n",
              "    .colab-df-convert {\n",
              "      background-color: #E8F0FE;\n",
              "      border: none;\n",
              "      border-radius: 50%;\n",
              "      cursor: pointer;\n",
              "      display: none;\n",
              "      fill: #1967D2;\n",
              "      height: 32px;\n",
              "      padding: 0 0 0 0;\n",
              "      width: 32px;\n",
              "    }\n",
              "\n",
              "    .colab-df-convert:hover {\n",
              "      background-color: #E2EBFA;\n",
              "      box-shadow: 0px 1px 2px rgba(60, 64, 67, 0.3), 0px 1px 3px 1px rgba(60, 64, 67, 0.15);\n",
              "      fill: #174EA6;\n",
              "    }\n",
              "\n",
              "    [theme=dark] .colab-df-convert {\n",
              "      background-color: #3B4455;\n",
              "      fill: #D2E3FC;\n",
              "    }\n",
              "\n",
              "    [theme=dark] .colab-df-convert:hover {\n",
              "      background-color: #434B5C;\n",
              "      box-shadow: 0px 1px 3px 1px rgba(0, 0, 0, 0.15);\n",
              "      filter: drop-shadow(0px 1px 2px rgba(0, 0, 0, 0.3));\n",
              "      fill: #FFFFFF;\n",
              "    }\n",
              "  </style>\n",
              "\n",
              "      <script>\n",
              "        const buttonEl =\n",
              "          document.querySelector('#df-00f8923c-e027-403f-9137-4bce2ac1c166 button.colab-df-convert');\n",
              "        buttonEl.style.display =\n",
              "          google.colab.kernel.accessAllowed ? 'block' : 'none';\n",
              "\n",
              "        async function convertToInteractive(key) {\n",
              "          const element = document.querySelector('#df-00f8923c-e027-403f-9137-4bce2ac1c166');\n",
              "          const dataTable =\n",
              "            await google.colab.kernel.invokeFunction('convertToInteractive',\n",
              "                                                     [key], {});\n",
              "          if (!dataTable) return;\n",
              "\n",
              "          const docLinkHtml = 'Like what you see? Visit the ' +\n",
              "            '<a target=\"_blank\" href=https://colab.research.google.com/notebooks/data_table.ipynb>data table notebook</a>'\n",
              "            + ' to learn more about interactive tables.';\n",
              "          element.innerHTML = '';\n",
              "          dataTable['output_type'] = 'display_data';\n",
              "          await google.colab.output.renderOutput(dataTable, element);\n",
              "          const docLink = document.createElement('div');\n",
              "          docLink.innerHTML = docLinkHtml;\n",
              "          element.appendChild(docLink);\n",
              "        }\n",
              "      </script>\n",
              "    </div>\n",
              "  </div>\n",
              "  "
            ]
          },
          "metadata": {},
          "execution_count": 36
        }
      ],
      "source": [
        "df_churn.head()"
      ]
    },
    {
      "cell_type": "markdown",
      "id": "d3923802-37c3-4bfc-8726-de0623a4ad34",
      "metadata": {
        "id": "d3923802-37c3-4bfc-8726-de0623a4ad34"
      },
      "source": [
        "### Set customer labels"
      ]
    },
    {
      "cell_type": "code",
      "execution_count": 37,
      "id": "0e3182da-c67e-4c02-8f73-ce6bff924122",
      "metadata": {
        "id": "0e3182da-c67e-4c02-8f73-ce6bff924122"
      },
      "outputs": [],
      "source": [
        "# customer pre-event status labels\n",
        "def custLabelsPre(row):\n",
        "    if row['Churned_x'] == True:   \n",
        "        val = 'Inactive'\n",
        "    \n",
        "    else:\n",
        "        val = 'Active'\n",
        "        \n",
        "    return val"
      ]
    },
    {
      "cell_type": "code",
      "execution_count": 38,
      "id": "ef9a6cac-5648-4dd8-8e16-a1ea6f8346c9",
      "metadata": {
        "id": "ef9a6cac-5648-4dd8-8e16-a1ea6f8346c9"
      },
      "outputs": [],
      "source": [
        "df_churn[\"pre_cutoff_status\"] = df_churn.apply(custLabelsPre,axis=1)"
      ]
    },
    {
      "cell_type": "code",
      "execution_count": 39,
      "id": "90257c12-a7d1-40ee-a064-e2b4215bb3c8",
      "metadata": {
        "id": "90257c12-a7d1-40ee-a064-e2b4215bb3c8"
      },
      "outputs": [],
      "source": [
        "# customer post-event status labels\n",
        "def custLabelsPost(row):\n",
        "    if row['Churned_y'] == False:   \n",
        "        val = 'Active'\n",
        "    \n",
        "    else:\n",
        "        val = 'Inactive'\n",
        "        \n",
        "    return val"
      ]
    },
    {
      "cell_type": "code",
      "execution_count": 40,
      "id": "6bc20a91-0168-41ef-b9c9-37d91d31506c",
      "metadata": {
        "id": "6bc20a91-0168-41ef-b9c9-37d91d31506c"
      },
      "outputs": [],
      "source": [
        "df_churn[\"post_cutoff_status\"] = df_churn.apply(custLabelsPost,axis=1)"
      ]
    },
    {
      "cell_type": "markdown",
      "id": "f255d1b3-54be-4018-a1e7-40ee18781884",
      "metadata": {
        "id": "f255d1b3-54be-4018-a1e7-40ee18781884"
      },
      "source": [
        "## Adding Churn Target Column"
      ]
    },
    {
      "cell_type": "code",
      "execution_count": 41,
      "id": "26043ae6-e186-482f-a5b3-39bac8cf520d",
      "metadata": {
        "id": "26043ae6-e186-482f-a5b3-39bac8cf520d"
      },
      "outputs": [],
      "source": [
        "# adding churn target label\n",
        "def ChurnTarget(row):\n",
        "    if row['pre_cutoff_status'] == \"Active\" and row['post_cutoff_status'] == \"Inactive\":   \n",
        "        val = \"True\"\n",
        "        \n",
        "    elif row['pre_cutoff_status'] == \"Active\" and row['pre_cutoff_status'] == \"Active\":   \n",
        "        val = \"False\"\n",
        "    \n",
        "    else:\n",
        "        val = 'Inactive'\n",
        "        \n",
        "    return val"
      ]
    },
    {
      "cell_type": "code",
      "execution_count": 42,
      "id": "90633ff3-9b5e-45c8-9316-2942cc4bf7d4",
      "metadata": {
        "id": "90633ff3-9b5e-45c8-9316-2942cc4bf7d4"
      },
      "outputs": [],
      "source": [
        "df_churn[\"Churn_Target\"] = df_churn.apply(ChurnTarget,axis=1)"
      ]
    },
    {
      "cell_type": "code",
      "execution_count": 43,
      "id": "083a9626-38a9-4151-b0bc-e24183bcb819",
      "metadata": {
        "colab": {
          "base_uri": "https://localhost:8080/"
        },
        "id": "083a9626-38a9-4151-b0bc-e24183bcb819",
        "outputId": "f97692be-9290-404f-a5ce-d6e4e235ef75"
      },
      "outputs": [
        {
          "output_type": "execute_result",
          "data": {
            "text/plain": [
              "Inactive    2849\n",
              "True        1540\n",
              "False         30\n",
              "Name: Churn_Target, dtype: int64"
            ]
          },
          "metadata": {},
          "execution_count": 43
        }
      ],
      "source": [
        "df_churn[\"Churn_Target\"].value_counts()"
      ]
    },
    {
      "cell_type": "markdown",
      "source": [
        "As shown above, the majority of customers in the dataset are churners during the post-event period. This makes our dataset imbalanced, meaning we'll need to do some additional pre-work in later steps before building the model."
      ],
      "metadata": {
        "id": "Ijy93VAUqm_S"
      },
      "id": "Ijy93VAUqm_S"
    },
    {
      "cell_type": "markdown",
      "source": [
        "## Check the table one more time and then savie to BigQuery for use later in reporting"
      ],
      "metadata": {
        "id": "6k1D7BRiq4BT"
      },
      "id": "6k1D7BRiq4BT"
    },
    {
      "cell_type": "code",
      "execution_count": 44,
      "id": "e2bffc44-9106-468c-8389-31d52f017b83",
      "metadata": {
        "colab": {
          "base_uri": "https://localhost:8080/",
          "height": 206
        },
        "id": "e2bffc44-9106-468c-8389-31d52f017b83",
        "outputId": "6f268150-520e-4056-da2f-8ce8e87773c8"
      },
      "outputs": [
        {
          "output_type": "execute_result",
          "data": {
            "text/plain": [
              "        user_pseudo_id event_date  purchase_revenue_in_usd  28ma_x  56sd  \\\n",
              "0  10092926.3786306416 2021-01-02                    0.000   0.000 0.000   \n",
              "1  10111055.8768683862 2021-01-02                    0.000   3.357 1.676   \n",
              "2   1014825.0200289249 2021-01-02                    0.000   0.000 6.306   \n",
              "3   1016446.8237887674 2021-01-02                    0.000   3.071 1.308   \n",
              "4  10172849.5375293351 2021-01-02                    0.000   5.571 2.795   \n",
              "\n",
              "   threshold  Churned_x Churn_Type  28ma_y  Churned_y pre_cutoff_status  \\\n",
              "0      0.000       True       Hard   3.214      False          Inactive   \n",
              "1      0.004      False       None   0.000       True            Active   \n",
              "2    -12.613       True       Hard   0.000       True          Inactive   \n",
              "3      0.454      False       None   0.000       True            Active   \n",
              "4     -0.018      False       None   0.000       True            Active   \n",
              "\n",
              "  post_cutoff_status Churn_Target  \n",
              "0             Active     Inactive  \n",
              "1           Inactive         True  \n",
              "2           Inactive     Inactive  \n",
              "3           Inactive         True  \n",
              "4           Inactive         True  "
            ],
            "text/html": [
              "\n",
              "  <div id=\"df-a8a3913b-ca1d-484b-addd-f4923bfd8536\">\n",
              "    <div class=\"colab-df-container\">\n",
              "      <div>\n",
              "<style scoped>\n",
              "    .dataframe tbody tr th:only-of-type {\n",
              "        vertical-align: middle;\n",
              "    }\n",
              "\n",
              "    .dataframe tbody tr th {\n",
              "        vertical-align: top;\n",
              "    }\n",
              "\n",
              "    .dataframe thead th {\n",
              "        text-align: right;\n",
              "    }\n",
              "</style>\n",
              "<table border=\"1\" class=\"dataframe\">\n",
              "  <thead>\n",
              "    <tr style=\"text-align: right;\">\n",
              "      <th></th>\n",
              "      <th>user_pseudo_id</th>\n",
              "      <th>event_date</th>\n",
              "      <th>purchase_revenue_in_usd</th>\n",
              "      <th>28ma_x</th>\n",
              "      <th>56sd</th>\n",
              "      <th>threshold</th>\n",
              "      <th>Churned_x</th>\n",
              "      <th>Churn_Type</th>\n",
              "      <th>28ma_y</th>\n",
              "      <th>Churned_y</th>\n",
              "      <th>pre_cutoff_status</th>\n",
              "      <th>post_cutoff_status</th>\n",
              "      <th>Churn_Target</th>\n",
              "    </tr>\n",
              "  </thead>\n",
              "  <tbody>\n",
              "    <tr>\n",
              "      <th>0</th>\n",
              "      <td>10092926.3786306416</td>\n",
              "      <td>2021-01-02</td>\n",
              "      <td>0.000</td>\n",
              "      <td>0.000</td>\n",
              "      <td>0.000</td>\n",
              "      <td>0.000</td>\n",
              "      <td>True</td>\n",
              "      <td>Hard</td>\n",
              "      <td>3.214</td>\n",
              "      <td>False</td>\n",
              "      <td>Inactive</td>\n",
              "      <td>Active</td>\n",
              "      <td>Inactive</td>\n",
              "    </tr>\n",
              "    <tr>\n",
              "      <th>1</th>\n",
              "      <td>10111055.8768683862</td>\n",
              "      <td>2021-01-02</td>\n",
              "      <td>0.000</td>\n",
              "      <td>3.357</td>\n",
              "      <td>1.676</td>\n",
              "      <td>0.004</td>\n",
              "      <td>False</td>\n",
              "      <td>None</td>\n",
              "      <td>0.000</td>\n",
              "      <td>True</td>\n",
              "      <td>Active</td>\n",
              "      <td>Inactive</td>\n",
              "      <td>True</td>\n",
              "    </tr>\n",
              "    <tr>\n",
              "      <th>2</th>\n",
              "      <td>1014825.0200289249</td>\n",
              "      <td>2021-01-02</td>\n",
              "      <td>0.000</td>\n",
              "      <td>0.000</td>\n",
              "      <td>6.306</td>\n",
              "      <td>-12.613</td>\n",
              "      <td>True</td>\n",
              "      <td>Hard</td>\n",
              "      <td>0.000</td>\n",
              "      <td>True</td>\n",
              "      <td>Inactive</td>\n",
              "      <td>Inactive</td>\n",
              "      <td>Inactive</td>\n",
              "    </tr>\n",
              "    <tr>\n",
              "      <th>3</th>\n",
              "      <td>1016446.8237887674</td>\n",
              "      <td>2021-01-02</td>\n",
              "      <td>0.000</td>\n",
              "      <td>3.071</td>\n",
              "      <td>1.308</td>\n",
              "      <td>0.454</td>\n",
              "      <td>False</td>\n",
              "      <td>None</td>\n",
              "      <td>0.000</td>\n",
              "      <td>True</td>\n",
              "      <td>Active</td>\n",
              "      <td>Inactive</td>\n",
              "      <td>True</td>\n",
              "    </tr>\n",
              "    <tr>\n",
              "      <th>4</th>\n",
              "      <td>10172849.5375293351</td>\n",
              "      <td>2021-01-02</td>\n",
              "      <td>0.000</td>\n",
              "      <td>5.571</td>\n",
              "      <td>2.795</td>\n",
              "      <td>-0.018</td>\n",
              "      <td>False</td>\n",
              "      <td>None</td>\n",
              "      <td>0.000</td>\n",
              "      <td>True</td>\n",
              "      <td>Active</td>\n",
              "      <td>Inactive</td>\n",
              "      <td>True</td>\n",
              "    </tr>\n",
              "  </tbody>\n",
              "</table>\n",
              "</div>\n",
              "      <button class=\"colab-df-convert\" onclick=\"convertToInteractive('df-a8a3913b-ca1d-484b-addd-f4923bfd8536')\"\n",
              "              title=\"Convert this dataframe to an interactive table.\"\n",
              "              style=\"display:none;\">\n",
              "        \n",
              "  <svg xmlns=\"http://www.w3.org/2000/svg\" height=\"24px\"viewBox=\"0 0 24 24\"\n",
              "       width=\"24px\">\n",
              "    <path d=\"M0 0h24v24H0V0z\" fill=\"none\"/>\n",
              "    <path d=\"M18.56 5.44l.94 2.06.94-2.06 2.06-.94-2.06-.94-.94-2.06-.94 2.06-2.06.94zm-11 1L8.5 8.5l.94-2.06 2.06-.94-2.06-.94L8.5 2.5l-.94 2.06-2.06.94zm10 10l.94 2.06.94-2.06 2.06-.94-2.06-.94-.94-2.06-.94 2.06-2.06.94z\"/><path d=\"M17.41 7.96l-1.37-1.37c-.4-.4-.92-.59-1.43-.59-.52 0-1.04.2-1.43.59L10.3 9.45l-7.72 7.72c-.78.78-.78 2.05 0 2.83L4 21.41c.39.39.9.59 1.41.59.51 0 1.02-.2 1.41-.59l7.78-7.78 2.81-2.81c.8-.78.8-2.07 0-2.86zM5.41 20L4 18.59l7.72-7.72 1.47 1.35L5.41 20z\"/>\n",
              "  </svg>\n",
              "      </button>\n",
              "      \n",
              "  <style>\n",
              "    .colab-df-container {\n",
              "      display:flex;\n",
              "      flex-wrap:wrap;\n",
              "      gap: 12px;\n",
              "    }\n",
              "\n",
              "    .colab-df-convert {\n",
              "      background-color: #E8F0FE;\n",
              "      border: none;\n",
              "      border-radius: 50%;\n",
              "      cursor: pointer;\n",
              "      display: none;\n",
              "      fill: #1967D2;\n",
              "      height: 32px;\n",
              "      padding: 0 0 0 0;\n",
              "      width: 32px;\n",
              "    }\n",
              "\n",
              "    .colab-df-convert:hover {\n",
              "      background-color: #E2EBFA;\n",
              "      box-shadow: 0px 1px 2px rgba(60, 64, 67, 0.3), 0px 1px 3px 1px rgba(60, 64, 67, 0.15);\n",
              "      fill: #174EA6;\n",
              "    }\n",
              "\n",
              "    [theme=dark] .colab-df-convert {\n",
              "      background-color: #3B4455;\n",
              "      fill: #D2E3FC;\n",
              "    }\n",
              "\n",
              "    [theme=dark] .colab-df-convert:hover {\n",
              "      background-color: #434B5C;\n",
              "      box-shadow: 0px 1px 3px 1px rgba(0, 0, 0, 0.15);\n",
              "      filter: drop-shadow(0px 1px 2px rgba(0, 0, 0, 0.3));\n",
              "      fill: #FFFFFF;\n",
              "    }\n",
              "  </style>\n",
              "\n",
              "      <script>\n",
              "        const buttonEl =\n",
              "          document.querySelector('#df-a8a3913b-ca1d-484b-addd-f4923bfd8536 button.colab-df-convert');\n",
              "        buttonEl.style.display =\n",
              "          google.colab.kernel.accessAllowed ? 'block' : 'none';\n",
              "\n",
              "        async function convertToInteractive(key) {\n",
              "          const element = document.querySelector('#df-a8a3913b-ca1d-484b-addd-f4923bfd8536');\n",
              "          const dataTable =\n",
              "            await google.colab.kernel.invokeFunction('convertToInteractive',\n",
              "                                                     [key], {});\n",
              "          if (!dataTable) return;\n",
              "\n",
              "          const docLinkHtml = 'Like what you see? Visit the ' +\n",
              "            '<a target=\"_blank\" href=https://colab.research.google.com/notebooks/data_table.ipynb>data table notebook</a>'\n",
              "            + ' to learn more about interactive tables.';\n",
              "          element.innerHTML = '';\n",
              "          dataTable['output_type'] = 'display_data';\n",
              "          await google.colab.output.renderOutput(dataTable, element);\n",
              "          const docLink = document.createElement('div');\n",
              "          docLink.innerHTML = docLinkHtml;\n",
              "          element.appendChild(docLink);\n",
              "        }\n",
              "      </script>\n",
              "    </div>\n",
              "  </div>\n",
              "  "
            ]
          },
          "metadata": {},
          "execution_count": 44
        }
      ],
      "source": [
        "df_churn.head()"
      ]
    },
    {
      "cell_type": "code",
      "execution_count": 45,
      "id": "2badfe3b-1113-4ba8-82c7-0ec2af24bc7a",
      "metadata": {
        "id": "2badfe3b-1113-4ba8-82c7-0ec2af24bc7a"
      },
      "outputs": [],
      "source": [
        "# rename column headers to make compatible with BigQuery table schema requirements \n",
        "df_churn.rename(columns={\"28ma_x\": \"pre_MA\", \"56sd\": \"pre_SD\", \"28ma_y\": \"post_MA\"}, inplace=True)"
      ]
    },
    {
      "cell_type": "code",
      "execution_count": 46,
      "id": "a6dea6ae-e6fe-4b43-ad46-74eaafc56c45",
      "metadata": {
        "colab": {
          "base_uri": "https://localhost:8080/"
        },
        "id": "a6dea6ae-e6fe-4b43-ad46-74eaafc56c45",
        "outputId": "c6fa8df9-af03-4aad-ea25-8c33a3267420"
      },
      "outputs": [
        {
          "output_type": "execute_result",
          "data": {
            "text/plain": [
              "LoadJob<project=adl-analytics, location=US, id=c0b5e691-beea-40f1-bf75-8117d1b64e10>"
            ]
          },
          "metadata": {},
          "execution_count": 46
        }
      ],
      "source": [
        "client = bigquery.Client(project = project_name)\n",
        "table_id = 'public_sample_data.churn_ga4_target_details' # update with your dataset and table name\n",
        "\n",
        "job_config = bigquery.LoadJobConfig(\n",
        "    write_disposition = bigquery.job.WriteDisposition.WRITE_TRUNCATE\n",
        ")\n",
        "\n",
        "job = client.load_table_from_dataframe(\n",
        "    df_churn, table_id, job_config = job_config\n",
        ")\n",
        "\n",
        "# Wait for the load job to complete.\n",
        "job.result()"
      ]
    },
    {
      "cell_type": "markdown",
      "id": "2398ae81-76d8-4a4d-823a-f6becad8ee55",
      "metadata": {
        "id": "2398ae81-76d8-4a4d-823a-f6becad8ee55"
      },
      "source": [
        "### Create a separate table containing only the `pseudo_user_id` and `Churn_Target` for customers who are still active\n",
        "\n",
        "This creates an index for our Churn Target column that we'll add later to our full training dataset. "
      ]
    },
    {
      "cell_type": "code",
      "execution_count": 47,
      "id": "09886021-06fa-4920-b90d-3d2c6baa43e1",
      "metadata": {
        "id": "09886021-06fa-4920-b90d-3d2c6baa43e1"
      },
      "outputs": [],
      "source": [
        "## select only user_pseudo_id and Churn_Target columns\n",
        "df_churn_target = df_churn.loc[df_churn[\"Churn_Target\"] != \"Inactive\"]\n",
        "df_churn_target = df_churn_target[\n",
        "    [\n",
        "        \"user_pseudo_id\",\n",
        "        \"Churn_Target\"\n",
        "    ]\n",
        "].copy()"
      ]
    },
    {
      "cell_type": "code",
      "execution_count": 48,
      "id": "586df279-be51-4554-8fa0-4b62bb5dcd8c",
      "metadata": {
        "id": "586df279-be51-4554-8fa0-4b62bb5dcd8c"
      },
      "outputs": [],
      "source": [
        "# convert target values to 1 and 0 \n",
        "replaceStruct = {\n",
        "    \"Churn_Target\": {\n",
        "        \"True\": 1,\n",
        "        \"False\": 0,    \n",
        "    },\n",
        "}\n",
        "df_churn_target = df_churn_target.replace(replaceStruct)"
      ]
    },
    {
      "cell_type": "code",
      "execution_count": 49,
      "id": "90db17fd-f3fc-422c-adff-3988cffc6a97",
      "metadata": {
        "colab": {
          "base_uri": "https://localhost:8080/"
        },
        "id": "90db17fd-f3fc-422c-adff-3988cffc6a97",
        "outputId": "eddea9fd-1441-41a1-a772-dc6a8e49a09e"
      },
      "outputs": [
        {
          "output_type": "execute_result",
          "data": {
            "text/plain": [
              "1    1540\n",
              "0      30\n",
              "Name: Churn_Target, dtype: int64"
            ]
          },
          "metadata": {},
          "execution_count": 49
        }
      ],
      "source": [
        "df_churn_target[\"Churn_Target\"].value_counts()"
      ]
    },
    {
      "cell_type": "code",
      "execution_count": 50,
      "id": "3e3221f9-367c-4e06-9ba2-b9c30b0c7a0e",
      "metadata": {
        "colab": {
          "base_uri": "https://localhost:8080/"
        },
        "id": "3e3221f9-367c-4e06-9ba2-b9c30b0c7a0e",
        "outputId": "1bbb035d-37d0-4705-f716-63ccaeaca4c9"
      },
      "outputs": [
        {
          "output_type": "execute_result",
          "data": {
            "text/plain": [
              "1570"
            ]
          },
          "metadata": {},
          "execution_count": 50
        }
      ],
      "source": [
        "df_churn_target[\"user_pseudo_id\"].nunique()"
      ]
    },
    {
      "cell_type": "markdown",
      "id": "20aa3efc-0ff9-40ad-9c38-4d373e3962eb",
      "metadata": {
        "id": "20aa3efc-0ff9-40ad-9c38-4d373e3962eb"
      },
      "source": [
        "## Store table in BigQuery"
      ]
    },
    {
      "cell_type": "code",
      "execution_count": 51,
      "id": "fcf92cfd-f364-4666-93af-1ab75188d3cc",
      "metadata": {
        "colab": {
          "base_uri": "https://localhost:8080/"
        },
        "id": "fcf92cfd-f364-4666-93af-1ab75188d3cc",
        "outputId": "b714aad4-ed2e-459b-edf8-43cdfe402905"
      },
      "outputs": [
        {
          "output_type": "execute_result",
          "data": {
            "text/plain": [
              "LoadJob<project=adl-analytics, location=US, id=07bbde38-b022-4577-bff8-0d680351dc1a>"
            ]
          },
          "metadata": {},
          "execution_count": 51
        }
      ],
      "source": [
        "client = bigquery.Client(project = project_name)\n",
        "table_id = 'public_sample_data.churn_ga4_4' # update with your dataset and table name\n",
        "\n",
        "job_config = bigquery.LoadJobConfig(\n",
        "    write_disposition = bigquery.job.WriteDisposition.WRITE_TRUNCATE\n",
        ")\n",
        "\n",
        "job = client.load_table_from_dataframe(\n",
        "    df_churn_target, table_id, job_config = job_config\n",
        ")\n",
        "\n",
        "# Wait for the load job to complete.\n",
        "job.result()"
      ]
    }
  ],
  "metadata": {
    "environment": {
      "kernel": "python3",
      "name": "common-cpu.m100",
      "type": "gcloud",
      "uri": "gcr.io/deeplearning-platform-release/base-cpu:m100"
    },
    "kernelspec": {
      "display_name": "Python 3",
      "language": "python",
      "name": "python3"
    },
    "language_info": {
      "codemirror_mode": {
        "name": "ipython",
        "version": 3
      },
      "file_extension": ".py",
      "mimetype": "text/x-python",
      "name": "python",
      "nbconvert_exporter": "python",
      "pygments_lexer": "ipython3",
      "version": "3.7.12"
    },
    "colab": {
      "provenance": [],
      "include_colab_link": true
    },
    "widgets": {
      "application/vnd.jupyter.widget-state+json": {
        "2647f519f000484ab058c8eb9c11d260": {
          "model_module": "@jupyter-widgets/controls",
          "model_name": "HBoxModel",
          "model_module_version": "1.5.0",
          "state": {
            "_dom_classes": [],
            "_model_module": "@jupyter-widgets/controls",
            "_model_module_version": "1.5.0",
            "_model_name": "HBoxModel",
            "_view_count": null,
            "_view_module": "@jupyter-widgets/controls",
            "_view_module_version": "1.5.0",
            "_view_name": "HBoxView",
            "box_style": "",
            "children": [
              "IPY_MODEL_40e9221cfd05417495e02727b510ea23",
              "IPY_MODEL_0c9935e2589e40aea490e81584991b55",
              "IPY_MODEL_e526251e7ca14e6788f0d1bf8b013656"
            ],
            "layout": "IPY_MODEL_f45b88a8c95b47bbb480d200ee51cd1d"
          }
        },
        "40e9221cfd05417495e02727b510ea23": {
          "model_module": "@jupyter-widgets/controls",
          "model_name": "HTMLModel",
          "model_module_version": "1.5.0",
          "state": {
            "_dom_classes": [],
            "_model_module": "@jupyter-widgets/controls",
            "_model_module_version": "1.5.0",
            "_model_name": "HTMLModel",
            "_view_count": null,
            "_view_module": "@jupyter-widgets/controls",
            "_view_module_version": "1.5.0",
            "_view_name": "HTMLView",
            "description": "",
            "description_tooltip": null,
            "layout": "IPY_MODEL_87b635e164d448288ea72168e549d09a",
            "placeholder": "​",
            "style": "IPY_MODEL_06502c6b57f94b8d8fa318c8ffc861d6",
            "value": "Job ID 052ccc21-4307-4321-920b-a35f7f9c0643 successfully executed: 100%"
          }
        },
        "0c9935e2589e40aea490e81584991b55": {
          "model_module": "@jupyter-widgets/controls",
          "model_name": "FloatProgressModel",
          "model_module_version": "1.5.0",
          "state": {
            "_dom_classes": [],
            "_model_module": "@jupyter-widgets/controls",
            "_model_module_version": "1.5.0",
            "_model_name": "FloatProgressModel",
            "_view_count": null,
            "_view_module": "@jupyter-widgets/controls",
            "_view_module_version": "1.5.0",
            "_view_name": "ProgressView",
            "bar_style": "success",
            "description": "",
            "description_tooltip": null,
            "layout": "IPY_MODEL_a6dc0d6454994e58908e2b1e88911d76",
            "max": 1,
            "min": 0,
            "orientation": "horizontal",
            "style": "IPY_MODEL_94d79698774146138f37b54b88f74b6f",
            "value": 1
          }
        },
        "e526251e7ca14e6788f0d1bf8b013656": {
          "model_module": "@jupyter-widgets/controls",
          "model_name": "HTMLModel",
          "model_module_version": "1.5.0",
          "state": {
            "_dom_classes": [],
            "_model_module": "@jupyter-widgets/controls",
            "_model_module_version": "1.5.0",
            "_model_name": "HTMLModel",
            "_view_count": null,
            "_view_module": "@jupyter-widgets/controls",
            "_view_module_version": "1.5.0",
            "_view_name": "HTMLView",
            "description": "",
            "description_tooltip": null,
            "layout": "IPY_MODEL_2a18ee2952704d0392bbf2741e7d7cef",
            "placeholder": "​",
            "style": "IPY_MODEL_a48defe2bca3455aac28be3bc3765c4a",
            "value": ""
          }
        },
        "f45b88a8c95b47bbb480d200ee51cd1d": {
          "model_module": "@jupyter-widgets/base",
          "model_name": "LayoutModel",
          "model_module_version": "1.2.0",
          "state": {
            "_model_module": "@jupyter-widgets/base",
            "_model_module_version": "1.2.0",
            "_model_name": "LayoutModel",
            "_view_count": null,
            "_view_module": "@jupyter-widgets/base",
            "_view_module_version": "1.2.0",
            "_view_name": "LayoutView",
            "align_content": null,
            "align_items": null,
            "align_self": null,
            "border": null,
            "bottom": null,
            "display": null,
            "flex": null,
            "flex_flow": null,
            "grid_area": null,
            "grid_auto_columns": null,
            "grid_auto_flow": null,
            "grid_auto_rows": null,
            "grid_column": null,
            "grid_gap": null,
            "grid_row": null,
            "grid_template_areas": null,
            "grid_template_columns": null,
            "grid_template_rows": null,
            "height": null,
            "justify_content": null,
            "justify_items": null,
            "left": null,
            "margin": null,
            "max_height": null,
            "max_width": null,
            "min_height": null,
            "min_width": null,
            "object_fit": null,
            "object_position": null,
            "order": null,
            "overflow": null,
            "overflow_x": null,
            "overflow_y": null,
            "padding": null,
            "right": null,
            "top": null,
            "visibility": null,
            "width": null
          }
        },
        "87b635e164d448288ea72168e549d09a": {
          "model_module": "@jupyter-widgets/base",
          "model_name": "LayoutModel",
          "model_module_version": "1.2.0",
          "state": {
            "_model_module": "@jupyter-widgets/base",
            "_model_module_version": "1.2.0",
            "_model_name": "LayoutModel",
            "_view_count": null,
            "_view_module": "@jupyter-widgets/base",
            "_view_module_version": "1.2.0",
            "_view_name": "LayoutView",
            "align_content": null,
            "align_items": null,
            "align_self": null,
            "border": null,
            "bottom": null,
            "display": null,
            "flex": null,
            "flex_flow": null,
            "grid_area": null,
            "grid_auto_columns": null,
            "grid_auto_flow": null,
            "grid_auto_rows": null,
            "grid_column": null,
            "grid_gap": null,
            "grid_row": null,
            "grid_template_areas": null,
            "grid_template_columns": null,
            "grid_template_rows": null,
            "height": null,
            "justify_content": null,
            "justify_items": null,
            "left": null,
            "margin": null,
            "max_height": null,
            "max_width": null,
            "min_height": null,
            "min_width": null,
            "object_fit": null,
            "object_position": null,
            "order": null,
            "overflow": null,
            "overflow_x": null,
            "overflow_y": null,
            "padding": null,
            "right": null,
            "top": null,
            "visibility": null,
            "width": null
          }
        },
        "06502c6b57f94b8d8fa318c8ffc861d6": {
          "model_module": "@jupyter-widgets/controls",
          "model_name": "DescriptionStyleModel",
          "model_module_version": "1.5.0",
          "state": {
            "_model_module": "@jupyter-widgets/controls",
            "_model_module_version": "1.5.0",
            "_model_name": "DescriptionStyleModel",
            "_view_count": null,
            "_view_module": "@jupyter-widgets/base",
            "_view_module_version": "1.2.0",
            "_view_name": "StyleView",
            "description_width": ""
          }
        },
        "a6dc0d6454994e58908e2b1e88911d76": {
          "model_module": "@jupyter-widgets/base",
          "model_name": "LayoutModel",
          "model_module_version": "1.2.0",
          "state": {
            "_model_module": "@jupyter-widgets/base",
            "_model_module_version": "1.2.0",
            "_model_name": "LayoutModel",
            "_view_count": null,
            "_view_module": "@jupyter-widgets/base",
            "_view_module_version": "1.2.0",
            "_view_name": "LayoutView",
            "align_content": null,
            "align_items": null,
            "align_self": null,
            "border": null,
            "bottom": null,
            "display": null,
            "flex": null,
            "flex_flow": null,
            "grid_area": null,
            "grid_auto_columns": null,
            "grid_auto_flow": null,
            "grid_auto_rows": null,
            "grid_column": null,
            "grid_gap": null,
            "grid_row": null,
            "grid_template_areas": null,
            "grid_template_columns": null,
            "grid_template_rows": null,
            "height": null,
            "justify_content": null,
            "justify_items": null,
            "left": null,
            "margin": null,
            "max_height": null,
            "max_width": null,
            "min_height": null,
            "min_width": null,
            "object_fit": null,
            "object_position": null,
            "order": null,
            "overflow": null,
            "overflow_x": null,
            "overflow_y": null,
            "padding": null,
            "right": null,
            "top": null,
            "visibility": null,
            "width": null
          }
        },
        "94d79698774146138f37b54b88f74b6f": {
          "model_module": "@jupyter-widgets/controls",
          "model_name": "ProgressStyleModel",
          "model_module_version": "1.5.0",
          "state": {
            "_model_module": "@jupyter-widgets/controls",
            "_model_module_version": "1.5.0",
            "_model_name": "ProgressStyleModel",
            "_view_count": null,
            "_view_module": "@jupyter-widgets/base",
            "_view_module_version": "1.2.0",
            "_view_name": "StyleView",
            "bar_color": null,
            "description_width": ""
          }
        },
        "2a18ee2952704d0392bbf2741e7d7cef": {
          "model_module": "@jupyter-widgets/base",
          "model_name": "LayoutModel",
          "model_module_version": "1.2.0",
          "state": {
            "_model_module": "@jupyter-widgets/base",
            "_model_module_version": "1.2.0",
            "_model_name": "LayoutModel",
            "_view_count": null,
            "_view_module": "@jupyter-widgets/base",
            "_view_module_version": "1.2.0",
            "_view_name": "LayoutView",
            "align_content": null,
            "align_items": null,
            "align_self": null,
            "border": null,
            "bottom": null,
            "display": null,
            "flex": null,
            "flex_flow": null,
            "grid_area": null,
            "grid_auto_columns": null,
            "grid_auto_flow": null,
            "grid_auto_rows": null,
            "grid_column": null,
            "grid_gap": null,
            "grid_row": null,
            "grid_template_areas": null,
            "grid_template_columns": null,
            "grid_template_rows": null,
            "height": null,
            "justify_content": null,
            "justify_items": null,
            "left": null,
            "margin": null,
            "max_height": null,
            "max_width": null,
            "min_height": null,
            "min_width": null,
            "object_fit": null,
            "object_position": null,
            "order": null,
            "overflow": null,
            "overflow_x": null,
            "overflow_y": null,
            "padding": null,
            "right": null,
            "top": null,
            "visibility": null,
            "width": null
          }
        },
        "a48defe2bca3455aac28be3bc3765c4a": {
          "model_module": "@jupyter-widgets/controls",
          "model_name": "DescriptionStyleModel",
          "model_module_version": "1.5.0",
          "state": {
            "_model_module": "@jupyter-widgets/controls",
            "_model_module_version": "1.5.0",
            "_model_name": "DescriptionStyleModel",
            "_view_count": null,
            "_view_module": "@jupyter-widgets/base",
            "_view_module_version": "1.2.0",
            "_view_name": "StyleView",
            "description_width": ""
          }
        },
        "193f76c1a75947c49f5d10958d274d99": {
          "model_module": "@jupyter-widgets/controls",
          "model_name": "HBoxModel",
          "model_module_version": "1.5.0",
          "state": {
            "_dom_classes": [],
            "_model_module": "@jupyter-widgets/controls",
            "_model_module_version": "1.5.0",
            "_model_name": "HBoxModel",
            "_view_count": null,
            "_view_module": "@jupyter-widgets/controls",
            "_view_module_version": "1.5.0",
            "_view_name": "HBoxView",
            "box_style": "",
            "children": [
              "IPY_MODEL_e19b9e518d444c5eaf2eafa9d788d45d",
              "IPY_MODEL_d327b2a73ca1479bbe3999cb7821dd55",
              "IPY_MODEL_e3793a3f4b084af49aee49378b286d5b"
            ],
            "layout": "IPY_MODEL_ae4a36d469e448b5b0a043a418f131fb"
          }
        },
        "e19b9e518d444c5eaf2eafa9d788d45d": {
          "model_module": "@jupyter-widgets/controls",
          "model_name": "HTMLModel",
          "model_module_version": "1.5.0",
          "state": {
            "_dom_classes": [],
            "_model_module": "@jupyter-widgets/controls",
            "_model_module_version": "1.5.0",
            "_model_name": "HTMLModel",
            "_view_count": null,
            "_view_module": "@jupyter-widgets/controls",
            "_view_module_version": "1.5.0",
            "_view_name": "HTMLView",
            "description": "",
            "description_tooltip": null,
            "layout": "IPY_MODEL_301ca9d9066c4835b688d13391cafeeb",
            "placeholder": "​",
            "style": "IPY_MODEL_eb26b29a1966467c9040c292c765a5ea",
            "value": "Downloading: 100%"
          }
        },
        "d327b2a73ca1479bbe3999cb7821dd55": {
          "model_module": "@jupyter-widgets/controls",
          "model_name": "FloatProgressModel",
          "model_module_version": "1.5.0",
          "state": {
            "_dom_classes": [],
            "_model_module": "@jupyter-widgets/controls",
            "_model_module_version": "1.5.0",
            "_model_name": "FloatProgressModel",
            "_view_count": null,
            "_view_module": "@jupyter-widgets/controls",
            "_view_module_version": "1.5.0",
            "_view_name": "ProgressView",
            "bar_style": "success",
            "description": "",
            "description_tooltip": null,
            "layout": "IPY_MODEL_369c524a05304c58aedf36b10047b78e",
            "max": 5692,
            "min": 0,
            "orientation": "horizontal",
            "style": "IPY_MODEL_929778f40c434860ad696f9d194f439d",
            "value": 5692
          }
        },
        "e3793a3f4b084af49aee49378b286d5b": {
          "model_module": "@jupyter-widgets/controls",
          "model_name": "HTMLModel",
          "model_module_version": "1.5.0",
          "state": {
            "_dom_classes": [],
            "_model_module": "@jupyter-widgets/controls",
            "_model_module_version": "1.5.0",
            "_model_name": "HTMLModel",
            "_view_count": null,
            "_view_module": "@jupyter-widgets/controls",
            "_view_module_version": "1.5.0",
            "_view_name": "HTMLView",
            "description": "",
            "description_tooltip": null,
            "layout": "IPY_MODEL_7439ecca2fb34c378232f41f3958a3ac",
            "placeholder": "​",
            "style": "IPY_MODEL_119ddaaa1d98445497cbff3fb2160a26",
            "value": ""
          }
        },
        "ae4a36d469e448b5b0a043a418f131fb": {
          "model_module": "@jupyter-widgets/base",
          "model_name": "LayoutModel",
          "model_module_version": "1.2.0",
          "state": {
            "_model_module": "@jupyter-widgets/base",
            "_model_module_version": "1.2.0",
            "_model_name": "LayoutModel",
            "_view_count": null,
            "_view_module": "@jupyter-widgets/base",
            "_view_module_version": "1.2.0",
            "_view_name": "LayoutView",
            "align_content": null,
            "align_items": null,
            "align_self": null,
            "border": null,
            "bottom": null,
            "display": null,
            "flex": null,
            "flex_flow": null,
            "grid_area": null,
            "grid_auto_columns": null,
            "grid_auto_flow": null,
            "grid_auto_rows": null,
            "grid_column": null,
            "grid_gap": null,
            "grid_row": null,
            "grid_template_areas": null,
            "grid_template_columns": null,
            "grid_template_rows": null,
            "height": null,
            "justify_content": null,
            "justify_items": null,
            "left": null,
            "margin": null,
            "max_height": null,
            "max_width": null,
            "min_height": null,
            "min_width": null,
            "object_fit": null,
            "object_position": null,
            "order": null,
            "overflow": null,
            "overflow_x": null,
            "overflow_y": null,
            "padding": null,
            "right": null,
            "top": null,
            "visibility": null,
            "width": null
          }
        },
        "301ca9d9066c4835b688d13391cafeeb": {
          "model_module": "@jupyter-widgets/base",
          "model_name": "LayoutModel",
          "model_module_version": "1.2.0",
          "state": {
            "_model_module": "@jupyter-widgets/base",
            "_model_module_version": "1.2.0",
            "_model_name": "LayoutModel",
            "_view_count": null,
            "_view_module": "@jupyter-widgets/base",
            "_view_module_version": "1.2.0",
            "_view_name": "LayoutView",
            "align_content": null,
            "align_items": null,
            "align_self": null,
            "border": null,
            "bottom": null,
            "display": null,
            "flex": null,
            "flex_flow": null,
            "grid_area": null,
            "grid_auto_columns": null,
            "grid_auto_flow": null,
            "grid_auto_rows": null,
            "grid_column": null,
            "grid_gap": null,
            "grid_row": null,
            "grid_template_areas": null,
            "grid_template_columns": null,
            "grid_template_rows": null,
            "height": null,
            "justify_content": null,
            "justify_items": null,
            "left": null,
            "margin": null,
            "max_height": null,
            "max_width": null,
            "min_height": null,
            "min_width": null,
            "object_fit": null,
            "object_position": null,
            "order": null,
            "overflow": null,
            "overflow_x": null,
            "overflow_y": null,
            "padding": null,
            "right": null,
            "top": null,
            "visibility": null,
            "width": null
          }
        },
        "eb26b29a1966467c9040c292c765a5ea": {
          "model_module": "@jupyter-widgets/controls",
          "model_name": "DescriptionStyleModel",
          "model_module_version": "1.5.0",
          "state": {
            "_model_module": "@jupyter-widgets/controls",
            "_model_module_version": "1.5.0",
            "_model_name": "DescriptionStyleModel",
            "_view_count": null,
            "_view_module": "@jupyter-widgets/base",
            "_view_module_version": "1.2.0",
            "_view_name": "StyleView",
            "description_width": ""
          }
        },
        "369c524a05304c58aedf36b10047b78e": {
          "model_module": "@jupyter-widgets/base",
          "model_name": "LayoutModel",
          "model_module_version": "1.2.0",
          "state": {
            "_model_module": "@jupyter-widgets/base",
            "_model_module_version": "1.2.0",
            "_model_name": "LayoutModel",
            "_view_count": null,
            "_view_module": "@jupyter-widgets/base",
            "_view_module_version": "1.2.0",
            "_view_name": "LayoutView",
            "align_content": null,
            "align_items": null,
            "align_self": null,
            "border": null,
            "bottom": null,
            "display": null,
            "flex": null,
            "flex_flow": null,
            "grid_area": null,
            "grid_auto_columns": null,
            "grid_auto_flow": null,
            "grid_auto_rows": null,
            "grid_column": null,
            "grid_gap": null,
            "grid_row": null,
            "grid_template_areas": null,
            "grid_template_columns": null,
            "grid_template_rows": null,
            "height": null,
            "justify_content": null,
            "justify_items": null,
            "left": null,
            "margin": null,
            "max_height": null,
            "max_width": null,
            "min_height": null,
            "min_width": null,
            "object_fit": null,
            "object_position": null,
            "order": null,
            "overflow": null,
            "overflow_x": null,
            "overflow_y": null,
            "padding": null,
            "right": null,
            "top": null,
            "visibility": null,
            "width": null
          }
        },
        "929778f40c434860ad696f9d194f439d": {
          "model_module": "@jupyter-widgets/controls",
          "model_name": "ProgressStyleModel",
          "model_module_version": "1.5.0",
          "state": {
            "_model_module": "@jupyter-widgets/controls",
            "_model_module_version": "1.5.0",
            "_model_name": "ProgressStyleModel",
            "_view_count": null,
            "_view_module": "@jupyter-widgets/base",
            "_view_module_version": "1.2.0",
            "_view_name": "StyleView",
            "bar_color": null,
            "description_width": ""
          }
        },
        "7439ecca2fb34c378232f41f3958a3ac": {
          "model_module": "@jupyter-widgets/base",
          "model_name": "LayoutModel",
          "model_module_version": "1.2.0",
          "state": {
            "_model_module": "@jupyter-widgets/base",
            "_model_module_version": "1.2.0",
            "_model_name": "LayoutModel",
            "_view_count": null,
            "_view_module": "@jupyter-widgets/base",
            "_view_module_version": "1.2.0",
            "_view_name": "LayoutView",
            "align_content": null,
            "align_items": null,
            "align_self": null,
            "border": null,
            "bottom": null,
            "display": null,
            "flex": null,
            "flex_flow": null,
            "grid_area": null,
            "grid_auto_columns": null,
            "grid_auto_flow": null,
            "grid_auto_rows": null,
            "grid_column": null,
            "grid_gap": null,
            "grid_row": null,
            "grid_template_areas": null,
            "grid_template_columns": null,
            "grid_template_rows": null,
            "height": null,
            "justify_content": null,
            "justify_items": null,
            "left": null,
            "margin": null,
            "max_height": null,
            "max_width": null,
            "min_height": null,
            "min_width": null,
            "object_fit": null,
            "object_position": null,
            "order": null,
            "overflow": null,
            "overflow_x": null,
            "overflow_y": null,
            "padding": null,
            "right": null,
            "top": null,
            "visibility": null,
            "width": null
          }
        },
        "119ddaaa1d98445497cbff3fb2160a26": {
          "model_module": "@jupyter-widgets/controls",
          "model_name": "DescriptionStyleModel",
          "model_module_version": "1.5.0",
          "state": {
            "_model_module": "@jupyter-widgets/controls",
            "_model_module_version": "1.5.0",
            "_model_name": "DescriptionStyleModel",
            "_view_count": null,
            "_view_module": "@jupyter-widgets/base",
            "_view_module_version": "1.2.0",
            "_view_name": "StyleView",
            "description_width": ""
          }
        }
      }
    }
  },
  "nbformat": 4,
  "nbformat_minor": 5
}