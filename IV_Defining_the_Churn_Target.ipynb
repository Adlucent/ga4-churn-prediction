{
  "cells": [
    {
      "cell_type": "markdown",
      "metadata": {
        "id": "view-in-github",
        "colab_type": "text"
      },
      "source": [
        "<a href=\"https://colab.research.google.com/github/Adlucent/ga4-churn-prediction/blob/main/IV_Defining_the_Churn_Target.ipynb\" target=\"_parent\"><img src=\"https://colab.research.google.com/assets/colab-badge.svg\" alt=\"Open In Colab\"/></a>"
      ]
    },
    {
      "cell_type": "markdown",
      "id": "5b635972-15cb-4126-a9df-adcd2afb4328",
      "metadata": {
        "id": "5b635972-15cb-4126-a9df-adcd2afb4328"
      },
      "source": [
        "# IV. Defining the Churn Target\n",
        "\n",
        "In this notebook, we'll define the churn target for use in our model. \n",
        "\n",
        "1. Aggregate customer revenue by day\n",
        "2. Calculate the moving average for each customer over the last 28 days\n",
        "3. Calculate the 56 day standard deviation of the moving average (this and the following step are only needed if you're distinguishing between soft and hard churn - see below for explanations)\n",
        "4. Define a minimum threshold ((28 day Moving Average - (56 day standard deviation * 2))\n",
        "5. Split the data by event date into two tables: one containing only activity from prior to the cutoff date defined in a previous notebook, and the other containing only data from after that cutoff date.\n",
        "6. We'll assign the churn label based on which customers who are still active (not churned yet) as of the cutoff date have a moving average that falls to zero in the post-cutoff df.\n",
        "*Note that the values in the above steps will vary depending on the typical purchase cycle for your customers. You may want to experiment with a few different time lengths, as long as you ensure the ratios between the values stay the same.*\n",
        "\n",
        "How we know a customer has churned:\n",
        "* When the moving average falls under the threshold, the customer is churned. \n",
        "* Soft churn is when the moving average goes below the minimum threshold defined by us.\n",
        "* Hard churn is when the moving avg reaches zero. \n",
        "* For our purposes, we are adding segments for churn types, but not differentiating between them in the Churn Target column."
      ]
    },
    {
      "cell_type": "markdown",
      "id": "d9b44aeb-0784-48c9-b131-77ce2e63c269",
      "metadata": {
        "id": "d9b44aeb-0784-48c9-b131-77ce2e63c269"
      },
      "source": [
        "## Import libraries"
      ]
    },
    {
      "cell_type": "code",
      "source": [
        "################################################################################\n",
        "######################### CHANGE BQ PROJECT NAME BELOW #########################\n",
        "################################################################################\n",
        "\n",
        "project_name = 'adl-analytics' #add proj name\n",
        "region = \"US\"  # GCP project region"
      ],
      "metadata": {
        "id": "sf__LpcTNN5g"
      },
      "id": "sf__LpcTNN5g",
      "execution_count": null,
      "outputs": []
    },
    {
      "cell_type": "code",
      "execution_count": null,
      "id": "e7fffe22-0f53-44cb-a758-074639121fd5",
      "metadata": {
        "id": "e7fffe22-0f53-44cb-a758-074639121fd5"
      },
      "outputs": [],
      "source": [
        "# Google credentials \n",
        "from google.colab import auth\n",
        "auth.authenticate_user()\n",
        "\n",
        "# BigQuery Magics \n",
        "'''BigQuery magics are used to run BigQuery SQL queries in a python environment.\n",
        "These queries can also be run in the BigQuery UI '''\n",
        "\n",
        "from google.cloud import bigquery\n",
        "from google.cloud.bigquery import magics, Client, QueryJobConfig\n",
        "\n",
        "magics.context.project = project_name\n",
        "client = bigquery.Client(project=magics.context.project)\n",
        "\n",
        "# data processing\n",
        "import pandas as pd\n",
        "import numpy as np\n",
        "from datetime import timedelta\n",
        "\n",
        "# statistical calculations\n",
        "from scipy import stats\n",
        "\n",
        "# visualization\n",
        "import matplotlib.pyplot as plt\n",
        "import seaborn as sns\n",
        "\n",
        "# suppress notebook warnings\n",
        "import warnings\n",
        "warnings.filterwarnings('ignore')\n",
        "\n",
        "# dataframe formatting\n",
        "pd.set_option(\"display.max_columns\", None)\n",
        "pd.set_option(\"display.max_rows\", None)\n",
        "pd.set_option(\"display.float_format\", lambda x: \"%.3f\" % x)"
      ]
    },
    {
      "cell_type": "markdown",
      "id": "3c3475ba-b128-4b14-a957-3486cdbf1753",
      "metadata": {
        "id": "3c3475ba-b128-4b14-a957-3486cdbf1753"
      },
      "source": [
        "## Load Data from BigQuery\n",
        "\n",
        "From the original dataset, load data for purchases only. In defining churn, we only care about customers' actual purchase events."
      ]
    },
    {
      "cell_type": "code",
      "execution_count": null,
      "id": "b30530e9-326e-41cb-a5ec-ff95b457a240",
      "metadata": {
        "colab": {
          "base_uri": "https://localhost:8080/",
          "height": 81,
          "referenced_widgets": [
            "f0316533d9a8456fb87476fb7e289105",
            "b8f2520526dc4f04ac43db52b0473271",
            "5e273d295e284369ab4482c0b258a955",
            "c385945377634385b09cbed57e78860a",
            "9dd1c45e64314a63b01a9230afd3a87b",
            "b95d68f6191e4e6989bc87b0e9b5be1a",
            "0a686684da98479c82416804b943c732",
            "669548f8f64944d3ba082212a24e0062",
            "e5c1f271b8c140fa94f3bcbf20678ed3",
            "67072d74d2364657a5b12231745ebf74",
            "e3593285cb5147a18c4109cbd6fda609",
            "4206c7afd46e4d818700fda790ac9f99",
            "29ac09f2cb5d4c39ad1ce38a3c051a66",
            "a52a4a68946040f68c41637ae4b6de70",
            "08c31b31d91e4d31b7c44f784c43b55f",
            "a2b20993a7134acbb3e0f176478d61c1",
            "320970e9fa6d44749c07c16a2431a1c9",
            "c638fa25788c4ccd8a8880f60985b268",
            "8571e2d6c72a4ae1bac2b84b67aca9f0",
            "c9a53e4f82054ebb8ea41f168360a5d2",
            "948b0675888b43ecafc2f08124d3b739",
            "d3b6262e7ac64be7aa931c227c2554bf"
          ]
        },
        "id": "b30530e9-326e-41cb-a5ec-ff95b457a240",
        "outputId": "ced11cd3-db91-4060-f290-3528579e226e"
      },
      "outputs": [
        {
          "output_type": "display_data",
          "data": {
            "text/plain": [
              "Query is running:   0%|          |"
            ],
            "application/vnd.jupyter.widget-view+json": {
              "version_major": 2,
              "version_minor": 0,
              "model_id": "f0316533d9a8456fb87476fb7e289105"
            }
          },
          "metadata": {}
        },
        {
          "output_type": "display_data",
          "data": {
            "text/plain": [
              "Downloading:   0%|          |"
            ],
            "application/vnd.jupyter.widget-view+json": {
              "version_major": 2,
              "version_minor": 0,
              "model_id": "4206c7afd46e4d818700fda790ac9f99"
            }
          },
          "metadata": {}
        }
      ],
      "source": [
        "%%bigquery data --project $project_name\n",
        "SELECT user_pseudo_id,event_date,ecommerce\n",
        "FROM `bigquery-public-data.ga4_obfuscated_sample_ecommerce.events_*`\n",
        "WHERE event_name = \"purchase\""
      ]
    },
    {
      "cell_type": "code",
      "execution_count": null,
      "id": "780225ea-9432-46fa-aae0-917624bf4d5a",
      "metadata": {
        "id": "780225ea-9432-46fa-aae0-917624bf4d5a"
      },
      "outputs": [],
      "source": [
        "# make a copy in case we need to revert back to original table at any point\n",
        "df = data.copy()"
      ]
    },
    {
      "cell_type": "code",
      "execution_count": null,
      "id": "68e463d0-acb3-4b4b-a224-50f3d53155de",
      "metadata": {
        "colab": {
          "base_uri": "https://localhost:8080/",
          "height": 206
        },
        "id": "68e463d0-acb3-4b4b-a224-50f3d53155de",
        "outputId": "866a8ea9-a18f-4f9f-d685-932b42dff7f3"
      },
      "outputs": [
        {
          "output_type": "execute_result",
          "data": {
            "text/plain": [
              "       user_pseudo_id event_date  \\\n",
              "0  1245203.1205410719   20201223   \n",
              "1  1685178.0670336190   20201223   \n",
              "2  3577806.2578587674   20201223   \n",
              "3  4707239.1008432127   20201223   \n",
              "4  4997326.4756259004   20201223   \n",
              "\n",
              "                                           ecommerce  \n",
              "0  {'total_item_quantity': 1, 'purchase_revenue_i...  \n",
              "1  {'total_item_quantity': 1, 'purchase_revenue_i...  \n",
              "2  {'total_item_quantity': 1, 'purchase_revenue_i...  \n",
              "3  {'total_item_quantity': 1, 'purchase_revenue_i...  \n",
              "4  {'total_item_quantity': 1, 'purchase_revenue_i...  "
            ],
            "text/html": [
              "\n",
              "  <div id=\"df-09d4f041-5f8e-40a4-a676-4ca6f1a10f9b\">\n",
              "    <div class=\"colab-df-container\">\n",
              "      <div>\n",
              "<style scoped>\n",
              "    .dataframe tbody tr th:only-of-type {\n",
              "        vertical-align: middle;\n",
              "    }\n",
              "\n",
              "    .dataframe tbody tr th {\n",
              "        vertical-align: top;\n",
              "    }\n",
              "\n",
              "    .dataframe thead th {\n",
              "        text-align: right;\n",
              "    }\n",
              "</style>\n",
              "<table border=\"1\" class=\"dataframe\">\n",
              "  <thead>\n",
              "    <tr style=\"text-align: right;\">\n",
              "      <th></th>\n",
              "      <th>user_pseudo_id</th>\n",
              "      <th>event_date</th>\n",
              "      <th>ecommerce</th>\n",
              "    </tr>\n",
              "  </thead>\n",
              "  <tbody>\n",
              "    <tr>\n",
              "      <th>0</th>\n",
              "      <td>1245203.1205410719</td>\n",
              "      <td>20201223</td>\n",
              "      <td>{'total_item_quantity': 1, 'purchase_revenue_i...</td>\n",
              "    </tr>\n",
              "    <tr>\n",
              "      <th>1</th>\n",
              "      <td>1685178.0670336190</td>\n",
              "      <td>20201223</td>\n",
              "      <td>{'total_item_quantity': 1, 'purchase_revenue_i...</td>\n",
              "    </tr>\n",
              "    <tr>\n",
              "      <th>2</th>\n",
              "      <td>3577806.2578587674</td>\n",
              "      <td>20201223</td>\n",
              "      <td>{'total_item_quantity': 1, 'purchase_revenue_i...</td>\n",
              "    </tr>\n",
              "    <tr>\n",
              "      <th>3</th>\n",
              "      <td>4707239.1008432127</td>\n",
              "      <td>20201223</td>\n",
              "      <td>{'total_item_quantity': 1, 'purchase_revenue_i...</td>\n",
              "    </tr>\n",
              "    <tr>\n",
              "      <th>4</th>\n",
              "      <td>4997326.4756259004</td>\n",
              "      <td>20201223</td>\n",
              "      <td>{'total_item_quantity': 1, 'purchase_revenue_i...</td>\n",
              "    </tr>\n",
              "  </tbody>\n",
              "</table>\n",
              "</div>\n",
              "      <button class=\"colab-df-convert\" onclick=\"convertToInteractive('df-09d4f041-5f8e-40a4-a676-4ca6f1a10f9b')\"\n",
              "              title=\"Convert this dataframe to an interactive table.\"\n",
              "              style=\"display:none;\">\n",
              "        \n",
              "  <svg xmlns=\"http://www.w3.org/2000/svg\" height=\"24px\"viewBox=\"0 0 24 24\"\n",
              "       width=\"24px\">\n",
              "    <path d=\"M0 0h24v24H0V0z\" fill=\"none\"/>\n",
              "    <path d=\"M18.56 5.44l.94 2.06.94-2.06 2.06-.94-2.06-.94-.94-2.06-.94 2.06-2.06.94zm-11 1L8.5 8.5l.94-2.06 2.06-.94-2.06-.94L8.5 2.5l-.94 2.06-2.06.94zm10 10l.94 2.06.94-2.06 2.06-.94-2.06-.94-.94-2.06-.94 2.06-2.06.94z\"/><path d=\"M17.41 7.96l-1.37-1.37c-.4-.4-.92-.59-1.43-.59-.52 0-1.04.2-1.43.59L10.3 9.45l-7.72 7.72c-.78.78-.78 2.05 0 2.83L4 21.41c.39.39.9.59 1.41.59.51 0 1.02-.2 1.41-.59l7.78-7.78 2.81-2.81c.8-.78.8-2.07 0-2.86zM5.41 20L4 18.59l7.72-7.72 1.47 1.35L5.41 20z\"/>\n",
              "  </svg>\n",
              "      </button>\n",
              "      \n",
              "  <style>\n",
              "    .colab-df-container {\n",
              "      display:flex;\n",
              "      flex-wrap:wrap;\n",
              "      gap: 12px;\n",
              "    }\n",
              "\n",
              "    .colab-df-convert {\n",
              "      background-color: #E8F0FE;\n",
              "      border: none;\n",
              "      border-radius: 50%;\n",
              "      cursor: pointer;\n",
              "      display: none;\n",
              "      fill: #1967D2;\n",
              "      height: 32px;\n",
              "      padding: 0 0 0 0;\n",
              "      width: 32px;\n",
              "    }\n",
              "\n",
              "    .colab-df-convert:hover {\n",
              "      background-color: #E2EBFA;\n",
              "      box-shadow: 0px 1px 2px rgba(60, 64, 67, 0.3), 0px 1px 3px 1px rgba(60, 64, 67, 0.15);\n",
              "      fill: #174EA6;\n",
              "    }\n",
              "\n",
              "    [theme=dark] .colab-df-convert {\n",
              "      background-color: #3B4455;\n",
              "      fill: #D2E3FC;\n",
              "    }\n",
              "\n",
              "    [theme=dark] .colab-df-convert:hover {\n",
              "      background-color: #434B5C;\n",
              "      box-shadow: 0px 1px 3px 1px rgba(0, 0, 0, 0.15);\n",
              "      filter: drop-shadow(0px 1px 2px rgba(0, 0, 0, 0.3));\n",
              "      fill: #FFFFFF;\n",
              "    }\n",
              "  </style>\n",
              "\n",
              "      <script>\n",
              "        const buttonEl =\n",
              "          document.querySelector('#df-09d4f041-5f8e-40a4-a676-4ca6f1a10f9b button.colab-df-convert');\n",
              "        buttonEl.style.display =\n",
              "          google.colab.kernel.accessAllowed ? 'block' : 'none';\n",
              "\n",
              "        async function convertToInteractive(key) {\n",
              "          const element = document.querySelector('#df-09d4f041-5f8e-40a4-a676-4ca6f1a10f9b');\n",
              "          const dataTable =\n",
              "            await google.colab.kernel.invokeFunction('convertToInteractive',\n",
              "                                                     [key], {});\n",
              "          if (!dataTable) return;\n",
              "\n",
              "          const docLinkHtml = 'Like what you see? Visit the ' +\n",
              "            '<a target=\"_blank\" href=https://colab.research.google.com/notebooks/data_table.ipynb>data table notebook</a>'\n",
              "            + ' to learn more about interactive tables.';\n",
              "          element.innerHTML = '';\n",
              "          dataTable['output_type'] = 'display_data';\n",
              "          await google.colab.output.renderOutput(dataTable, element);\n",
              "          const docLink = document.createElement('div');\n",
              "          docLink.innerHTML = docLinkHtml;\n",
              "          element.appendChild(docLink);\n",
              "        }\n",
              "      </script>\n",
              "    </div>\n",
              "  </div>\n",
              "  "
            ]
          },
          "metadata": {},
          "execution_count": 5
        }
      ],
      "source": [
        "df.head()"
      ]
    },
    {
      "cell_type": "markdown",
      "id": "ac812021-3d7b-4711-971f-8ee2aba0b616",
      "metadata": {
        "id": "ac812021-3d7b-4711-971f-8ee2aba0b616"
      },
      "source": [
        "## Set cutoff date and filter out post-cutoff data"
      ]
    },
    {
      "cell_type": "code",
      "execution_count": null,
      "id": "af97a13a-5209-4665-8106-0a069027d8af",
      "metadata": {
        "id": "af97a13a-5209-4665-8106-0a069027d8af"
      },
      "outputs": [],
      "source": [
        "# convert even_date feature to datetime dtype\n",
        "df[\"event_date\"] = pd.to_datetime(df[\"event_date\"])"
      ]
    },
    {
      "cell_type": "code",
      "execution_count": null,
      "id": "31291e8e-1903-4748-bc5b-b24d3fe81fb3",
      "metadata": {
        "colab": {
          "base_uri": "https://localhost:8080/"
        },
        "id": "31291e8e-1903-4748-bc5b-b24d3fe81fb3",
        "outputId": "ef64ce37-ce5b-4b54-f33f-78198435cb74"
      },
      "outputs": [
        {
          "output_type": "stream",
          "name": "stdout",
          "text": [
            "2021-01-03 00:00:00\n"
          ]
        }
      ],
      "source": [
        "# set Cutoff Date at 28 days prior to the end of the data set range; update this value if you're using different time lengths\n",
        "cutoff_date = df[\"event_date\"].max() - timedelta(days=28)\n",
        "print(cutoff_date)"
      ]
    },
    {
      "cell_type": "markdown",
      "id": "6d3b42fe-983a-4a5f-8aa9-b49fe944557a",
      "metadata": {
        "id": "6d3b42fe-983a-4a5f-8aa9-b49fe944557a"
      },
      "source": [
        "## Unnest `ecommerce` column to get purchase revenue"
      ]
    },
    {
      "cell_type": "code",
      "execution_count": null,
      "id": "c8b1bc88-1a7e-48a5-9a0c-b8f3d1356ef5",
      "metadata": {
        "id": "c8b1bc88-1a7e-48a5-9a0c-b8f3d1356ef5"
      },
      "outputs": [],
      "source": [
        "df = pd.concat([df, df[\"ecommerce\"].apply(pd.Series)], axis=1)\n",
        "df.drop(columns=\"ecommerce\", axis=1, inplace=True)"
      ]
    },
    {
      "cell_type": "code",
      "execution_count": null,
      "id": "ded25f55-7bcb-4e88-a66f-ceeb3ce20fab",
      "metadata": {
        "colab": {
          "base_uri": "https://localhost:8080/",
          "height": 270
        },
        "id": "ded25f55-7bcb-4e88-a66f-ceeb3ce20fab",
        "outputId": "b2482242-5d51-4185-8452-19866ba51cb0"
      },
      "outputs": [
        {
          "output_type": "execute_result",
          "data": {
            "text/plain": [
              "       user_pseudo_id event_date  total_item_quantity  \\\n",
              "0  1245203.1205410719 2020-12-23                1.000   \n",
              "1  1685178.0670336190 2020-12-23                1.000   \n",
              "2  3577806.2578587674 2020-12-23                1.000   \n",
              "3  4707239.1008432127 2020-12-23                1.000   \n",
              "4  4997326.4756259004 2020-12-23                1.000   \n",
              "\n",
              "   purchase_revenue_in_usd  purchase_revenue  refund_value_in_usd  \\\n",
              "0                   55.000            55.000                  NaN   \n",
              "1                   92.000            92.000                  NaN   \n",
              "2                   22.000            22.000                  NaN   \n",
              "3                   44.000            44.000                  NaN   \n",
              "4                   19.000            19.000                  NaN   \n",
              "\n",
              "   refund_value  shipping_value_in_usd  shipping_value  tax_value_in_usd  \\\n",
              "0           NaN                    NaN             NaN             6.000   \n",
              "1           NaN                    NaN             NaN             9.000   \n",
              "2           NaN                    NaN             NaN             3.000   \n",
              "3           NaN                    NaN             NaN             0.000   \n",
              "4           NaN                    NaN             NaN             2.000   \n",
              "\n",
              "   tax_value  unique_items transaction_id  \n",
              "0      6.000         1.000         574807  \n",
              "1      9.000         1.000         335627  \n",
              "2      3.000         1.000          26005  \n",
              "3      0.000         1.000         396331  \n",
              "4      2.000         1.000          20653  "
            ],
            "text/html": [
              "\n",
              "  <div id=\"df-5bfdfdd5-dfb5-4d1e-9eca-1a581e3f26c2\">\n",
              "    <div class=\"colab-df-container\">\n",
              "      <div>\n",
              "<style scoped>\n",
              "    .dataframe tbody tr th:only-of-type {\n",
              "        vertical-align: middle;\n",
              "    }\n",
              "\n",
              "    .dataframe tbody tr th {\n",
              "        vertical-align: top;\n",
              "    }\n",
              "\n",
              "    .dataframe thead th {\n",
              "        text-align: right;\n",
              "    }\n",
              "</style>\n",
              "<table border=\"1\" class=\"dataframe\">\n",
              "  <thead>\n",
              "    <tr style=\"text-align: right;\">\n",
              "      <th></th>\n",
              "      <th>user_pseudo_id</th>\n",
              "      <th>event_date</th>\n",
              "      <th>total_item_quantity</th>\n",
              "      <th>purchase_revenue_in_usd</th>\n",
              "      <th>purchase_revenue</th>\n",
              "      <th>refund_value_in_usd</th>\n",
              "      <th>refund_value</th>\n",
              "      <th>shipping_value_in_usd</th>\n",
              "      <th>shipping_value</th>\n",
              "      <th>tax_value_in_usd</th>\n",
              "      <th>tax_value</th>\n",
              "      <th>unique_items</th>\n",
              "      <th>transaction_id</th>\n",
              "    </tr>\n",
              "  </thead>\n",
              "  <tbody>\n",
              "    <tr>\n",
              "      <th>0</th>\n",
              "      <td>1245203.1205410719</td>\n",
              "      <td>2020-12-23</td>\n",
              "      <td>1.000</td>\n",
              "      <td>55.000</td>\n",
              "      <td>55.000</td>\n",
              "      <td>NaN</td>\n",
              "      <td>NaN</td>\n",
              "      <td>NaN</td>\n",
              "      <td>NaN</td>\n",
              "      <td>6.000</td>\n",
              "      <td>6.000</td>\n",
              "      <td>1.000</td>\n",
              "      <td>574807</td>\n",
              "    </tr>\n",
              "    <tr>\n",
              "      <th>1</th>\n",
              "      <td>1685178.0670336190</td>\n",
              "      <td>2020-12-23</td>\n",
              "      <td>1.000</td>\n",
              "      <td>92.000</td>\n",
              "      <td>92.000</td>\n",
              "      <td>NaN</td>\n",
              "      <td>NaN</td>\n",
              "      <td>NaN</td>\n",
              "      <td>NaN</td>\n",
              "      <td>9.000</td>\n",
              "      <td>9.000</td>\n",
              "      <td>1.000</td>\n",
              "      <td>335627</td>\n",
              "    </tr>\n",
              "    <tr>\n",
              "      <th>2</th>\n",
              "      <td>3577806.2578587674</td>\n",
              "      <td>2020-12-23</td>\n",
              "      <td>1.000</td>\n",
              "      <td>22.000</td>\n",
              "      <td>22.000</td>\n",
              "      <td>NaN</td>\n",
              "      <td>NaN</td>\n",
              "      <td>NaN</td>\n",
              "      <td>NaN</td>\n",
              "      <td>3.000</td>\n",
              "      <td>3.000</td>\n",
              "      <td>1.000</td>\n",
              "      <td>26005</td>\n",
              "    </tr>\n",
              "    <tr>\n",
              "      <th>3</th>\n",
              "      <td>4707239.1008432127</td>\n",
              "      <td>2020-12-23</td>\n",
              "      <td>1.000</td>\n",
              "      <td>44.000</td>\n",
              "      <td>44.000</td>\n",
              "      <td>NaN</td>\n",
              "      <td>NaN</td>\n",
              "      <td>NaN</td>\n",
              "      <td>NaN</td>\n",
              "      <td>0.000</td>\n",
              "      <td>0.000</td>\n",
              "      <td>1.000</td>\n",
              "      <td>396331</td>\n",
              "    </tr>\n",
              "    <tr>\n",
              "      <th>4</th>\n",
              "      <td>4997326.4756259004</td>\n",
              "      <td>2020-12-23</td>\n",
              "      <td>1.000</td>\n",
              "      <td>19.000</td>\n",
              "      <td>19.000</td>\n",
              "      <td>NaN</td>\n",
              "      <td>NaN</td>\n",
              "      <td>NaN</td>\n",
              "      <td>NaN</td>\n",
              "      <td>2.000</td>\n",
              "      <td>2.000</td>\n",
              "      <td>1.000</td>\n",
              "      <td>20653</td>\n",
              "    </tr>\n",
              "  </tbody>\n",
              "</table>\n",
              "</div>\n",
              "      <button class=\"colab-df-convert\" onclick=\"convertToInteractive('df-5bfdfdd5-dfb5-4d1e-9eca-1a581e3f26c2')\"\n",
              "              title=\"Convert this dataframe to an interactive table.\"\n",
              "              style=\"display:none;\">\n",
              "        \n",
              "  <svg xmlns=\"http://www.w3.org/2000/svg\" height=\"24px\"viewBox=\"0 0 24 24\"\n",
              "       width=\"24px\">\n",
              "    <path d=\"M0 0h24v24H0V0z\" fill=\"none\"/>\n",
              "    <path d=\"M18.56 5.44l.94 2.06.94-2.06 2.06-.94-2.06-.94-.94-2.06-.94 2.06-2.06.94zm-11 1L8.5 8.5l.94-2.06 2.06-.94-2.06-.94L8.5 2.5l-.94 2.06-2.06.94zm10 10l.94 2.06.94-2.06 2.06-.94-2.06-.94-.94-2.06-.94 2.06-2.06.94z\"/><path d=\"M17.41 7.96l-1.37-1.37c-.4-.4-.92-.59-1.43-.59-.52 0-1.04.2-1.43.59L10.3 9.45l-7.72 7.72c-.78.78-.78 2.05 0 2.83L4 21.41c.39.39.9.59 1.41.59.51 0 1.02-.2 1.41-.59l7.78-7.78 2.81-2.81c.8-.78.8-2.07 0-2.86zM5.41 20L4 18.59l7.72-7.72 1.47 1.35L5.41 20z\"/>\n",
              "  </svg>\n",
              "      </button>\n",
              "      \n",
              "  <style>\n",
              "    .colab-df-container {\n",
              "      display:flex;\n",
              "      flex-wrap:wrap;\n",
              "      gap: 12px;\n",
              "    }\n",
              "\n",
              "    .colab-df-convert {\n",
              "      background-color: #E8F0FE;\n",
              "      border: none;\n",
              "      border-radius: 50%;\n",
              "      cursor: pointer;\n",
              "      display: none;\n",
              "      fill: #1967D2;\n",
              "      height: 32px;\n",
              "      padding: 0 0 0 0;\n",
              "      width: 32px;\n",
              "    }\n",
              "\n",
              "    .colab-df-convert:hover {\n",
              "      background-color: #E2EBFA;\n",
              "      box-shadow: 0px 1px 2px rgba(60, 64, 67, 0.3), 0px 1px 3px 1px rgba(60, 64, 67, 0.15);\n",
              "      fill: #174EA6;\n",
              "    }\n",
              "\n",
              "    [theme=dark] .colab-df-convert {\n",
              "      background-color: #3B4455;\n",
              "      fill: #D2E3FC;\n",
              "    }\n",
              "\n",
              "    [theme=dark] .colab-df-convert:hover {\n",
              "      background-color: #434B5C;\n",
              "      box-shadow: 0px 1px 3px 1px rgba(0, 0, 0, 0.15);\n",
              "      filter: drop-shadow(0px 1px 2px rgba(0, 0, 0, 0.3));\n",
              "      fill: #FFFFFF;\n",
              "    }\n",
              "  </style>\n",
              "\n",
              "      <script>\n",
              "        const buttonEl =\n",
              "          document.querySelector('#df-5bfdfdd5-dfb5-4d1e-9eca-1a581e3f26c2 button.colab-df-convert');\n",
              "        buttonEl.style.display =\n",
              "          google.colab.kernel.accessAllowed ? 'block' : 'none';\n",
              "\n",
              "        async function convertToInteractive(key) {\n",
              "          const element = document.querySelector('#df-5bfdfdd5-dfb5-4d1e-9eca-1a581e3f26c2');\n",
              "          const dataTable =\n",
              "            await google.colab.kernel.invokeFunction('convertToInteractive',\n",
              "                                                     [key], {});\n",
              "          if (!dataTable) return;\n",
              "\n",
              "          const docLinkHtml = 'Like what you see? Visit the ' +\n",
              "            '<a target=\"_blank\" href=https://colab.research.google.com/notebooks/data_table.ipynb>data table notebook</a>'\n",
              "            + ' to learn more about interactive tables.';\n",
              "          element.innerHTML = '';\n",
              "          dataTable['output_type'] = 'display_data';\n",
              "          await google.colab.output.renderOutput(dataTable, element);\n",
              "          const docLink = document.createElement('div');\n",
              "          docLink.innerHTML = docLinkHtml;\n",
              "          element.appendChild(docLink);\n",
              "        }\n",
              "      </script>\n",
              "    </div>\n",
              "  </div>\n",
              "  "
            ]
          },
          "metadata": {},
          "execution_count": 9
        }
      ],
      "source": [
        "# inpect top 5 rows of df\n",
        "df.head()"
      ]
    },
    {
      "cell_type": "markdown",
      "source": [
        "## Create our table for defining the target"
      ],
      "metadata": {
        "id": "8RdmSUNyjM1u"
      },
      "id": "8RdmSUNyjM1u"
    },
    {
      "cell_type": "markdown",
      "id": "047dbe20-0c8e-43d4-9a9a-27befd386576",
      "metadata": {
        "id": "047dbe20-0c8e-43d4-9a9a-27befd386576"
      },
      "source": [
        "Isolate columns required for defining churn and drop duplicate rows. Columns to keep:\n",
        "- `user_pseudo_id`\n",
        "- `transaction_id`\n",
        "- `event_date`\n",
        "- `purchase_revenue_in_usd`"
      ]
    },
    {
      "cell_type": "code",
      "source": [
        "df = df[\n",
        "    [\"user_pseudo_id\", \"transaction_id\",\"event_date\", \"purchase_revenue_in_usd\"]\n",
        "].drop_duplicates(subset=None, keep=\"first\")"
      ],
      "metadata": {
        "id": "bvFnJzZ_ipcj"
      },
      "id": "bvFnJzZ_ipcj",
      "execution_count": null,
      "outputs": []
    },
    {
      "cell_type": "markdown",
      "id": "6d0757d4-c66b-48d8-9a26-a5d07d5267cd",
      "metadata": {
        "id": "6d0757d4-c66b-48d8-9a26-a5d07d5267cd"
      },
      "source": [
        "Group by `user_pseudo_id` and `event_date`, and sum `purchase_revenue_in_usd`"
      ]
    },
    {
      "cell_type": "code",
      "execution_count": null,
      "id": "7e74e699-a80f-446c-be3f-38f52ae83dbd",
      "metadata": {
        "id": "7e74e699-a80f-446c-be3f-38f52ae83dbd"
      },
      "outputs": [],
      "source": [
        "df = df.groupby([\"user_pseudo_id\", \"event_date\"]).agg(\n",
        "    {\n",
        "        \"purchase_revenue_in_usd\": \"sum\",\n",
        "    }\n",
        ")\n",
        "df.reset_index(inplace=True)"
      ]
    },
    {
      "cell_type": "code",
      "execution_count": null,
      "id": "5b264077-94ed-4273-ac18-dc5e2a21ba04",
      "metadata": {
        "colab": {
          "base_uri": "https://localhost:8080/",
          "height": 206
        },
        "id": "5b264077-94ed-4273-ac18-dc5e2a21ba04",
        "outputId": "86dd0652-7b02-4850-815b-ff74e1785cfb"
      },
      "outputs": [
        {
          "output_type": "execute_result",
          "data": {
            "text/plain": [
              "        user_pseudo_id event_date  purchase_revenue_in_usd\n",
              "0  10092926.3786306416 2021-01-22                   90.000\n",
              "1  10111055.8768683862 2020-12-10                   94.000\n",
              "2   1014825.0200289249 2020-11-03                  183.000\n",
              "3   1016446.8237887674 2020-12-21                   86.000\n",
              "4  10172849.5375293351 2020-12-09                  156.000"
            ],
            "text/html": [
              "\n",
              "  <div id=\"df-27d89127-91c7-4a86-b6b7-0f9ff37321db\">\n",
              "    <div class=\"colab-df-container\">\n",
              "      <div>\n",
              "<style scoped>\n",
              "    .dataframe tbody tr th:only-of-type {\n",
              "        vertical-align: middle;\n",
              "    }\n",
              "\n",
              "    .dataframe tbody tr th {\n",
              "        vertical-align: top;\n",
              "    }\n",
              "\n",
              "    .dataframe thead th {\n",
              "        text-align: right;\n",
              "    }\n",
              "</style>\n",
              "<table border=\"1\" class=\"dataframe\">\n",
              "  <thead>\n",
              "    <tr style=\"text-align: right;\">\n",
              "      <th></th>\n",
              "      <th>user_pseudo_id</th>\n",
              "      <th>event_date</th>\n",
              "      <th>purchase_revenue_in_usd</th>\n",
              "    </tr>\n",
              "  </thead>\n",
              "  <tbody>\n",
              "    <tr>\n",
              "      <th>0</th>\n",
              "      <td>10092926.3786306416</td>\n",
              "      <td>2021-01-22</td>\n",
              "      <td>90.000</td>\n",
              "    </tr>\n",
              "    <tr>\n",
              "      <th>1</th>\n",
              "      <td>10111055.8768683862</td>\n",
              "      <td>2020-12-10</td>\n",
              "      <td>94.000</td>\n",
              "    </tr>\n",
              "    <tr>\n",
              "      <th>2</th>\n",
              "      <td>1014825.0200289249</td>\n",
              "      <td>2020-11-03</td>\n",
              "      <td>183.000</td>\n",
              "    </tr>\n",
              "    <tr>\n",
              "      <th>3</th>\n",
              "      <td>1016446.8237887674</td>\n",
              "      <td>2020-12-21</td>\n",
              "      <td>86.000</td>\n",
              "    </tr>\n",
              "    <tr>\n",
              "      <th>4</th>\n",
              "      <td>10172849.5375293351</td>\n",
              "      <td>2020-12-09</td>\n",
              "      <td>156.000</td>\n",
              "    </tr>\n",
              "  </tbody>\n",
              "</table>\n",
              "</div>\n",
              "      <button class=\"colab-df-convert\" onclick=\"convertToInteractive('df-27d89127-91c7-4a86-b6b7-0f9ff37321db')\"\n",
              "              title=\"Convert this dataframe to an interactive table.\"\n",
              "              style=\"display:none;\">\n",
              "        \n",
              "  <svg xmlns=\"http://www.w3.org/2000/svg\" height=\"24px\"viewBox=\"0 0 24 24\"\n",
              "       width=\"24px\">\n",
              "    <path d=\"M0 0h24v24H0V0z\" fill=\"none\"/>\n",
              "    <path d=\"M18.56 5.44l.94 2.06.94-2.06 2.06-.94-2.06-.94-.94-2.06-.94 2.06-2.06.94zm-11 1L8.5 8.5l.94-2.06 2.06-.94-2.06-.94L8.5 2.5l-.94 2.06-2.06.94zm10 10l.94 2.06.94-2.06 2.06-.94-2.06-.94-.94-2.06-.94 2.06-2.06.94z\"/><path d=\"M17.41 7.96l-1.37-1.37c-.4-.4-.92-.59-1.43-.59-.52 0-1.04.2-1.43.59L10.3 9.45l-7.72 7.72c-.78.78-.78 2.05 0 2.83L4 21.41c.39.39.9.59 1.41.59.51 0 1.02-.2 1.41-.59l7.78-7.78 2.81-2.81c.8-.78.8-2.07 0-2.86zM5.41 20L4 18.59l7.72-7.72 1.47 1.35L5.41 20z\"/>\n",
              "  </svg>\n",
              "      </button>\n",
              "      \n",
              "  <style>\n",
              "    .colab-df-container {\n",
              "      display:flex;\n",
              "      flex-wrap:wrap;\n",
              "      gap: 12px;\n",
              "    }\n",
              "\n",
              "    .colab-df-convert {\n",
              "      background-color: #E8F0FE;\n",
              "      border: none;\n",
              "      border-radius: 50%;\n",
              "      cursor: pointer;\n",
              "      display: none;\n",
              "      fill: #1967D2;\n",
              "      height: 32px;\n",
              "      padding: 0 0 0 0;\n",
              "      width: 32px;\n",
              "    }\n",
              "\n",
              "    .colab-df-convert:hover {\n",
              "      background-color: #E2EBFA;\n",
              "      box-shadow: 0px 1px 2px rgba(60, 64, 67, 0.3), 0px 1px 3px 1px rgba(60, 64, 67, 0.15);\n",
              "      fill: #174EA6;\n",
              "    }\n",
              "\n",
              "    [theme=dark] .colab-df-convert {\n",
              "      background-color: #3B4455;\n",
              "      fill: #D2E3FC;\n",
              "    }\n",
              "\n",
              "    [theme=dark] .colab-df-convert:hover {\n",
              "      background-color: #434B5C;\n",
              "      box-shadow: 0px 1px 3px 1px rgba(0, 0, 0, 0.15);\n",
              "      filter: drop-shadow(0px 1px 2px rgba(0, 0, 0, 0.3));\n",
              "      fill: #FFFFFF;\n",
              "    }\n",
              "  </style>\n",
              "\n",
              "      <script>\n",
              "        const buttonEl =\n",
              "          document.querySelector('#df-27d89127-91c7-4a86-b6b7-0f9ff37321db button.colab-df-convert');\n",
              "        buttonEl.style.display =\n",
              "          google.colab.kernel.accessAllowed ? 'block' : 'none';\n",
              "\n",
              "        async function convertToInteractive(key) {\n",
              "          const element = document.querySelector('#df-27d89127-91c7-4a86-b6b7-0f9ff37321db');\n",
              "          const dataTable =\n",
              "            await google.colab.kernel.invokeFunction('convertToInteractive',\n",
              "                                                     [key], {});\n",
              "          if (!dataTable) return;\n",
              "\n",
              "          const docLinkHtml = 'Like what you see? Visit the ' +\n",
              "            '<a target=\"_blank\" href=https://colab.research.google.com/notebooks/data_table.ipynb>data table notebook</a>'\n",
              "            + ' to learn more about interactive tables.';\n",
              "          element.innerHTML = '';\n",
              "          dataTable['output_type'] = 'display_data';\n",
              "          await google.colab.output.renderOutput(dataTable, element);\n",
              "          const docLink = document.createElement('div');\n",
              "          docLink.innerHTML = docLinkHtml;\n",
              "          element.appendChild(docLink);\n",
              "        }\n",
              "      </script>\n",
              "    </div>\n",
              "  </div>\n",
              "  "
            ]
          },
          "metadata": {},
          "execution_count": 12
        }
      ],
      "source": [
        "df.head()"
      ]
    },
    {
      "cell_type": "markdown",
      "id": "c7550e91-b45b-4901-b87a-241377bc13ec",
      "metadata": {
        "id": "c7550e91-b45b-4901-b87a-241377bc13ec"
      },
      "source": [
        "Check the distribution of `purchase_revenue_in_usd`"
      ]
    },
    {
      "cell_type": "code",
      "execution_count": null,
      "id": "0b4e2a1f-dc14-422b-87fb-f6b57d00a831",
      "metadata": {
        "colab": {
          "base_uri": "https://localhost:8080/",
          "height": 226
        },
        "id": "0b4e2a1f-dc14-422b-87fb-f6b57d00a831",
        "outputId": "565014cb-36c3-41c6-b150-b4264ae2a2fc"
      },
      "outputs": [
        {
          "output_type": "display_data",
          "data": {
            "text/plain": [
              "<Figure size 1080x216 with 1 Axes>"
            ],
            "image/png": "[encoded data removed]"
          },
          "metadata": {
            "needs_background": "light"
          }
        }
      ],
      "source": [
        "plt.figure(figsize=(15,3))\n",
        "sns.histplot(data = df,x = \"purchase_revenue_in_usd\");"
      ]
    },
    {
      "cell_type": "markdown",
      "id": "1449d542-45e2-408d-b357-2ea67283b9a1",
      "metadata": {
        "id": "1449d542-45e2-408d-b357-2ea67283b9a1"
      },
      "source": [
        "### Sort records in ascending order by user in preparation for building a true time series"
      ]
    },
    {
      "cell_type": "code",
      "execution_count": null,
      "id": "addf015a-960c-453d-b7e9-2fd540744c51",
      "metadata": {
        "id": "addf015a-960c-453d-b7e9-2fd540744c51"
      },
      "outputs": [],
      "source": [
        "idx = pd.MultiIndex.from_product(\n",
        "    (df[\"event_date\"], df[\"user_pseudo_id\"].unique()),\n",
        "    names=[\"event_date\", \"user_pseudo_id\"],\n",
        ")"
      ]
    },
    {
      "cell_type": "markdown",
      "id": "d9e322d0-c22a-47a9-adb8-9f8219b28eff",
      "metadata": {
        "id": "d9e322d0-c22a-47a9-adb8-9f8219b28eff"
      },
      "source": [
        "### Fill in missing dates and assign values of 0\n",
        "\n",
        "To calculate moving averages, we need to have every day accounted for in the table for each user, not just rows with purchase activity."
      ]
    },
    {
      "cell_type": "code",
      "execution_count": null,
      "id": "d0de3d17-da8e-47ea-b777-4625a635e8c7",
      "metadata": {
        "id": "d0de3d17-da8e-47ea-b777-4625a635e8c7"
      },
      "outputs": [],
      "source": [
        "df = (\n",
        "    df.set_index([\"event_date\", \"user_pseudo_id\"])\n",
        "    .reindex(idx, fill_value=0)\n",
        "    .reset_index()\n",
        "    .sort_values(by=[\"user_pseudo_id\", \"event_date\"], ascending=[True, True])\n",
        "    .reset_index(drop=True)\n",
        ")"
      ]
    },
    {
      "cell_type": "code",
      "execution_count": null,
      "id": "afe1659a-1e76-4072-b578-db789f0ff5a6",
      "metadata": {
        "id": "afe1659a-1e76-4072-b578-db789f0ff5a6"
      },
      "outputs": [],
      "source": [
        "# drop potential duplicates; it's good practice to do this to be sure the data is clean\n",
        "df = df[\n",
        "    [\"user_pseudo_id\", \"event_date\", \"purchase_revenue_in_usd\"]\n",
        "].drop_duplicates(subset=None, keep=\"first\")"
      ]
    },
    {
      "cell_type": "code",
      "execution_count": null,
      "id": "9bdaf199-d0cf-4f15-b510-4c8749dae698",
      "metadata": {
        "colab": {
          "base_uri": "https://localhost:8080/",
          "height": 206
        },
        "id": "9bdaf199-d0cf-4f15-b510-4c8749dae698",
        "outputId": "95a035bf-f83c-4506-d8a3-da03d0cd5426"
      },
      "outputs": [
        {
          "output_type": "execute_result",
          "data": {
            "text/plain": [
              "          user_pseudo_id event_date  purchase_revenue_in_usd\n",
              "0    10092926.3786306416 2020-11-01                    0.000\n",
              "13   10092926.3786306416 2020-11-02                    0.000\n",
              "52   10092926.3786306416 2020-11-03                    0.000\n",
              "98   10092926.3786306416 2020-11-04                    0.000\n",
              "128  10092926.3786306416 2020-11-05                    0.000"
            ],
            "text/html": [
              "\n",
              "  <div id=\"df-211a9b86-c92d-44a7-aa9e-331d72eedf20\">\n",
              "    <div class=\"colab-df-container\">\n",
              "      <div>\n",
              "<style scoped>\n",
              "    .dataframe tbody tr th:only-of-type {\n",
              "        vertical-align: middle;\n",
              "    }\n",
              "\n",
              "    .dataframe tbody tr th {\n",
              "        vertical-align: top;\n",
              "    }\n",
              "\n",
              "    .dataframe thead th {\n",
              "        text-align: right;\n",
              "    }\n",
              "</style>\n",
              "<table border=\"1\" class=\"dataframe\">\n",
              "  <thead>\n",
              "    <tr style=\"text-align: right;\">\n",
              "      <th></th>\n",
              "      <th>user_pseudo_id</th>\n",
              "      <th>event_date</th>\n",
              "      <th>purchase_revenue_in_usd</th>\n",
              "    </tr>\n",
              "  </thead>\n",
              "  <tbody>\n",
              "    <tr>\n",
              "      <th>0</th>\n",
              "      <td>10092926.3786306416</td>\n",
              "      <td>2020-11-01</td>\n",
              "      <td>0.000</td>\n",
              "    </tr>\n",
              "    <tr>\n",
              "      <th>13</th>\n",
              "      <td>10092926.3786306416</td>\n",
              "      <td>2020-11-02</td>\n",
              "      <td>0.000</td>\n",
              "    </tr>\n",
              "    <tr>\n",
              "      <th>52</th>\n",
              "      <td>10092926.3786306416</td>\n",
              "      <td>2020-11-03</td>\n",
              "      <td>0.000</td>\n",
              "    </tr>\n",
              "    <tr>\n",
              "      <th>98</th>\n",
              "      <td>10092926.3786306416</td>\n",
              "      <td>2020-11-04</td>\n",
              "      <td>0.000</td>\n",
              "    </tr>\n",
              "    <tr>\n",
              "      <th>128</th>\n",
              "      <td>10092926.3786306416</td>\n",
              "      <td>2020-11-05</td>\n",
              "      <td>0.000</td>\n",
              "    </tr>\n",
              "  </tbody>\n",
              "</table>\n",
              "</div>\n",
              "      <button class=\"colab-df-convert\" onclick=\"convertToInteractive('df-211a9b86-c92d-44a7-aa9e-331d72eedf20')\"\n",
              "              title=\"Convert this dataframe to an interactive table.\"\n",
              "              style=\"display:none;\">\n",
              "        \n",
              "  <svg xmlns=\"http://www.w3.org/2000/svg\" height=\"24px\"viewBox=\"0 0 24 24\"\n",
              "       width=\"24px\">\n",
              "    <path d=\"M0 0h24v24H0V0z\" fill=\"none\"/>\n",
              "    <path d=\"M18.56 5.44l.94 2.06.94-2.06 2.06-.94-2.06-.94-.94-2.06-.94 2.06-2.06.94zm-11 1L8.5 8.5l.94-2.06 2.06-.94-2.06-.94L8.5 2.5l-.94 2.06-2.06.94zm10 10l.94 2.06.94-2.06 2.06-.94-2.06-.94-.94-2.06-.94 2.06-2.06.94z\"/><path d=\"M17.41 7.96l-1.37-1.37c-.4-.4-.92-.59-1.43-.59-.52 0-1.04.2-1.43.59L10.3 9.45l-7.72 7.72c-.78.78-.78 2.05 0 2.83L4 21.41c.39.39.9.59 1.41.59.51 0 1.02-.2 1.41-.59l7.78-7.78 2.81-2.81c.8-.78.8-2.07 0-2.86zM5.41 20L4 18.59l7.72-7.72 1.47 1.35L5.41 20z\"/>\n",
              "  </svg>\n",
              "      </button>\n",
              "      \n",
              "  <style>\n",
              "    .colab-df-container {\n",
              "      display:flex;\n",
              "      flex-wrap:wrap;\n",
              "      gap: 12px;\n",
              "    }\n",
              "\n",
              "    .colab-df-convert {\n",
              "      background-color: #E8F0FE;\n",
              "      border: none;\n",
              "      border-radius: 50%;\n",
              "      cursor: pointer;\n",
              "      display: none;\n",
              "      fill: #1967D2;\n",
              "      height: 32px;\n",
              "      padding: 0 0 0 0;\n",
              "      width: 32px;\n",
              "    }\n",
              "\n",
              "    .colab-df-convert:hover {\n",
              "      background-color: #E2EBFA;\n",
              "      box-shadow: 0px 1px 2px rgba(60, 64, 67, 0.3), 0px 1px 3px 1px rgba(60, 64, 67, 0.15);\n",
              "      fill: #174EA6;\n",
              "    }\n",
              "\n",
              "    [theme=dark] .colab-df-convert {\n",
              "      background-color: #3B4455;\n",
              "      fill: #D2E3FC;\n",
              "    }\n",
              "\n",
              "    [theme=dark] .colab-df-convert:hover {\n",
              "      background-color: #434B5C;\n",
              "      box-shadow: 0px 1px 3px 1px rgba(0, 0, 0, 0.15);\n",
              "      filter: drop-shadow(0px 1px 2px rgba(0, 0, 0, 0.3));\n",
              "      fill: #FFFFFF;\n",
              "    }\n",
              "  </style>\n",
              "\n",
              "      <script>\n",
              "        const buttonEl =\n",
              "          document.querySelector('#df-211a9b86-c92d-44a7-aa9e-331d72eedf20 button.colab-df-convert');\n",
              "        buttonEl.style.display =\n",
              "          google.colab.kernel.accessAllowed ? 'block' : 'none';\n",
              "\n",
              "        async function convertToInteractive(key) {\n",
              "          const element = document.querySelector('#df-211a9b86-c92d-44a7-aa9e-331d72eedf20');\n",
              "          const dataTable =\n",
              "            await google.colab.kernel.invokeFunction('convertToInteractive',\n",
              "                                                     [key], {});\n",
              "          if (!dataTable) return;\n",
              "\n",
              "          const docLinkHtml = 'Like what you see? Visit the ' +\n",
              "            '<a target=\"_blank\" href=https://colab.research.google.com/notebooks/data_table.ipynb>data table notebook</a>'\n",
              "            + ' to learn more about interactive tables.';\n",
              "          element.innerHTML = '';\n",
              "          dataTable['output_type'] = 'display_data';\n",
              "          await google.colab.output.renderOutput(dataTable, element);\n",
              "          const docLink = document.createElement('div');\n",
              "          docLink.innerHTML = docLinkHtml;\n",
              "          element.appendChild(docLink);\n",
              "        }\n",
              "      </script>\n",
              "    </div>\n",
              "  </div>\n",
              "  "
            ]
          },
          "metadata": {},
          "execution_count": 17
        }
      ],
      "source": [
        "# spot check the df\n",
        "df.head()"
      ]
    },
    {
      "cell_type": "markdown",
      "id": "0c90bc67-ea86-47a0-887b-f23064fb5067",
      "metadata": {
        "id": "0c90bc67-ea86-47a0-887b-f23064fb5067"
      },
      "source": [
        "### Calculate 28-day moving average for each customer and add as a column"
      ]
    },
    {
      "cell_type": "code",
      "execution_count": null,
      "id": "5e888569-2e91-41b8-9267-3be99dcbf0b4",
      "metadata": {
        "id": "5e888569-2e91-41b8-9267-3be99dcbf0b4"
      },
      "outputs": [],
      "source": [
        "# calculate 28-day moving average for each customer\n",
        "df[\"28ma\"] = df.groupby(\"user_pseudo_id\")[\n",
        "    \"purchase_revenue_in_usd\"\n",
        "].transform(lambda x: x.rolling(28, 1).mean())"
      ]
    },
    {
      "cell_type": "markdown",
      "id": "6ebb2b6c-42e1-48b3-9e7e-85fdcde718f8",
      "metadata": {
        "id": "6ebb2b6c-42e1-48b3-9e7e-85fdcde718f8"
      },
      "source": [
        "### Calculate 56-day standard deviation of the 28-day MA and add as a column"
      ]
    },
    {
      "cell_type": "code",
      "execution_count": null,
      "id": "55cdf8a6-edaa-4ce9-954a-0d72c4bf778a",
      "metadata": {
        "id": "55cdf8a6-edaa-4ce9-954a-0d72c4bf778a"
      },
      "outputs": [],
      "source": [
        "# calculate 56-day standard deviation of the 28-day moving average for each customer\n",
        "df[\"56sd\"] = df.groupby(\"user_pseudo_id\")[\"28ma\"].transform(\n",
        "    lambda x: x.rolling(56, 1).std()\n",
        ")"
      ]
    },
    {
      "cell_type": "markdown",
      "id": "0f8ed3bf-e5ce-4de1-9cb0-44c54360b723",
      "metadata": {
        "id": "0f8ed3bf-e5ce-4de1-9cb0-44c54360b723"
      },
      "source": [
        "### Define lower thresholds"
      ]
    },
    {
      "cell_type": "code",
      "execution_count": null,
      "id": "f49d262d-049f-43f8-bb46-2f864e9f7665",
      "metadata": {
        "id": "f49d262d-049f-43f8-bb46-2f864e9f7665"
      },
      "outputs": [],
      "source": [
        "df[\"threshold\"] = df[\"28ma\"] - (df[\"56sd\"] * 2)"
      ]
    },
    {
      "cell_type": "code",
      "execution_count": null,
      "id": "c9b9ada2-c068-45dd-b807-850f64e120c9",
      "metadata": {
        "colab": {
          "base_uri": "https://localhost:8080/",
          "height": 280
        },
        "id": "c9b9ada2-c068-45dd-b807-850f64e120c9",
        "outputId": "8bcbcee4-a532-4873-fbbd-880fa8fce959"
      },
      "outputs": [
        {
          "output_type": "display_data",
          "data": {
            "text/plain": [
              "<Figure size 432x288 with 1 Axes>"
            ],
            "image/png": "[encoded data removed]"
          },
          "metadata": {
            "needs_background": "light"
          }
        }
      ],
      "source": [
        "sns.lineplot(x=\"event_date\", y=\"threshold\", data=df);"
      ]
    },
    {
      "cell_type": "markdown",
      "id": "9517581c-07ac-4388-a3b1-d18f905337cf",
      "metadata": {
        "id": "9517581c-07ac-4388-a3b1-d18f905337cf"
      },
      "source": [
        "## Split data into pre and post cutoff dates"
      ]
    },
    {
      "cell_type": "code",
      "execution_count": null,
      "id": "e8fae1fc-7f8c-41b4-8e70-8a68052a4ff5",
      "metadata": {
        "id": "e8fae1fc-7f8c-41b4-8e70-8a68052a4ff5"
      },
      "outputs": [],
      "source": [
        "df_pre_cutoff = pd.DataFrame(df.loc[df[\"event_date\"] < cutoff_date])\n",
        "df_post_cutoff = pd.DataFrame(df.loc[df[\"event_date\"] >= cutoff_date])"
      ]
    },
    {
      "cell_type": "markdown",
      "id": "31fd9293-7ed2-4d38-9060-5da1bfbd7d4d",
      "metadata": {
        "id": "31fd9293-7ed2-4d38-9060-5da1bfbd7d4d"
      },
      "source": [
        "### Define Churn conditions"
      ]
    },
    {
      "cell_type": "code",
      "execution_count": null,
      "id": "413facbd-3b4d-4f2d-9a00-0db1c6463176",
      "metadata": {
        "id": "413facbd-3b4d-4f2d-9a00-0db1c6463176"
      },
      "outputs": [],
      "source": [
        "soft_churn = np.where(df_pre_cutoff[\"28ma\"] < df_pre_cutoff[\"threshold\"])\n",
        "churn = df_pre_cutoff[\"28ma\"] == 0"
      ]
    },
    {
      "cell_type": "markdown",
      "id": "cf5d6832-cb9d-4770-85e3-5c9c7edf2229",
      "metadata": {
        "id": "cf5d6832-cb9d-4770-85e3-5c9c7edf2229"
      },
      "source": [
        "### Set Churn Column\n",
        "\n",
        "We're adding a column that labels each row as either True or False (for Churned), meaning the moving average is either at or above 0."
      ]
    },
    {
      "cell_type": "code",
      "execution_count": null,
      "id": "0b748d12-a1b5-46ab-8ac0-53a56d971182",
      "metadata": {
        "id": "0b748d12-a1b5-46ab-8ac0-53a56d971182"
      },
      "outputs": [],
      "source": [
        "df_pre_cutoff[\"Churned\"] = np.where(\n",
        "    df_pre_cutoff[\"28ma\"] < df_pre_cutoff[\"threshold\"], True, False\n",
        ")\n",
        "df_pre_cutoff[\"Churned\"] = np.where(df_pre_cutoff[\"28ma\"] == 0, True, False)"
      ]
    },
    {
      "cell_type": "markdown",
      "id": "47159a8f-e2d9-4089-81a4-8372e21a755a",
      "metadata": {
        "id": "47159a8f-e2d9-4089-81a4-8372e21a755a"
      },
      "source": [
        "### Label Churn Type\n",
        "\n",
        "Next we'll add a column to indicate whether each row represents a soft or hard churn."
      ]
    },
    {
      "cell_type": "code",
      "execution_count": null,
      "id": "6504e3d6-3e7b-4258-9201-8e3c66aae10a",
      "metadata": {
        "id": "6504e3d6-3e7b-4258-9201-8e3c66aae10a"
      },
      "outputs": [],
      "source": [
        "df_pre_cutoff[\"Churn_Type\"] = np.where(\n",
        "    df_pre_cutoff[\"28ma\"] < df_pre_cutoff[\"threshold\"], \"Soft\", \"None\"\n",
        ")\n",
        "df_pre_cutoff[\"Churn_Type\"] = np.where(df_pre_cutoff[\"28ma\"] == 0, \"Hard\", \"None\")"
      ]
    },
    {
      "cell_type": "code",
      "execution_count": null,
      "id": "696b9999-8d54-42f6-bf78-1a49263cb17e",
      "metadata": {
        "colab": {
          "base_uri": "https://localhost:8080/"
        },
        "id": "696b9999-8d54-42f6-bf78-1a49263cb17e",
        "outputId": "9bed9774-1dbc-4cb4-85d3-956d645f75bb"
      },
      "outputs": [
        {
          "output_type": "stream",
          "name": "stdout",
          "text": [
            "True     197129\n",
            "False     81268\n",
            "Name: Churned, dtype: int64\n",
            "**************************************************\n",
            "Hard    197129\n",
            "None     81268\n",
            "Name: Churn_Type, dtype: int64\n"
          ]
        }
      ],
      "source": [
        "print(df_pre_cutoff[\"Churned\"].value_counts())\n",
        "print(\"*\" * 50)\n",
        "print(df_pre_cutoff[\"Churn_Type\"].value_counts())"
      ]
    },
    {
      "cell_type": "markdown",
      "source": [
        "As shown above, there are no soft churn values in this dataset. This is likely because there are few customers in the table who have placed more than one purchase. In a real dataset containing more data, there will likely be values for both hard and soft churn due to more fluctuations in the moving averages per user.\n",
        "\n",
        "For purposes of our model, we'll only use Hard churn, and label churn as a True/False value. If you'd like to distinguish between Soft Churn, Hard Churn, and No Churn, you can create a multi-class classification model instead of the binary classification steps outlined in this notebook."
      ],
      "metadata": {
        "id": "6QlN9B1_lW7z"
      },
      "id": "6QlN9B1_lW7z"
    },
    {
      "cell_type": "markdown",
      "id": "4ded658e-8b7d-49c7-bf58-c5d481981058",
      "metadata": {
        "id": "4ded658e-8b7d-49c7-bf58-c5d481981058"
      },
      "source": [
        "## Next, revisit the post-event table"
      ]
    },
    {
      "cell_type": "code",
      "source": [
        "df_post_cutoff.head()"
      ],
      "metadata": {
        "colab": {
          "base_uri": "https://localhost:8080/",
          "height": 206
        },
        "id": "WNDGHZzwnEni",
        "outputId": "c6b43fde-5dec-4f0a-db6b-4d11271a9bb9"
      },
      "id": "WNDGHZzwnEni",
      "execution_count": null,
      "outputs": [
        {
          "output_type": "execute_result",
          "data": {
            "text/plain": [
              "           user_pseudo_id event_date  purchase_revenue_in_usd  28ma  56sd  \\\n",
              "3712  10092926.3786306416 2021-01-03                    0.000 0.000 0.000   \n",
              "3726  10092926.3786306416 2021-01-04                    0.000 0.000 0.000   \n",
              "3742  10092926.3786306416 2021-01-05                    0.000 0.000 0.000   \n",
              "3769  10092926.3786306416 2021-01-06                    0.000 0.000 0.000   \n",
              "3797  10092926.3786306416 2021-01-07                    0.000 0.000 0.000   \n",
              "\n",
              "      threshold  \n",
              "3712      0.000  \n",
              "3726      0.000  \n",
              "3742      0.000  \n",
              "3769      0.000  \n",
              "3797      0.000  "
            ],
            "text/html": [
              "\n",
              "  <div id=\"df-d0537dba-8447-4b98-bcc3-2fe199f6fa52\">\n",
              "    <div class=\"colab-df-container\">\n",
              "      <div>\n",
              "<style scoped>\n",
              "    .dataframe tbody tr th:only-of-type {\n",
              "        vertical-align: middle;\n",
              "    }\n",
              "\n",
              "    .dataframe tbody tr th {\n",
              "        vertical-align: top;\n",
              "    }\n",
              "\n",
              "    .dataframe thead th {\n",
              "        text-align: right;\n",
              "    }\n",
              "</style>\n",
              "<table border=\"1\" class=\"dataframe\">\n",
              "  <thead>\n",
              "    <tr style=\"text-align: right;\">\n",
              "      <th></th>\n",
              "      <th>user_pseudo_id</th>\n",
              "      <th>event_date</th>\n",
              "      <th>purchase_revenue_in_usd</th>\n",
              "      <th>28ma</th>\n",
              "      <th>56sd</th>\n",
              "      <th>threshold</th>\n",
              "    </tr>\n",
              "  </thead>\n",
              "  <tbody>\n",
              "    <tr>\n",
              "      <th>3712</th>\n",
              "      <td>10092926.3786306416</td>\n",
              "      <td>2021-01-03</td>\n",
              "      <td>0.000</td>\n",
              "      <td>0.000</td>\n",
              "      <td>0.000</td>\n",
              "      <td>0.000</td>\n",
              "    </tr>\n",
              "    <tr>\n",
              "      <th>3726</th>\n",
              "      <td>10092926.3786306416</td>\n",
              "      <td>2021-01-04</td>\n",
              "      <td>0.000</td>\n",
              "      <td>0.000</td>\n",
              "      <td>0.000</td>\n",
              "      <td>0.000</td>\n",
              "    </tr>\n",
              "    <tr>\n",
              "      <th>3742</th>\n",
              "      <td>10092926.3786306416</td>\n",
              "      <td>2021-01-05</td>\n",
              "      <td>0.000</td>\n",
              "      <td>0.000</td>\n",
              "      <td>0.000</td>\n",
              "      <td>0.000</td>\n",
              "    </tr>\n",
              "    <tr>\n",
              "      <th>3769</th>\n",
              "      <td>10092926.3786306416</td>\n",
              "      <td>2021-01-06</td>\n",
              "      <td>0.000</td>\n",
              "      <td>0.000</td>\n",
              "      <td>0.000</td>\n",
              "      <td>0.000</td>\n",
              "    </tr>\n",
              "    <tr>\n",
              "      <th>3797</th>\n",
              "      <td>10092926.3786306416</td>\n",
              "      <td>2021-01-07</td>\n",
              "      <td>0.000</td>\n",
              "      <td>0.000</td>\n",
              "      <td>0.000</td>\n",
              "      <td>0.000</td>\n",
              "    </tr>\n",
              "  </tbody>\n",
              "</table>\n",
              "</div>\n",
              "      <button class=\"colab-df-convert\" onclick=\"convertToInteractive('df-d0537dba-8447-4b98-bcc3-2fe199f6fa52')\"\n",
              "              title=\"Convert this dataframe to an interactive table.\"\n",
              "              style=\"display:none;\">\n",
              "        \n",
              "  <svg xmlns=\"http://www.w3.org/2000/svg\" height=\"24px\"viewBox=\"0 0 24 24\"\n",
              "       width=\"24px\">\n",
              "    <path d=\"M0 0h24v24H0V0z\" fill=\"none\"/>\n",
              "    <path d=\"M18.56 5.44l.94 2.06.94-2.06 2.06-.94-2.06-.94-.94-2.06-.94 2.06-2.06.94zm-11 1L8.5 8.5l.94-2.06 2.06-.94-2.06-.94L8.5 2.5l-.94 2.06-2.06.94zm10 10l.94 2.06.94-2.06 2.06-.94-2.06-.94-.94-2.06-.94 2.06-2.06.94z\"/><path d=\"M17.41 7.96l-1.37-1.37c-.4-.4-.92-.59-1.43-.59-.52 0-1.04.2-1.43.59L10.3 9.45l-7.72 7.72c-.78.78-.78 2.05 0 2.83L4 21.41c.39.39.9.59 1.41.59.51 0 1.02-.2 1.41-.59l7.78-7.78 2.81-2.81c.8-.78.8-2.07 0-2.86zM5.41 20L4 18.59l7.72-7.72 1.47 1.35L5.41 20z\"/>\n",
              "  </svg>\n",
              "      </button>\n",
              "      \n",
              "  <style>\n",
              "    .colab-df-container {\n",
              "      display:flex;\n",
              "      flex-wrap:wrap;\n",
              "      gap: 12px;\n",
              "    }\n",
              "\n",
              "    .colab-df-convert {\n",
              "      background-color: #E8F0FE;\n",
              "      border: none;\n",
              "      border-radius: 50%;\n",
              "      cursor: pointer;\n",
              "      display: none;\n",
              "      fill: #1967D2;\n",
              "      height: 32px;\n",
              "      padding: 0 0 0 0;\n",
              "      width: 32px;\n",
              "    }\n",
              "\n",
              "    .colab-df-convert:hover {\n",
              "      background-color: #E2EBFA;\n",
              "      box-shadow: 0px 1px 2px rgba(60, 64, 67, 0.3), 0px 1px 3px 1px rgba(60, 64, 67, 0.15);\n",
              "      fill: #174EA6;\n",
              "    }\n",
              "\n",
              "    [theme=dark] .colab-df-convert {\n",
              "      background-color: #3B4455;\n",
              "      fill: #D2E3FC;\n",
              "    }\n",
              "\n",
              "    [theme=dark] .colab-df-convert:hover {\n",
              "      background-color: #434B5C;\n",
              "      box-shadow: 0px 1px 3px 1px rgba(0, 0, 0, 0.15);\n",
              "      filter: drop-shadow(0px 1px 2px rgba(0, 0, 0, 0.3));\n",
              "      fill: #FFFFFF;\n",
              "    }\n",
              "  </style>\n",
              "\n",
              "      <script>\n",
              "        const buttonEl =\n",
              "          document.querySelector('#df-d0537dba-8447-4b98-bcc3-2fe199f6fa52 button.colab-df-convert');\n",
              "        buttonEl.style.display =\n",
              "          google.colab.kernel.accessAllowed ? 'block' : 'none';\n",
              "\n",
              "        async function convertToInteractive(key) {\n",
              "          const element = document.querySelector('#df-d0537dba-8447-4b98-bcc3-2fe199f6fa52');\n",
              "          const dataTable =\n",
              "            await google.colab.kernel.invokeFunction('convertToInteractive',\n",
              "                                                     [key], {});\n",
              "          if (!dataTable) return;\n",
              "\n",
              "          const docLinkHtml = 'Like what you see? Visit the ' +\n",
              "            '<a target=\"_blank\" href=https://colab.research.google.com/notebooks/data_table.ipynb>data table notebook</a>'\n",
              "            + ' to learn more about interactive tables.';\n",
              "          element.innerHTML = '';\n",
              "          dataTable['output_type'] = 'display_data';\n",
              "          await google.colab.output.renderOutput(dataTable, element);\n",
              "          const docLink = document.createElement('div');\n",
              "          docLink.innerHTML = docLinkHtml;\n",
              "          element.appendChild(docLink);\n",
              "        }\n",
              "      </script>\n",
              "    </div>\n",
              "  </div>\n",
              "  "
            ]
          },
          "metadata": {},
          "execution_count": 27
        }
      ]
    },
    {
      "cell_type": "markdown",
      "source": [
        "Add a Churned column to the post-cutoff table."
      ],
      "metadata": {
        "id": "Qe1TYxtbmxzk"
      },
      "id": "Qe1TYxtbmxzk"
    },
    {
      "cell_type": "code",
      "source": [
        "df_post_cutoff[\"Churned\"] = np.where(df_post_cutoff[\"28ma\"] == 0, True, False)"
      ],
      "metadata": {
        "id": "pymLTAvMm153"
      },
      "id": "pymLTAvMm153",
      "execution_count": null,
      "outputs": []
    },
    {
      "cell_type": "code",
      "source": [
        "# filter for the most recent row in the post cutoff table to get each customer's churned status at the end of the post cutoff period\n",
        "df_post_last_record = df_post_cutoff.loc[df_post_cutoff.groupby('user_pseudo_id')['event_date'].idxmax()]"
      ],
      "metadata": {
        "id": "JPYR2g6UnSzf"
      },
      "id": "JPYR2g6UnSzf",
      "execution_count": null,
      "outputs": []
    },
    {
      "cell_type": "code",
      "source": [
        "# reset index\n",
        "df_post_last_record.reset_index(drop=True,inplace=True)"
      ],
      "metadata": {
        "id": "ex0cp0xoniDb"
      },
      "id": "ex0cp0xoniDb",
      "execution_count": null,
      "outputs": []
    },
    {
      "cell_type": "code",
      "source": [
        "# isolate only the user id, 28ma, and Churned columns for use in the next step\n",
        "df_post_churned = df_post_last_record[[\"user_pseudo_id\",\"28ma\",\"Churned\"]].copy()"
      ],
      "metadata": {
        "id": "4-BFu3qcoGM6"
      },
      "id": "4-BFu3qcoGM6",
      "execution_count": null,
      "outputs": []
    },
    {
      "cell_type": "code",
      "source": [
        "df_post_churned.head()"
      ],
      "metadata": {
        "colab": {
          "base_uri": "https://localhost:8080/",
          "height": 206
        },
        "id": "da6lXygAobco",
        "outputId": "c474103e-14fb-492c-edcf-0298f9c2d2c2"
      },
      "id": "da6lXygAobco",
      "execution_count": null,
      "outputs": [
        {
          "output_type": "execute_result",
          "data": {
            "text/plain": [
              "        user_pseudo_id  28ma  Churned\n",
              "0  10092926.3786306416 3.214    False\n",
              "1  10111055.8768683862 0.000     True\n",
              "2   1014825.0200289249 0.000     True\n",
              "3   1016446.8237887674 0.000     True\n",
              "4  10172849.5375293351 0.000     True"
            ],
            "text/html": [
              "\n",
              "  <div id=\"df-87032c29-4f82-4a25-a924-33edeb1487f5\">\n",
              "    <div class=\"colab-df-container\">\n",
              "      <div>\n",
              "<style scoped>\n",
              "    .dataframe tbody tr th:only-of-type {\n",
              "        vertical-align: middle;\n",
              "    }\n",
              "\n",
              "    .dataframe tbody tr th {\n",
              "        vertical-align: top;\n",
              "    }\n",
              "\n",
              "    .dataframe thead th {\n",
              "        text-align: right;\n",
              "    }\n",
              "</style>\n",
              "<table border=\"1\" class=\"dataframe\">\n",
              "  <thead>\n",
              "    <tr style=\"text-align: right;\">\n",
              "      <th></th>\n",
              "      <th>user_pseudo_id</th>\n",
              "      <th>28ma</th>\n",
              "      <th>Churned</th>\n",
              "    </tr>\n",
              "  </thead>\n",
              "  <tbody>\n",
              "    <tr>\n",
              "      <th>0</th>\n",
              "      <td>10092926.3786306416</td>\n",
              "      <td>3.214</td>\n",
              "      <td>False</td>\n",
              "    </tr>\n",
              "    <tr>\n",
              "      <th>1</th>\n",
              "      <td>10111055.8768683862</td>\n",
              "      <td>0.000</td>\n",
              "      <td>True</td>\n",
              "    </tr>\n",
              "    <tr>\n",
              "      <th>2</th>\n",
              "      <td>1014825.0200289249</td>\n",
              "      <td>0.000</td>\n",
              "      <td>True</td>\n",
              "    </tr>\n",
              "    <tr>\n",
              "      <th>3</th>\n",
              "      <td>1016446.8237887674</td>\n",
              "      <td>0.000</td>\n",
              "      <td>True</td>\n",
              "    </tr>\n",
              "    <tr>\n",
              "      <th>4</th>\n",
              "      <td>10172849.5375293351</td>\n",
              "      <td>0.000</td>\n",
              "      <td>True</td>\n",
              "    </tr>\n",
              "  </tbody>\n",
              "</table>\n",
              "</div>\n",
              "      <button class=\"colab-df-convert\" onclick=\"convertToInteractive('df-87032c29-4f82-4a25-a924-33edeb1487f5')\"\n",
              "              title=\"Convert this dataframe to an interactive table.\"\n",
              "              style=\"display:none;\">\n",
              "        \n",
              "  <svg xmlns=\"http://www.w3.org/2000/svg\" height=\"24px\"viewBox=\"0 0 24 24\"\n",
              "       width=\"24px\">\n",
              "    <path d=\"M0 0h24v24H0V0z\" fill=\"none\"/>\n",
              "    <path d=\"M18.56 5.44l.94 2.06.94-2.06 2.06-.94-2.06-.94-.94-2.06-.94 2.06-2.06.94zm-11 1L8.5 8.5l.94-2.06 2.06-.94-2.06-.94L8.5 2.5l-.94 2.06-2.06.94zm10 10l.94 2.06.94-2.06 2.06-.94-2.06-.94-.94-2.06-.94 2.06-2.06.94z\"/><path d=\"M17.41 7.96l-1.37-1.37c-.4-.4-.92-.59-1.43-.59-.52 0-1.04.2-1.43.59L10.3 9.45l-7.72 7.72c-.78.78-.78 2.05 0 2.83L4 21.41c.39.39.9.59 1.41.59.51 0 1.02-.2 1.41-.59l7.78-7.78 2.81-2.81c.8-.78.8-2.07 0-2.86zM5.41 20L4 18.59l7.72-7.72 1.47 1.35L5.41 20z\"/>\n",
              "  </svg>\n",
              "      </button>\n",
              "      \n",
              "  <style>\n",
              "    .colab-df-container {\n",
              "      display:flex;\n",
              "      flex-wrap:wrap;\n",
              "      gap: 12px;\n",
              "    }\n",
              "\n",
              "    .colab-df-convert {\n",
              "      background-color: #E8F0FE;\n",
              "      border: none;\n",
              "      border-radius: 50%;\n",
              "      cursor: pointer;\n",
              "      display: none;\n",
              "      fill: #1967D2;\n",
              "      height: 32px;\n",
              "      padding: 0 0 0 0;\n",
              "      width: 32px;\n",
              "    }\n",
              "\n",
              "    .colab-df-convert:hover {\n",
              "      background-color: #E2EBFA;\n",
              "      box-shadow: 0px 1px 2px rgba(60, 64, 67, 0.3), 0px 1px 3px 1px rgba(60, 64, 67, 0.15);\n",
              "      fill: #174EA6;\n",
              "    }\n",
              "\n",
              "    [theme=dark] .colab-df-convert {\n",
              "      background-color: #3B4455;\n",
              "      fill: #D2E3FC;\n",
              "    }\n",
              "\n",
              "    [theme=dark] .colab-df-convert:hover {\n",
              "      background-color: #434B5C;\n",
              "      box-shadow: 0px 1px 3px 1px rgba(0, 0, 0, 0.15);\n",
              "      filter: drop-shadow(0px 1px 2px rgba(0, 0, 0, 0.3));\n",
              "      fill: #FFFFFF;\n",
              "    }\n",
              "  </style>\n",
              "\n",
              "      <script>\n",
              "        const buttonEl =\n",
              "          document.querySelector('#df-87032c29-4f82-4a25-a924-33edeb1487f5 button.colab-df-convert');\n",
              "        buttonEl.style.display =\n",
              "          google.colab.kernel.accessAllowed ? 'block' : 'none';\n",
              "\n",
              "        async function convertToInteractive(key) {\n",
              "          const element = document.querySelector('#df-87032c29-4f82-4a25-a924-33edeb1487f5');\n",
              "          const dataTable =\n",
              "            await google.colab.kernel.invokeFunction('convertToInteractive',\n",
              "                                                     [key], {});\n",
              "          if (!dataTable) return;\n",
              "\n",
              "          const docLinkHtml = 'Like what you see? Visit the ' +\n",
              "            '<a target=\"_blank\" href=https://colab.research.google.com/notebooks/data_table.ipynb>data table notebook</a>'\n",
              "            + ' to learn more about interactive tables.';\n",
              "          element.innerHTML = '';\n",
              "          dataTable['output_type'] = 'display_data';\n",
              "          await google.colab.output.renderOutput(dataTable, element);\n",
              "          const docLink = document.createElement('div');\n",
              "          docLink.innerHTML = docLinkHtml;\n",
              "          element.appendChild(docLink);\n",
              "        }\n",
              "      </script>\n",
              "    </div>\n",
              "  </div>\n",
              "  "
            ]
          },
          "metadata": {},
          "execution_count": 32
        }
      ]
    },
    {
      "cell_type": "markdown",
      "id": "7e4ed6b5-c345-4e9c-be4a-3fc93b96ffe2",
      "metadata": {
        "id": "7e4ed6b5-c345-4e9c-be4a-3fc93b96ffe2"
      },
      "source": [
        "### Filter pre-event df for most recent row per customer to see if they're active or already churned"
      ]
    },
    {
      "cell_type": "code",
      "execution_count": null,
      "id": "2917fa65-f98e-4b7d-992e-099d98c5026b",
      "metadata": {
        "id": "2917fa65-f98e-4b7d-992e-099d98c5026b"
      },
      "outputs": [],
      "source": [
        "df_pre_last_record = df_pre_cutoff.loc[df_pre_cutoff.groupby('user_pseudo_id')['event_date'].idxmax()]"
      ]
    },
    {
      "cell_type": "code",
      "execution_count": null,
      "id": "b5aec375-6981-44c1-80c3-21f116d6e2c9",
      "metadata": {
        "id": "b5aec375-6981-44c1-80c3-21f116d6e2c9"
      },
      "outputs": [],
      "source": [
        "# reset index\n",
        "df_pre_last_record.reset_index(drop=True,inplace=True)"
      ]
    },
    {
      "cell_type": "markdown",
      "id": "2cbcd866-bb24-4fbd-873e-7dd74503075b",
      "metadata": {
        "id": "2cbcd866-bb24-4fbd-873e-7dd74503075b"
      },
      "source": [
        "### Merge churn labels from post-cutoff table onto the pre-cutoff last record table"
      ]
    },
    {
      "cell_type": "code",
      "execution_count": null,
      "id": "f6379c86-c07d-47a7-baf8-e25a8aa3eddb",
      "metadata": {
        "id": "f6379c86-c07d-47a7-baf8-e25a8aa3eddb"
      },
      "outputs": [],
      "source": [
        "df_churn = pd.merge(df_pre_last_record, df_post_churned, how='left', on = 'user_pseudo_id')"
      ]
    },
    {
      "cell_type": "code",
      "execution_count": null,
      "id": "a16c9918-f5cb-4bfa-98f3-cb98ec44d530",
      "metadata": {
        "colab": {
          "base_uri": "https://localhost:8080/",
          "height": 206
        },
        "id": "a16c9918-f5cb-4bfa-98f3-cb98ec44d530",
        "outputId": "13551e38-f161-492e-c944-648d78ae4ffa"
      },
      "outputs": [
        {
          "output_type": "execute_result",
          "data": {
            "text/plain": [
              "        user_pseudo_id event_date  purchase_revenue_in_usd  28ma_x  56sd  \\\n",
              "0  10092926.3786306416 2021-01-02                    0.000   0.000 0.000   \n",
              "1  10111055.8768683862 2021-01-02                    0.000   3.357 1.676   \n",
              "2   1014825.0200289249 2021-01-02                    0.000   0.000 6.306   \n",
              "3   1016446.8237887674 2021-01-02                    0.000   3.071 1.308   \n",
              "4  10172849.5375293351 2021-01-02                    0.000   5.571 2.795   \n",
              "\n",
              "   threshold  Churned_x Churn_Type  28ma_y  Churned_y  \n",
              "0      0.000       True       Hard   3.214      False  \n",
              "1      0.004      False       None   0.000       True  \n",
              "2    -12.613       True       Hard   0.000       True  \n",
              "3      0.454      False       None   0.000       True  \n",
              "4     -0.018      False       None   0.000       True  "
            ],
            "text/html": [
              "\n",
              "  <div id=\"df-ea6da63e-3e0f-4853-b43d-d8860498b027\">\n",
              "    <div class=\"colab-df-container\">\n",
              "      <div>\n",
              "<style scoped>\n",
              "    .dataframe tbody tr th:only-of-type {\n",
              "        vertical-align: middle;\n",
              "    }\n",
              "\n",
              "    .dataframe tbody tr th {\n",
              "        vertical-align: top;\n",
              "    }\n",
              "\n",
              "    .dataframe thead th {\n",
              "        text-align: right;\n",
              "    }\n",
              "</style>\n",
              "<table border=\"1\" class=\"dataframe\">\n",
              "  <thead>\n",
              "    <tr style=\"text-align: right;\">\n",
              "      <th></th>\n",
              "      <th>user_pseudo_id</th>\n",
              "      <th>event_date</th>\n",
              "      <th>purchase_revenue_in_usd</th>\n",
              "      <th>28ma_x</th>\n",
              "      <th>56sd</th>\n",
              "      <th>threshold</th>\n",
              "      <th>Churned_x</th>\n",
              "      <th>Churn_Type</th>\n",
              "      <th>28ma_y</th>\n",
              "      <th>Churned_y</th>\n",
              "    </tr>\n",
              "  </thead>\n",
              "  <tbody>\n",
              "    <tr>\n",
              "      <th>0</th>\n",
              "      <td>10092926.3786306416</td>\n",
              "      <td>2021-01-02</td>\n",
              "      <td>0.000</td>\n",
              "      <td>0.000</td>\n",
              "      <td>0.000</td>\n",
              "      <td>0.000</td>\n",
              "      <td>True</td>\n",
              "      <td>Hard</td>\n",
              "      <td>3.214</td>\n",
              "      <td>False</td>\n",
              "    </tr>\n",
              "    <tr>\n",
              "      <th>1</th>\n",
              "      <td>10111055.8768683862</td>\n",
              "      <td>2021-01-02</td>\n",
              "      <td>0.000</td>\n",
              "      <td>3.357</td>\n",
              "      <td>1.676</td>\n",
              "      <td>0.004</td>\n",
              "      <td>False</td>\n",
              "      <td>None</td>\n",
              "      <td>0.000</td>\n",
              "      <td>True</td>\n",
              "    </tr>\n",
              "    <tr>\n",
              "      <th>2</th>\n",
              "      <td>1014825.0200289249</td>\n",
              "      <td>2021-01-02</td>\n",
              "      <td>0.000</td>\n",
              "      <td>0.000</td>\n",
              "      <td>6.306</td>\n",
              "      <td>-12.613</td>\n",
              "      <td>True</td>\n",
              "      <td>Hard</td>\n",
              "      <td>0.000</td>\n",
              "      <td>True</td>\n",
              "    </tr>\n",
              "    <tr>\n",
              "      <th>3</th>\n",
              "      <td>1016446.8237887674</td>\n",
              "      <td>2021-01-02</td>\n",
              "      <td>0.000</td>\n",
              "      <td>3.071</td>\n",
              "      <td>1.308</td>\n",
              "      <td>0.454</td>\n",
              "      <td>False</td>\n",
              "      <td>None</td>\n",
              "      <td>0.000</td>\n",
              "      <td>True</td>\n",
              "    </tr>\n",
              "    <tr>\n",
              "      <th>4</th>\n",
              "      <td>10172849.5375293351</td>\n",
              "      <td>2021-01-02</td>\n",
              "      <td>0.000</td>\n",
              "      <td>5.571</td>\n",
              "      <td>2.795</td>\n",
              "      <td>-0.018</td>\n",
              "      <td>False</td>\n",
              "      <td>None</td>\n",
              "      <td>0.000</td>\n",
              "      <td>True</td>\n",
              "    </tr>\n",
              "  </tbody>\n",
              "</table>\n",
              "</div>\n",
              "      <button class=\"colab-df-convert\" onclick=\"convertToInteractive('df-ea6da63e-3e0f-4853-b43d-d8860498b027')\"\n",
              "              title=\"Convert this dataframe to an interactive table.\"\n",
              "              style=\"display:none;\">\n",
              "        \n",
              "  <svg xmlns=\"http://www.w3.org/2000/svg\" height=\"24px\"viewBox=\"0 0 24 24\"\n",
              "       width=\"24px\">\n",
              "    <path d=\"M0 0h24v24H0V0z\" fill=\"none\"/>\n",
              "    <path d=\"M18.56 5.44l.94 2.06.94-2.06 2.06-.94-2.06-.94-.94-2.06-.94 2.06-2.06.94zm-11 1L8.5 8.5l.94-2.06 2.06-.94-2.06-.94L8.5 2.5l-.94 2.06-2.06.94zm10 10l.94 2.06.94-2.06 2.06-.94-2.06-.94-.94-2.06-.94 2.06-2.06.94z\"/><path d=\"M17.41 7.96l-1.37-1.37c-.4-.4-.92-.59-1.43-.59-.52 0-1.04.2-1.43.59L10.3 9.45l-7.72 7.72c-.78.78-.78 2.05 0 2.83L4 21.41c.39.39.9.59 1.41.59.51 0 1.02-.2 1.41-.59l7.78-7.78 2.81-2.81c.8-.78.8-2.07 0-2.86zM5.41 20L4 18.59l7.72-7.72 1.47 1.35L5.41 20z\"/>\n",
              "  </svg>\n",
              "      </button>\n",
              "      \n",
              "  <style>\n",
              "    .colab-df-container {\n",
              "      display:flex;\n",
              "      flex-wrap:wrap;\n",
              "      gap: 12px;\n",
              "    }\n",
              "\n",
              "    .colab-df-convert {\n",
              "      background-color: #E8F0FE;\n",
              "      border: none;\n",
              "      border-radius: 50%;\n",
              "      cursor: pointer;\n",
              "      display: none;\n",
              "      fill: #1967D2;\n",
              "      height: 32px;\n",
              "      padding: 0 0 0 0;\n",
              "      width: 32px;\n",
              "    }\n",
              "\n",
              "    .colab-df-convert:hover {\n",
              "      background-color: #E2EBFA;\n",
              "      box-shadow: 0px 1px 2px rgba(60, 64, 67, 0.3), 0px 1px 3px 1px rgba(60, 64, 67, 0.15);\n",
              "      fill: #174EA6;\n",
              "    }\n",
              "\n",
              "    [theme=dark] .colab-df-convert {\n",
              "      background-color: #3B4455;\n",
              "      fill: #D2E3FC;\n",
              "    }\n",
              "\n",
              "    [theme=dark] .colab-df-convert:hover {\n",
              "      background-color: #434B5C;\n",
              "      box-shadow: 0px 1px 3px 1px rgba(0, 0, 0, 0.15);\n",
              "      filter: drop-shadow(0px 1px 2px rgba(0, 0, 0, 0.3));\n",
              "      fill: #FFFFFF;\n",
              "    }\n",
              "  </style>\n",
              "\n",
              "      <script>\n",
              "        const buttonEl =\n",
              "          document.querySelector('#df-ea6da63e-3e0f-4853-b43d-d8860498b027 button.colab-df-convert');\n",
              "        buttonEl.style.display =\n",
              "          google.colab.kernel.accessAllowed ? 'block' : 'none';\n",
              "\n",
              "        async function convertToInteractive(key) {\n",
              "          const element = document.querySelector('#df-ea6da63e-3e0f-4853-b43d-d8860498b027');\n",
              "          const dataTable =\n",
              "            await google.colab.kernel.invokeFunction('convertToInteractive',\n",
              "                                                     [key], {});\n",
              "          if (!dataTable) return;\n",
              "\n",
              "          const docLinkHtml = 'Like what you see? Visit the ' +\n",
              "            '<a target=\"_blank\" href=https://colab.research.google.com/notebooks/data_table.ipynb>data table notebook</a>'\n",
              "            + ' to learn more about interactive tables.';\n",
              "          element.innerHTML = '';\n",
              "          dataTable['output_type'] = 'display_data';\n",
              "          await google.colab.output.renderOutput(dataTable, element);\n",
              "          const docLink = document.createElement('div');\n",
              "          docLink.innerHTML = docLinkHtml;\n",
              "          element.appendChild(docLink);\n",
              "        }\n",
              "      </script>\n",
              "    </div>\n",
              "  </div>\n",
              "  "
            ]
          },
          "metadata": {},
          "execution_count": 36
        }
      ],
      "source": [
        "df_churn.head()"
      ]
    },
    {
      "cell_type": "markdown",
      "id": "d3923802-37c3-4bfc-8726-de0623a4ad34",
      "metadata": {
        "id": "d3923802-37c3-4bfc-8726-de0623a4ad34"
      },
      "source": [
        "### Set customer labels"
      ]
    },
    {
      "cell_type": "code",
      "execution_count": null,
      "id": "0e3182da-c67e-4c02-8f73-ce6bff924122",
      "metadata": {
        "id": "0e3182da-c67e-4c02-8f73-ce6bff924122"
      },
      "outputs": [],
      "source": [
        "# customer pre-event status labels\n",
        "def custLabelsPre(row):\n",
        "    if row['Churned_x'] == True:   \n",
        "        val = 'Inactive'\n",
        "    \n",
        "    else:\n",
        "        val = 'Active'\n",
        "        \n",
        "    return val"
      ]
    },
    {
      "cell_type": "code",
      "execution_count": null,
      "id": "ef9a6cac-5648-4dd8-8e16-a1ea6f8346c9",
      "metadata": {
        "id": "ef9a6cac-5648-4dd8-8e16-a1ea6f8346c9"
      },
      "outputs": [],
      "source": [
        "df_churn[\"pre_cutoff_status\"] = df_churn.apply(custLabelsPre,axis=1)"
      ]
    },
    {
      "cell_type": "code",
      "execution_count": null,
      "id": "90257c12-a7d1-40ee-a064-e2b4215bb3c8",
      "metadata": {
        "id": "90257c12-a7d1-40ee-a064-e2b4215bb3c8"
      },
      "outputs": [],
      "source": [
        "# customer post-event status labels\n",
        "def custLabelsPost(row):\n",
        "    if row['Churned_y'] == False:   \n",
        "        val = 'Active'\n",
        "    \n",
        "    else:\n",
        "        val = 'Inactive'\n",
        "        \n",
        "    return val"
      ]
    },
    {
      "cell_type": "code",
      "execution_count": null,
      "id": "6bc20a91-0168-41ef-b9c9-37d91d31506c",
      "metadata": {
        "id": "6bc20a91-0168-41ef-b9c9-37d91d31506c"
      },
      "outputs": [],
      "source": [
        "df_churn[\"post_cutoff_status\"] = df_churn.apply(custLabelsPost,axis=1)"
      ]
    },
    {
      "cell_type": "markdown",
      "id": "f255d1b3-54be-4018-a1e7-40ee18781884",
      "metadata": {
        "id": "f255d1b3-54be-4018-a1e7-40ee18781884"
      },
      "source": [
        "## Adding Churn Target Column"
      ]
    },
    {
      "cell_type": "code",
      "execution_count": null,
      "id": "26043ae6-e186-482f-a5b3-39bac8cf520d",
      "metadata": {
        "id": "26043ae6-e186-482f-a5b3-39bac8cf520d"
      },
      "outputs": [],
      "source": [
        "# adding churn target label\n",
        "def ChurnTarget(row):\n",
        "    if row['pre_cutoff_status'] == \"Active\" and row['post_cutoff_status'] == \"Inactive\":   \n",
        "        val = \"True\"\n",
        "        \n",
        "    elif row['pre_cutoff_status'] == \"Active\" and row['pre_cutoff_status'] == \"Active\":   \n",
        "        val = \"False\"\n",
        "    \n",
        "    else:\n",
        "        val = 'Inactive'\n",
        "        \n",
        "    return val"
      ]
    },
    {
      "cell_type": "code",
      "execution_count": null,
      "id": "90633ff3-9b5e-45c8-9316-2942cc4bf7d4",
      "metadata": {
        "id": "90633ff3-9b5e-45c8-9316-2942cc4bf7d4"
      },
      "outputs": [],
      "source": [
        "df_churn[\"Churn_Target\"] = df_churn.apply(ChurnTarget,axis=1)"
      ]
    },
    {
      "cell_type": "code",
      "execution_count": null,
      "id": "083a9626-38a9-4151-b0bc-e24183bcb819",
      "metadata": {
        "colab": {
          "base_uri": "https://localhost:8080/"
        },
        "id": "083a9626-38a9-4151-b0bc-e24183bcb819",
        "outputId": "85a2f1ca-dd81-4287-be0d-80084ddcff02"
      },
      "outputs": [
        {
          "output_type": "execute_result",
          "data": {
            "text/plain": [
              "Inactive    2849\n",
              "True        1540\n",
              "False         30\n",
              "Name: Churn_Target, dtype: int64"
            ]
          },
          "metadata": {},
          "execution_count": 43
        }
      ],
      "source": [
        "df_churn[\"Churn_Target\"].value_counts()"
      ]
    },
    {
      "cell_type": "markdown",
      "source": [
        "As shown above, the majority of customers in the dataset are churners during the post-event period. This makes our dataset imbalanced, meaning we'll need to do some additional pre-work in later steps before building the model."
      ],
      "metadata": {
        "id": "Ijy93VAUqm_S"
      },
      "id": "Ijy93VAUqm_S"
    },
    {
      "cell_type": "markdown",
      "source": [
        "## Check the table one more time and then savie to BigQuery for use later in reporting"
      ],
      "metadata": {
        "id": "6k1D7BRiq4BT"
      },
      "id": "6k1D7BRiq4BT"
    },
    {
      "cell_type": "code",
      "execution_count": null,
      "id": "e2bffc44-9106-468c-8389-31d52f017b83",
      "metadata": {
        "colab": {
          "base_uri": "https://localhost:8080/",
          "height": 270
        },
        "id": "e2bffc44-9106-468c-8389-31d52f017b83",
        "outputId": "827a8a27-f539-47e7-86ca-6db07d654554"
      },
      "outputs": [
        {
          "output_type": "execute_result",
          "data": {
            "text/plain": [
              "        user_pseudo_id event_date  purchase_revenue_in_usd  28ma_x  56sd  \\\n",
              "0  10092926.3786306416 2021-01-02                    0.000   0.000 0.000   \n",
              "1  10111055.8768683862 2021-01-02                    0.000   3.357 1.676   \n",
              "2   1014825.0200289249 2021-01-02                    0.000   0.000 6.306   \n",
              "3   1016446.8237887674 2021-01-02                    0.000   3.071 1.308   \n",
              "4  10172849.5375293351 2021-01-02                    0.000   5.571 2.795   \n",
              "\n",
              "   threshold  Churned_x Churn_Type  28ma_y  Churned_y pre_cutoff_status  \\\n",
              "0      0.000       True       Hard   3.214      False          Inactive   \n",
              "1      0.004      False       None   0.000       True            Active   \n",
              "2    -12.613       True       Hard   0.000       True          Inactive   \n",
              "3      0.454      False       None   0.000       True            Active   \n",
              "4     -0.018      False       None   0.000       True            Active   \n",
              "\n",
              "  post_cutoff_status Churn_Target  \n",
              "0             Active     Inactive  \n",
              "1           Inactive         True  \n",
              "2           Inactive     Inactive  \n",
              "3           Inactive         True  \n",
              "4           Inactive         True  "
            ],
            "text/html": [
              "\n",
              "  <div id=\"df-26049678-397a-40b7-b3ab-0b0a68a9e830\">\n",
              "    <div class=\"colab-df-container\">\n",
              "      <div>\n",
              "<style scoped>\n",
              "    .dataframe tbody tr th:only-of-type {\n",
              "        vertical-align: middle;\n",
              "    }\n",
              "\n",
              "    .dataframe tbody tr th {\n",
              "        vertical-align: top;\n",
              "    }\n",
              "\n",
              "    .dataframe thead th {\n",
              "        text-align: right;\n",
              "    }\n",
              "</style>\n",
              "<table border=\"1\" class=\"dataframe\">\n",
              "  <thead>\n",
              "    <tr style=\"text-align: right;\">\n",
              "      <th></th>\n",
              "      <th>user_pseudo_id</th>\n",
              "      <th>event_date</th>\n",
              "      <th>purchase_revenue_in_usd</th>\n",
              "      <th>28ma_x</th>\n",
              "      <th>56sd</th>\n",
              "      <th>threshold</th>\n",
              "      <th>Churned_x</th>\n",
              "      <th>Churn_Type</th>\n",
              "      <th>28ma_y</th>\n",
              "      <th>Churned_y</th>\n",
              "      <th>pre_cutoff_status</th>\n",
              "      <th>post_cutoff_status</th>\n",
              "      <th>Churn_Target</th>\n",
              "    </tr>\n",
              "  </thead>\n",
              "  <tbody>\n",
              "    <tr>\n",
              "      <th>0</th>\n",
              "      <td>10092926.3786306416</td>\n",
              "      <td>2021-01-02</td>\n",
              "      <td>0.000</td>\n",
              "      <td>0.000</td>\n",
              "      <td>0.000</td>\n",
              "      <td>0.000</td>\n",
              "      <td>True</td>\n",
              "      <td>Hard</td>\n",
              "      <td>3.214</td>\n",
              "      <td>False</td>\n",
              "      <td>Inactive</td>\n",
              "      <td>Active</td>\n",
              "      <td>Inactive</td>\n",
              "    </tr>\n",
              "    <tr>\n",
              "      <th>1</th>\n",
              "      <td>10111055.8768683862</td>\n",
              "      <td>2021-01-02</td>\n",
              "      <td>0.000</td>\n",
              "      <td>3.357</td>\n",
              "      <td>1.676</td>\n",
              "      <td>0.004</td>\n",
              "      <td>False</td>\n",
              "      <td>None</td>\n",
              "      <td>0.000</td>\n",
              "      <td>True</td>\n",
              "      <td>Active</td>\n",
              "      <td>Inactive</td>\n",
              "      <td>True</td>\n",
              "    </tr>\n",
              "    <tr>\n",
              "      <th>2</th>\n",
              "      <td>1014825.0200289249</td>\n",
              "      <td>2021-01-02</td>\n",
              "      <td>0.000</td>\n",
              "      <td>0.000</td>\n",
              "      <td>6.306</td>\n",
              "      <td>-12.613</td>\n",
              "      <td>True</td>\n",
              "      <td>Hard</td>\n",
              "      <td>0.000</td>\n",
              "      <td>True</td>\n",
              "      <td>Inactive</td>\n",
              "      <td>Inactive</td>\n",
              "      <td>Inactive</td>\n",
              "    </tr>\n",
              "    <tr>\n",
              "      <th>3</th>\n",
              "      <td>1016446.8237887674</td>\n",
              "      <td>2021-01-02</td>\n",
              "      <td>0.000</td>\n",
              "      <td>3.071</td>\n",
              "      <td>1.308</td>\n",
              "      <td>0.454</td>\n",
              "      <td>False</td>\n",
              "      <td>None</td>\n",
              "      <td>0.000</td>\n",
              "      <td>True</td>\n",
              "      <td>Active</td>\n",
              "      <td>Inactive</td>\n",
              "      <td>True</td>\n",
              "    </tr>\n",
              "    <tr>\n",
              "      <th>4</th>\n",
              "      <td>10172849.5375293351</td>\n",
              "      <td>2021-01-02</td>\n",
              "      <td>0.000</td>\n",
              "      <td>5.571</td>\n",
              "      <td>2.795</td>\n",
              "      <td>-0.018</td>\n",
              "      <td>False</td>\n",
              "      <td>None</td>\n",
              "      <td>0.000</td>\n",
              "      <td>True</td>\n",
              "      <td>Active</td>\n",
              "      <td>Inactive</td>\n",
              "      <td>True</td>\n",
              "    </tr>\n",
              "  </tbody>\n",
              "</table>\n",
              "</div>\n",
              "      <button class=\"colab-df-convert\" onclick=\"convertToInteractive('df-26049678-397a-40b7-b3ab-0b0a68a9e830')\"\n",
              "              title=\"Convert this dataframe to an interactive table.\"\n",
              "              style=\"display:none;\">\n",
              "        \n",
              "  <svg xmlns=\"http://www.w3.org/2000/svg\" height=\"24px\"viewBox=\"0 0 24 24\"\n",
              "       width=\"24px\">\n",
              "    <path d=\"M0 0h24v24H0V0z\" fill=\"none\"/>\n",
              "    <path d=\"M18.56 5.44l.94 2.06.94-2.06 2.06-.94-2.06-.94-.94-2.06-.94 2.06-2.06.94zm-11 1L8.5 8.5l.94-2.06 2.06-.94-2.06-.94L8.5 2.5l-.94 2.06-2.06.94zm10 10l.94 2.06.94-2.06 2.06-.94-2.06-.94-.94-2.06-.94 2.06-2.06.94z\"/><path d=\"M17.41 7.96l-1.37-1.37c-.4-.4-.92-.59-1.43-.59-.52 0-1.04.2-1.43.59L10.3 9.45l-7.72 7.72c-.78.78-.78 2.05 0 2.83L4 21.41c.39.39.9.59 1.41.59.51 0 1.02-.2 1.41-.59l7.78-7.78 2.81-2.81c.8-.78.8-2.07 0-2.86zM5.41 20L4 18.59l7.72-7.72 1.47 1.35L5.41 20z\"/>\n",
              "  </svg>\n",
              "      </button>\n",
              "      \n",
              "  <style>\n",
              "    .colab-df-container {\n",
              "      display:flex;\n",
              "      flex-wrap:wrap;\n",
              "      gap: 12px;\n",
              "    }\n",
              "\n",
              "    .colab-df-convert {\n",
              "      background-color: #E8F0FE;\n",
              "      border: none;\n",
              "      border-radius: 50%;\n",
              "      cursor: pointer;\n",
              "      display: none;\n",
              "      fill: #1967D2;\n",
              "      height: 32px;\n",
              "      padding: 0 0 0 0;\n",
              "      width: 32px;\n",
              "    }\n",
              "\n",
              "    .colab-df-convert:hover {\n",
              "      background-color: #E2EBFA;\n",
              "      box-shadow: 0px 1px 2px rgba(60, 64, 67, 0.3), 0px 1px 3px 1px rgba(60, 64, 67, 0.15);\n",
              "      fill: #174EA6;\n",
              "    }\n",
              "\n",
              "    [theme=dark] .colab-df-convert {\n",
              "      background-color: #3B4455;\n",
              "      fill: #D2E3FC;\n",
              "    }\n",
              "\n",
              "    [theme=dark] .colab-df-convert:hover {\n",
              "      background-color: #434B5C;\n",
              "      box-shadow: 0px 1px 3px 1px rgba(0, 0, 0, 0.15);\n",
              "      filter: drop-shadow(0px 1px 2px rgba(0, 0, 0, 0.3));\n",
              "      fill: #FFFFFF;\n",
              "    }\n",
              "  </style>\n",
              "\n",
              "      <script>\n",
              "        const buttonEl =\n",
              "          document.querySelector('#df-26049678-397a-40b7-b3ab-0b0a68a9e830 button.colab-df-convert');\n",
              "        buttonEl.style.display =\n",
              "          google.colab.kernel.accessAllowed ? 'block' : 'none';\n",
              "\n",
              "        async function convertToInteractive(key) {\n",
              "          const element = document.querySelector('#df-26049678-397a-40b7-b3ab-0b0a68a9e830');\n",
              "          const dataTable =\n",
              "            await google.colab.kernel.invokeFunction('convertToInteractive',\n",
              "                                                     [key], {});\n",
              "          if (!dataTable) return;\n",
              "\n",
              "          const docLinkHtml = 'Like what you see? Visit the ' +\n",
              "            '<a target=\"_blank\" href=https://colab.research.google.com/notebooks/data_table.ipynb>data table notebook</a>'\n",
              "            + ' to learn more about interactive tables.';\n",
              "          element.innerHTML = '';\n",
              "          dataTable['output_type'] = 'display_data';\n",
              "          await google.colab.output.renderOutput(dataTable, element);\n",
              "          const docLink = document.createElement('div');\n",
              "          docLink.innerHTML = docLinkHtml;\n",
              "          element.appendChild(docLink);\n",
              "        }\n",
              "      </script>\n",
              "    </div>\n",
              "  </div>\n",
              "  "
            ]
          },
          "metadata": {},
          "execution_count": 44
        }
      ],
      "source": [
        "df_churn.head()"
      ]
    },
    {
      "cell_type": "code",
      "execution_count": null,
      "id": "2badfe3b-1113-4ba8-82c7-0ec2af24bc7a",
      "metadata": {
        "id": "2badfe3b-1113-4ba8-82c7-0ec2af24bc7a"
      },
      "outputs": [],
      "source": [
        "# rename column headers to make compatible with BigQuery table schema requirements \n",
        "df_churn.rename(columns={\"28ma_x\": \"pre_MA\", \"56sd\": \"pre_SD\", \"28ma_y\": \"post_MA\"}, inplace=True)"
      ]
    },
    {
      "cell_type": "code",
      "execution_count": null,
      "id": "a6dea6ae-e6fe-4b43-ad46-74eaafc56c45",
      "metadata": {
        "colab": {
          "base_uri": "https://localhost:8080/"
        },
        "id": "a6dea6ae-e6fe-4b43-ad46-74eaafc56c45",
        "outputId": "936946c7-8e13-4342-d499-7dfa2f62123f"
      },
      "outputs": [
        {
          "output_type": "execute_result",
          "data": {
            "text/plain": [
              "LoadJob<project=adl-analytics, location=US, id=d0e399f6-4f35-4ace-9d72-9742962db585>"
            ]
          },
          "metadata": {},
          "execution_count": 46
        }
      ],
      "source": [
        "client = bigquery.Client(project = project_name)\n",
        "table_id = 'public_sample_data.churn_ga4_target_details' # update with your dataset and table name\n",
        "\n",
        "job_config = bigquery.LoadJobConfig(\n",
        "    write_disposition = bigquery.job.WriteDisposition.WRITE_TRUNCATE\n",
        ")\n",
        "\n",
        "job = client.load_table_from_dataframe(\n",
        "    df_churn, table_id, job_config = job_config\n",
        ")\n",
        "\n",
        "# Wait for the load job to complete.\n",
        "job.result()"
      ]
    },
    {
      "cell_type": "markdown",
      "id": "2398ae81-76d8-4a4d-823a-f6becad8ee55",
      "metadata": {
        "id": "2398ae81-76d8-4a4d-823a-f6becad8ee55"
      },
      "source": [
        "### Create a separate table containing only the `pseudo_user_id` and `Churn_Target` for customers who are still active\n",
        "\n",
        "This creates an index for our Churn Target column that we'll add later to our full training dataset. "
      ]
    },
    {
      "cell_type": "code",
      "execution_count": null,
      "id": "09886021-06fa-4920-b90d-3d2c6baa43e1",
      "metadata": {
        "id": "09886021-06fa-4920-b90d-3d2c6baa43e1"
      },
      "outputs": [],
      "source": [
        "## select only user_pseudo_id and Churn_Target columns\n",
        "df_churn_target = df_churn.loc[df_churn[\"Churn_Target\"] != \"Inactive\"]\n",
        "df_churn_target = df_churn_target[\n",
        "    [\n",
        "        \"user_pseudo_id\",\n",
        "        \"Churn_Target\"\n",
        "    ]\n",
        "].copy()"
      ]
    },
    {
      "cell_type": "code",
      "execution_count": null,
      "id": "586df279-be51-4554-8fa0-4b62bb5dcd8c",
      "metadata": {
        "id": "586df279-be51-4554-8fa0-4b62bb5dcd8c"
      },
      "outputs": [],
      "source": [
        "# convert target values to 1 and 0 \n",
        "replaceStruct = {\n",
        "    \"Churn_Target\": {\n",
        "        \"True\": 1,\n",
        "        \"False\": 0,    \n",
        "    },\n",
        "}\n",
        "df_churn_target = df_churn_target.replace(replaceStruct)"
      ]
    },
    {
      "cell_type": "code",
      "execution_count": null,
      "id": "90db17fd-f3fc-422c-adff-3988cffc6a97",
      "metadata": {
        "colab": {
          "base_uri": "https://localhost:8080/"
        },
        "id": "90db17fd-f3fc-422c-adff-3988cffc6a97",
        "outputId": "81644bee-5555-443c-c14c-08f20dd1b399"
      },
      "outputs": [
        {
          "output_type": "execute_result",
          "data": {
            "text/plain": [
              "1    1540\n",
              "0      30\n",
              "Name: Churn_Target, dtype: int64"
            ]
          },
          "metadata": {},
          "execution_count": 49
        }
      ],
      "source": [
        "df_churn_target[\"Churn_Target\"].value_counts()"
      ]
    },
    {
      "cell_type": "code",
      "execution_count": null,
      "id": "3e3221f9-367c-4e06-9ba2-b9c30b0c7a0e",
      "metadata": {
        "colab": {
          "base_uri": "https://localhost:8080/"
        },
        "id": "3e3221f9-367c-4e06-9ba2-b9c30b0c7a0e",
        "outputId": "e8ca636c-e929-4f4b-b528-8f1c8a7c08e1"
      },
      "outputs": [
        {
          "output_type": "execute_result",
          "data": {
            "text/plain": [
              "1570"
            ]
          },
          "metadata": {},
          "execution_count": 50
        }
      ],
      "source": [
        "df_churn_target[\"user_pseudo_id\"].nunique()"
      ]
    },
    {
      "cell_type": "markdown",
      "id": "20aa3efc-0ff9-40ad-9c38-4d373e3962eb",
      "metadata": {
        "id": "20aa3efc-0ff9-40ad-9c38-4d373e3962eb"
      },
      "source": [
        "## Store table in BigQuery"
      ]
    },
    {
      "cell_type": "code",
      "execution_count": null,
      "id": "fcf92cfd-f364-4666-93af-1ab75188d3cc",
      "metadata": {
        "colab": {
          "base_uri": "https://localhost:8080/"
        },
        "id": "fcf92cfd-f364-4666-93af-1ab75188d3cc",
        "outputId": "fe579229-e6f6-465c-a997-ad1e4b4f36ee"
      },
      "outputs": [
        {
          "output_type": "execute_result",
          "data": {
            "text/plain": [
              "LoadJob<project=adl-analytics, location=US, id=c278922f-029c-491f-9ace-62b00e339683>"
            ]
          },
          "metadata": {},
          "execution_count": 51
        }
      ],
      "source": [
        "client = bigquery.Client(project = project_name)\n",
        "table_id = 'public_sample_data.churn_ga4_4' # update with your dataset and table name\n",
        "\n",
        "job_config = bigquery.LoadJobConfig(\n",
        "    write_disposition = bigquery.job.WriteDisposition.WRITE_TRUNCATE\n",
        ")\n",
        "\n",
        "job = client.load_table_from_dataframe(\n",
        "    df_churn_target, table_id, job_config = job_config\n",
        ")\n",
        "\n",
        "# Wait for the load job to complete.\n",
        "job.result()"
      ]
    }
  ],
  "metadata": {
    "environment": {
      "kernel": "python3",
      "name": "common-cpu.m100",
      "type": "gcloud",
      "uri": "gcr.io/deeplearning-platform-release/base-cpu:m100"
    },
    "kernelspec": {
      "display_name": "Python 3",
      "language": "python",
      "name": "python3"
    },
    "language_info": {
      "codemirror_mode": {
        "name": "ipython",
        "version": 3
      },
      "file_extension": ".py",
      "mimetype": "text/x-python",
      "name": "python",
      "nbconvert_exporter": "python",
      "pygments_lexer": "ipython3",
      "version": "3.7.12"
    },
    "colab": {
      "provenance": [],
      "include_colab_link": true
    },
    "widgets": {
      "application/vnd.jupyter.widget-state+json": {
        "f0316533d9a8456fb87476fb7e289105": {
          "model_module": "@jupyter-widgets/controls",
          "model_name": "HBoxModel",
          "model_module_version": "1.5.0",
          "state": {
            "_dom_classes": [],
            "_model_module": "@jupyter-widgets/controls",
            "_model_module_version": "1.5.0",
            "_model_name": "HBoxModel",
            "_view_count": null,
            "_view_module": "@jupyter-widgets/controls",
            "_view_module_version": "1.5.0",
            "_view_name": "HBoxView",
            "box_style": "",
            "children": [
              "IPY_MODEL_b8f2520526dc4f04ac43db52b0473271",
              "IPY_MODEL_5e273d295e284369ab4482c0b258a955",
              "IPY_MODEL_c385945377634385b09cbed57e78860a"
            ],
            "layout": "IPY_MODEL_9dd1c45e64314a63b01a9230afd3a87b"
          }
        },
        "b8f2520526dc4f04ac43db52b0473271": {
          "model_module": "@jupyter-widgets/controls",
          "model_name": "HTMLModel",
          "model_module_version": "1.5.0",
          "state": {
            "_dom_classes": [],
            "_model_module": "@jupyter-widgets/controls",
            "_model_module_version": "1.5.0",
            "_model_name": "HTMLModel",
            "_view_count": null,
            "_view_module": "@jupyter-widgets/controls",
            "_view_module_version": "1.5.0",
            "_view_name": "HTMLView",
            "description": "",
            "description_tooltip": null,
            "layout": "IPY_MODEL_b95d68f6191e4e6989bc87b0e9b5be1a",
            "placeholder": "​",
            "style": "IPY_MODEL_0a686684da98479c82416804b943c732",
            "value": "Job ID 3c0a6a9b-339d-46db-9810-eba3fda300dd successfully executed: 100%"
          }
        },
        "5e273d295e284369ab4482c0b258a955": {
          "model_module": "@jupyter-widgets/controls",
          "model_name": "FloatProgressModel",
          "model_module_version": "1.5.0",
          "state": {
            "_dom_classes": [],
            "_model_module": "@jupyter-widgets/controls",
            "_model_module_version": "1.5.0",
            "_model_name": "FloatProgressModel",
            "_view_count": null,
            "_view_module": "@jupyter-widgets/controls",
            "_view_module_version": "1.5.0",
            "_view_name": "ProgressView",
            "bar_style": "success",
            "description": "",
            "description_tooltip": null,
            "layout": "IPY_MODEL_669548f8f64944d3ba082212a24e0062",
            "max": 1,
            "min": 0,
            "orientation": "horizontal",
            "style": "IPY_MODEL_e5c1f271b8c140fa94f3bcbf20678ed3",
            "value": 1
          }
        },
        "c385945377634385b09cbed57e78860a": {
          "model_module": "@jupyter-widgets/controls",
          "model_name": "HTMLModel",
          "model_module_version": "1.5.0",
          "state": {
            "_dom_classes": [],
            "_model_module": "@jupyter-widgets/controls",
            "_model_module_version": "1.5.0",
            "_model_name": "HTMLModel",
            "_view_count": null,
            "_view_module": "@jupyter-widgets/controls",
            "_view_module_version": "1.5.0",
            "_view_name": "HTMLView",
            "description": "",
            "description_tooltip": null,
            "layout": "IPY_MODEL_67072d74d2364657a5b12231745ebf74",
            "placeholder": "​",
            "style": "IPY_MODEL_e3593285cb5147a18c4109cbd6fda609",
            "value": ""
          }
        },
        "9dd1c45e64314a63b01a9230afd3a87b": {
          "model_module": "@jupyter-widgets/base",
          "model_name": "LayoutModel",
          "model_module_version": "1.2.0",
          "state": {
            "_model_module": "@jupyter-widgets/base",
            "_model_module_version": "1.2.0",
            "_model_name": "LayoutModel",
            "_view_count": null,
            "_view_module": "@jupyter-widgets/base",
            "_view_module_version": "1.2.0",
            "_view_name": "LayoutView",
            "align_content": null,
            "align_items": null,
            "align_self": null,
            "border": null,
            "bottom": null,
            "display": null,
            "flex": null,
            "flex_flow": null,
            "grid_area": null,
            "grid_auto_columns": null,
            "grid_auto_flow": null,
            "grid_auto_rows": null,
            "grid_column": null,
            "grid_gap": null,
            "grid_row": null,
            "grid_template_areas": null,
            "grid_template_columns": null,
            "grid_template_rows": null,
            "height": null,
            "justify_content": null,
            "justify_items": null,
            "left": null,
            "margin": null,
            "max_height": null,
            "max_width": null,
            "min_height": null,
            "min_width": null,
            "object_fit": null,
            "object_position": null,
            "order": null,
            "overflow": null,
            "overflow_x": null,
            "overflow_y": null,
            "padding": null,
            "right": null,
            "top": null,
            "visibility": null,
            "width": null
          }
        },
        "b95d68f6191e4e6989bc87b0e9b5be1a": {
          "model_module": "@jupyter-widgets/base",
          "model_name": "LayoutModel",
          "model_module_version": "1.2.0",
          "state": {
            "_model_module": "@jupyter-widgets/base",
            "_model_module_version": "1.2.0",
            "_model_name": "LayoutModel",
            "_view_count": null,
            "_view_module": "@jupyter-widgets/base",
            "_view_module_version": "1.2.0",
            "_view_name": "LayoutView",
            "align_content": null,
            "align_items": null,
            "align_self": null,
            "border": null,
            "bottom": null,
            "display": null,
            "flex": null,
            "flex_flow": null,
            "grid_area": null,
            "grid_auto_columns": null,
            "grid_auto_flow": null,
            "grid_auto_rows": null,
            "grid_column": null,
            "grid_gap": null,
            "grid_row": null,
            "grid_template_areas": null,
            "grid_template_columns": null,
            "grid_template_rows": null,
            "height": null,
            "justify_content": null,
            "justify_items": null,
            "left": null,
            "margin": null,
            "max_height": null,
            "max_width": null,
            "min_height": null,
            "min_width": null,
            "object_fit": null,
            "object_position": null,
            "order": null,
            "overflow": null,
            "overflow_x": null,
            "overflow_y": null,
            "padding": null,
            "right": null,
            "top": null,
            "visibility": null,
            "width": null
          }
        },
        "0a686684da98479c82416804b943c732": {
          "model_module": "@jupyter-widgets/controls",
          "model_name": "DescriptionStyleModel",
          "model_module_version": "1.5.0",
          "state": {
            "_model_module": "@jupyter-widgets/controls",
            "_model_module_version": "1.5.0",
            "_model_name": "DescriptionStyleModel",
            "_view_count": null,
            "_view_module": "@jupyter-widgets/base",
            "_view_module_version": "1.2.0",
            "_view_name": "StyleView",
            "description_width": ""
          }
        },
        "669548f8f64944d3ba082212a24e0062": {
          "model_module": "@jupyter-widgets/base",
          "model_name": "LayoutModel",
          "model_module_version": "1.2.0",
          "state": {
            "_model_module": "@jupyter-widgets/base",
            "_model_module_version": "1.2.0",
            "_model_name": "LayoutModel",
            "_view_count": null,
            "_view_module": "@jupyter-widgets/base",
            "_view_module_version": "1.2.0",
            "_view_name": "LayoutView",
            "align_content": null,
            "align_items": null,
            "align_self": null,
            "border": null,
            "bottom": null,
            "display": null,
            "flex": null,
            "flex_flow": null,
            "grid_area": null,
            "grid_auto_columns": null,
            "grid_auto_flow": null,
            "grid_auto_rows": null,
            "grid_column": null,
            "grid_gap": null,
            "grid_row": null,
            "grid_template_areas": null,
            "grid_template_columns": null,
            "grid_template_rows": null,
            "height": null,
            "justify_content": null,
            "justify_items": null,
            "left": null,
            "margin": null,
            "max_height": null,
            "max_width": null,
            "min_height": null,
            "min_width": null,
            "object_fit": null,
            "object_position": null,
            "order": null,
            "overflow": null,
            "overflow_x": null,
            "overflow_y": null,
            "padding": null,
            "right": null,
            "top": null,
            "visibility": null,
            "width": null
          }
        },
        "e5c1f271b8c140fa94f3bcbf20678ed3": {
          "model_module": "@jupyter-widgets/controls",
          "model_name": "ProgressStyleModel",
          "model_module_version": "1.5.0",
          "state": {
            "_model_module": "@jupyter-widgets/controls",
            "_model_module_version": "1.5.0",
            "_model_name": "ProgressStyleModel",
            "_view_count": null,
            "_view_module": "@jupyter-widgets/base",
            "_view_module_version": "1.2.0",
            "_view_name": "StyleView",
            "bar_color": null,
            "description_width": ""
          }
        },
        "67072d74d2364657a5b12231745ebf74": {
          "model_module": "@jupyter-widgets/base",
          "model_name": "LayoutModel",
          "model_module_version": "1.2.0",
          "state": {
            "_model_module": "@jupyter-widgets/base",
            "_model_module_version": "1.2.0",
            "_model_name": "LayoutModel",
            "_view_count": null,
            "_view_module": "@jupyter-widgets/base",
            "_view_module_version": "1.2.0",
            "_view_name": "LayoutView",
            "align_content": null,
            "align_items": null,
            "align_self": null,
            "border": null,
            "bottom": null,
            "display": null,
            "flex": null,
            "flex_flow": null,
            "grid_area": null,
            "grid_auto_columns": null,
            "grid_auto_flow": null,
            "grid_auto_rows": null,
            "grid_column": null,
            "grid_gap": null,
            "grid_row": null,
            "grid_template_areas": null,
            "grid_template_columns": null,
            "grid_template_rows": null,
            "height": null,
            "justify_content": null,
            "justify_items": null,
            "left": null,
            "margin": null,
            "max_height": null,
            "max_width": null,
            "min_height": null,
            "min_width": null,
            "object_fit": null,
            "object_position": null,
            "order": null,
            "overflow": null,
            "overflow_x": null,
            "overflow_y": null,
            "padding": null,
            "right": null,
            "top": null,
            "visibility": null,
            "width": null
          }
        },
        "e3593285cb5147a18c4109cbd6fda609": {
          "model_module": "@jupyter-widgets/controls",
          "model_name": "DescriptionStyleModel",
          "model_module_version": "1.5.0",
          "state": {
            "_model_module": "@jupyter-widgets/controls",
            "_model_module_version": "1.5.0",
            "_model_name": "DescriptionStyleModel",
            "_view_count": null,
            "_view_module": "@jupyter-widgets/base",
            "_view_module_version": "1.2.0",
            "_view_name": "StyleView",
            "description_width": ""
          }
        },
        "4206c7afd46e4d818700fda790ac9f99": {
          "model_module": "@jupyter-widgets/controls",
          "model_name": "HBoxModel",
          "model_module_version": "1.5.0",
          "state": {
            "_dom_classes": [],
            "_model_module": "@jupyter-widgets/controls",
            "_model_module_version": "1.5.0",
            "_model_name": "HBoxModel",
            "_view_count": null,
            "_view_module": "@jupyter-widgets/controls",
            "_view_module_version": "1.5.0",
            "_view_name": "HBoxView",
            "box_style": "",
            "children": [
              "IPY_MODEL_29ac09f2cb5d4c39ad1ce38a3c051a66",
              "IPY_MODEL_a52a4a68946040f68c41637ae4b6de70",
              "IPY_MODEL_08c31b31d91e4d31b7c44f784c43b55f"
            ],
            "layout": "IPY_MODEL_a2b20993a7134acbb3e0f176478d61c1"
          }
        },
        "29ac09f2cb5d4c39ad1ce38a3c051a66": {
          "model_module": "@jupyter-widgets/controls",
          "model_name": "HTMLModel",
          "model_module_version": "1.5.0",
          "state": {
            "_dom_classes": [],
            "_model_module": "@jupyter-widgets/controls",
            "_model_module_version": "1.5.0",
            "_model_name": "HTMLModel",
            "_view_count": null,
            "_view_module": "@jupyter-widgets/controls",
            "_view_module_version": "1.5.0",
            "_view_name": "HTMLView",
            "description": "",
            "description_tooltip": null,
            "layout": "IPY_MODEL_320970e9fa6d44749c07c16a2431a1c9",
            "placeholder": "​",
            "style": "IPY_MODEL_c638fa25788c4ccd8a8880f60985b268",
            "value": "Downloading: 100%"
          }
        },
        "a52a4a68946040f68c41637ae4b6de70": {
          "model_module": "@jupyter-widgets/controls",
          "model_name": "FloatProgressModel",
          "model_module_version": "1.5.0",
          "state": {
            "_dom_classes": [],
            "_model_module": "@jupyter-widgets/controls",
            "_model_module_version": "1.5.0",
            "_model_name": "FloatProgressModel",
            "_view_count": null,
            "_view_module": "@jupyter-widgets/controls",
            "_view_module_version": "1.5.0",
            "_view_name": "ProgressView",
            "bar_style": "success",
            "description": "",
            "description_tooltip": null,
            "layout": "IPY_MODEL_8571e2d6c72a4ae1bac2b84b67aca9f0",
            "max": 5692,
            "min": 0,
            "orientation": "horizontal",
            "style": "IPY_MODEL_c9a53e4f82054ebb8ea41f168360a5d2",
            "value": 5692
          }
        },
        "08c31b31d91e4d31b7c44f784c43b55f": {
          "model_module": "@jupyter-widgets/controls",
          "model_name": "HTMLModel",
          "model_module_version": "1.5.0",
          "state": {
            "_dom_classes": [],
            "_model_module": "@jupyter-widgets/controls",
            "_model_module_version": "1.5.0",
            "_model_name": "HTMLModel",
            "_view_count": null,
            "_view_module": "@jupyter-widgets/controls",
            "_view_module_version": "1.5.0",
            "_view_name": "HTMLView",
            "description": "",
            "description_tooltip": null,
            "layout": "IPY_MODEL_948b0675888b43ecafc2f08124d3b739",
            "placeholder": "​",
            "style": "IPY_MODEL_d3b6262e7ac64be7aa931c227c2554bf",
            "value": ""
          }
        },
        "a2b20993a7134acbb3e0f176478d61c1": {
          "model_module": "@jupyter-widgets/base",
          "model_name": "LayoutModel",
          "model_module_version": "1.2.0",
          "state": {
            "_model_module": "@jupyter-widgets/base",
            "_model_module_version": "1.2.0",
            "_model_name": "LayoutModel",
            "_view_count": null,
            "_view_module": "@jupyter-widgets/base",
            "_view_module_version": "1.2.0",
            "_view_name": "LayoutView",
            "align_content": null,
            "align_items": null,
            "align_self": null,
            "border": null,
            "bottom": null,
            "display": null,
            "flex": null,
            "flex_flow": null,
            "grid_area": null,
            "grid_auto_columns": null,
            "grid_auto_flow": null,
            "grid_auto_rows": null,
            "grid_column": null,
            "grid_gap": null,
            "grid_row": null,
            "grid_template_areas": null,
            "grid_template_columns": null,
            "grid_template_rows": null,
            "height": null,
            "justify_content": null,
            "justify_items": null,
            "left": null,
            "margin": null,
            "max_height": null,
            "max_width": null,
            "min_height": null,
            "min_width": null,
            "object_fit": null,
            "object_position": null,
            "order": null,
            "overflow": null,
            "overflow_x": null,
            "overflow_y": null,
            "padding": null,
            "right": null,
            "top": null,
            "visibility": null,
            "width": null
          }
        },
        "320970e9fa6d44749c07c16a2431a1c9": {
          "model_module": "@jupyter-widgets/base",
          "model_name": "LayoutModel",
          "model_module_version": "1.2.0",
          "state": {
            "_model_module": "@jupyter-widgets/base",
            "_model_module_version": "1.2.0",
            "_model_name": "LayoutModel",
            "_view_count": null,
            "_view_module": "@jupyter-widgets/base",
            "_view_module_version": "1.2.0",
            "_view_name": "LayoutView",
            "align_content": null,
            "align_items": null,
            "align_self": null,
            "border": null,
            "bottom": null,
            "display": null,
            "flex": null,
            "flex_flow": null,
            "grid_area": null,
            "grid_auto_columns": null,
            "grid_auto_flow": null,
            "grid_auto_rows": null,
            "grid_column": null,
            "grid_gap": null,
            "grid_row": null,
            "grid_template_areas": null,
            "grid_template_columns": null,
            "grid_template_rows": null,
            "height": null,
            "justify_content": null,
            "justify_items": null,
            "left": null,
            "margin": null,
            "max_height": null,
            "max_width": null,
            "min_height": null,
            "min_width": null,
            "object_fit": null,
            "object_position": null,
            "order": null,
            "overflow": null,
            "overflow_x": null,
            "overflow_y": null,
            "padding": null,
            "right": null,
            "top": null,
            "visibility": null,
            "width": null
          }
        },
        "c638fa25788c4ccd8a8880f60985b268": {
          "model_module": "@jupyter-widgets/controls",
          "model_name": "DescriptionStyleModel",
          "model_module_version": "1.5.0",
          "state": {
            "_model_module": "@jupyter-widgets/controls",
            "_model_module_version": "1.5.0",
            "_model_name": "DescriptionStyleModel",
            "_view_count": null,
            "_view_module": "@jupyter-widgets/base",
            "_view_module_version": "1.2.0",
            "_view_name": "StyleView",
            "description_width": ""
          }
        },
        "8571e2d6c72a4ae1bac2b84b67aca9f0": {
          "model_module": "@jupyter-widgets/base",
          "model_name": "LayoutModel",
          "model_module_version": "1.2.0",
          "state": {
            "_model_module": "@jupyter-widgets/base",
            "_model_module_version": "1.2.0",
            "_model_name": "LayoutModel",
            "_view_count": null,
            "_view_module": "@jupyter-widgets/base",
            "_view_module_version": "1.2.0",
            "_view_name": "LayoutView",
            "align_content": null,
            "align_items": null,
            "align_self": null,
            "border": null,
            "bottom": null,
            "display": null,
            "flex": null,
            "flex_flow": null,
            "grid_area": null,
            "grid_auto_columns": null,
            "grid_auto_flow": null,
            "grid_auto_rows": null,
            "grid_column": null,
            "grid_gap": null,
            "grid_row": null,
            "grid_template_areas": null,
            "grid_template_columns": null,
            "grid_template_rows": null,
            "height": null,
            "justify_content": null,
            "justify_items": null,
            "left": null,
            "margin": null,
            "max_height": null,
            "max_width": null,
            "min_height": null,
            "min_width": null,
            "object_fit": null,
            "object_position": null,
            "order": null,
            "overflow": null,
            "overflow_x": null,
            "overflow_y": null,
            "padding": null,
            "right": null,
            "top": null,
            "visibility": null,
            "width": null
          }
        },
        "c9a53e4f82054ebb8ea41f168360a5d2": {
          "model_module": "@jupyter-widgets/controls",
          "model_name": "ProgressStyleModel",
          "model_module_version": "1.5.0",
          "state": {
            "_model_module": "@jupyter-widgets/controls",
            "_model_module_version": "1.5.0",
            "_model_name": "ProgressStyleModel",
            "_view_count": null,
            "_view_module": "@jupyter-widgets/base",
            "_view_module_version": "1.2.0",
            "_view_name": "StyleView",
            "bar_color": null,
            "description_width": ""
          }
        },
        "948b0675888b43ecafc2f08124d3b739": {
          "model_module": "@jupyter-widgets/base",
          "model_name": "LayoutModel",
          "model_module_version": "1.2.0",
          "state": {
            "_model_module": "@jupyter-widgets/base",
            "_model_module_version": "1.2.0",
            "_model_name": "LayoutModel",
            "_view_count": null,
            "_view_module": "@jupyter-widgets/base",
            "_view_module_version": "1.2.0",
            "_view_name": "LayoutView",
            "align_content": null,
            "align_items": null,
            "align_self": null,
            "border": null,
            "bottom": null,
            "display": null,
            "flex": null,
            "flex_flow": null,
            "grid_area": null,
            "grid_auto_columns": null,
            "grid_auto_flow": null,
            "grid_auto_rows": null,
            "grid_column": null,
            "grid_gap": null,
            "grid_row": null,
            "grid_template_areas": null,
            "grid_template_columns": null,
            "grid_template_rows": null,
            "height": null,
            "justify_content": null,
            "justify_items": null,
            "left": null,
            "margin": null,
            "max_height": null,
            "max_width": null,
            "min_height": null,
            "min_width": null,
            "object_fit": null,
            "object_position": null,
            "order": null,
            "overflow": null,
            "overflow_x": null,
            "overflow_y": null,
            "padding": null,
            "right": null,
            "top": null,
            "visibility": null,
            "width": null
          }
        },
        "d3b6262e7ac64be7aa931c227c2554bf": {
          "model_module": "@jupyter-widgets/controls",
          "model_name": "DescriptionStyleModel",
          "model_module_version": "1.5.0",
          "state": {
            "_model_module": "@jupyter-widgets/controls",
            "_model_module_version": "1.5.0",
            "_model_name": "DescriptionStyleModel",
            "_view_count": null,
            "_view_module": "@jupyter-widgets/base",
            "_view_module_version": "1.2.0",
            "_view_name": "StyleView",
            "description_width": ""
          }
        }
      }
    }
  },
  "nbformat": 4,
  "nbformat_minor": 5
}