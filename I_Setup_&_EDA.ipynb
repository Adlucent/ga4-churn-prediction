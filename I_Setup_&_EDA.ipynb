{
  "cells": [
    {
      "cell_type": "markdown",
      "metadata": {
        "id": "view-in-github",
        "colab_type": "text"
      },
      "source": [
        "<a href=\"https://colab.research.google.com/github/Adlucent/ga4-churn-prediction/blob/main/I_Setup_%26_EDA.ipynb\" target=\"_parent\"><img src=\"https://colab.research.google.com/assets/colab-badge.svg\" alt=\"Open In Colab\"/></a>"
      ]
    },
    {
      "cell_type": "markdown",
      "id": "d73b3f3c-02c4-49f1-81f3-b7e833f8deb7",
      "metadata": {
        "id": "d73b3f3c-02c4-49f1-81f3-b7e833f8deb7"
      },
      "source": [
        "# I. Setup and EDA Part 1\n",
        "\n",
        "\n"
      ]
    },
    {
      "cell_type": "markdown",
      "id": "54cdd538-8486-4208-aa64-c451ebde7053",
      "metadata": {
        "id": "54cdd538-8486-4208-aa64-c451ebde7053"
      },
      "source": [
        "In this notebook: <br>\n",
        "1. Setup\n",
        "2. Import Libraries\n",
        "3. Load GA4 Data from BigQuery\n",
        "4. Inspect the data\n",
        "5. Perofrm a univariate analysis of each numeric, non-numeric and array columns\n",
        "6. Save new dataframe as BigQuery table as a sample to refer to later"
      ]
    },
    {
      "cell_type": "markdown",
      "id": "8f30d6ec-2a27-4734-9032-7fa4fd9d6e1f",
      "metadata": {
        "id": "8f30d6ec-2a27-4734-9032-7fa4fd9d6e1f"
      },
      "source": [
        "## Setup"
      ]
    },
    {
      "cell_type": "markdown",
      "id": "7f3d4489-6c1b-4aa5-b514-fd159c0ac80b",
      "metadata": {
        "id": "7f3d4489-6c1b-4aa5-b514-fd159c0ac80b"
      },
      "source": [
        "1. **Connecting to BigQuery:** First, you'll need to create a GCP project and authenticate to connect to BigQuery. Reference [this notebook](https://colab.research.google.com/notebooks/bigquery.ipynb) for those setup steps. <br>\n",
        "2. **Accessing BigQuery data:** There are several methods for accessing BigQuery data from within a .ipynb notebook. We'll be using %%bigquery line magic to access the data, and the bigquery.Client() method to save new tables back to BigQuery (both are covered in detail in the colab notebook linked above)."
      ]
    },
    {
      "cell_type": "markdown",
      "id": "f60bf618-7921-4dec-a937-b6d817d637ee",
      "metadata": {
        "id": "f60bf618-7921-4dec-a937-b6d817d637ee"
      },
      "source": [
        "## Import Libraries"
      ]
    },
    {
      "cell_type": "code",
      "source": [
        "################################################################################\n",
        "######################### CHANGE BQ PROJECT NAME BELOW #########################\n",
        "################################################################################\n",
        "\n",
        "project_name = 'adl-analytics' #add proj name\n",
        "region = \"US\"  # GCP project region"
      ],
      "metadata": {
        "id": "E7mJ0N1c7U1v"
      },
      "id": "E7mJ0N1c7U1v",
      "execution_count": 1,
      "outputs": []
    },
    {
      "cell_type": "code",
      "execution_count": 2,
      "id": "bd19d2e3-d7f3-409b-a045-9a08a33e4013",
      "metadata": {
        "id": "bd19d2e3-d7f3-409b-a045-9a08a33e4013"
      },
      "outputs": [],
      "source": [
        "# Google credentials \n",
        "from google.colab import auth, drive\n",
        "auth.authenticate_user()\n",
        "\n",
        "# BigQuery Magics \n",
        "'''BigQuery magics are used to run BigQuery SQL queries in a python environment.\n",
        "These queries can also be run in the BigQuery UI '''\n",
        "\n",
        "from google.cloud import bigquery\n",
        "from google.cloud.bigquery import magics, Client, QueryJobConfig\n",
        "\n",
        "magics.context.project = project_name #update project name \n",
        "client = bigquery.Client(project=magics.context.project)\n",
        "\n",
        "# data processing libraries\n",
        "import pandas as pd\n",
        "import numpy as np\n",
        "\n",
        "# visualization\n",
        "import matplotlib.pyplot as plt\n",
        "import seaborn as sns\n",
        "\n",
        "sns.set()\n",
        "\n",
        "# dataframe display settings\n",
        "pd.set_option(\"display.max_columns\", None)\n",
        "pd.set_option(\"display.max_rows\", None)\n",
        "pd.set_option(\"display.float_format\", lambda x: \"%.3f\" % x)"
      ]
    },
    {
      "cell_type": "markdown",
      "id": "461ad9c6-0567-463b-af68-2f0d535e1017",
      "metadata": {
        "tags": [],
        "id": "461ad9c6-0567-463b-af68-2f0d535e1017"
      },
      "source": [
        "### Load GA4 Data from BigQuery <br>\n",
        "We'll be using a publicly available sample table from GA4, containing event export data for three months from 2020-11-01 to 2021-01-31. <br>\n",
        "Additional details on the sample data from Google can be found [here](https://developers.google.com/analytics/bigquery/web-ecommerce-demo-dataset).\n",
        "\n",
        "If your dataset is too large to pull in everything, you can:\n",
        "1. limit the EDA import to a select number of rows (see commented line at the end of the next code cell),\n",
        "2. add more CPUs by upgrading Colab, or\n",
        "3. use JupyterLabs within the Vertex AI Workbench. Read more about [Vertex AI pricing](https://cloud.google.com/vertex-ai/pricing) and the [Pricing Calculator](https://cloud.google.com/products/calculator/)."
      ]
    },
    {
      "cell_type": "code",
      "execution_count": 3,
      "id": "de3937c1-5cfb-423f-b490-f58084053c32",
      "metadata": {
        "id": "de3937c1-5cfb-423f-b490-f58084053c32",
        "outputId": "1dc17740-8f76-45db-87d7-fb01f00d0f18",
        "colab": {
          "base_uri": "https://localhost:8080/",
          "height": 81,
          "referenced_widgets": [
            "eae33b411b294737ac893fa4a66906be",
            "95974d38013f40e18268e795fd2f2800",
            "51c5c89ffa6b46eb91aed4ae78242739",
            "9db36a490d3146768e92fa542aa21ce9",
            "f494bdad19ca478b97c0a29d8b171c82",
            "4addff52ae52437d88820da8282dd158",
            "a7571a584522481cbb0b9f5ecacba64d",
            "a5a034a2edfa4fb4a8472c617a214861",
            "b36f680a55984984b65b37ca205adabb",
            "84222e80ee604182a093b04b51931660",
            "72f58c224c6941d7a8c27d6d5869b5ec",
            "2f69b6bf628346e8b10f8a8eb352616a",
            "299b488121194f4384cc6810fc1ae9ac",
            "1a1fd532ca8d4926900f4bac06809a86",
            "24d0ab7f7e9d41e3beb30c9550bf6b67",
            "bb06584bbc3b448f92bca1e2415861d2",
            "79e881aca519477598acabb9ac47da0e",
            "f3303f5dad2b4c5997a39f463958fe9a",
            "19b76dea4fb9477880076a5e4fcea5d6",
            "57720e5c6f9e4ea09d70ae4f7e54e9fb",
            "7e18a8efb9ab46f59b440c41df3ff68c",
            "712c080497644e56b3dc2e9650849632"
          ]
        }
      },
      "outputs": [
        {
          "output_type": "display_data",
          "data": {
            "text/plain": [
              "Query is running:   0%|          |"
            ],
            "application/vnd.jupyter.widget-view+json": {
              "version_major": 2,
              "version_minor": 0,
              "model_id": "eae33b411b294737ac893fa4a66906be"
            }
          },
          "metadata": {}
        },
        {
          "output_type": "display_data",
          "data": {
            "text/plain": [
              "Downloading:   0%|          |"
            ],
            "application/vnd.jupyter.widget-view+json": {
              "version_major": 2,
              "version_minor": 0,
              "model_id": "2f69b6bf628346e8b10f8a8eb352616a"
            }
          },
          "metadata": {}
        }
      ],
      "source": [
        "%%bigquery data --project $project_name\n",
        "SELECT *\n",
        "FROM `bigquery-public-data.ga4_obfuscated_sample_ecommerce.events_*`\n",
        "WHERE RAND() < 0.2 -- since the dataset is large, this will import a random sample instead of the entire table"
      ]
    },
    {
      "cell_type": "code",
      "execution_count": 4,
      "id": "f4058f41-90d6-4519-b703-b8ceb7561eff",
      "metadata": {
        "id": "f4058f41-90d6-4519-b703-b8ceb7561eff"
      },
      "outputs": [],
      "source": [
        "# create a copy of the imported data to avoid re-importing if we need to revert to original table\n",
        "df = data.copy()"
      ]
    },
    {
      "cell_type": "markdown",
      "id": "b67c210e-db69-4524-95de-bae1b8478f93",
      "metadata": {
        "id": "b67c210e-db69-4524-95de-bae1b8478f93"
      },
      "source": [
        "## Inspect the first 5 rows, shape, and datatypes"
      ]
    },
    {
      "cell_type": "code",
      "execution_count": 5,
      "id": "8a48e670-0843-45d9-a810-843fce2a870d",
      "metadata": {
        "id": "8a48e670-0843-45d9-a810-843fce2a870d",
        "colab": {
          "base_uri": "https://localhost:8080/",
          "height": 531
        },
        "outputId": "b8312924-0e60-4cb2-c60e-e835503c45e8"
      },
      "outputs": [
        {
          "output_type": "execute_result",
          "data": {
            "text/plain": [
              "  event_date   event_timestamp   event_name  \\\n",
              "0   20201129  1606668819291159  add_to_cart   \n",
              "1   20201129  1606677484124844    view_item   \n",
              "2   20201129  1606609400334009  add_to_cart   \n",
              "3   20201129  1606678527538566    view_item   \n",
              "4   20201129  1606667084811268    view_item   \n",
              "\n",
              "                                        event_params  \\\n",
              "0  [{'key': 'ga_session_id', 'value': {'string_va...   \n",
              "1  [{'key': 'page_location', 'value': {'string_va...   \n",
              "2  [{'key': 'all_data', 'value': {'string_value':...   \n",
              "3  [{'key': 'page_referrer', 'value': {'string_va...   \n",
              "4  [{'key': 'engaged_session_event', 'value': {'s...   \n",
              "\n",
              "   event_previous_timestamp  event_value_in_usd  event_bundle_sequence_id  \\\n",
              "0                      <NA>                 NaN               -8746515919   \n",
              "1                      <NA>                 NaN                3885145797   \n",
              "2                      <NA>                 NaN                 248761971   \n",
              "3                      <NA>                 NaN               -7072026188   \n",
              "4                      <NA>                 NaN               -6663196721   \n",
              "\n",
              "   event_server_timestamp_offset user_id       user_pseudo_id  \\\n",
              "0                           <NA>    None  67233620.1671202524   \n",
              "1                           <NA>    None  73251245.3210161348   \n",
              "2                           <NA>    None  77453683.2966684202   \n",
              "3                           <NA>    None  77988473.9627260789   \n",
              "4                           <NA>    None  78675414.2746195696   \n",
              "\n",
              "                                        privacy_info user_properties  \\\n",
              "0  {'analytics_storage': None, 'ads_storage': Non...              []   \n",
              "1  {'analytics_storage': None, 'ads_storage': Non...              []   \n",
              "2  {'analytics_storage': None, 'ads_storage': Non...              []   \n",
              "3  {'analytics_storage': None, 'ads_storage': Non...              []   \n",
              "4  {'analytics_storage': None, 'ads_storage': Non...              []   \n",
              "\n",
              "   user_first_touch_timestamp                             user_ltv  \\\n",
              "0            1606084688623959  {'revenue': 0.0, 'currency': 'USD'}   \n",
              "1            1606677220614550  {'revenue': 0.0, 'currency': 'USD'}   \n",
              "2            1606608141681482  {'revenue': 0.0, 'currency': 'USD'}   \n",
              "3            1606678516033847  {'revenue': 0.0, 'currency': 'USD'}   \n",
              "4            1606667056322899  {'revenue': 0.0, 'currency': 'USD'}   \n",
              "\n",
              "                                              device  \\\n",
              "0  {'category': 'desktop', 'mobile_brand_name': '...   \n",
              "1  {'category': 'desktop', 'mobile_brand_name': '...   \n",
              "2  {'category': 'desktop', 'mobile_brand_name': '...   \n",
              "3  {'category': 'mobile', 'mobile_brand_name': 'S...   \n",
              "4  {'category': 'desktop', 'mobile_brand_name': '...   \n",
              "\n",
              "                                                 geo app_info  \\\n",
              "0  {'continent': 'Europe', 'sub_continent': 'Sout...     None   \n",
              "1  {'continent': 'Americas', 'sub_continent': 'No...     None   \n",
              "2  {'continent': 'Oceania', 'sub_continent': 'Aus...     None   \n",
              "3  {'continent': 'Americas', 'sub_continent': 'No...     None   \n",
              "4  {'continent': 'Europe', 'sub_continent': 'Nort...     None   \n",
              "\n",
              "                                      traffic_source   stream_id platform  \\\n",
              "0  {'medium': '(data deleted)', 'name': '(data de...  2100450278      WEB   \n",
              "1  {'medium': 'organic', 'name': '(organic)', 'so...  2100450278      WEB   \n",
              "2  {'medium': '(none)', 'name': '(direct)', 'sour...  2100450278      WEB   \n",
              "3  {'medium': 'referral', 'name': '(referral)', '...  2100450278      WEB   \n",
              "4  {'medium': '<Other>', 'name': '<Other>', 'sour...  2100450278      WEB   \n",
              "\n",
              "  event_dimensions                                          ecommerce  \\\n",
              "0             None  {'total_item_quantity': None, 'purchase_revenu...   \n",
              "1             None  {'total_item_quantity': None, 'purchase_revenu...   \n",
              "2             None  {'total_item_quantity': 1, 'purchase_revenue_i...   \n",
              "3             None  {'total_item_quantity': None, 'purchase_revenu...   \n",
              "4             None  {'total_item_quantity': None, 'purchase_revenu...   \n",
              "\n",
              "                                               items  \n",
              "0  [{'item_id': 'GGOEGXXX0919', 'item_name': 'You...  \n",
              "1  [{'item_id': 'GGOEAFBA115499', 'item_name': 'A...  \n",
              "2  [{'item_id': 'GGOEGHPB120910', 'item_name': 'G...  \n",
              "3  [{'item_id': 'GGOEGAEC134910', 'item_name': 'G...  \n",
              "4  [{'item_id': 'GGOEYAEA105610', 'item_name': 'Y...  "
            ],
            "text/html": [
              "\n",
              "  <div id=\"df-8cbaadfc-5a77-4a8e-91b8-af08587169a3\">\n",
              "    <div class=\"colab-df-container\">\n",
              "      <div>\n",
              "<style scoped>\n",
              "    .dataframe tbody tr th:only-of-type {\n",
              "        vertical-align: middle;\n",
              "    }\n",
              "\n",
              "    .dataframe tbody tr th {\n",
              "        vertical-align: top;\n",
              "    }\n",
              "\n",
              "    .dataframe thead th {\n",
              "        text-align: right;\n",
              "    }\n",
              "</style>\n",
              "<table border=\"1\" class=\"dataframe\">\n",
              "  <thead>\n",
              "    <tr style=\"text-align: right;\">\n",
              "      <th></th>\n",
              "      <th>event_date</th>\n",
              "      <th>event_timestamp</th>\n",
              "      <th>event_name</th>\n",
              "      <th>event_params</th>\n",
              "      <th>event_previous_timestamp</th>\n",
              "      <th>event_value_in_usd</th>\n",
              "      <th>event_bundle_sequence_id</th>\n",
              "      <th>event_server_timestamp_offset</th>\n",
              "      <th>user_id</th>\n",
              "      <th>user_pseudo_id</th>\n",
              "      <th>privacy_info</th>\n",
              "      <th>user_properties</th>\n",
              "      <th>user_first_touch_timestamp</th>\n",
              "      <th>user_ltv</th>\n",
              "      <th>device</th>\n",
              "      <th>geo</th>\n",
              "      <th>app_info</th>\n",
              "      <th>traffic_source</th>\n",
              "      <th>stream_id</th>\n",
              "      <th>platform</th>\n",
              "      <th>event_dimensions</th>\n",
              "      <th>ecommerce</th>\n",
              "      <th>items</th>\n",
              "    </tr>\n",
              "  </thead>\n",
              "  <tbody>\n",
              "    <tr>\n",
              "      <th>0</th>\n",
              "      <td>20201129</td>\n",
              "      <td>1606668819291159</td>\n",
              "      <td>add_to_cart</td>\n",
              "      <td>[{'key': 'ga_session_id', 'value': {'string_va...</td>\n",
              "      <td>&lt;NA&gt;</td>\n",
              "      <td>NaN</td>\n",
              "      <td>-8746515919</td>\n",
              "      <td>&lt;NA&gt;</td>\n",
              "      <td>None</td>\n",
              "      <td>67233620.1671202524</td>\n",
              "      <td>{'analytics_storage': None, 'ads_storage': Non...</td>\n",
              "      <td>[]</td>\n",
              "      <td>1606084688623959</td>\n",
              "      <td>{'revenue': 0.0, 'currency': 'USD'}</td>\n",
              "      <td>{'category': 'desktop', 'mobile_brand_name': '...</td>\n",
              "      <td>{'continent': 'Europe', 'sub_continent': 'Sout...</td>\n",
              "      <td>None</td>\n",
              "      <td>{'medium': '(data deleted)', 'name': '(data de...</td>\n",
              "      <td>2100450278</td>\n",
              "      <td>WEB</td>\n",
              "      <td>None</td>\n",
              "      <td>{'total_item_quantity': None, 'purchase_revenu...</td>\n",
              "      <td>[{'item_id': 'GGOEGXXX0919', 'item_name': 'You...</td>\n",
              "    </tr>\n",
              "    <tr>\n",
              "      <th>1</th>\n",
              "      <td>20201129</td>\n",
              "      <td>1606677484124844</td>\n",
              "      <td>view_item</td>\n",
              "      <td>[{'key': 'page_location', 'value': {'string_va...</td>\n",
              "      <td>&lt;NA&gt;</td>\n",
              "      <td>NaN</td>\n",
              "      <td>3885145797</td>\n",
              "      <td>&lt;NA&gt;</td>\n",
              "      <td>None</td>\n",
              "      <td>73251245.3210161348</td>\n",
              "      <td>{'analytics_storage': None, 'ads_storage': Non...</td>\n",
              "      <td>[]</td>\n",
              "      <td>1606677220614550</td>\n",
              "      <td>{'revenue': 0.0, 'currency': 'USD'}</td>\n",
              "      <td>{'category': 'desktop', 'mobile_brand_name': '...</td>\n",
              "      <td>{'continent': 'Americas', 'sub_continent': 'No...</td>\n",
              "      <td>None</td>\n",
              "      <td>{'medium': 'organic', 'name': '(organic)', 'so...</td>\n",
              "      <td>2100450278</td>\n",
              "      <td>WEB</td>\n",
              "      <td>None</td>\n",
              "      <td>{'total_item_quantity': None, 'purchase_revenu...</td>\n",
              "      <td>[{'item_id': 'GGOEAFBA115499', 'item_name': 'A...</td>\n",
              "    </tr>\n",
              "    <tr>\n",
              "      <th>2</th>\n",
              "      <td>20201129</td>\n",
              "      <td>1606609400334009</td>\n",
              "      <td>add_to_cart</td>\n",
              "      <td>[{'key': 'all_data', 'value': {'string_value':...</td>\n",
              "      <td>&lt;NA&gt;</td>\n",
              "      <td>NaN</td>\n",
              "      <td>248761971</td>\n",
              "      <td>&lt;NA&gt;</td>\n",
              "      <td>None</td>\n",
              "      <td>77453683.2966684202</td>\n",
              "      <td>{'analytics_storage': None, 'ads_storage': Non...</td>\n",
              "      <td>[]</td>\n",
              "      <td>1606608141681482</td>\n",
              "      <td>{'revenue': 0.0, 'currency': 'USD'}</td>\n",
              "      <td>{'category': 'desktop', 'mobile_brand_name': '...</td>\n",
              "      <td>{'continent': 'Oceania', 'sub_continent': 'Aus...</td>\n",
              "      <td>None</td>\n",
              "      <td>{'medium': '(none)', 'name': '(direct)', 'sour...</td>\n",
              "      <td>2100450278</td>\n",
              "      <td>WEB</td>\n",
              "      <td>None</td>\n",
              "      <td>{'total_item_quantity': 1, 'purchase_revenue_i...</td>\n",
              "      <td>[{'item_id': 'GGOEGHPB120910', 'item_name': 'G...</td>\n",
              "    </tr>\n",
              "    <tr>\n",
              "      <th>3</th>\n",
              "      <td>20201129</td>\n",
              "      <td>1606678527538566</td>\n",
              "      <td>view_item</td>\n",
              "      <td>[{'key': 'page_referrer', 'value': {'string_va...</td>\n",
              "      <td>&lt;NA&gt;</td>\n",
              "      <td>NaN</td>\n",
              "      <td>-7072026188</td>\n",
              "      <td>&lt;NA&gt;</td>\n",
              "      <td>None</td>\n",
              "      <td>77988473.9627260789</td>\n",
              "      <td>{'analytics_storage': None, 'ads_storage': Non...</td>\n",
              "      <td>[]</td>\n",
              "      <td>1606678516033847</td>\n",
              "      <td>{'revenue': 0.0, 'currency': 'USD'}</td>\n",
              "      <td>{'category': 'mobile', 'mobile_brand_name': 'S...</td>\n",
              "      <td>{'continent': 'Americas', 'sub_continent': 'No...</td>\n",
              "      <td>None</td>\n",
              "      <td>{'medium': 'referral', 'name': '(referral)', '...</td>\n",
              "      <td>2100450278</td>\n",
              "      <td>WEB</td>\n",
              "      <td>None</td>\n",
              "      <td>{'total_item_quantity': None, 'purchase_revenu...</td>\n",
              "      <td>[{'item_id': 'GGOEGAEC134910', 'item_name': 'G...</td>\n",
              "    </tr>\n",
              "    <tr>\n",
              "      <th>4</th>\n",
              "      <td>20201129</td>\n",
              "      <td>1606667084811268</td>\n",
              "      <td>view_item</td>\n",
              "      <td>[{'key': 'engaged_session_event', 'value': {'s...</td>\n",
              "      <td>&lt;NA&gt;</td>\n",
              "      <td>NaN</td>\n",
              "      <td>-6663196721</td>\n",
              "      <td>&lt;NA&gt;</td>\n",
              "      <td>None</td>\n",
              "      <td>78675414.2746195696</td>\n",
              "      <td>{'analytics_storage': None, 'ads_storage': Non...</td>\n",
              "      <td>[]</td>\n",
              "      <td>1606667056322899</td>\n",
              "      <td>{'revenue': 0.0, 'currency': 'USD'}</td>\n",
              "      <td>{'category': 'desktop', 'mobile_brand_name': '...</td>\n",
              "      <td>{'continent': 'Europe', 'sub_continent': 'Nort...</td>\n",
              "      <td>None</td>\n",
              "      <td>{'medium': '&lt;Other&gt;', 'name': '&lt;Other&gt;', 'sour...</td>\n",
              "      <td>2100450278</td>\n",
              "      <td>WEB</td>\n",
              "      <td>None</td>\n",
              "      <td>{'total_item_quantity': None, 'purchase_revenu...</td>\n",
              "      <td>[{'item_id': 'GGOEYAEA105610', 'item_name': 'Y...</td>\n",
              "    </tr>\n",
              "  </tbody>\n",
              "</table>\n",
              "</div>\n",
              "      <button class=\"colab-df-convert\" onclick=\"convertToInteractive('df-8cbaadfc-5a77-4a8e-91b8-af08587169a3')\"\n",
              "              title=\"Convert this dataframe to an interactive table.\"\n",
              "              style=\"display:none;\">\n",
              "        \n",
              "  <svg xmlns=\"http://www.w3.org/2000/svg\" height=\"24px\"viewBox=\"0 0 24 24\"\n",
              "       width=\"24px\">\n",
              "    <path d=\"M0 0h24v24H0V0z\" fill=\"none\"/>\n",
              "    <path d=\"M18.56 5.44l.94 2.06.94-2.06 2.06-.94-2.06-.94-.94-2.06-.94 2.06-2.06.94zm-11 1L8.5 8.5l.94-2.06 2.06-.94-2.06-.94L8.5 2.5l-.94 2.06-2.06.94zm10 10l.94 2.06.94-2.06 2.06-.94-2.06-.94-.94-2.06-.94 2.06-2.06.94z\"/><path d=\"M17.41 7.96l-1.37-1.37c-.4-.4-.92-.59-1.43-.59-.52 0-1.04.2-1.43.59L10.3 9.45l-7.72 7.72c-.78.78-.78 2.05 0 2.83L4 21.41c.39.39.9.59 1.41.59.51 0 1.02-.2 1.41-.59l7.78-7.78 2.81-2.81c.8-.78.8-2.07 0-2.86zM5.41 20L4 18.59l7.72-7.72 1.47 1.35L5.41 20z\"/>\n",
              "  </svg>\n",
              "      </button>\n",
              "      \n",
              "  <style>\n",
              "    .colab-df-container {\n",
              "      display:flex;\n",
              "      flex-wrap:wrap;\n",
              "      gap: 12px;\n",
              "    }\n",
              "\n",
              "    .colab-df-convert {\n",
              "      background-color: #E8F0FE;\n",
              "      border: none;\n",
              "      border-radius: 50%;\n",
              "      cursor: pointer;\n",
              "      display: none;\n",
              "      fill: #1967D2;\n",
              "      height: 32px;\n",
              "      padding: 0 0 0 0;\n",
              "      width: 32px;\n",
              "    }\n",
              "\n",
              "    .colab-df-convert:hover {\n",
              "      background-color: #E2EBFA;\n",
              "      box-shadow: 0px 1px 2px rgba(60, 64, 67, 0.3), 0px 1px 3px 1px rgba(60, 64, 67, 0.15);\n",
              "      fill: #174EA6;\n",
              "    }\n",
              "\n",
              "    [theme=dark] .colab-df-convert {\n",
              "      background-color: #3B4455;\n",
              "      fill: #D2E3FC;\n",
              "    }\n",
              "\n",
              "    [theme=dark] .colab-df-convert:hover {\n",
              "      background-color: #434B5C;\n",
              "      box-shadow: 0px 1px 3px 1px rgba(0, 0, 0, 0.15);\n",
              "      filter: drop-shadow(0px 1px 2px rgba(0, 0, 0, 0.3));\n",
              "      fill: #FFFFFF;\n",
              "    }\n",
              "  </style>\n",
              "\n",
              "      <script>\n",
              "        const buttonEl =\n",
              "          document.querySelector('#df-8cbaadfc-5a77-4a8e-91b8-af08587169a3 button.colab-df-convert');\n",
              "        buttonEl.style.display =\n",
              "          google.colab.kernel.accessAllowed ? 'block' : 'none';\n",
              "\n",
              "        async function convertToInteractive(key) {\n",
              "          const element = document.querySelector('#df-8cbaadfc-5a77-4a8e-91b8-af08587169a3');\n",
              "          const dataTable =\n",
              "            await google.colab.kernel.invokeFunction('convertToInteractive',\n",
              "                                                     [key], {});\n",
              "          if (!dataTable) return;\n",
              "\n",
              "          const docLinkHtml = 'Like what you see? Visit the ' +\n",
              "            '<a target=\"_blank\" href=https://colab.research.google.com/notebooks/data_table.ipynb>data table notebook</a>'\n",
              "            + ' to learn more about interactive tables.';\n",
              "          element.innerHTML = '';\n",
              "          dataTable['output_type'] = 'display_data';\n",
              "          await google.colab.output.renderOutput(dataTable, element);\n",
              "          const docLink = document.createElement('div');\n",
              "          docLink.innerHTML = docLinkHtml;\n",
              "          element.appendChild(docLink);\n",
              "        }\n",
              "      </script>\n",
              "    </div>\n",
              "  </div>\n",
              "  "
            ]
          },
          "metadata": {},
          "execution_count": 5
        }
      ],
      "source": [
        "df.head()"
      ]
    },
    {
      "cell_type": "code",
      "execution_count": 6,
      "id": "be12ec89-cb71-4799-99f5-10a9ade1d959",
      "metadata": {
        "id": "be12ec89-cb71-4799-99f5-10a9ade1d959",
        "colab": {
          "base_uri": "https://localhost:8080/"
        },
        "outputId": "b07f6aa6-b8b2-4d6b-ba44-dee52e035072"
      },
      "outputs": [
        {
          "output_type": "execute_result",
          "data": {
            "text/plain": [
              "(858378, 23)"
            ]
          },
          "metadata": {},
          "execution_count": 6
        }
      ],
      "source": [
        "df.shape"
      ]
    },
    {
      "cell_type": "markdown",
      "id": "d553bb5f-7f2b-491a-9c5d-3daead3d8384",
      "metadata": {
        "id": "d553bb5f-7f2b-491a-9c5d-3daead3d8384"
      },
      "source": [
        "* The table has 23 columns and 4,295,584 total rows.\n",
        "* From the above sample, we can see that of those 23 columns, 8 have nested or multi-nested fields that will need to be unnested for further analysis and before model training.<br>\n",
        "\n",
        "Next we'll perform an initial check of data types and null values."
      ]
    },
    {
      "cell_type": "code",
      "execution_count": 7,
      "id": "cf458627-9be0-4acd-b54e-59e85033756f",
      "metadata": {
        "id": "cf458627-9be0-4acd-b54e-59e85033756f",
        "colab": {
          "base_uri": "https://localhost:8080/"
        },
        "outputId": "d66df3e3-fb16-4e8a-f67d-d5b910dbe4ec"
      },
      "outputs": [
        {
          "output_type": "stream",
          "name": "stdout",
          "text": [
            "<class 'pandas.core.frame.DataFrame'>\n",
            "RangeIndex: 858378 entries, 0 to 858377\n",
            "Data columns (total 23 columns):\n",
            " #   Column                         Non-Null Count   Dtype  \n",
            "---  ------                         --------------   -----  \n",
            " 0   event_date                     858378 non-null  object \n",
            " 1   event_timestamp                858378 non-null  Int64  \n",
            " 2   event_name                     858378 non-null  object \n",
            " 3   event_params                   858378 non-null  object \n",
            " 4   event_previous_timestamp       0 non-null       Int64  \n",
            " 5   event_value_in_usd             1078 non-null    float64\n",
            " 6   event_bundle_sequence_id       858378 non-null  Int64  \n",
            " 7   event_server_timestamp_offset  0 non-null       Int64  \n",
            " 8   user_id                        0 non-null       object \n",
            " 9   user_pseudo_id                 858378 non-null  object \n",
            " 10  privacy_info                   858378 non-null  object \n",
            " 11  user_properties                858378 non-null  object \n",
            " 12  user_first_touch_timestamp     841013 non-null  Int64  \n",
            " 13  user_ltv                       858378 non-null  object \n",
            " 14  device                         858378 non-null  object \n",
            " 15  geo                            858378 non-null  object \n",
            " 16  app_info                       0 non-null       object \n",
            " 17  traffic_source                 858378 non-null  object \n",
            " 18  stream_id                      858378 non-null  Int64  \n",
            " 19  platform                       858378 non-null  object \n",
            " 20  event_dimensions               0 non-null       object \n",
            " 21  ecommerce                      858378 non-null  object \n",
            " 22  items                          858378 non-null  object \n",
            "dtypes: Int64(6), float64(1), object(16)\n",
            "memory usage: 155.5+ MB\n"
          ]
        }
      ],
      "source": [
        "df.info()"
      ]
    },
    {
      "cell_type": "markdown",
      "id": "ace220ca-8c7a-4d1d-9dfa-95a20ae0708d",
      "metadata": {
        "id": "ace220ca-8c7a-4d1d-9dfa-95a20ae0708d"
      },
      "source": [
        "* The table contains a mix of object, int and float data types\n",
        "* There are several numeric, non-numeric, and array/nested columns in the dataset"
      ]
    },
    {
      "cell_type": "markdown",
      "id": "d4beed06-cfca-46fe-9c29-c2e819208d28",
      "metadata": {
        "id": "d4beed06-cfca-46fe-9c29-c2e819208d28"
      },
      "source": [
        "## Check for null values"
      ]
    },
    {
      "cell_type": "code",
      "execution_count": 8,
      "id": "1f5391c1-0e67-47da-b6d7-088a72a41724",
      "metadata": {
        "id": "1f5391c1-0e67-47da-b6d7-088a72a41724",
        "colab": {
          "base_uri": "https://localhost:8080/"
        },
        "outputId": "24fc382e-1fee-4a61-ec9d-3ca89952b77b"
      },
      "outputs": [
        {
          "output_type": "execute_result",
          "data": {
            "text/plain": [
              "event_date                            0\n",
              "event_timestamp                       0\n",
              "event_name                            0\n",
              "event_params                          0\n",
              "event_previous_timestamp         858378\n",
              "event_value_in_usd               857300\n",
              "event_bundle_sequence_id              0\n",
              "event_server_timestamp_offset    858378\n",
              "user_id                          858378\n",
              "user_pseudo_id                        0\n",
              "privacy_info                          0\n",
              "user_properties                       0\n",
              "user_first_touch_timestamp        17365\n",
              "user_ltv                              0\n",
              "device                                0\n",
              "geo                                   0\n",
              "app_info                         858378\n",
              "traffic_source                        0\n",
              "stream_id                             0\n",
              "platform                              0\n",
              "event_dimensions                 858378\n",
              "ecommerce                             0\n",
              "items                                 0\n",
              "dtype: int64"
            ]
          },
          "metadata": {},
          "execution_count": 8
        }
      ],
      "source": [
        "# check for duplicates\n",
        "df.isnull().sum()"
      ]
    },
    {
      "cell_type": "markdown",
      "id": "5607f055-abe4-417a-b2e1-8bba03cea9e9",
      "metadata": {
        "id": "5607f055-abe4-417a-b2e1-8bba03cea9e9"
      },
      "source": [
        "**In the next notebook, we'll drop any columns that are completely empty. In this example, the following columns contain all null values, therefore we'll go ahead and drop them before proceeding:**\n",
        "* `event_previous_timestamp`\n",
        "* `event_server_timestamp_offset`\n",
        "* `user_id`\n",
        "* `app_info`\n",
        "* `event_dimensions`\n",
        "\n",
        "- *We'll leave `user_first_touch_timestamp` and `event_value_in_usd` in the table for now. They contain ~86k and ~4290342 missing values respectively, but we need to explore further to decide if we need those columns.*\""
      ]
    },
    {
      "cell_type": "code",
      "execution_count": 9,
      "id": "b6fdb2be-fd98-409a-b514-75254bf9aebb",
      "metadata": {
        "id": "b6fdb2be-fd98-409a-b514-75254bf9aebb",
        "colab": {
          "base_uri": "https://localhost:8080/"
        },
        "outputId": "432d834d-e0a5-45ef-eaa3-ff3f189dfe6c"
      },
      "outputs": [
        {
          "output_type": "stream",
          "name": "stdout",
          "text": [
            "<class 'pandas.core.frame.DataFrame'>\n",
            "RangeIndex: 858378 entries, 0 to 858377\n",
            "Data columns (total 23 columns):\n",
            " #   Column                         Non-Null Count   Dtype  \n",
            "---  ------                         --------------   -----  \n",
            " 0   event_date                     858378 non-null  object \n",
            " 1   event_timestamp                858378 non-null  Int64  \n",
            " 2   event_name                     858378 non-null  object \n",
            " 3   event_params                   858378 non-null  object \n",
            " 4   event_previous_timestamp       0 non-null       Int64  \n",
            " 5   event_value_in_usd             1078 non-null    float64\n",
            " 6   event_bundle_sequence_id       858378 non-null  Int64  \n",
            " 7   event_server_timestamp_offset  0 non-null       Int64  \n",
            " 8   user_id                        0 non-null       object \n",
            " 9   user_pseudo_id                 858378 non-null  object \n",
            " 10  privacy_info                   858378 non-null  object \n",
            " 11  user_properties                858378 non-null  object \n",
            " 12  user_first_touch_timestamp     841013 non-null  Int64  \n",
            " 13  user_ltv                       858378 non-null  object \n",
            " 14  device                         858378 non-null  object \n",
            " 15  geo                            858378 non-null  object \n",
            " 16  app_info                       0 non-null       object \n",
            " 17  traffic_source                 858378 non-null  object \n",
            " 18  stream_id                      858378 non-null  Int64  \n",
            " 19  platform                       858378 non-null  object \n",
            " 20  event_dimensions               0 non-null       object \n",
            " 21  ecommerce                      858378 non-null  object \n",
            " 22  items                          858378 non-null  object \n",
            "dtypes: Int64(6), float64(1), object(16)\n",
            "memory usage: 155.5+ MB\n"
          ]
        }
      ],
      "source": [
        "# inspect the remaining columns\n",
        "df.info()"
      ]
    },
    {
      "cell_type": "markdown",
      "id": "ea73fa18-c486-4ac0-8571-598b7f99bd67",
      "metadata": {
        "id": "ea73fa18-c486-4ac0-8571-598b7f99bd67"
      },
      "source": [
        "## **Univariate Analysis**\n",
        "We'll start by inspecting the columns by datatype, starting with numeric and then non-numeric columns. Columns containing arrays will be handled in the next notebook."
      ]
    },
    {
      "cell_type": "markdown",
      "id": "a45604fb-25f7-42ed-8b38-acf159c3a8b4",
      "metadata": {
        "id": "a45604fb-25f7-42ed-8b38-acf159c3a8b4"
      },
      "source": [
        "### **Numeric features**"
      ]
    },
    {
      "cell_type": "code",
      "execution_count": 10,
      "id": "e67e31e4-35f4-4ebd-9636-670ae60f6faf",
      "metadata": {
        "id": "e67e31e4-35f4-4ebd-9636-670ae60f6faf"
      },
      "outputs": [],
      "source": [
        "# create a list of the numeric column headers\n",
        "num_col = list(df.select_dtypes(include=np.number).columns)"
      ]
    },
    {
      "cell_type": "code",
      "execution_count": 11,
      "id": "25db1460-49b2-49e6-a943-2b4f5ca2079c",
      "metadata": {
        "id": "25db1460-49b2-49e6-a943-2b4f5ca2079c",
        "colab": {
          "base_uri": "https://localhost:8080/"
        },
        "outputId": "51a5d262-5ffb-4f23-bfd4-14412e5f48ac"
      },
      "outputs": [
        {
          "output_type": "stream",
          "name": "stdout",
          "text": [
            "event_timestamp\n",
            "791910\n",
            "********************\n",
            "event_previous_timestamp\n",
            "0\n",
            "********************\n",
            "event_value_in_usd\n",
            "204\n",
            "********************\n",
            "event_bundle_sequence_id\n",
            "791823\n",
            "********************\n",
            "event_server_timestamp_offset\n",
            "0\n",
            "********************\n",
            "user_first_touch_timestamp\n",
            "200873\n",
            "********************\n",
            "stream_id\n",
            "1\n",
            "********************\n"
          ]
        }
      ],
      "source": [
        "# inspect the number of unique values in each numeric column\n",
        "for col in num_col:\n",
        "    print(col)\n",
        "    print(df[col].nunique())\n",
        "    print(\"*\" * 20)"
      ]
    },
    {
      "cell_type": "code",
      "execution_count": 12,
      "id": "0fe205de-eaa5-40b6-944e-9d1bfecac8c9",
      "metadata": {
        "id": "0fe205de-eaa5-40b6-944e-9d1bfecac8c9",
        "colab": {
          "base_uri": "https://localhost:8080/",
          "height": 339
        },
        "outputId": "bf461c05-db2a-4214-a6f6-cae7bc2f4e01"
      },
      "outputs": [
        {
          "output_type": "display_data",
          "data": {
            "text/plain": [
              "<Figure size 1080x360 with 1 Axes>"
            ],
            "image/png": "[encoded data removed]"
          },
          "metadata": {}
        }
      ],
      "source": [
        "# plot distribution of event_timestamp\n",
        "plt.figure(figsize=(15,5))\n",
        "sns.histplot(data = df,x = \"event_timestamp\");"
      ]
    },
    {
      "cell_type": "code",
      "execution_count": 13,
      "id": "0df51285-c654-4a2b-824a-e0286a5eb311",
      "metadata": {
        "id": "0df51285-c654-4a2b-824a-e0286a5eb311",
        "colab": {
          "base_uri": "https://localhost:8080/",
          "height": 341
        },
        "outputId": "2384280d-238f-4045-9f30-6b33c691611a"
      },
      "outputs": [
        {
          "output_type": "display_data",
          "data": {
            "text/plain": [
              "<Figure size 1080x360 with 1 Axes>"
            ],
            "image/png": "[encoded data removed]"
          },
          "metadata": {}
        }
      ],
      "source": [
        "# plot distribution of user_first_touch_timestamp\n",
        "plt.figure(figsize=(15,5))\n",
        "sns.histplot(data = df,x = \"user_first_touch_timestamp\");"
      ]
    },
    {
      "cell_type": "code",
      "execution_count": 14,
      "id": "b89655e5-4c07-404b-88fd-6169d95923d1",
      "metadata": {
        "id": "b89655e5-4c07-404b-88fd-6169d95923d1",
        "colab": {
          "base_uri": "https://localhost:8080/",
          "height": 339
        },
        "outputId": "b22a05c0-0a36-49d5-91bb-ae8416209f79"
      },
      "outputs": [
        {
          "output_type": "display_data",
          "data": {
            "text/plain": [
              "<Figure size 1080x360 with 1 Axes>"
            ],
            "image/png": "[encoded data removed]"
          },
          "metadata": {}
        }
      ],
      "source": [
        "# plot distribution of event_value_in_usd\n",
        "plt.figure(figsize=(15,5))\n",
        "sns.histplot(data = df,x = \"event_value_in_usd\");"
      ]
    },
    {
      "cell_type": "markdown",
      "id": "678efd68-0ba7-4280-8344-1b6ec5b97055",
      "metadata": {
        "id": "678efd68-0ba7-4280-8344-1b6ec5b97055"
      },
      "source": [
        "### **Numeric feature summary**\n",
        "*Feature descriptions are taken from the GA4 BigQuery Export schema reference page: https://support.google.com/analytics/answer/7029846?hl=en*\n",
        "* `event_timestamp`: \n",
        "    - The time (in microseconds, UTC) at which the event was logged on the client.\n",
        "        - Leave this column as-is for now. We'll dig in later to understand its potential importance in the churn model.\n",
        "        - We'll likely need to find a way to convert this to date/time.\n",
        "* `event_bundle_sequence_id`: \n",
        "    - The sequential ID of the bundle in which these events were uploaded.\n",
        "        - This column has high cardinality and will not be useful in our churn model. \n",
        "        - **Drop this column.**\n",
        "* `event_value_in_usd`: \n",
        "    - The currency-converted value (in USD) of the event's \"value\" parameter.\n",
        "        - This event is likely important for product or purchase related data. Even though there are a lot of missing values, we'll keep it for now. \n",
        "* `user_first_touch_timestamp`: \n",
        "    - The time (in microseconds) at which the user first opened the app or visited the site.\n",
        "        - We'll dig in later to understand this feature's potential importance in the churn model.\n",
        "        - We'll likely need to find a way to convert this to date/time.\n",
        "        - For now in initial steps, we'll keep the null values as-is.\n",
        "* `stream_id`:\n",
        "    - The numeric ID of the stream.\n",
        "        - Value is a constant.\n",
        "        - **Drop this column.**"
      ]
    },
    {
      "cell_type": "markdown",
      "id": "83ee1ef7-304e-4c5e-8573-0ab9980a91f4",
      "metadata": {
        "id": "83ee1ef7-304e-4c5e-8573-0ab9980a91f4"
      },
      "source": [
        "### **Non-numeric features**"
      ]
    },
    {
      "cell_type": "code",
      "execution_count": 15,
      "id": "6907d743-2f64-4c7a-97b5-52502e1eb61f",
      "metadata": {
        "id": "6907d743-2f64-4c7a-97b5-52502e1eb61f"
      },
      "outputs": [],
      "source": [
        "# inspecting non-numeric columns that are not arrays; we'll handle arrays in the next notebook.\n",
        "non_num_col = (\"event_date\",\"event_name\",\"user_pseudo_id\",\"platform\")"
      ]
    },
    {
      "cell_type": "code",
      "execution_count": 16,
      "id": "8340b95b-4fcc-4fd3-bc03-80ee1afc4fbb",
      "metadata": {
        "id": "8340b95b-4fcc-4fd3-bc03-80ee1afc4fbb",
        "colab": {
          "base_uri": "https://localhost:8080/"
        },
        "outputId": "2f6b6042-ecf2-4053-c967-ed0b6d4c2b61"
      },
      "outputs": [
        {
          "output_type": "stream",
          "name": "stdout",
          "text": [
            "event_date\n",
            "92\n",
            "********************\n",
            "event_name\n",
            "17\n",
            "********************\n",
            "user_pseudo_id\n",
            "204078\n",
            "********************\n",
            "platform\n",
            "1\n",
            "********************\n"
          ]
        }
      ],
      "source": [
        "# check for cardinality in non-numeric features\n",
        "for col in non_num_col:\n",
        "    print(col)\n",
        "    print(df[col].nunique())\n",
        "    print(\"*\" * 20)"
      ]
    },
    {
      "cell_type": "code",
      "execution_count": 17,
      "id": "a30e157b-0186-4518-ac45-0062218328ab",
      "metadata": {
        "id": "a30e157b-0186-4518-ac45-0062218328ab",
        "colab": {
          "base_uri": "https://localhost:8080/",
          "height": 305
        },
        "outputId": "acce264f-2e57-413e-de9d-66fb16c3114a"
      },
      "outputs": [
        {
          "output_type": "display_data",
          "data": {
            "text/plain": [
              "<Figure size 1800x360 with 1 Axes>"
            ],
            "image/png": "[encoded data removed]"
          },
          "metadata": {}
        }
      ],
      "source": [
        "# inspect unique values in the event_name field\n",
        "sns.catplot(\n",
        "    data=df, \n",
        "    x=\"event_name\", \n",
        "    kind=\"count\", \n",
        "    height=5, \n",
        "    aspect=5\n",
        ");"
      ]
    },
    {
      "cell_type": "markdown",
      "id": "082b41e5-6786-44ed-8ffa-5bf8fb933a6d",
      "metadata": {
        "id": "082b41e5-6786-44ed-8ffa-5bf8fb933a6d"
      },
      "source": [
        "### **Non-numeric feature summary**\n",
        "\n",
        "* `event_date`: \n",
        "    - The date on which the event was logged (YYYYMMDD format in the registered timezone of your app).\n",
        "        - We'll need to convert to datetime in a future step.\n",
        "* `event_name`:\n",
        "    - The name of the event.\n",
        "        - There are 17 unique values.\n",
        "        - page_view and user_engagement are the most frequently occurring values.\n",
        "        - purchase will be an important event we'll use for defining the churn target. It makes up a very small portion of this data since the timeframe is limited, but you'll likely have a larger number of these to work with.\n",
        "* `user_pseudo_id`:\n",
        "    - The pseudonymous id (e.g., app instance ID) for the user.\n",
        "* `platform`:\n",
        "    - The platform on which the app was built.\n",
        "    - Constant value.\n",
        "    - **Drop this column.**"
      ]
    },
    {
      "cell_type": "markdown",
      "id": "9b2794b1-df9a-4888-ac84-1568a8f1abfe",
      "metadata": {
        "id": "9b2794b1-df9a-4888-ac84-1568a8f1abfe"
      },
      "source": [
        "### **Array Features**"
      ]
    },
    {
      "cell_type": "markdown",
      "id": "8d54f57b-d896-435f-8d7d-554f85accab4",
      "metadata": {
        "id": "8d54f57b-d896-435f-8d7d-554f85accab4"
      },
      "source": [
        "*We'll handle the following array features in the next notebook.*\n",
        "* `event_params`:\n",
        "    - A repeated record of the parameters associated with this event.\n",
        "* `privacy_info`:\n",
        "    - Fields are based on the consent status of your users when you are using consent mode.\n",
        "* `user_properties`:\n",
        "    - A repeated record of user properties set with the setUserProperty API.\n",
        "* `user_ltv`:\n",
        "    - A record of Lifetime Value information about the user. This field is not populated in intraday tables.\n",
        "* `device`:\n",
        "    - A record of device information.\n",
        "* `geo`:\n",
        "    - A record of the user's geographic information.\n",
        "* `traffic_source`:\n",
        "    - Name of the traffic source that first acquired the user. This field is not populated in intraday tables.\n",
        "* `ecommerce`:\n",
        "    - A record of information about ecommerce.\n",
        "* `items`:\n",
        "    - A repeated record of items included in this event."
      ]
    },
    {
      "cell_type": "markdown",
      "id": "e09d133d-fb3e-4422-a4ff-ed739d179e64",
      "metadata": {
        "id": "e09d133d-fb3e-4422-a4ff-ed739d179e64"
      },
      "source": [
        "## Save latest table to BigQuery\n",
        "Save this new table to our own BigQuery project to use as the starting data source in the next notebook."
      ]
    },
    {
      "cell_type": "code",
      "execution_count": null,
      "id": "1166845d-b269-41f4-8512-628133e0a349",
      "metadata": {
        "id": "1166845d-b269-41f4-8512-628133e0a349",
        "colab": {
          "base_uri": "https://localhost:8080/"
        },
        "outputId": "29b67063-4f5d-461b-b6f4-f63c28de0472"
      },
      "outputs": [
        {
          "output_type": "stream",
          "name": "stderr",
          "text": [
            "/usr/local/lib/python3.7/dist-packages/google/cloud/bigquery/_pandas_helpers.py:554: UserWarning: Pyarrow could not determine the type of columns: event_params, user_id, privacy_info, user_properties, user_ltv, device, geo, app_info, traffic_source, event_dimensions, ecommerce, items.\n",
            "  \", \".join(field.name for field in unknown_type_fields)\n"
          ]
        },
        {
          "output_type": "execute_result",
          "data": {
            "text/plain": [
              "LoadJob<project=adl-analytics, location=US, id=f84e257a-0587-477a-a905-f7616f036bfd>"
            ]
          },
          "metadata": {},
          "execution_count": 19
        }
      ],
      "source": [
        "client = bigquery.Client(project = project_name)\n",
        "table_id = 'public_sample_data.churn_ga4_1'\n",
        "\n",
        "job_config = bigquery.LoadJobConfig(\n",
        "    write_disposition=bigquery.job.WriteDisposition.WRITE_TRUNCATE\n",
        ")\n",
        "\n",
        "job = client.load_table_from_dataframe(\n",
        "    df, table_id, job_config=job_config\n",
        ")\n",
        "\n",
        "# Wait for the load job to complete.\n",
        "job.result()"
      ]
    }
  ],
  "metadata": {
    "environment": {
      "kernel": "python3",
      "name": "common-cpu.m100",
      "type": "gcloud",
      "uri": "gcr.io/deeplearning-platform-release/base-cpu:m100"
    },
    "kernelspec": {
      "display_name": "Python 3",
      "language": "python",
      "name": "python3"
    },
    "language_info": {
      "codemirror_mode": {
        "name": "ipython",
        "version": 3
      },
      "file_extension": ".py",
      "mimetype": "text/x-python",
      "name": "python",
      "nbconvert_exporter": "python",
      "pygments_lexer": "ipython3",
      "version": "3.7.12"
    },
    "colab": {
      "provenance": [],
      "include_colab_link": true
    },
    "accelerator": "GPU",
    "gpuClass": "premium",
    "widgets": {
      "application/vnd.jupyter.widget-state+json": {
        "eae33b411b294737ac893fa4a66906be": {
          "model_module": "@jupyter-widgets/controls",
          "model_name": "HBoxModel",
          "model_module_version": "1.5.0",
          "state": {
            "_dom_classes": [],
            "_model_module": "@jupyter-widgets/controls",
            "_model_module_version": "1.5.0",
            "_model_name": "HBoxModel",
            "_view_count": null,
            "_view_module": "@jupyter-widgets/controls",
            "_view_module_version": "1.5.0",
            "_view_name": "HBoxView",
            "box_style": "",
            "children": [
              "IPY_MODEL_95974d38013f40e18268e795fd2f2800",
              "IPY_MODEL_51c5c89ffa6b46eb91aed4ae78242739",
              "IPY_MODEL_9db36a490d3146768e92fa542aa21ce9"
            ],
            "layout": "IPY_MODEL_f494bdad19ca478b97c0a29d8b171c82"
          }
        },
        "95974d38013f40e18268e795fd2f2800": {
          "model_module": "@jupyter-widgets/controls",
          "model_name": "HTMLModel",
          "model_module_version": "1.5.0",
          "state": {
            "_dom_classes": [],
            "_model_module": "@jupyter-widgets/controls",
            "_model_module_version": "1.5.0",
            "_model_name": "HTMLModel",
            "_view_count": null,
            "_view_module": "@jupyter-widgets/controls",
            "_view_module_version": "1.5.0",
            "_view_name": "HTMLView",
            "description": "",
            "description_tooltip": null,
            "layout": "IPY_MODEL_4addff52ae52437d88820da8282dd158",
            "placeholder": "​",
            "style": "IPY_MODEL_a7571a584522481cbb0b9f5ecacba64d",
            "value": "Job ID a4724da2-5a3c-4536-aed7-b4544a8e0eef successfully executed: 100%"
          }
        },
        "51c5c89ffa6b46eb91aed4ae78242739": {
          "model_module": "@jupyter-widgets/controls",
          "model_name": "FloatProgressModel",
          "model_module_version": "1.5.0",
          "state": {
            "_dom_classes": [],
            "_model_module": "@jupyter-widgets/controls",
            "_model_module_version": "1.5.0",
            "_model_name": "FloatProgressModel",
            "_view_count": null,
            "_view_module": "@jupyter-widgets/controls",
            "_view_module_version": "1.5.0",
            "_view_name": "ProgressView",
            "bar_style": "success",
            "description": "",
            "description_tooltip": null,
            "layout": "IPY_MODEL_a5a034a2edfa4fb4a8472c617a214861",
            "max": 1,
            "min": 0,
            "orientation": "horizontal",
            "style": "IPY_MODEL_b36f680a55984984b65b37ca205adabb",
            "value": 1
          }
        },
        "9db36a490d3146768e92fa542aa21ce9": {
          "model_module": "@jupyter-widgets/controls",
          "model_name": "HTMLModel",
          "model_module_version": "1.5.0",
          "state": {
            "_dom_classes": [],
            "_model_module": "@jupyter-widgets/controls",
            "_model_module_version": "1.5.0",
            "_model_name": "HTMLModel",
            "_view_count": null,
            "_view_module": "@jupyter-widgets/controls",
            "_view_module_version": "1.5.0",
            "_view_name": "HTMLView",
            "description": "",
            "description_tooltip": null,
            "layout": "IPY_MODEL_84222e80ee604182a093b04b51931660",
            "placeholder": "​",
            "style": "IPY_MODEL_72f58c224c6941d7a8c27d6d5869b5ec",
            "value": ""
          }
        },
        "f494bdad19ca478b97c0a29d8b171c82": {
          "model_module": "@jupyter-widgets/base",
          "model_name": "LayoutModel",
          "model_module_version": "1.2.0",
          "state": {
            "_model_module": "@jupyter-widgets/base",
            "_model_module_version": "1.2.0",
            "_model_name": "LayoutModel",
            "_view_count": null,
            "_view_module": "@jupyter-widgets/base",
            "_view_module_version": "1.2.0",
            "_view_name": "LayoutView",
            "align_content": null,
            "align_items": null,
            "align_self": null,
            "border": null,
            "bottom": null,
            "display": null,
            "flex": null,
            "flex_flow": null,
            "grid_area": null,
            "grid_auto_columns": null,
            "grid_auto_flow": null,
            "grid_auto_rows": null,
            "grid_column": null,
            "grid_gap": null,
            "grid_row": null,
            "grid_template_areas": null,
            "grid_template_columns": null,
            "grid_template_rows": null,
            "height": null,
            "justify_content": null,
            "justify_items": null,
            "left": null,
            "margin": null,
            "max_height": null,
            "max_width": null,
            "min_height": null,
            "min_width": null,
            "object_fit": null,
            "object_position": null,
            "order": null,
            "overflow": null,
            "overflow_x": null,
            "overflow_y": null,
            "padding": null,
            "right": null,
            "top": null,
            "visibility": null,
            "width": null
          }
        },
        "4addff52ae52437d88820da8282dd158": {
          "model_module": "@jupyter-widgets/base",
          "model_name": "LayoutModel",
          "model_module_version": "1.2.0",
          "state": {
            "_model_module": "@jupyter-widgets/base",
            "_model_module_version": "1.2.0",
            "_model_name": "LayoutModel",
            "_view_count": null,
            "_view_module": "@jupyter-widgets/base",
            "_view_module_version": "1.2.0",
            "_view_name": "LayoutView",
            "align_content": null,
            "align_items": null,
            "align_self": null,
            "border": null,
            "bottom": null,
            "display": null,
            "flex": null,
            "flex_flow": null,
            "grid_area": null,
            "grid_auto_columns": null,
            "grid_auto_flow": null,
            "grid_auto_rows": null,
            "grid_column": null,
            "grid_gap": null,
            "grid_row": null,
            "grid_template_areas": null,
            "grid_template_columns": null,
            "grid_template_rows": null,
            "height": null,
            "justify_content": null,
            "justify_items": null,
            "left": null,
            "margin": null,
            "max_height": null,
            "max_width": null,
            "min_height": null,
            "min_width": null,
            "object_fit": null,
            "object_position": null,
            "order": null,
            "overflow": null,
            "overflow_x": null,
            "overflow_y": null,
            "padding": null,
            "right": null,
            "top": null,
            "visibility": null,
            "width": null
          }
        },
        "a7571a584522481cbb0b9f5ecacba64d": {
          "model_module": "@jupyter-widgets/controls",
          "model_name": "DescriptionStyleModel",
          "model_module_version": "1.5.0",
          "state": {
            "_model_module": "@jupyter-widgets/controls",
            "_model_module_version": "1.5.0",
            "_model_name": "DescriptionStyleModel",
            "_view_count": null,
            "_view_module": "@jupyter-widgets/base",
            "_view_module_version": "1.2.0",
            "_view_name": "StyleView",
            "description_width": ""
          }
        },
        "a5a034a2edfa4fb4a8472c617a214861": {
          "model_module": "@jupyter-widgets/base",
          "model_name": "LayoutModel",
          "model_module_version": "1.2.0",
          "state": {
            "_model_module": "@jupyter-widgets/base",
            "_model_module_version": "1.2.0",
            "_model_name": "LayoutModel",
            "_view_count": null,
            "_view_module": "@jupyter-widgets/base",
            "_view_module_version": "1.2.0",
            "_view_name": "LayoutView",
            "align_content": null,
            "align_items": null,
            "align_self": null,
            "border": null,
            "bottom": null,
            "display": null,
            "flex": null,
            "flex_flow": null,
            "grid_area": null,
            "grid_auto_columns": null,
            "grid_auto_flow": null,
            "grid_auto_rows": null,
            "grid_column": null,
            "grid_gap": null,
            "grid_row": null,
            "grid_template_areas": null,
            "grid_template_columns": null,
            "grid_template_rows": null,
            "height": null,
            "justify_content": null,
            "justify_items": null,
            "left": null,
            "margin": null,
            "max_height": null,
            "max_width": null,
            "min_height": null,
            "min_width": null,
            "object_fit": null,
            "object_position": null,
            "order": null,
            "overflow": null,
            "overflow_x": null,
            "overflow_y": null,
            "padding": null,
            "right": null,
            "top": null,
            "visibility": null,
            "width": null
          }
        },
        "b36f680a55984984b65b37ca205adabb": {
          "model_module": "@jupyter-widgets/controls",
          "model_name": "ProgressStyleModel",
          "model_module_version": "1.5.0",
          "state": {
            "_model_module": "@jupyter-widgets/controls",
            "_model_module_version": "1.5.0",
            "_model_name": "ProgressStyleModel",
            "_view_count": null,
            "_view_module": "@jupyter-widgets/base",
            "_view_module_version": "1.2.0",
            "_view_name": "StyleView",
            "bar_color": null,
            "description_width": ""
          }
        },
        "84222e80ee604182a093b04b51931660": {
          "model_module": "@jupyter-widgets/base",
          "model_name": "LayoutModel",
          "model_module_version": "1.2.0",
          "state": {
            "_model_module": "@jupyter-widgets/base",
            "_model_module_version": "1.2.0",
            "_model_name": "LayoutModel",
            "_view_count": null,
            "_view_module": "@jupyter-widgets/base",
            "_view_module_version": "1.2.0",
            "_view_name": "LayoutView",
            "align_content": null,
            "align_items": null,
            "align_self": null,
            "border": null,
            "bottom": null,
            "display": null,
            "flex": null,
            "flex_flow": null,
            "grid_area": null,
            "grid_auto_columns": null,
            "grid_auto_flow": null,
            "grid_auto_rows": null,
            "grid_column": null,
            "grid_gap": null,
            "grid_row": null,
            "grid_template_areas": null,
            "grid_template_columns": null,
            "grid_template_rows": null,
            "height": null,
            "justify_content": null,
            "justify_items": null,
            "left": null,
            "margin": null,
            "max_height": null,
            "max_width": null,
            "min_height": null,
            "min_width": null,
            "object_fit": null,
            "object_position": null,
            "order": null,
            "overflow": null,
            "overflow_x": null,
            "overflow_y": null,
            "padding": null,
            "right": null,
            "top": null,
            "visibility": null,
            "width": null
          }
        },
        "72f58c224c6941d7a8c27d6d5869b5ec": {
          "model_module": "@jupyter-widgets/controls",
          "model_name": "DescriptionStyleModel",
          "model_module_version": "1.5.0",
          "state": {
            "_model_module": "@jupyter-widgets/controls",
            "_model_module_version": "1.5.0",
            "_model_name": "DescriptionStyleModel",
            "_view_count": null,
            "_view_module": "@jupyter-widgets/base",
            "_view_module_version": "1.2.0",
            "_view_name": "StyleView",
            "description_width": ""
          }
        },
        "2f69b6bf628346e8b10f8a8eb352616a": {
          "model_module": "@jupyter-widgets/controls",
          "model_name": "HBoxModel",
          "model_module_version": "1.5.0",
          "state": {
            "_dom_classes": [],
            "_model_module": "@jupyter-widgets/controls",
            "_model_module_version": "1.5.0",
            "_model_name": "HBoxModel",
            "_view_count": null,
            "_view_module": "@jupyter-widgets/controls",
            "_view_module_version": "1.5.0",
            "_view_name": "HBoxView",
            "box_style": "",
            "children": [
              "IPY_MODEL_299b488121194f4384cc6810fc1ae9ac",
              "IPY_MODEL_1a1fd532ca8d4926900f4bac06809a86",
              "IPY_MODEL_24d0ab7f7e9d41e3beb30c9550bf6b67"
            ],
            "layout": "IPY_MODEL_bb06584bbc3b448f92bca1e2415861d2"
          }
        },
        "299b488121194f4384cc6810fc1ae9ac": {
          "model_module": "@jupyter-widgets/controls",
          "model_name": "HTMLModel",
          "model_module_version": "1.5.0",
          "state": {
            "_dom_classes": [],
            "_model_module": "@jupyter-widgets/controls",
            "_model_module_version": "1.5.0",
            "_model_name": "HTMLModel",
            "_view_count": null,
            "_view_module": "@jupyter-widgets/controls",
            "_view_module_version": "1.5.0",
            "_view_name": "HTMLView",
            "description": "",
            "description_tooltip": null,
            "layout": "IPY_MODEL_79e881aca519477598acabb9ac47da0e",
            "placeholder": "​",
            "style": "IPY_MODEL_f3303f5dad2b4c5997a39f463958fe9a",
            "value": "Downloading: 100%"
          }
        },
        "1a1fd532ca8d4926900f4bac06809a86": {
          "model_module": "@jupyter-widgets/controls",
          "model_name": "FloatProgressModel",
          "model_module_version": "1.5.0",
          "state": {
            "_dom_classes": [],
            "_model_module": "@jupyter-widgets/controls",
            "_model_module_version": "1.5.0",
            "_model_name": "FloatProgressModel",
            "_view_count": null,
            "_view_module": "@jupyter-widgets/controls",
            "_view_module_version": "1.5.0",
            "_view_name": "ProgressView",
            "bar_style": "success",
            "description": "",
            "description_tooltip": null,
            "layout": "IPY_MODEL_19b76dea4fb9477880076a5e4fcea5d6",
            "max": 858378,
            "min": 0,
            "orientation": "horizontal",
            "style": "IPY_MODEL_57720e5c6f9e4ea09d70ae4f7e54e9fb",
            "value": 858378
          }
        },
        "24d0ab7f7e9d41e3beb30c9550bf6b67": {
          "model_module": "@jupyter-widgets/controls",
          "model_name": "HTMLModel",
          "model_module_version": "1.5.0",
          "state": {
            "_dom_classes": [],
            "_model_module": "@jupyter-widgets/controls",
            "_model_module_version": "1.5.0",
            "_model_name": "HTMLModel",
            "_view_count": null,
            "_view_module": "@jupyter-widgets/controls",
            "_view_module_version": "1.5.0",
            "_view_name": "HTMLView",
            "description": "",
            "description_tooltip": null,
            "layout": "IPY_MODEL_7e18a8efb9ab46f59b440c41df3ff68c",
            "placeholder": "​",
            "style": "IPY_MODEL_712c080497644e56b3dc2e9650849632",
            "value": ""
          }
        },
        "bb06584bbc3b448f92bca1e2415861d2": {
          "model_module": "@jupyter-widgets/base",
          "model_name": "LayoutModel",
          "model_module_version": "1.2.0",
          "state": {
            "_model_module": "@jupyter-widgets/base",
            "_model_module_version": "1.2.0",
            "_model_name": "LayoutModel",
            "_view_count": null,
            "_view_module": "@jupyter-widgets/base",
            "_view_module_version": "1.2.0",
            "_view_name": "LayoutView",
            "align_content": null,
            "align_items": null,
            "align_self": null,
            "border": null,
            "bottom": null,
            "display": null,
            "flex": null,
            "flex_flow": null,
            "grid_area": null,
            "grid_auto_columns": null,
            "grid_auto_flow": null,
            "grid_auto_rows": null,
            "grid_column": null,
            "grid_gap": null,
            "grid_row": null,
            "grid_template_areas": null,
            "grid_template_columns": null,
            "grid_template_rows": null,
            "height": null,
            "justify_content": null,
            "justify_items": null,
            "left": null,
            "margin": null,
            "max_height": null,
            "max_width": null,
            "min_height": null,
            "min_width": null,
            "object_fit": null,
            "object_position": null,
            "order": null,
            "overflow": null,
            "overflow_x": null,
            "overflow_y": null,
            "padding": null,
            "right": null,
            "top": null,
            "visibility": null,
            "width": null
          }
        },
        "79e881aca519477598acabb9ac47da0e": {
          "model_module": "@jupyter-widgets/base",
          "model_name": "LayoutModel",
          "model_module_version": "1.2.0",
          "state": {
            "_model_module": "@jupyter-widgets/base",
            "_model_module_version": "1.2.0",
            "_model_name": "LayoutModel",
            "_view_count": null,
            "_view_module": "@jupyter-widgets/base",
            "_view_module_version": "1.2.0",
            "_view_name": "LayoutView",
            "align_content": null,
            "align_items": null,
            "align_self": null,
            "border": null,
            "bottom": null,
            "display": null,
            "flex": null,
            "flex_flow": null,
            "grid_area": null,
            "grid_auto_columns": null,
            "grid_auto_flow": null,
            "grid_auto_rows": null,
            "grid_column": null,
            "grid_gap": null,
            "grid_row": null,
            "grid_template_areas": null,
            "grid_template_columns": null,
            "grid_template_rows": null,
            "height": null,
            "justify_content": null,
            "justify_items": null,
            "left": null,
            "margin": null,
            "max_height": null,
            "max_width": null,
            "min_height": null,
            "min_width": null,
            "object_fit": null,
            "object_position": null,
            "order": null,
            "overflow": null,
            "overflow_x": null,
            "overflow_y": null,
            "padding": null,
            "right": null,
            "top": null,
            "visibility": null,
            "width": null
          }
        },
        "f3303f5dad2b4c5997a39f463958fe9a": {
          "model_module": "@jupyter-widgets/controls",
          "model_name": "DescriptionStyleModel",
          "model_module_version": "1.5.0",
          "state": {
            "_model_module": "@jupyter-widgets/controls",
            "_model_module_version": "1.5.0",
            "_model_name": "DescriptionStyleModel",
            "_view_count": null,
            "_view_module": "@jupyter-widgets/base",
            "_view_module_version": "1.2.0",
            "_view_name": "StyleView",
            "description_width": ""
          }
        },
        "19b76dea4fb9477880076a5e4fcea5d6": {
          "model_module": "@jupyter-widgets/base",
          "model_name": "LayoutModel",
          "model_module_version": "1.2.0",
          "state": {
            "_model_module": "@jupyter-widgets/base",
            "_model_module_version": "1.2.0",
            "_model_name": "LayoutModel",
            "_view_count": null,
            "_view_module": "@jupyter-widgets/base",
            "_view_module_version": "1.2.0",
            "_view_name": "LayoutView",
            "align_content": null,
            "align_items": null,
            "align_self": null,
            "border": null,
            "bottom": null,
            "display": null,
            "flex": null,
            "flex_flow": null,
            "grid_area": null,
            "grid_auto_columns": null,
            "grid_auto_flow": null,
            "grid_auto_rows": null,
            "grid_column": null,
            "grid_gap": null,
            "grid_row": null,
            "grid_template_areas": null,
            "grid_template_columns": null,
            "grid_template_rows": null,
            "height": null,
            "justify_content": null,
            "justify_items": null,
            "left": null,
            "margin": null,
            "max_height": null,
            "max_width": null,
            "min_height": null,
            "min_width": null,
            "object_fit": null,
            "object_position": null,
            "order": null,
            "overflow": null,
            "overflow_x": null,
            "overflow_y": null,
            "padding": null,
            "right": null,
            "top": null,
            "visibility": null,
            "width": null
          }
        },
        "57720e5c6f9e4ea09d70ae4f7e54e9fb": {
          "model_module": "@jupyter-widgets/controls",
          "model_name": "ProgressStyleModel",
          "model_module_version": "1.5.0",
          "state": {
            "_model_module": "@jupyter-widgets/controls",
            "_model_module_version": "1.5.0",
            "_model_name": "ProgressStyleModel",
            "_view_count": null,
            "_view_module": "@jupyter-widgets/base",
            "_view_module_version": "1.2.0",
            "_view_name": "StyleView",
            "bar_color": null,
            "description_width": ""
          }
        },
        "7e18a8efb9ab46f59b440c41df3ff68c": {
          "model_module": "@jupyter-widgets/base",
          "model_name": "LayoutModel",
          "model_module_version": "1.2.0",
          "state": {
            "_model_module": "@jupyter-widgets/base",
            "_model_module_version": "1.2.0",
            "_model_name": "LayoutModel",
            "_view_count": null,
            "_view_module": "@jupyter-widgets/base",
            "_view_module_version": "1.2.0",
            "_view_name": "LayoutView",
            "align_content": null,
            "align_items": null,
            "align_self": null,
            "border": null,
            "bottom": null,
            "display": null,
            "flex": null,
            "flex_flow": null,
            "grid_area": null,
            "grid_auto_columns": null,
            "grid_auto_flow": null,
            "grid_auto_rows": null,
            "grid_column": null,
            "grid_gap": null,
            "grid_row": null,
            "grid_template_areas": null,
            "grid_template_columns": null,
            "grid_template_rows": null,
            "height": null,
            "justify_content": null,
            "justify_items": null,
            "left": null,
            "margin": null,
            "max_height": null,
            "max_width": null,
            "min_height": null,
            "min_width": null,
            "object_fit": null,
            "object_position": null,
            "order": null,
            "overflow": null,
            "overflow_x": null,
            "overflow_y": null,
            "padding": null,
            "right": null,
            "top": null,
            "visibility": null,
            "width": null
          }
        },
        "712c080497644e56b3dc2e9650849632": {
          "model_module": "@jupyter-widgets/controls",
          "model_name": "DescriptionStyleModel",
          "model_module_version": "1.5.0",
          "state": {
            "_model_module": "@jupyter-widgets/controls",
            "_model_module_version": "1.5.0",
            "_model_name": "DescriptionStyleModel",
            "_view_count": null,
            "_view_module": "@jupyter-widgets/base",
            "_view_module_version": "1.2.0",
            "_view_name": "StyleView",
            "description_width": ""
          }
        }
      }
    }
  },
  "nbformat": 4,
  "nbformat_minor": 5
}