{
  "cells": [
    {
      "cell_type": "markdown",
      "metadata": {
        "id": "view-in-github",
        "colab_type": "text"
      },
      "source": [
        "<a href=\"https://colab.research.google.com/github/Adlucent/ga4-churn-prediction/blob/main/I_i_EDA_RFM_Customer_Segmentation.ipynb\" target=\"_parent\"><img src=\"https://colab.research.google.com/assets/colab-badge.svg\" alt=\"Open In Colab\"/></a>"
      ]
    },
    {
      "cell_type": "markdown",
      "id": "e0444cf0-3068-40d1-8966-651b8597b23d",
      "metadata": {
        "id": "e0444cf0-3068-40d1-8966-651b8597b23d"
      },
      "source": [
        "# I.i. EDA - RFM Customer Segmentation"
      ]
    },
    {
      "cell_type": "markdown",
      "id": "e8423b8c-e318-4b70-ba1c-fbd4bc5a0e05",
      "metadata": {
        "id": "e8423b8c-e318-4b70-ba1c-fbd4bc5a0e05"
      },
      "source": [
        "When analyzing customer-level data, an RFM Customer Analysis is an important part of the EDA process. \n",
        "\n",
        "In this context, RFM stands for:<br>\n",
        "\n",
        "* **R = Recency** (number of days since each customer's last order)\n",
        "* **F = Frequency** (total number of orders within each customer's lifetime)\n",
        "* **M = Monetary Value** (total lifetime value / revenue from each customer)\n",
        "\n",
        "An RFM analysis helps us better understand the macro-level purchasing behavior of customers represented in the dataset by creating four segments within each of the R, F and M buckets. "
      ]
    },
    {
      "cell_type": "markdown",
      "source": [
        "# Import Libraries"
      ],
      "metadata": {
        "id": "F2Ptc5bYWRo0"
      },
      "id": "F2Ptc5bYWRo0"
    },
    {
      "cell_type": "code",
      "source": [
        "################################################################################\n",
        "######################### CHANGE BQ PROJECT NAME BELOW #########################\n",
        "################################################################################\n",
        "\n",
        "project_name = 'adl-analytics' #add proj name\n",
        "region = \"US\"  # GCP project region"
      ],
      "metadata": {
        "id": "V54oGIuYEzuy"
      },
      "id": "V54oGIuYEzuy",
      "execution_count": 1,
      "outputs": []
    },
    {
      "cell_type": "code",
      "execution_count": 2,
      "id": "a866690c-5c18-4348-8a93-ebfb2ed04764",
      "metadata": {
        "id": "a866690c-5c18-4348-8a93-ebfb2ed04764"
      },
      "outputs": [],
      "source": [
        "# Google credentials \n",
        "from google.colab import auth\n",
        "auth.authenticate_user()\n",
        "\n",
        "# BigQuery Magics \n",
        "'''BigQuery magics are used to run BigQuery SQL queries in a python environment.\n",
        "These queries can also be run in the BigQuery UI '''\n",
        "\n",
        "from google.cloud import bigquery\n",
        "from google.cloud.bigquery import magics, Client, QueryJobConfig\n",
        "\n",
        "magics.context.project = project_name\n",
        "client = bigquery.Client(project=magics.context.project)\n",
        "\n",
        "# data processing libraries\n",
        "import pandas as pd\n",
        "import numpy as np\n",
        "from datetime import timedelta\n",
        "\n",
        "# visualization\n",
        "import matplotlib.pyplot as plt\n",
        "import seaborn as sns\n",
        "\n",
        "sns.set()\n",
        "\n",
        "# suppress notebook warnings\n",
        "import warnings\n",
        "warnings.filterwarnings('ignore')\n",
        "\n",
        "# dataframe display settings\n",
        "pd.set_option(\"display.max_columns\", None)\n",
        "pd.set_option(\"display.max_rows\", None)\n",
        "pd.set_option(\"display.float_format\", lambda x: \"%.3f\" % x)"
      ]
    },
    {
      "cell_type": "markdown",
      "source": [
        "# Import data from BigQuery\n",
        "Here we'll load the columns needed for an RFM analysis for records where `event_name` = \"purchase.\""
      ],
      "metadata": {
        "id": "ULf9gkTZWWks"
      },
      "id": "ULf9gkTZWWks"
    },
    {
      "cell_type": "code",
      "execution_count": 3,
      "id": "f9de4325-0e01-41c4-b825-b2d216137ef2",
      "metadata": {
        "colab": {
          "base_uri": "https://localhost:8080/",
          "height": 81,
          "referenced_widgets": [
            "507743fac0ae41d9961ab73275d7a5af",
            "090164b30dfe4148bb28c1f8eaf71133",
            "6c107c3fa6f44aa18c1386be79f8d126",
            "3866982c4d534732bd2864c7e2ea7762",
            "3800e0daf3ed4fe1b8323f71efdec7f2",
            "8a33d9203e084f998f38051ce588fa2a",
            "f0e006ec6c7f4cc3a8250ad78e3d484e",
            "19bf4321bfb848798b33397078c908bb",
            "2428ad0955704ff2ba79795823d30831",
            "e9512cf0eda8422d9f36dc90e1058bd0",
            "2f2c03dd896f481c9e9aacc4de9aaa0b",
            "3c293760376242a394c2e86c785d61b7",
            "eb1d7585e69b4a738df1016e7dfa808a",
            "07129c7e7b8a46c99df924319d71a518",
            "5b14fbe68f8743b1aec46acf191c75b7",
            "7bc1a31f5ee8439b88f223c7debb2b2b",
            "4dd7fb4e8c6a4dc9b4c30dc99b187192",
            "28491ab1c12e4b3aa15e3dc707022177",
            "511d31c04d874cb58679d1d1726c0208",
            "49dc472f7c06431cafc55c8fb0d92a28",
            "55ffbe6d22c740178088e7b8a0153dfe",
            "1b110671327646daab15c85c02e60bfa"
          ]
        },
        "id": "f9de4325-0e01-41c4-b825-b2d216137ef2",
        "outputId": "0c542bf0-e0d3-4567-d85a-95a0377d020a"
      },
      "outputs": [
        {
          "output_type": "display_data",
          "data": {
            "text/plain": [
              "Query is running:   0%|          |"
            ],
            "application/vnd.jupyter.widget-view+json": {
              "version_major": 2,
              "version_minor": 0,
              "model_id": "507743fac0ae41d9961ab73275d7a5af"
            }
          },
          "metadata": {}
        },
        {
          "output_type": "display_data",
          "data": {
            "text/plain": [
              "Downloading:   0%|          |"
            ],
            "application/vnd.jupyter.widget-view+json": {
              "version_major": 2,
              "version_minor": 0,
              "model_id": "3c293760376242a394c2e86c785d61b7"
            }
          },
          "metadata": {}
        }
      ],
      "source": [
        "%%bigquery data --project $project_name\n",
        "SELECT user_pseudo_id, event_date, ecommerce\n",
        "FROM `bigquery-public-data.ga4_obfuscated_sample_ecommerce.events_*`\n",
        "WHERE event_name = \"purchase\""
      ]
    },
    {
      "cell_type": "code",
      "execution_count": 4,
      "id": "95f4bd18-c20f-4a81-ad19-a19719affe1b",
      "metadata": {
        "id": "95f4bd18-c20f-4a81-ad19-a19719affe1b"
      },
      "outputs": [],
      "source": [
        "# make a copy of the dataframe to avoid re-importing if we need to revert back to the original dataset\n",
        "df = data.copy()"
      ]
    },
    {
      "cell_type": "markdown",
      "source": [
        "# Data Preparation"
      ],
      "metadata": {
        "id": "y9Nys4mBYeEu"
      },
      "id": "y9Nys4mBYeEu"
    },
    {
      "cell_type": "code",
      "source": [
        "  # unnest values in the ecommerce column\n",
        "  df = pd.concat([df, df[\"ecommerce\"].apply(pd.Series)], axis=1)\n",
        "  df.drop(columns=\"ecommerce\", axis=1, inplace=True)"
      ],
      "metadata": {
        "id": "M8-w0AnuX7Hd"
      },
      "id": "M8-w0AnuX7Hd",
      "execution_count": 5,
      "outputs": []
    },
    {
      "cell_type": "code",
      "execution_count": 6,
      "id": "dcad6c7b-835c-4d3f-9f67-ca9e6213cc8c",
      "metadata": {
        "id": "dcad6c7b-835c-4d3f-9f67-ca9e6213cc8c"
      },
      "outputs": [],
      "source": [
        "# convert event_date to datetime data type\n",
        "df[\"event_date\"] = pd.to_datetime(df[\"event_date\"])"
      ]
    },
    {
      "cell_type": "markdown",
      "source": [
        "Below, we'll set a cutoff date to divide the table into two pieces: 1) the pre-cutoff rows, and 2) the post-cutoff rows. Moving forward, we'll only perform analysis on the pre-cutoff table since the post-cutoff section will be used to define the churn target in a later notebook."
      ],
      "metadata": {
        "id": "xdKxsw9iYpZ1"
      },
      "id": "xdKxsw9iYpZ1"
    },
    {
      "cell_type": "code",
      "execution_count": 7,
      "id": "6304689e-f6d2-4bb2-950e-df663ba2728a",
      "metadata": {
        "colab": {
          "base_uri": "https://localhost:8080/"
        },
        "id": "6304689e-f6d2-4bb2-950e-df663ba2728a",
        "outputId": "76b3666a-cfa7-4a08-f8d9-62ac616e2e17"
      },
      "outputs": [
        {
          "output_type": "stream",
          "name": "stdout",
          "text": [
            "2021-01-03 00:00:00\n"
          ]
        }
      ],
      "source": [
        "cutoff_date = df[\"event_date\"].max() - timedelta(days=28)\n",
        "print(cutoff_date)"
      ]
    },
    {
      "cell_type": "code",
      "execution_count": 8,
      "id": "11a021d6-bba8-44a7-99af-18d1a346ace0",
      "metadata": {
        "id": "11a021d6-bba8-44a7-99af-18d1a346ace0"
      },
      "outputs": [],
      "source": [
        "# separate the post-cutoff rows into a new table\n",
        "df_post_cutoff = pd.DataFrame(df.loc[df[\"event_date\"] >= cutoff_date])\n",
        "df = pd.DataFrame(df.loc[df[\"event_date\"] < cutoff_date])"
      ]
    },
    {
      "cell_type": "markdown",
      "id": "1b2e14f0-87f2-4651-a6f0-ab59471758b6",
      "metadata": {
        "id": "1b2e14f0-87f2-4651-a6f0-ab59471758b6"
      },
      "source": [
        "## From the pre-cutoff table, select columns needed to calculate Recency, Frequency and Monetary Value Segments"
      ]
    },
    {
      "cell_type": "code",
      "execution_count": 9,
      "id": "2fd93338-30f2-4f39-94d4-c09369a5b557",
      "metadata": {
        "id": "2fd93338-30f2-4f39-94d4-c09369a5b557"
      },
      "outputs": [],
      "source": [
        "df_rfm = df[\n",
        "    [\n",
        "        \"transaction_id\",\n",
        "        \"user_pseudo_id\",\n",
        "        \"event_date\",\n",
        "        \"purchase_revenue_in_usd\",\n",
        "    ]\n",
        "].copy()"
      ]
    },
    {
      "cell_type": "code",
      "execution_count": 10,
      "id": "0f657e91-9a30-44d6-9b0b-836883c927d9",
      "metadata": {
        "id": "0f657e91-9a30-44d6-9b0b-836883c927d9"
      },
      "outputs": [],
      "source": [
        "# drop any duplicate rows\n",
        "df_rfm.drop_duplicates(subset=None, keep=\"first\", inplace=True)"
      ]
    },
    {
      "cell_type": "code",
      "execution_count": 11,
      "id": "249012f8-939e-4540-a8d9-6422da4a200b",
      "metadata": {
        "id": "249012f8-939e-4540-a8d9-6422da4a200b",
        "outputId": "a7aa7bfe-49c6-4436-dbbe-066e80dd435a",
        "colab": {
          "base_uri": "https://localhost:8080/"
        }
      },
      "outputs": [
        {
          "output_type": "execute_result",
          "data": {
            "text/plain": [
              "transaction_id             22\n",
              "user_pseudo_id              0\n",
              "event_date                  0\n",
              "purchase_revenue_in_usd     0\n",
              "dtype: int64"
            ]
          },
          "metadata": {},
          "execution_count": 11
        }
      ],
      "source": [
        "# check for null values\n",
        "df_rfm.isna().sum()"
      ]
    },
    {
      "cell_type": "markdown",
      "source": [
        "There are some null values in `transaction_id`, but simce they are labeled as purchases, we'll just impute those null values with \"not provided\". "
      ],
      "metadata": {
        "id": "JLnDEft6ZLaK"
      },
      "id": "JLnDEft6ZLaK"
    },
    {
      "cell_type": "code",
      "execution_count": 12,
      "id": "8d243756-9896-45ae-b637-ae4a289b8aa7",
      "metadata": {
        "id": "8d243756-9896-45ae-b637-ae4a289b8aa7"
      },
      "outputs": [],
      "source": [
        "df_rfm[\"transaction_id\"] = df_rfm[\"transaction_id\"].fillna(\"not provided\")\n",
        "df_rfm[\"transaction_id\"] = df_rfm[\"transaction_id\"].str.replace(\n",
        "    \"(not set)\", \"not provided\"\n",
        ")"
      ]
    },
    {
      "cell_type": "code",
      "execution_count": 13,
      "id": "3e8285c7-eee9-4b28-9e3c-9cdef7186300",
      "metadata": {
        "id": "3e8285c7-eee9-4b28-9e3c-9cdef7186300",
        "outputId": "4b6686b3-f5da-45b6-f86e-523e85b2af3d",
        "colab": {
          "base_uri": "https://localhost:8080/"
        }
      },
      "outputs": [
        {
          "output_type": "execute_result",
          "data": {
            "text/plain": [
              "transaction_id             0\n",
              "user_pseudo_id             0\n",
              "event_date                 0\n",
              "purchase_revenue_in_usd    0\n",
              "dtype: int64"
            ]
          },
          "metadata": {},
          "execution_count": 13
        }
      ],
      "source": [
        "# check one more time to make sure all null values are treated\n",
        "df_rfm.isna().sum()"
      ]
    },
    {
      "cell_type": "markdown",
      "source": [
        "Set a snapshot date as one day after the last date in the pre-cutoff dataframe. This is to simulate a real life prediction scenario where we'd be making predictions on a snapshot date one day after the data cutoff. "
      ],
      "metadata": {
        "id": "PsVYuu2Iamec"
      },
      "id": "PsVYuu2Iamec"
    },
    {
      "cell_type": "code",
      "execution_count": 14,
      "id": "eb867364-db56-4e7e-9fc8-9fbc1941602b",
      "metadata": {
        "id": "eb867364-db56-4e7e-9fc8-9fbc1941602b",
        "outputId": "844aaed9-9333-4b36-bc77-0b85f5739ccd",
        "colab": {
          "base_uri": "https://localhost:8080/"
        }
      },
      "outputs": [
        {
          "output_type": "stream",
          "name": "stdout",
          "text": [
            "2021-01-03 00:00:00\n"
          ]
        }
      ],
      "source": [
        "snapshot_date = df_rfm[\"event_date\"].max() + timedelta(days=1)\n",
        "print(snapshot_date)"
      ]
    },
    {
      "cell_type": "markdown",
      "source": [
        "Since we're calculating R, F and M per customer, the next step is to group the table by user and aggregate the number of orders and total revenue."
      ],
      "metadata": {
        "id": "m5AJEoGza2pD"
      },
      "id": "m5AJEoGza2pD"
    },
    {
      "cell_type": "code",
      "execution_count": 15,
      "id": "a59bb87c-2106-4035-a873-f317a75932dd",
      "metadata": {
        "id": "a59bb87c-2106-4035-a873-f317a75932dd"
      },
      "outputs": [],
      "source": [
        "# Group the datby user id\n",
        "df_rfm = df_rfm.groupby([\"user_pseudo_id\"]).agg(\n",
        "    {\n",
        "        \"event_date\": lambda x: (snapshot_date - x.max()).days,\n",
        "        \"transaction_id\": \"count\",\n",
        "        \"purchase_revenue_in_usd\": \"sum\",\n",
        "    }\n",
        ")"
      ]
    },
    {
      "cell_type": "code",
      "execution_count": 16,
      "id": "bc663be3-f4e6-4188-8554-fa0e3f4be4bc",
      "metadata": {
        "id": "bc663be3-f4e6-4188-8554-fa0e3f4be4bc"
      },
      "outputs": [],
      "source": [
        "# rename columns to Recency, Frequency, and MonetaryValue\n",
        "df_rfm.rename(\n",
        "    columns={\n",
        "        \"event_date\": \"Recency\",\n",
        "        \"transaction_id\": \"Frequency\",\n",
        "        \"purchase_revenue_in_usd\": \"MonetaryValue\",\n",
        "    },\n",
        "    inplace=True,\n",
        ")"
      ]
    },
    {
      "cell_type": "code",
      "execution_count": 17,
      "id": "a5883f66-1788-46f1-8a4b-0f9b82826739",
      "metadata": {
        "id": "a5883f66-1788-46f1-8a4b-0f9b82826739",
        "outputId": "3bcf3c8a-7e4e-4443-9621-ee50cc9c7c42",
        "colab": {
          "base_uri": "https://localhost:8080/"
        }
      },
      "outputs": [
        {
          "output_type": "stream",
          "name": "stdout",
          "text": [
            "                     Recency  Frequency  MonetaryValue\n",
            "user_pseudo_id                                        \n",
            "10111055.8768683862       24          1         94.000\n",
            "1014825.0200289249        61          1        183.000\n",
            "1016446.8237887674        13          1         86.000\n",
            "10172849.5375293351       25          1        156.000\n",
            "1019527.5799124267        29          1         44.000\n",
            "3,435 rows; 3 columns\n"
          ]
        }
      ],
      "source": [
        "print(df_rfm.head())\n",
        "print(\"{:,} rows; {:,} columns\".format(df_rfm.shape[0], df_rfm.shape[1]))"
      ]
    },
    {
      "cell_type": "markdown",
      "source": [
        "Next, we'll plot the distributions of those three metrics to get a quick understanding them."
      ],
      "metadata": {
        "id": "lqEPeg8FbN45"
      },
      "id": "lqEPeg8FbN45"
    },
    {
      "cell_type": "code",
      "execution_count": 18,
      "id": "58e380fd-8b23-4510-8f07-321d59166b16",
      "metadata": {
        "id": "58e380fd-8b23-4510-8f07-321d59166b16",
        "outputId": "36978c6a-89f9-4ff3-c79a-df34c168c3f2",
        "colab": {
          "base_uri": "https://localhost:8080/",
          "height": 720
        }
      },
      "outputs": [
        {
          "output_type": "display_data",
          "data": {
            "text/plain": [
              "<Figure size 1080x864 with 3 Axes>"
            ],
            "image/png": "[encoded data removed]"
          },
          "metadata": {}
        }
      ],
      "source": [
        "# Plot RFM distributions\n",
        "plt.figure(figsize=(15, 12))\n",
        "\n",
        "plt.subplot(3, 1, 1)\n",
        "sns.histplot(df_rfm[\"Recency\"], kde=True)\n",
        "\n",
        "plt.subplot(3, 1, 2)\n",
        "sns.histplot(df_rfm[\"Frequency\"], kde=True, log_scale=True)\n",
        "\n",
        "plt.subplot(3, 1, 3)\n",
        "sns.histplot(df_rfm[\"MonetaryValue\"], kde=True)\n",
        "\n",
        "plt.show()"
      ]
    },
    {
      "cell_type": "markdown",
      "source": [
        "From the plots above, we observe that users' last purchases range from 1 to more than 60 days ago as of the snapshot date. We also know that most customers in this dataset have only purchased one time, and have a MonetaryValue betwen 0.00 and 200.00."
      ],
      "metadata": {
        "id": "sFKar3AtbYTZ"
      },
      "id": "sFKar3AtbYTZ"
    },
    {
      "cell_type": "markdown",
      "source": [
        "Next, we'll create the R, F and M segments by dividing each metric into 4 quartiles, and create RFM Segments (concat of R, F and M) and RFM Scores (sum of R, F and M)."
      ],
      "metadata": {
        "id": "fVny3-1Ne153"
      },
      "id": "fVny3-1Ne153"
    },
    {
      "cell_type": "code",
      "execution_count": 19,
      "id": "13623b32-83d9-45c4-b969-bb95d11e2e8e",
      "metadata": {
        "id": "13623b32-83d9-45c4-b969-bb95d11e2e8e"
      },
      "outputs": [],
      "source": [
        "# recency quartiles\n",
        "r_labels = range(4, 0, -1)\n",
        "recency = df_rfm[\"Recency\"]\n",
        "r_quartiles, bins = pd.qcut(recency, 4, labels=r_labels, retbins=True)\n",
        "\n",
        "# frequency quartiles\n",
        "f_labels = range(1, 5)\n",
        "frequency = df_rfm[\"Frequency\"].rank(\n",
        "    method=\"first\"\n",
        ")  # rank first to deal with duplicate values\n",
        "f_quartiles, bins = pd.qcut(frequency, 4, labels=f_labels, retbins=True)\n",
        "\n",
        "# monetary value quartiles\n",
        "m_labels = range(1, 5)\n",
        "monetary = df_rfm[\"MonetaryValue\"]\n",
        "m_quartiles, bins = pd.qcut(monetary, 4, labels=m_labels, retbins=True)\n",
        "\n",
        "df_rfm = df_rfm.assign(R=r_quartiles.values, F=f_quartiles.values, M=m_quartiles.values)"
      ]
    },
    {
      "cell_type": "code",
      "execution_count": 20,
      "id": "0d3c5312-a049-49bb-b366-c246924740a3",
      "metadata": {
        "id": "0d3c5312-a049-49bb-b366-c246924740a3",
        "outputId": "6207a51d-4337-46fd-83c7-cc03fda6953e",
        "colab": {
          "base_uri": "https://localhost:8080/",
          "height": 237
        }
      },
      "outputs": [
        {
          "output_type": "execute_result",
          "data": {
            "text/plain": [
              "                     Recency  Frequency  MonetaryValue  R  F  M   rfmSegment  \\\n",
              "user_pseudo_id                                                                 \n",
              "70092642.2710325772       25          2         49.000  3  4  2  3.0.4.0.2.0   \n",
              "2865598.3084956057        23          1         48.000  3  1  2  3.0.1.0.2.0   \n",
              "57062019.1930840950       46          1        104.000  1  3  4  1.0.3.0.4.0   \n",
              "75317932.0666442596       55          1          3.000  1  3  1  1.0.3.0.1.0   \n",
              "12381181.9705732116       38          1         32.000  2  1  2  2.0.1.0.2.0   \n",
              "\n",
              "                     rfmScore  \n",
              "user_pseudo_id                 \n",
              "70092642.2710325772         9  \n",
              "2865598.3084956057          6  \n",
              "57062019.1930840950         8  \n",
              "75317932.0666442596         5  \n",
              "12381181.9705732116         5  "
            ],
            "text/html": [
              "\n",
              "  <div id=\"df-a856a4dd-dd82-4462-afff-7e61f59ae1bf\">\n",
              "    <div class=\"colab-df-container\">\n",
              "      <div>\n",
              "<style scoped>\n",
              "    .dataframe tbody tr th:only-of-type {\n",
              "        vertical-align: middle;\n",
              "    }\n",
              "\n",
              "    .dataframe tbody tr th {\n",
              "        vertical-align: top;\n",
              "    }\n",
              "\n",
              "    .dataframe thead th {\n",
              "        text-align: right;\n",
              "    }\n",
              "</style>\n",
              "<table border=\"1\" class=\"dataframe\">\n",
              "  <thead>\n",
              "    <tr style=\"text-align: right;\">\n",
              "      <th></th>\n",
              "      <th>Recency</th>\n",
              "      <th>Frequency</th>\n",
              "      <th>MonetaryValue</th>\n",
              "      <th>R</th>\n",
              "      <th>F</th>\n",
              "      <th>M</th>\n",
              "      <th>rfmSegment</th>\n",
              "      <th>rfmScore</th>\n",
              "    </tr>\n",
              "    <tr>\n",
              "      <th>user_pseudo_id</th>\n",
              "      <th></th>\n",
              "      <th></th>\n",
              "      <th></th>\n",
              "      <th></th>\n",
              "      <th></th>\n",
              "      <th></th>\n",
              "      <th></th>\n",
              "      <th></th>\n",
              "    </tr>\n",
              "  </thead>\n",
              "  <tbody>\n",
              "    <tr>\n",
              "      <th>70092642.2710325772</th>\n",
              "      <td>25</td>\n",
              "      <td>2</td>\n",
              "      <td>49.000</td>\n",
              "      <td>3</td>\n",
              "      <td>4</td>\n",
              "      <td>2</td>\n",
              "      <td>3.0.4.0.2.0</td>\n",
              "      <td>9</td>\n",
              "    </tr>\n",
              "    <tr>\n",
              "      <th>2865598.3084956057</th>\n",
              "      <td>23</td>\n",
              "      <td>1</td>\n",
              "      <td>48.000</td>\n",
              "      <td>3</td>\n",
              "      <td>1</td>\n",
              "      <td>2</td>\n",
              "      <td>3.0.1.0.2.0</td>\n",
              "      <td>6</td>\n",
              "    </tr>\n",
              "    <tr>\n",
              "      <th>57062019.1930840950</th>\n",
              "      <td>46</td>\n",
              "      <td>1</td>\n",
              "      <td>104.000</td>\n",
              "      <td>1</td>\n",
              "      <td>3</td>\n",
              "      <td>4</td>\n",
              "      <td>1.0.3.0.4.0</td>\n",
              "      <td>8</td>\n",
              "    </tr>\n",
              "    <tr>\n",
              "      <th>75317932.0666442596</th>\n",
              "      <td>55</td>\n",
              "      <td>1</td>\n",
              "      <td>3.000</td>\n",
              "      <td>1</td>\n",
              "      <td>3</td>\n",
              "      <td>1</td>\n",
              "      <td>1.0.3.0.1.0</td>\n",
              "      <td>5</td>\n",
              "    </tr>\n",
              "    <tr>\n",
              "      <th>12381181.9705732116</th>\n",
              "      <td>38</td>\n",
              "      <td>1</td>\n",
              "      <td>32.000</td>\n",
              "      <td>2</td>\n",
              "      <td>1</td>\n",
              "      <td>2</td>\n",
              "      <td>2.0.1.0.2.0</td>\n",
              "      <td>5</td>\n",
              "    </tr>\n",
              "  </tbody>\n",
              "</table>\n",
              "</div>\n",
              "      <button class=\"colab-df-convert\" onclick=\"convertToInteractive('df-a856a4dd-dd82-4462-afff-7e61f59ae1bf')\"\n",
              "              title=\"Convert this dataframe to an interactive table.\"\n",
              "              style=\"display:none;\">\n",
              "        \n",
              "  <svg xmlns=\"http://www.w3.org/2000/svg\" height=\"24px\"viewBox=\"0 0 24 24\"\n",
              "       width=\"24px\">\n",
              "    <path d=\"M0 0h24v24H0V0z\" fill=\"none\"/>\n",
              "    <path d=\"M18.56 5.44l.94 2.06.94-2.06 2.06-.94-2.06-.94-.94-2.06-.94 2.06-2.06.94zm-11 1L8.5 8.5l.94-2.06 2.06-.94-2.06-.94L8.5 2.5l-.94 2.06-2.06.94zm10 10l.94 2.06.94-2.06 2.06-.94-2.06-.94-.94-2.06-.94 2.06-2.06.94z\"/><path d=\"M17.41 7.96l-1.37-1.37c-.4-.4-.92-.59-1.43-.59-.52 0-1.04.2-1.43.59L10.3 9.45l-7.72 7.72c-.78.78-.78 2.05 0 2.83L4 21.41c.39.39.9.59 1.41.59.51 0 1.02-.2 1.41-.59l7.78-7.78 2.81-2.81c.8-.78.8-2.07 0-2.86zM5.41 20L4 18.59l7.72-7.72 1.47 1.35L5.41 20z\"/>\n",
              "  </svg>\n",
              "      </button>\n",
              "      \n",
              "  <style>\n",
              "    .colab-df-container {\n",
              "      display:flex;\n",
              "      flex-wrap:wrap;\n",
              "      gap: 12px;\n",
              "    }\n",
              "\n",
              "    .colab-df-convert {\n",
              "      background-color: #E8F0FE;\n",
              "      border: none;\n",
              "      border-radius: 50%;\n",
              "      cursor: pointer;\n",
              "      display: none;\n",
              "      fill: #1967D2;\n",
              "      height: 32px;\n",
              "      padding: 0 0 0 0;\n",
              "      width: 32px;\n",
              "    }\n",
              "\n",
              "    .colab-df-convert:hover {\n",
              "      background-color: #E2EBFA;\n",
              "      box-shadow: 0px 1px 2px rgba(60, 64, 67, 0.3), 0px 1px 3px 1px rgba(60, 64, 67, 0.15);\n",
              "      fill: #174EA6;\n",
              "    }\n",
              "\n",
              "    [theme=dark] .colab-df-convert {\n",
              "      background-color: #3B4455;\n",
              "      fill: #D2E3FC;\n",
              "    }\n",
              "\n",
              "    [theme=dark] .colab-df-convert:hover {\n",
              "      background-color: #434B5C;\n",
              "      box-shadow: 0px 1px 3px 1px rgba(0, 0, 0, 0.15);\n",
              "      filter: drop-shadow(0px 1px 2px rgba(0, 0, 0, 0.3));\n",
              "      fill: #FFFFFF;\n",
              "    }\n",
              "  </style>\n",
              "\n",
              "      <script>\n",
              "        const buttonEl =\n",
              "          document.querySelector('#df-a856a4dd-dd82-4462-afff-7e61f59ae1bf button.colab-df-convert');\n",
              "        buttonEl.style.display =\n",
              "          google.colab.kernel.accessAllowed ? 'block' : 'none';\n",
              "\n",
              "        async function convertToInteractive(key) {\n",
              "          const element = document.querySelector('#df-a856a4dd-dd82-4462-afff-7e61f59ae1bf');\n",
              "          const dataTable =\n",
              "            await google.colab.kernel.invokeFunction('convertToInteractive',\n",
              "                                                     [key], {});\n",
              "          if (!dataTable) return;\n",
              "\n",
              "          const docLinkHtml = 'Like what you see? Visit the ' +\n",
              "            '<a target=\"_blank\" href=https://colab.research.google.com/notebooks/data_table.ipynb>data table notebook</a>'\n",
              "            + ' to learn more about interactive tables.';\n",
              "          element.innerHTML = '';\n",
              "          dataTable['output_type'] = 'display_data';\n",
              "          await google.colab.output.renderOutput(dataTable, element);\n",
              "          const docLink = document.createElement('div');\n",
              "          docLink.innerHTML = docLinkHtml;\n",
              "          element.appendChild(docLink);\n",
              "        }\n",
              "      </script>\n",
              "    </div>\n",
              "  </div>\n",
              "  "
            ]
          },
          "metadata": {},
          "execution_count": 20
        }
      ],
      "source": [
        "# Create RFM segments and scores\n",
        "def join_rfm(x):\n",
        "    return str(x[\"R\"]) + \".\" + str(x[\"F\"]) + \".\" + str(x[\"M\"])\n",
        "\n",
        "df_rfm[\"rfmSegment\"] = df_rfm.apply(join_rfm, axis=1)\n",
        "df_rfm[\"rfmScore\"] = df_rfm[[\"R\", \"F\", \"M\"]].sum(axis=1)\n",
        "\n",
        "df_rfm.sample(5)"
      ]
    },
    {
      "cell_type": "markdown",
      "source": [
        "Next, to allow for reporting in how these labels change over time, we'll add a column showing the RFM Snapshot date, as well as a timestamp column to the table. "
      ],
      "metadata": {
        "id": "Fsz0mULKfM0M"
      },
      "id": "Fsz0mULKfM0M"
    },
    {
      "cell_type": "code",
      "execution_count": 21,
      "id": "2d225a35-8d6c-46c4-8e1d-61e65c56f98b",
      "metadata": {
        "id": "2d225a35-8d6c-46c4-8e1d-61e65c56f98b"
      },
      "outputs": [],
      "source": [
        "df_rfm[\"rfmSnapshotDate\"] = pd.to_datetime(snapshot_date)\n",
        "df_rfm[\"TimeStamp\"] = pd.to_datetime(\"now\")\n",
        "df_rfm.reset_index(drop=False, inplace=True)"
      ]
    },
    {
      "cell_type": "markdown",
      "source": [
        "Finally, inspect the table one more time before saving to BigQuery."
      ],
      "metadata": {
        "id": "z16MyjeDfkwG"
      },
      "id": "z16MyjeDfkwG"
    },
    {
      "cell_type": "code",
      "execution_count": 22,
      "id": "b41a5fbc-91bf-4e46-822f-4e14d3279b8e",
      "metadata": {
        "id": "b41a5fbc-91bf-4e46-822f-4e14d3279b8e",
        "outputId": "fb1c9f5a-e983-4da7-9454-6452ffedb69f",
        "colab": {
          "base_uri": "https://localhost:8080/",
          "height": 206
        }
      },
      "outputs": [
        {
          "output_type": "execute_result",
          "data": {
            "text/plain": [
              "        user_pseudo_id  Recency  Frequency  MonetaryValue  R  F  M  \\\n",
              "0  10111055.8768683862       24          1         94.000  3  1  3   \n",
              "1   1014825.0200289249       61          1        183.000  1  1  4   \n",
              "2   1016446.8237887674       13          1         86.000  4  1  3   \n",
              "3  10172849.5375293351       25          1        156.000  3  1  4   \n",
              "4   1019527.5799124267       29          1         44.000  3  1  2   \n",
              "\n",
              "    rfmSegment  rfmScore rfmSnapshotDate                  TimeStamp  \n",
              "0  3.0.1.0.3.0         7      2021-01-03 2022-11-28 21:07:56.704541  \n",
              "1  1.0.1.0.4.0         6      2021-01-03 2022-11-28 21:07:56.704541  \n",
              "2  4.0.1.0.3.0         8      2021-01-03 2022-11-28 21:07:56.704541  \n",
              "3  3.0.1.0.4.0         8      2021-01-03 2022-11-28 21:07:56.704541  \n",
              "4  3.0.1.0.2.0         6      2021-01-03 2022-11-28 21:07:56.704541  "
            ],
            "text/html": [
              "\n",
              "  <div id=\"df-e6f44fa4-ea2c-4aa3-8b52-33f7983fec07\">\n",
              "    <div class=\"colab-df-container\">\n",
              "      <div>\n",
              "<style scoped>\n",
              "    .dataframe tbody tr th:only-of-type {\n",
              "        vertical-align: middle;\n",
              "    }\n",
              "\n",
              "    .dataframe tbody tr th {\n",
              "        vertical-align: top;\n",
              "    }\n",
              "\n",
              "    .dataframe thead th {\n",
              "        text-align: right;\n",
              "    }\n",
              "</style>\n",
              "<table border=\"1\" class=\"dataframe\">\n",
              "  <thead>\n",
              "    <tr style=\"text-align: right;\">\n",
              "      <th></th>\n",
              "      <th>user_pseudo_id</th>\n",
              "      <th>Recency</th>\n",
              "      <th>Frequency</th>\n",
              "      <th>MonetaryValue</th>\n",
              "      <th>R</th>\n",
              "      <th>F</th>\n",
              "      <th>M</th>\n",
              "      <th>rfmSegment</th>\n",
              "      <th>rfmScore</th>\n",
              "      <th>rfmSnapshotDate</th>\n",
              "      <th>TimeStamp</th>\n",
              "    </tr>\n",
              "  </thead>\n",
              "  <tbody>\n",
              "    <tr>\n",
              "      <th>0</th>\n",
              "      <td>10111055.8768683862</td>\n",
              "      <td>24</td>\n",
              "      <td>1</td>\n",
              "      <td>94.000</td>\n",
              "      <td>3</td>\n",
              "      <td>1</td>\n",
              "      <td>3</td>\n",
              "      <td>3.0.1.0.3.0</td>\n",
              "      <td>7</td>\n",
              "      <td>2021-01-03</td>\n",
              "      <td>2022-11-28 21:07:56.704541</td>\n",
              "    </tr>\n",
              "    <tr>\n",
              "      <th>1</th>\n",
              "      <td>1014825.0200289249</td>\n",
              "      <td>61</td>\n",
              "      <td>1</td>\n",
              "      <td>183.000</td>\n",
              "      <td>1</td>\n",
              "      <td>1</td>\n",
              "      <td>4</td>\n",
              "      <td>1.0.1.0.4.0</td>\n",
              "      <td>6</td>\n",
              "      <td>2021-01-03</td>\n",
              "      <td>2022-11-28 21:07:56.704541</td>\n",
              "    </tr>\n",
              "    <tr>\n",
              "      <th>2</th>\n",
              "      <td>1016446.8237887674</td>\n",
              "      <td>13</td>\n",
              "      <td>1</td>\n",
              "      <td>86.000</td>\n",
              "      <td>4</td>\n",
              "      <td>1</td>\n",
              "      <td>3</td>\n",
              "      <td>4.0.1.0.3.0</td>\n",
              "      <td>8</td>\n",
              "      <td>2021-01-03</td>\n",
              "      <td>2022-11-28 21:07:56.704541</td>\n",
              "    </tr>\n",
              "    <tr>\n",
              "      <th>3</th>\n",
              "      <td>10172849.5375293351</td>\n",
              "      <td>25</td>\n",
              "      <td>1</td>\n",
              "      <td>156.000</td>\n",
              "      <td>3</td>\n",
              "      <td>1</td>\n",
              "      <td>4</td>\n",
              "      <td>3.0.1.0.4.0</td>\n",
              "      <td>8</td>\n",
              "      <td>2021-01-03</td>\n",
              "      <td>2022-11-28 21:07:56.704541</td>\n",
              "    </tr>\n",
              "    <tr>\n",
              "      <th>4</th>\n",
              "      <td>1019527.5799124267</td>\n",
              "      <td>29</td>\n",
              "      <td>1</td>\n",
              "      <td>44.000</td>\n",
              "      <td>3</td>\n",
              "      <td>1</td>\n",
              "      <td>2</td>\n",
              "      <td>3.0.1.0.2.0</td>\n",
              "      <td>6</td>\n",
              "      <td>2021-01-03</td>\n",
              "      <td>2022-11-28 21:07:56.704541</td>\n",
              "    </tr>\n",
              "  </tbody>\n",
              "</table>\n",
              "</div>\n",
              "      <button class=\"colab-df-convert\" onclick=\"convertToInteractive('df-e6f44fa4-ea2c-4aa3-8b52-33f7983fec07')\"\n",
              "              title=\"Convert this dataframe to an interactive table.\"\n",
              "              style=\"display:none;\">\n",
              "        \n",
              "  <svg xmlns=\"http://www.w3.org/2000/svg\" height=\"24px\"viewBox=\"0 0 24 24\"\n",
              "       width=\"24px\">\n",
              "    <path d=\"M0 0h24v24H0V0z\" fill=\"none\"/>\n",
              "    <path d=\"M18.56 5.44l.94 2.06.94-2.06 2.06-.94-2.06-.94-.94-2.06-.94 2.06-2.06.94zm-11 1L8.5 8.5l.94-2.06 2.06-.94-2.06-.94L8.5 2.5l-.94 2.06-2.06.94zm10 10l.94 2.06.94-2.06 2.06-.94-2.06-.94-.94-2.06-.94 2.06-2.06.94z\"/><path d=\"M17.41 7.96l-1.37-1.37c-.4-.4-.92-.59-1.43-.59-.52 0-1.04.2-1.43.59L10.3 9.45l-7.72 7.72c-.78.78-.78 2.05 0 2.83L4 21.41c.39.39.9.59 1.41.59.51 0 1.02-.2 1.41-.59l7.78-7.78 2.81-2.81c.8-.78.8-2.07 0-2.86zM5.41 20L4 18.59l7.72-7.72 1.47 1.35L5.41 20z\"/>\n",
              "  </svg>\n",
              "      </button>\n",
              "      \n",
              "  <style>\n",
              "    .colab-df-container {\n",
              "      display:flex;\n",
              "      flex-wrap:wrap;\n",
              "      gap: 12px;\n",
              "    }\n",
              "\n",
              "    .colab-df-convert {\n",
              "      background-color: #E8F0FE;\n",
              "      border: none;\n",
              "      border-radius: 50%;\n",
              "      cursor: pointer;\n",
              "      display: none;\n",
              "      fill: #1967D2;\n",
              "      height: 32px;\n",
              "      padding: 0 0 0 0;\n",
              "      width: 32px;\n",
              "    }\n",
              "\n",
              "    .colab-df-convert:hover {\n",
              "      background-color: #E2EBFA;\n",
              "      box-shadow: 0px 1px 2px rgba(60, 64, 67, 0.3), 0px 1px 3px 1px rgba(60, 64, 67, 0.15);\n",
              "      fill: #174EA6;\n",
              "    }\n",
              "\n",
              "    [theme=dark] .colab-df-convert {\n",
              "      background-color: #3B4455;\n",
              "      fill: #D2E3FC;\n",
              "    }\n",
              "\n",
              "    [theme=dark] .colab-df-convert:hover {\n",
              "      background-color: #434B5C;\n",
              "      box-shadow: 0px 1px 3px 1px rgba(0, 0, 0, 0.15);\n",
              "      filter: drop-shadow(0px 1px 2px rgba(0, 0, 0, 0.3));\n",
              "      fill: #FFFFFF;\n",
              "    }\n",
              "  </style>\n",
              "\n",
              "      <script>\n",
              "        const buttonEl =\n",
              "          document.querySelector('#df-e6f44fa4-ea2c-4aa3-8b52-33f7983fec07 button.colab-df-convert');\n",
              "        buttonEl.style.display =\n",
              "          google.colab.kernel.accessAllowed ? 'block' : 'none';\n",
              "\n",
              "        async function convertToInteractive(key) {\n",
              "          const element = document.querySelector('#df-e6f44fa4-ea2c-4aa3-8b52-33f7983fec07');\n",
              "          const dataTable =\n",
              "            await google.colab.kernel.invokeFunction('convertToInteractive',\n",
              "                                                     [key], {});\n",
              "          if (!dataTable) return;\n",
              "\n",
              "          const docLinkHtml = 'Like what you see? Visit the ' +\n",
              "            '<a target=\"_blank\" href=https://colab.research.google.com/notebooks/data_table.ipynb>data table notebook</a>'\n",
              "            + ' to learn more about interactive tables.';\n",
              "          element.innerHTML = '';\n",
              "          dataTable['output_type'] = 'display_data';\n",
              "          await google.colab.output.renderOutput(dataTable, element);\n",
              "          const docLink = document.createElement('div');\n",
              "          docLink.innerHTML = docLinkHtml;\n",
              "          element.appendChild(docLink);\n",
              "        }\n",
              "      </script>\n",
              "    </div>\n",
              "  </div>\n",
              "  "
            ]
          },
          "metadata": {},
          "execution_count": 22
        }
      ],
      "source": [
        "df_rfm.head()"
      ]
    },
    {
      "cell_type": "code",
      "execution_count": 23,
      "id": "b69aacce-9436-46b1-8d17-ffd6324531cb",
      "metadata": {
        "id": "b69aacce-9436-46b1-8d17-ffd6324531cb",
        "outputId": "b9cb7efb-8317-4f63-ced2-651cb4506e10",
        "colab": {
          "base_uri": "https://localhost:8080/"
        }
      },
      "outputs": [
        {
          "output_type": "stream",
          "name": "stdout",
          "text": [
            "<class 'pandas.core.frame.DataFrame'>\n",
            "RangeIndex: 3435 entries, 0 to 3434\n",
            "Data columns (total 11 columns):\n",
            " #   Column           Non-Null Count  Dtype         \n",
            "---  ------           --------------  -----         \n",
            " 0   user_pseudo_id   3435 non-null   object        \n",
            " 1   Recency          3435 non-null   int64         \n",
            " 2   Frequency        3435 non-null   int64         \n",
            " 3   MonetaryValue    3435 non-null   float64       \n",
            " 4   R                3435 non-null   category      \n",
            " 5   F                3435 non-null   category      \n",
            " 6   M                3435 non-null   category      \n",
            " 7   rfmSegment       3435 non-null   object        \n",
            " 8   rfmScore         3435 non-null   int64         \n",
            " 9   rfmSnapshotDate  3435 non-null   datetime64[ns]\n",
            " 10  TimeStamp        3435 non-null   datetime64[ns]\n",
            "dtypes: category(3), datetime64[ns](2), float64(1), int64(3), object(2)\n",
            "memory usage: 225.3+ KB\n"
          ]
        }
      ],
      "source": [
        "df_rfm.info()"
      ]
    },
    {
      "cell_type": "code",
      "source": [
        "df_rfm[\"rfmScore\"].value_counts()"
      ],
      "metadata": {
        "colab": {
          "base_uri": "https://localhost:8080/"
        },
        "id": "IvUe1d3JfvIx",
        "outputId": "fa07be15-b49c-4611-85ca-b40fbbb6caf4"
      },
      "id": "IvUe1d3JfvIx",
      "execution_count": 24,
      "outputs": [
        {
          "output_type": "execute_result",
          "data": {
            "text/plain": [
              "7     615\n",
              "8     590\n",
              "6     531\n",
              "9     477\n",
              "5     343\n",
              "10    301\n",
              "11    210\n",
              "4     193\n",
              "12    109\n",
              "3      66\n",
              "Name: rfmScore, dtype: int64"
            ]
          },
          "metadata": {},
          "execution_count": 24
        }
      ]
    },
    {
      "cell_type": "code",
      "execution_count": 26,
      "id": "c12a9531-46c8-4c7c-aaa8-6d1d7313dc24",
      "metadata": {
        "id": "c12a9531-46c8-4c7c-aaa8-6d1d7313dc24",
        "outputId": "28480b1d-831a-4f9b-cd0d-10a3ec584d81",
        "colab": {
          "base_uri": "https://localhost:8080/"
        }
      },
      "outputs": [
        {
          "output_type": "execute_result",
          "data": {
            "text/plain": [
              "LoadJob<project=adl-analytics, location=US, id=bf555f38-421c-40af-a2cc-a4fbd27c8304>"
            ]
          },
          "metadata": {},
          "execution_count": 26
        }
      ],
      "source": [
        "client = bigquery.Client(project = project_name)\n",
        "table_id = 'public_sample_data.churn_ga4_rfm' # #update with your dataset and table name\n",
        "\n",
        "job_config = bigquery.LoadJobConfig(\n",
        "    write_disposition = bigquery.job.WriteDisposition.WRITE_TRUNCATE\n",
        ")\n",
        "\n",
        "job = client.load_table_from_dataframe(\n",
        "    df_rfm, table_id, job_config = job_config\n",
        ")\n",
        "\n",
        "# Wait for the load job to complete.\n",
        "job.result()"
      ]
    }
  ],
  "metadata": {
    "environment": {
      "kernel": "python3",
      "name": "common-cpu.m100",
      "type": "gcloud",
      "uri": "gcr.io/deeplearning-platform-release/base-cpu:m100"
    },
    "kernelspec": {
      "display_name": "Python 3",
      "language": "python",
      "name": "python3"
    },
    "language_info": {
      "codemirror_mode": {
        "name": "ipython",
        "version": 3
      },
      "file_extension": ".py",
      "mimetype": "text/x-python",
      "name": "python",
      "nbconvert_exporter": "python",
      "pygments_lexer": "ipython3",
      "version": "3.7.12"
    },
    "colab": {
      "provenance": [],
      "include_colab_link": true
    },
    "widgets": {
      "application/vnd.jupyter.widget-state+json": {
        "507743fac0ae41d9961ab73275d7a5af": {
          "model_module": "@jupyter-widgets/controls",
          "model_name": "HBoxModel",
          "model_module_version": "1.5.0",
          "state": {
            "_dom_classes": [],
            "_model_module": "@jupyter-widgets/controls",
            "_model_module_version": "1.5.0",
            "_model_name": "HBoxModel",
            "_view_count": null,
            "_view_module": "@jupyter-widgets/controls",
            "_view_module_version": "1.5.0",
            "_view_name": "HBoxView",
            "box_style": "",
            "children": [
              "IPY_MODEL_090164b30dfe4148bb28c1f8eaf71133",
              "IPY_MODEL_6c107c3fa6f44aa18c1386be79f8d126",
              "IPY_MODEL_3866982c4d534732bd2864c7e2ea7762"
            ],
            "layout": "IPY_MODEL_3800e0daf3ed4fe1b8323f71efdec7f2"
          }
        },
        "090164b30dfe4148bb28c1f8eaf71133": {
          "model_module": "@jupyter-widgets/controls",
          "model_name": "HTMLModel",
          "model_module_version": "1.5.0",
          "state": {
            "_dom_classes": [],
            "_model_module": "@jupyter-widgets/controls",
            "_model_module_version": "1.5.0",
            "_model_name": "HTMLModel",
            "_view_count": null,
            "_view_module": "@jupyter-widgets/controls",
            "_view_module_version": "1.5.0",
            "_view_name": "HTMLView",
            "description": "",
            "description_tooltip": null,
            "layout": "IPY_MODEL_8a33d9203e084f998f38051ce588fa2a",
            "placeholder": "​",
            "style": "IPY_MODEL_f0e006ec6c7f4cc3a8250ad78e3d484e",
            "value": "Job ID b63d7330-89b0-4d22-81b9-93f7d4c07c04 successfully executed: 100%"
          }
        },
        "6c107c3fa6f44aa18c1386be79f8d126": {
          "model_module": "@jupyter-widgets/controls",
          "model_name": "FloatProgressModel",
          "model_module_version": "1.5.0",
          "state": {
            "_dom_classes": [],
            "_model_module": "@jupyter-widgets/controls",
            "_model_module_version": "1.5.0",
            "_model_name": "FloatProgressModel",
            "_view_count": null,
            "_view_module": "@jupyter-widgets/controls",
            "_view_module_version": "1.5.0",
            "_view_name": "ProgressView",
            "bar_style": "success",
            "description": "",
            "description_tooltip": null,
            "layout": "IPY_MODEL_19bf4321bfb848798b33397078c908bb",
            "max": 1,
            "min": 0,
            "orientation": "horizontal",
            "style": "IPY_MODEL_2428ad0955704ff2ba79795823d30831",
            "value": 1
          }
        },
        "3866982c4d534732bd2864c7e2ea7762": {
          "model_module": "@jupyter-widgets/controls",
          "model_name": "HTMLModel",
          "model_module_version": "1.5.0",
          "state": {
            "_dom_classes": [],
            "_model_module": "@jupyter-widgets/controls",
            "_model_module_version": "1.5.0",
            "_model_name": "HTMLModel",
            "_view_count": null,
            "_view_module": "@jupyter-widgets/controls",
            "_view_module_version": "1.5.0",
            "_view_name": "HTMLView",
            "description": "",
            "description_tooltip": null,
            "layout": "IPY_MODEL_e9512cf0eda8422d9f36dc90e1058bd0",
            "placeholder": "​",
            "style": "IPY_MODEL_2f2c03dd896f481c9e9aacc4de9aaa0b",
            "value": ""
          }
        },
        "3800e0daf3ed4fe1b8323f71efdec7f2": {
          "model_module": "@jupyter-widgets/base",
          "model_name": "LayoutModel",
          "model_module_version": "1.2.0",
          "state": {
            "_model_module": "@jupyter-widgets/base",
            "_model_module_version": "1.2.0",
            "_model_name": "LayoutModel",
            "_view_count": null,
            "_view_module": "@jupyter-widgets/base",
            "_view_module_version": "1.2.0",
            "_view_name": "LayoutView",
            "align_content": null,
            "align_items": null,
            "align_self": null,
            "border": null,
            "bottom": null,
            "display": null,
            "flex": null,
            "flex_flow": null,
            "grid_area": null,
            "grid_auto_columns": null,
            "grid_auto_flow": null,
            "grid_auto_rows": null,
            "grid_column": null,
            "grid_gap": null,
            "grid_row": null,
            "grid_template_areas": null,
            "grid_template_columns": null,
            "grid_template_rows": null,
            "height": null,
            "justify_content": null,
            "justify_items": null,
            "left": null,
            "margin": null,
            "max_height": null,
            "max_width": null,
            "min_height": null,
            "min_width": null,
            "object_fit": null,
            "object_position": null,
            "order": null,
            "overflow": null,
            "overflow_x": null,
            "overflow_y": null,
            "padding": null,
            "right": null,
            "top": null,
            "visibility": null,
            "width": null
          }
        },
        "8a33d9203e084f998f38051ce588fa2a": {
          "model_module": "@jupyter-widgets/base",
          "model_name": "LayoutModel",
          "model_module_version": "1.2.0",
          "state": {
            "_model_module": "@jupyter-widgets/base",
            "_model_module_version": "1.2.0",
            "_model_name": "LayoutModel",
            "_view_count": null,
            "_view_module": "@jupyter-widgets/base",
            "_view_module_version": "1.2.0",
            "_view_name": "LayoutView",
            "align_content": null,
            "align_items": null,
            "align_self": null,
            "border": null,
            "bottom": null,
            "display": null,
            "flex": null,
            "flex_flow": null,
            "grid_area": null,
            "grid_auto_columns": null,
            "grid_auto_flow": null,
            "grid_auto_rows": null,
            "grid_column": null,
            "grid_gap": null,
            "grid_row": null,
            "grid_template_areas": null,
            "grid_template_columns": null,
            "grid_template_rows": null,
            "height": null,
            "justify_content": null,
            "justify_items": null,
            "left": null,
            "margin": null,
            "max_height": null,
            "max_width": null,
            "min_height": null,
            "min_width": null,
            "object_fit": null,
            "object_position": null,
            "order": null,
            "overflow": null,
            "overflow_x": null,
            "overflow_y": null,
            "padding": null,
            "right": null,
            "top": null,
            "visibility": null,
            "width": null
          }
        },
        "f0e006ec6c7f4cc3a8250ad78e3d484e": {
          "model_module": "@jupyter-widgets/controls",
          "model_name": "DescriptionStyleModel",
          "model_module_version": "1.5.0",
          "state": {
            "_model_module": "@jupyter-widgets/controls",
            "_model_module_version": "1.5.0",
            "_model_name": "DescriptionStyleModel",
            "_view_count": null,
            "_view_module": "@jupyter-widgets/base",
            "_view_module_version": "1.2.0",
            "_view_name": "StyleView",
            "description_width": ""
          }
        },
        "19bf4321bfb848798b33397078c908bb": {
          "model_module": "@jupyter-widgets/base",
          "model_name": "LayoutModel",
          "model_module_version": "1.2.0",
          "state": {
            "_model_module": "@jupyter-widgets/base",
            "_model_module_version": "1.2.0",
            "_model_name": "LayoutModel",
            "_view_count": null,
            "_view_module": "@jupyter-widgets/base",
            "_view_module_version": "1.2.0",
            "_view_name": "LayoutView",
            "align_content": null,
            "align_items": null,
            "align_self": null,
            "border": null,
            "bottom": null,
            "display": null,
            "flex": null,
            "flex_flow": null,
            "grid_area": null,
            "grid_auto_columns": null,
            "grid_auto_flow": null,
            "grid_auto_rows": null,
            "grid_column": null,
            "grid_gap": null,
            "grid_row": null,
            "grid_template_areas": null,
            "grid_template_columns": null,
            "grid_template_rows": null,
            "height": null,
            "justify_content": null,
            "justify_items": null,
            "left": null,
            "margin": null,
            "max_height": null,
            "max_width": null,
            "min_height": null,
            "min_width": null,
            "object_fit": null,
            "object_position": null,
            "order": null,
            "overflow": null,
            "overflow_x": null,
            "overflow_y": null,
            "padding": null,
            "right": null,
            "top": null,
            "visibility": null,
            "width": null
          }
        },
        "2428ad0955704ff2ba79795823d30831": {
          "model_module": "@jupyter-widgets/controls",
          "model_name": "ProgressStyleModel",
          "model_module_version": "1.5.0",
          "state": {
            "_model_module": "@jupyter-widgets/controls",
            "_model_module_version": "1.5.0",
            "_model_name": "ProgressStyleModel",
            "_view_count": null,
            "_view_module": "@jupyter-widgets/base",
            "_view_module_version": "1.2.0",
            "_view_name": "StyleView",
            "bar_color": null,
            "description_width": ""
          }
        },
        "e9512cf0eda8422d9f36dc90e1058bd0": {
          "model_module": "@jupyter-widgets/base",
          "model_name": "LayoutModel",
          "model_module_version": "1.2.0",
          "state": {
            "_model_module": "@jupyter-widgets/base",
            "_model_module_version": "1.2.0",
            "_model_name": "LayoutModel",
            "_view_count": null,
            "_view_module": "@jupyter-widgets/base",
            "_view_module_version": "1.2.0",
            "_view_name": "LayoutView",
            "align_content": null,
            "align_items": null,
            "align_self": null,
            "border": null,
            "bottom": null,
            "display": null,
            "flex": null,
            "flex_flow": null,
            "grid_area": null,
            "grid_auto_columns": null,
            "grid_auto_flow": null,
            "grid_auto_rows": null,
            "grid_column": null,
            "grid_gap": null,
            "grid_row": null,
            "grid_template_areas": null,
            "grid_template_columns": null,
            "grid_template_rows": null,
            "height": null,
            "justify_content": null,
            "justify_items": null,
            "left": null,
            "margin": null,
            "max_height": null,
            "max_width": null,
            "min_height": null,
            "min_width": null,
            "object_fit": null,
            "object_position": null,
            "order": null,
            "overflow": null,
            "overflow_x": null,
            "overflow_y": null,
            "padding": null,
            "right": null,
            "top": null,
            "visibility": null,
            "width": null
          }
        },
        "2f2c03dd896f481c9e9aacc4de9aaa0b": {
          "model_module": "@jupyter-widgets/controls",
          "model_name": "DescriptionStyleModel",
          "model_module_version": "1.5.0",
          "state": {
            "_model_module": "@jupyter-widgets/controls",
            "_model_module_version": "1.5.0",
            "_model_name": "DescriptionStyleModel",
            "_view_count": null,
            "_view_module": "@jupyter-widgets/base",
            "_view_module_version": "1.2.0",
            "_view_name": "StyleView",
            "description_width": ""
          }
        },
        "3c293760376242a394c2e86c785d61b7": {
          "model_module": "@jupyter-widgets/controls",
          "model_name": "HBoxModel",
          "model_module_version": "1.5.0",
          "state": {
            "_dom_classes": [],
            "_model_module": "@jupyter-widgets/controls",
            "_model_module_version": "1.5.0",
            "_model_name": "HBoxModel",
            "_view_count": null,
            "_view_module": "@jupyter-widgets/controls",
            "_view_module_version": "1.5.0",
            "_view_name": "HBoxView",
            "box_style": "",
            "children": [
              "IPY_MODEL_eb1d7585e69b4a738df1016e7dfa808a",
              "IPY_MODEL_07129c7e7b8a46c99df924319d71a518",
              "IPY_MODEL_5b14fbe68f8743b1aec46acf191c75b7"
            ],
            "layout": "IPY_MODEL_7bc1a31f5ee8439b88f223c7debb2b2b"
          }
        },
        "eb1d7585e69b4a738df1016e7dfa808a": {
          "model_module": "@jupyter-widgets/controls",
          "model_name": "HTMLModel",
          "model_module_version": "1.5.0",
          "state": {
            "_dom_classes": [],
            "_model_module": "@jupyter-widgets/controls",
            "_model_module_version": "1.5.0",
            "_model_name": "HTMLModel",
            "_view_count": null,
            "_view_module": "@jupyter-widgets/controls",
            "_view_module_version": "1.5.0",
            "_view_name": "HTMLView",
            "description": "",
            "description_tooltip": null,
            "layout": "IPY_MODEL_4dd7fb4e8c6a4dc9b4c30dc99b187192",
            "placeholder": "​",
            "style": "IPY_MODEL_28491ab1c12e4b3aa15e3dc707022177",
            "value": "Downloading: 100%"
          }
        },
        "07129c7e7b8a46c99df924319d71a518": {
          "model_module": "@jupyter-widgets/controls",
          "model_name": "FloatProgressModel",
          "model_module_version": "1.5.0",
          "state": {
            "_dom_classes": [],
            "_model_module": "@jupyter-widgets/controls",
            "_model_module_version": "1.5.0",
            "_model_name": "FloatProgressModel",
            "_view_count": null,
            "_view_module": "@jupyter-widgets/controls",
            "_view_module_version": "1.5.0",
            "_view_name": "ProgressView",
            "bar_style": "success",
            "description": "",
            "description_tooltip": null,
            "layout": "IPY_MODEL_511d31c04d874cb58679d1d1726c0208",
            "max": 5692,
            "min": 0,
            "orientation": "horizontal",
            "style": "IPY_MODEL_49dc472f7c06431cafc55c8fb0d92a28",
            "value": 5692
          }
        },
        "5b14fbe68f8743b1aec46acf191c75b7": {
          "model_module": "@jupyter-widgets/controls",
          "model_name": "HTMLModel",
          "model_module_version": "1.5.0",
          "state": {
            "_dom_classes": [],
            "_model_module": "@jupyter-widgets/controls",
            "_model_module_version": "1.5.0",
            "_model_name": "HTMLModel",
            "_view_count": null,
            "_view_module": "@jupyter-widgets/controls",
            "_view_module_version": "1.5.0",
            "_view_name": "HTMLView",
            "description": "",
            "description_tooltip": null,
            "layout": "IPY_MODEL_55ffbe6d22c740178088e7b8a0153dfe",
            "placeholder": "​",
            "style": "IPY_MODEL_1b110671327646daab15c85c02e60bfa",
            "value": ""
          }
        },
        "7bc1a31f5ee8439b88f223c7debb2b2b": {
          "model_module": "@jupyter-widgets/base",
          "model_name": "LayoutModel",
          "model_module_version": "1.2.0",
          "state": {
            "_model_module": "@jupyter-widgets/base",
            "_model_module_version": "1.2.0",
            "_model_name": "LayoutModel",
            "_view_count": null,
            "_view_module": "@jupyter-widgets/base",
            "_view_module_version": "1.2.0",
            "_view_name": "LayoutView",
            "align_content": null,
            "align_items": null,
            "align_self": null,
            "border": null,
            "bottom": null,
            "display": null,
            "flex": null,
            "flex_flow": null,
            "grid_area": null,
            "grid_auto_columns": null,
            "grid_auto_flow": null,
            "grid_auto_rows": null,
            "grid_column": null,
            "grid_gap": null,
            "grid_row": null,
            "grid_template_areas": null,
            "grid_template_columns": null,
            "grid_template_rows": null,
            "height": null,
            "justify_content": null,
            "justify_items": null,
            "left": null,
            "margin": null,
            "max_height": null,
            "max_width": null,
            "min_height": null,
            "min_width": null,
            "object_fit": null,
            "object_position": null,
            "order": null,
            "overflow": null,
            "overflow_x": null,
            "overflow_y": null,
            "padding": null,
            "right": null,
            "top": null,
            "visibility": null,
            "width": null
          }
        },
        "4dd7fb4e8c6a4dc9b4c30dc99b187192": {
          "model_module": "@jupyter-widgets/base",
          "model_name": "LayoutModel",
          "model_module_version": "1.2.0",
          "state": {
            "_model_module": "@jupyter-widgets/base",
            "_model_module_version": "1.2.0",
            "_model_name": "LayoutModel",
            "_view_count": null,
            "_view_module": "@jupyter-widgets/base",
            "_view_module_version": "1.2.0",
            "_view_name": "LayoutView",
            "align_content": null,
            "align_items": null,
            "align_self": null,
            "border": null,
            "bottom": null,
            "display": null,
            "flex": null,
            "flex_flow": null,
            "grid_area": null,
            "grid_auto_columns": null,
            "grid_auto_flow": null,
            "grid_auto_rows": null,
            "grid_column": null,
            "grid_gap": null,
            "grid_row": null,
            "grid_template_areas": null,
            "grid_template_columns": null,
            "grid_template_rows": null,
            "height": null,
            "justify_content": null,
            "justify_items": null,
            "left": null,
            "margin": null,
            "max_height": null,
            "max_width": null,
            "min_height": null,
            "min_width": null,
            "object_fit": null,
            "object_position": null,
            "order": null,
            "overflow": null,
            "overflow_x": null,
            "overflow_y": null,
            "padding": null,
            "right": null,
            "top": null,
            "visibility": null,
            "width": null
          }
        },
        "28491ab1c12e4b3aa15e3dc707022177": {
          "model_module": "@jupyter-widgets/controls",
          "model_name": "DescriptionStyleModel",
          "model_module_version": "1.5.0",
          "state": {
            "_model_module": "@jupyter-widgets/controls",
            "_model_module_version": "1.5.0",
            "_model_name": "DescriptionStyleModel",
            "_view_count": null,
            "_view_module": "@jupyter-widgets/base",
            "_view_module_version": "1.2.0",
            "_view_name": "StyleView",
            "description_width": ""
          }
        },
        "511d31c04d874cb58679d1d1726c0208": {
          "model_module": "@jupyter-widgets/base",
          "model_name": "LayoutModel",
          "model_module_version": "1.2.0",
          "state": {
            "_model_module": "@jupyter-widgets/base",
            "_model_module_version": "1.2.0",
            "_model_name": "LayoutModel",
            "_view_count": null,
            "_view_module": "@jupyter-widgets/base",
            "_view_module_version": "1.2.0",
            "_view_name": "LayoutView",
            "align_content": null,
            "align_items": null,
            "align_self": null,
            "border": null,
            "bottom": null,
            "display": null,
            "flex": null,
            "flex_flow": null,
            "grid_area": null,
            "grid_auto_columns": null,
            "grid_auto_flow": null,
            "grid_auto_rows": null,
            "grid_column": null,
            "grid_gap": null,
            "grid_row": null,
            "grid_template_areas": null,
            "grid_template_columns": null,
            "grid_template_rows": null,
            "height": null,
            "justify_content": null,
            "justify_items": null,
            "left": null,
            "margin": null,
            "max_height": null,
            "max_width": null,
            "min_height": null,
            "min_width": null,
            "object_fit": null,
            "object_position": null,
            "order": null,
            "overflow": null,
            "overflow_x": null,
            "overflow_y": null,
            "padding": null,
            "right": null,
            "top": null,
            "visibility": null,
            "width": null
          }
        },
        "49dc472f7c06431cafc55c8fb0d92a28": {
          "model_module": "@jupyter-widgets/controls",
          "model_name": "ProgressStyleModel",
          "model_module_version": "1.5.0",
          "state": {
            "_model_module": "@jupyter-widgets/controls",
            "_model_module_version": "1.5.0",
            "_model_name": "ProgressStyleModel",
            "_view_count": null,
            "_view_module": "@jupyter-widgets/base",
            "_view_module_version": "1.2.0",
            "_view_name": "StyleView",
            "bar_color": null,
            "description_width": ""
          }
        },
        "55ffbe6d22c740178088e7b8a0153dfe": {
          "model_module": "@jupyter-widgets/base",
          "model_name": "LayoutModel",
          "model_module_version": "1.2.0",
          "state": {
            "_model_module": "@jupyter-widgets/base",
            "_model_module_version": "1.2.0",
            "_model_name": "LayoutModel",
            "_view_count": null,
            "_view_module": "@jupyter-widgets/base",
            "_view_module_version": "1.2.0",
            "_view_name": "LayoutView",
            "align_content": null,
            "align_items": null,
            "align_self": null,
            "border": null,
            "bottom": null,
            "display": null,
            "flex": null,
            "flex_flow": null,
            "grid_area": null,
            "grid_auto_columns": null,
            "grid_auto_flow": null,
            "grid_auto_rows": null,
            "grid_column": null,
            "grid_gap": null,
            "grid_row": null,
            "grid_template_areas": null,
            "grid_template_columns": null,
            "grid_template_rows": null,
            "height": null,
            "justify_content": null,
            "justify_items": null,
            "left": null,
            "margin": null,
            "max_height": null,
            "max_width": null,
            "min_height": null,
            "min_width": null,
            "object_fit": null,
            "object_position": null,
            "order": null,
            "overflow": null,
            "overflow_x": null,
            "overflow_y": null,
            "padding": null,
            "right": null,
            "top": null,
            "visibility": null,
            "width": null
          }
        },
        "1b110671327646daab15c85c02e60bfa": {
          "model_module": "@jupyter-widgets/controls",
          "model_name": "DescriptionStyleModel",
          "model_module_version": "1.5.0",
          "state": {
            "_model_module": "@jupyter-widgets/controls",
            "_model_module_version": "1.5.0",
            "_model_name": "DescriptionStyleModel",
            "_view_count": null,
            "_view_module": "@jupyter-widgets/base",
            "_view_module_version": "1.2.0",
            "_view_name": "StyleView",
            "description_width": ""
          }
        }
      }
    }
  },
  "nbformat": 4,
  "nbformat_minor": 5
}